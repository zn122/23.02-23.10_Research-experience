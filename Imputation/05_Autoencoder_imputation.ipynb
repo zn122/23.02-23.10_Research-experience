{
 "cells": [
  {
   "cell_type": "markdown",
   "metadata": {},
   "source": [
    "# Source code : https://github.com/ambareeshsrja16/Python-Module-for-Missing-Data-Imputation"
   ]
  },
  {
   "cell_type": "code",
   "execution_count": 1,
   "metadata": {},
   "outputs": [],
   "source": [
    "# For implementation on cluster\n",
    "import torch\n",
    "torch.multiprocessing.set_start_method(\"spawn\")"
   ]
  },
  {
   "cell_type": "code",
   "execution_count": 2,
   "metadata": {},
   "outputs": [],
   "source": [
    "import utils\n",
    "import pandas as pd"
   ]
  },
  {
   "cell_type": "code",
   "execution_count": 3,
   "metadata": {},
   "outputs": [
    {
     "name": "stderr",
     "output_type": "stream",
     "text": [
      "INFO:root:Input filename has to be space separated data\n"
     ]
    }
   ],
   "source": [
    "#Test\n",
    "filename = \"merge_df.csv\"\n",
    "df = utils.get_dataframe_from_csv(filename, header_row=0, sep=',') "
   ]
  },
  {
   "cell_type": "code",
   "execution_count": 4,
   "metadata": {},
   "outputs": [],
   "source": [
    "df1 = df.drop(['cutoff'],axis=1)\n",
    "#df = utils.get_dataframe_from_csv(filename, header_row=0, sep=',').iloc[:,:-1]  #remove label"
   ]
  },
  {
   "cell_type": "code",
   "execution_count": 5,
   "metadata": {},
   "outputs": [
    {
     "data": {
      "text/plain": [
       "소요시간                          0\n",
       "RT_A3                         0\n",
       "RT_A4                         0\n",
       "RT_A5                         0\n",
       "RT_A8                         0\n",
       "                             ..\n",
       "AntiSaccade5.Velocity:std    34\n",
       "AntiSaccade5.Velocity:min    19\n",
       "AntiSaccade5.Velocity:max    19\n",
       "Key                           0\n",
       "cutoff                        0\n",
       "Length: 252, dtype: int64"
      ]
     },
     "execution_count": 5,
     "metadata": {},
     "output_type": "execute_result"
    }
   ],
   "source": [
    "df.isnull().sum()"
   ]
  },
  {
   "cell_type": "code",
   "execution_count": 6,
   "metadata": {},
   "outputs": [],
   "source": [
    "#Neuropsychology 피처\n",
    "ne = ['소요시간',\n",
    " 'RT_A3',\n",
    " 'RT_A4',\n",
    " 'RT_A5',\n",
    " 'RT_A8',\n",
    " 'RT_A10',\n",
    " '소요시간.1',\n",
    " 'RT_B1',\n",
    " 'RT_B2',\n",
    " 'RT_B3',\n",
    " 'RT_B5',\n",
    " 'RT_B9',\n",
    " 'RT_A_median',\n",
    " 'RT_A_sd',\n",
    " 'RT_A_min',\n",
    " 'RT_A_max',\n",
    " 'RT_B_sum',\n",
    " 'RT_B_median',\n",
    " 'RT_B_sd',\n",
    " 'RT_B_min',\n",
    " 'RT_B_max',\n",
    " '정답수.2',\n",
    " 'cal10.1',\n",
    " 'RT_cal1',\n",
    " 'RT_cal2',\n",
    " 'RT_cal3',\n",
    " 'RT_cal4',\n",
    " 'RT_cal6',\n",
    " 'RT_cal7',\n",
    " 'RT_cal8',\n",
    " 'RT_cal9',\n",
    " 'RT_cal10',\n",
    " 'RT_cal12',\n",
    " 'RT_cal_sum',\n",
    " 'RT_cal_median',\n",
    " '소요시간.2',\n",
    " '정답수.3',\n",
    " 'RT_sa1',\n",
    " 'RT_sa2',\n",
    " 'RT_sa3',\n",
    " 'RT_sa4',\n",
    " 'RT_sa5',\n",
    " 'RT_sa6',\n",
    " 'RT_sa_sum',\n",
    " 'RT_sa_mean',\n",
    " 'RT_sa_sd',\n",
    " 'RT_sa_min',\n",
    " 'RT_sa_max',\n",
    " '소요시간.5',\n",
    " '소요시간.6',\n",
    " '소요시간.7', 'Key']\n",
    "n_df = df1[ne]"
   ]
  },
  {
   "cell_type": "code",
   "execution_count": 7,
   "metadata": {},
   "outputs": [
    {
     "data": {
      "text/plain": [
       "소요시간                    0\n",
       "RT_A3                   0\n",
       "RT_A4                   0\n",
       "RT_A5                   0\n",
       "RT_A8                   0\n",
       "                       ..\n",
       "SP3.InitAccel:max       6\n",
       "SP3.Velocity:mean       6\n",
       "SP3.Velocity:median     6\n",
       "SP3.Velocity:std       10\n",
       "SP3.Velocity:min        6\n",
       "Length: 97, dtype: int64"
      ]
     },
     "execution_count": 7,
     "metadata": {},
     "output_type": "execute_result"
    }
   ],
   "source": [
    "#SP 결측치처리\n",
    "ls = []\n",
    "\n",
    "for i in df1.columns:\n",
    "    if 'SP' in i:\n",
    "        ls.append(i)\n",
    "        \n",
    "sp_df = df1[ls]\n",
    "\n",
    "m_df = pd.concat([n_df, sp_df], axis=1)\n",
    "\n",
    "m_df.isnull().sum()"
   ]
  },
  {
   "cell_type": "code",
   "execution_count": 8,
   "metadata": {},
   "outputs": [
    {
     "name": "stdout",
     "output_type": "stream",
     "text": [
      "(289, 97)\n",
      "(277, 97)\n"
     ]
    }
   ],
   "source": [
    "train_df = m_df.dropna(axis=0)\n",
    "print(m_df.shape)\n",
    "print(train_df.shape)"
   ]
  },
  {
   "cell_type": "markdown",
   "metadata": {},
   "source": [
    "### 1.1.2. Inducing missingness\n",
    "\n",
    "After dataset loading, start with inducing missingness. \n",
    "\n",
    "To start off, introduce simple random missing patterns (Missing Completely At Random), i.e. sample half of the variables and set observations in those variables to missing if an appended random uniform vector has value less than a certain threshhold. WIth threshold of 0.2, the procedure should introduce about 20% missingness."
   ]
  },
  {
   "cell_type": "code",
   "execution_count": 9,
   "metadata": {},
   "outputs": [
    {
     "name": "stdout",
     "output_type": "stream",
     "text": [
      "(12, 97)\n"
     ]
    }
   ],
   "source": [
    "loc_list = []\n",
    "for i in range(len(m_df)):\n",
    "    if m_df.loc[i].isnull().any() == True:\n",
    "        loc_list.append(i)\n",
    "test_df = m_df.loc[loc_list]\n",
    "print(test_df.shape)\n",
    "\n",
    "train_df_Key = train_df['Key']\n",
    "test_df_Key = test_df['Key']\n",
    "train_df= train_df.drop('Key',axis=1)\n",
    "test_df= test_df.drop('Key',axis=1)"
   ]
  },
  {
   "cell_type": "markdown",
   "metadata": {},
   "source": [
    "# 2. Modelling\n",
    "\n",
    "Proceed to modelling.\n",
    "\n",
    "In R:\n",
    "Start with initializing 'h2o' package and then reading the training and test datasets as the 'h2o's supported format.\n",
    "Then run imputation model multiple times as each new start would initialize the weights with different values.<br>\n",
    "Info at: <br>\n",
    "[h2o](https://cran.r-project.org/web/packages/h2o/h2o.pdf) package offers an easy to use function for implementing autoencoders. \n",
    "More information is available at this [link](http://docs.h2o.ai/h2o/latest-stable/h2o-docs/booklets/DeepLearningBooklet.pdf).\n",
    "\n",
    "In Python: Using PyTorch to create the DAE, and train using the Adam optimizer from PyTorch"
   ]
  },
  {
   "cell_type": "code",
   "execution_count": 10,
   "metadata": {},
   "outputs": [],
   "source": [
    "import numpy as np\n",
    "import pandas as pd\n",
    "\n",
    "import torch\n",
    "import torch.nn as nn\n",
    "import torch.functional as F"
   ]
  },
  {
   "cell_type": "code",
   "execution_count": 11,
   "metadata": {},
   "outputs": [],
   "source": [
    "#Settings for device, randomization seed, default tensor type, kwargs for memory #DevSeedTensKwargs\n",
    "RANDOM_SEED = 18\n",
    "np.random.seed(RANDOM_SEED)\n",
    "\n",
    "if torch.cuda.is_available():\n",
    "    device = \"cuda\"\n",
    "    torch.cuda.manual_seed(RANDOM_SEED)\n",
    "    torch.set_default_tensor_type(torch.cuda.FloatTensor)\n",
    "    kwargs = {'num_workers':4, 'pin_memory' :True}\n",
    "else:\n",
    "    device = 'cpu'\n",
    "    torch.manual_seed(RANDOM_SEED)\n",
    "    torch.set_default_tensor_type(torch.FloatTensor)\n",
    "    kwards = {}"
   ]
  },
  {
   "cell_type": "code",
   "execution_count": 12,
   "metadata": {},
   "outputs": [
    {
     "data": {
      "text/plain": [
       "Dataframe Size:277, Perc of NaNs: 0.00"
      ]
     },
     "execution_count": 12,
     "metadata": {},
     "output_type": "execute_result"
    }
   ],
   "source": [
    "import dataset_module\n",
    "import Modelling\n",
    "trainset = dataset_module.DataSetForImputation(train_df, normalize=True)  #normalize True for [0,1] normalization for dataframe\n",
    "trainset"
   ]
  },
  {
   "cell_type": "code",
   "execution_count": 13,
   "metadata": {},
   "outputs": [
    {
     "data": {
      "text/plain": [
       "DenoisingAutoEncoder(\n",
       "  (drop_layer): Dropout(p=0.5, inplace=False)\n",
       "  (linear_layer_list): ModuleList(\n",
       "    (0): Linear(in_features=96, out_features=103, bias=True)\n",
       "    (1): Linear(in_features=103, out_features=110, bias=True)\n",
       "    (2): Linear(in_features=110, out_features=117, bias=True)\n",
       "    (3): Linear(in_features=117, out_features=110, bias=True)\n",
       "    (4): Linear(in_features=110, out_features=103, bias=True)\n",
       "    (5): Linear(in_features=103, out_features=96, bias=True)\n",
       "  )\n",
       ")"
      ]
     },
     "execution_count": 13,
     "metadata": {},
     "output_type": "execute_result"
    }
   ],
   "source": [
    "net = Modelling.DenoisingAutoEncoder(len(trainset.variables()))\n",
    "net"
   ]
  },
  {
   "cell_type": "markdown",
   "metadata": {},
   "source": [
    "# 3. Training"
   ]
  },
  {
   "cell_type": "code",
   "execution_count": 14,
   "metadata": {},
   "outputs": [
    {
     "name": "stdout",
     "output_type": "stream",
     "text": [
      "277\n",
      "12\n"
     ]
    }
   ],
   "source": [
    "import torch.utils.data as td\n",
    "from torch.optim import Adam\n",
    "\n",
    "LR = 1e-3\n",
    "DATAPOINTS = len(trainset) \n",
    "BATCH_SIZE = 512 \n",
    "BATCHES = DATAPOINTS/BATCH_SIZE\n",
    "VARIABLES  = len(trainset.variables()) #9\n",
    "\n",
    "\n",
    "import Modelling\n",
    "net = Modelling.DenoisingAutoEncoder(len(trainset.variables()), theta = 7, input_dropout=0.5)\n",
    "\n",
    "criterion = nn.MSELoss()\n",
    "net = net.to(device) \n",
    "\n",
    "trainset = dataset_module.DataSetForImputation(train_df, normalize=True)\n",
    "print(len(trainset))\n",
    "testset = dataset_module.DataSetForImputation(test_df, normalize=True)\n",
    "print(len(testset))\n",
    "\n",
    "train_loader = td.DataLoader(trainset, batch_size=BATCH_SIZE, shuffle=True, **{})\n",
    "val_loader = td.DataLoader(testset, batch_size=BATCH_SIZE, shuffle=True, **{})\n",
    "\n",
    "optimizer = Adam(net.parameters(), lr = LR)\n",
    "\n",
    "LOG_INTERVAL = 10\n",
    "SAVE_INTERVAL = 50\n",
    "torch.set_printoptions(sci_mode=False)"
   ]
  },
  {
   "cell_type": "code",
   "execution_count": 15,
   "metadata": {},
   "outputs": [],
   "source": [
    "import os\n",
    "from tqdm import tqdm_notebook as tqdm\n",
    "def train_model(start_steps = 0, end_steps = 5, net=None, model_name = \"DAE_Arch_N_7_ImputeOnlyNaNs_WithDropout\", train_loader = train_loader, val_loader = val_loader, logger_level = 20):\n",
    "    import logging\n",
    "    logger = logging.getLogger()\n",
    "    logger.setLevel(logger_level)\n",
    "\n",
    "    NaN_flag = False\n",
    "    \n",
    "    for epoch in tqdm(range(start_steps, end_steps)):\n",
    "        count = epoch-start_steps+1\n",
    "        net.train()\n",
    "        #Epoch begins\n",
    "        epoch_loss = 0.0\n",
    "        for x, d in tqdm(train_loader):\n",
    "            # Normalize between [0,1] for better convergence \n",
    "            original_x = x\n",
    "            x[torch.isnan(x)]=0   #If an entire column is zero, division by 0, replace NaNs with zero\n",
    "            d[torch.isnan(d)]=0 \n",
    "\n",
    "            optimizer.zero_grad()\n",
    "            x = x.to(device, dtype=torch.float32)\n",
    "            with torch.no_grad():\n",
    "                d = d.to(device, dtype=torch.float32)\n",
    "            y = net(x)\n",
    "            loss = torch.sqrt(criterion(y, d))   #RMSE Loss   \n",
    "            loss.backward()\n",
    "            optimizer.step()\n",
    "            epoch_loss += loss.item()\n",
    "            \n",
    "            #Break if NaN encountered\n",
    "            if torch.isnan(loss) or torch.isinf(loss):\n",
    "                logging.info(f\"Loss value: {loss.item()}\")\n",
    "                logging.info(\"NaN/inf occured at:\")\n",
    "                logging.info(f\"{x}\\n\")\n",
    "                logging.info(f\"{d}\\n\")\n",
    "                logging.info(f\"Original x was : {original_x}\")\n",
    "                NaN_flag = True\n",
    "                break\n",
    "\n",
    "            logging.debug(f\"Count: {count}, Loss :{loss}\")\n",
    "            \n",
    "        if NaN_flag: break   #Stop training if NaN encountered\n",
    "        \n",
    "        #Print to screen every few epochs    \n",
    "        if count%LOG_INTERVAL == 0:\n",
    "            print(f\"Epoch number:{epoch} Loss: {epoch_loss:.4f}\")  \n",
    "            \n",
    "        #Training artifacts\n",
    "        if model_name not in os.listdir():\n",
    "            os.makedirs(model_name+\"/artifacts/saved_model/\")\n",
    "\n",
    "        #Write to loss file every epoch\n",
    "        with open(model_name+\"/artifacts/loss_curve\",mode = 'a+') as f:\n",
    "            f.write(f\"Epoch_number: {epoch} Loss: {epoch_loss:.4f}\\n\")\n",
    "            \n",
    "        #Validation curve\n",
    "        val_loss = 0.0\n",
    "        net.eval()\n",
    "        for x,d in val_loader:\n",
    "            x[torch.isnan(x)]=0\n",
    "            d[torch.isnan(d)]=0\n",
    "            x = x.to(device)\n",
    "            with torch.no_grad():\n",
    "                d= d.to(device)\n",
    "            y = net(x)\n",
    "            loss = torch.sqrt(criterion(y,d))\n",
    "            val_loss+=loss\n",
    "        net.train()\n",
    "        #Write Val loss to file every epoch\n",
    "        with open(model_name+\"/artifacts/val_loss_curve\",mode = 'a+') as f:\n",
    "            f.write(f\"Epoch_number: {epoch} Loss: {val_loss:.4f}\\n\")\n",
    "        \n",
    "        #Save model every few epochs\n",
    "        if epoch%SAVE_INTERVAL== 0:\n",
    "            torch.save(net.state_dict(),f\"./{model_name}/artifacts/saved_model/model_at_epoch{epoch}\")\n",
    "        #Epoch Ends"
   ]
  },
  {
   "cell_type": "code",
   "execution_count": 16,
   "metadata": {},
   "outputs": [
    {
     "name": "stderr",
     "output_type": "stream",
     "text": [
      "c:\\Users\\hOMe_pc\\Anaconda3\\envs\\AIS_mrcnn\\lib\\site-packages\\ipykernel_launcher.py:10: TqdmDeprecationWarning: This function will be removed in tqdm==5.0.0\n",
      "Please use `tqdm.notebook.tqdm` instead of `tqdm.tqdm_notebook`\n",
      "  # Remove the CWD from sys.path while we load stuff.\n"
     ]
    },
    {
     "data": {
      "application/vnd.jupyter.widget-view+json": {
       "model_id": "a6c85bad7b484bc484ace4138265953b",
       "version_major": 2,
       "version_minor": 0
      },
      "text/plain": [
       "  0%|          | 0/101 [00:00<?, ?it/s]"
      ]
     },
     "metadata": {},
     "output_type": "display_data"
    },
    {
     "name": "stderr",
     "output_type": "stream",
     "text": [
      "c:\\Users\\hOMe_pc\\Anaconda3\\envs\\AIS_mrcnn\\lib\\site-packages\\ipykernel_launcher.py:15: TqdmDeprecationWarning: This function will be removed in tqdm==5.0.0\n",
      "Please use `tqdm.notebook.tqdm` instead of `tqdm.tqdm_notebook`\n",
      "  from ipykernel import kernelapp as app\n"
     ]
    },
    {
     "data": {
      "application/vnd.jupyter.widget-view+json": {
       "model_id": "22de3a4b7fae42869ec69835881d6591",
       "version_major": 2,
       "version_minor": 0
      },
      "text/plain": [
       "  0%|          | 0/1 [00:00<?, ?it/s]"
      ]
     },
     "metadata": {},
     "output_type": "display_data"
    },
    {
     "data": {
      "application/vnd.jupyter.widget-view+json": {
       "model_id": "2499f9fb6f7f4f28af668a253e011377",
       "version_major": 2,
       "version_minor": 0
      },
      "text/plain": [
       "  0%|          | 0/1 [00:00<?, ?it/s]"
      ]
     },
     "metadata": {},
     "output_type": "display_data"
    },
    {
     "data": {
      "application/vnd.jupyter.widget-view+json": {
       "model_id": "0f07817b5a7447f7b8d47a16c6d72561",
       "version_major": 2,
       "version_minor": 0
      },
      "text/plain": [
       "  0%|          | 0/1 [00:00<?, ?it/s]"
      ]
     },
     "metadata": {},
     "output_type": "display_data"
    },
    {
     "data": {
      "application/vnd.jupyter.widget-view+json": {
       "model_id": "c9078c1b96bc481abd957198e999af98",
       "version_major": 2,
       "version_minor": 0
      },
      "text/plain": [
       "  0%|          | 0/1 [00:00<?, ?it/s]"
      ]
     },
     "metadata": {},
     "output_type": "display_data"
    },
    {
     "data": {
      "application/vnd.jupyter.widget-view+json": {
       "model_id": "b95d6f6a7c2946cb9e29c6be50db66ca",
       "version_major": 2,
       "version_minor": 0
      },
      "text/plain": [
       "  0%|          | 0/1 [00:00<?, ?it/s]"
      ]
     },
     "metadata": {},
     "output_type": "display_data"
    },
    {
     "data": {
      "application/vnd.jupyter.widget-view+json": {
       "model_id": "346ef526a2314b099002b6d46c9a26bf",
       "version_major": 2,
       "version_minor": 0
      },
      "text/plain": [
       "  0%|          | 0/1 [00:00<?, ?it/s]"
      ]
     },
     "metadata": {},
     "output_type": "display_data"
    },
    {
     "data": {
      "application/vnd.jupyter.widget-view+json": {
       "model_id": "ed324980dffc413f970b3a4e3e89fb16",
       "version_major": 2,
       "version_minor": 0
      },
      "text/plain": [
       "  0%|          | 0/1 [00:00<?, ?it/s]"
      ]
     },
     "metadata": {},
     "output_type": "display_data"
    },
    {
     "data": {
      "application/vnd.jupyter.widget-view+json": {
       "model_id": "3322cbf8adaa46a09a9a5bcfdd2c7054",
       "version_major": 2,
       "version_minor": 0
      },
      "text/plain": [
       "  0%|          | 0/1 [00:00<?, ?it/s]"
      ]
     },
     "metadata": {},
     "output_type": "display_data"
    },
    {
     "data": {
      "application/vnd.jupyter.widget-view+json": {
       "model_id": "52f26dc1548e4f9c836d14022279ff13",
       "version_major": 2,
       "version_minor": 0
      },
      "text/plain": [
       "  0%|          | 0/1 [00:00<?, ?it/s]"
      ]
     },
     "metadata": {},
     "output_type": "display_data"
    },
    {
     "data": {
      "application/vnd.jupyter.widget-view+json": {
       "model_id": "511743a8cd664bd297d3703e627936fb",
       "version_major": 2,
       "version_minor": 0
      },
      "text/plain": [
       "  0%|          | 0/1 [00:00<?, ?it/s]"
      ]
     },
     "metadata": {},
     "output_type": "display_data"
    },
    {
     "name": "stdout",
     "output_type": "stream",
     "text": [
      "Epoch number:9 Loss: 0.1796\n"
     ]
    },
    {
     "data": {
      "application/vnd.jupyter.widget-view+json": {
       "model_id": "4e8e8c9b68cd47de83e35cd162f0dcf8",
       "version_major": 2,
       "version_minor": 0
      },
      "text/plain": [
       "  0%|          | 0/1 [00:00<?, ?it/s]"
      ]
     },
     "metadata": {},
     "output_type": "display_data"
    },
    {
     "data": {
      "application/vnd.jupyter.widget-view+json": {
       "model_id": "8b0c32dd91e046d7925f79734b857ebd",
       "version_major": 2,
       "version_minor": 0
      },
      "text/plain": [
       "  0%|          | 0/1 [00:00<?, ?it/s]"
      ]
     },
     "metadata": {},
     "output_type": "display_data"
    },
    {
     "data": {
      "application/vnd.jupyter.widget-view+json": {
       "model_id": "15a4670bce5c49eb8e76baeecdbd2e61",
       "version_major": 2,
       "version_minor": 0
      },
      "text/plain": [
       "  0%|          | 0/1 [00:00<?, ?it/s]"
      ]
     },
     "metadata": {},
     "output_type": "display_data"
    },
    {
     "data": {
      "application/vnd.jupyter.widget-view+json": {
       "model_id": "67fcb8a59dd64cdca9866536ce4c1a21",
       "version_major": 2,
       "version_minor": 0
      },
      "text/plain": [
       "  0%|          | 0/1 [00:00<?, ?it/s]"
      ]
     },
     "metadata": {},
     "output_type": "display_data"
    },
    {
     "data": {
      "application/vnd.jupyter.widget-view+json": {
       "model_id": "e84bae39d9fa4089adc24997f372ea5c",
       "version_major": 2,
       "version_minor": 0
      },
      "text/plain": [
       "  0%|          | 0/1 [00:00<?, ?it/s]"
      ]
     },
     "metadata": {},
     "output_type": "display_data"
    },
    {
     "data": {
      "application/vnd.jupyter.widget-view+json": {
       "model_id": "fe04aa4480c44b6e9ca97ac3c00fe4e6",
       "version_major": 2,
       "version_minor": 0
      },
      "text/plain": [
       "  0%|          | 0/1 [00:00<?, ?it/s]"
      ]
     },
     "metadata": {},
     "output_type": "display_data"
    },
    {
     "data": {
      "application/vnd.jupyter.widget-view+json": {
       "model_id": "5cb1fa0958ea47c1afa8ae7b5e8c003c",
       "version_major": 2,
       "version_minor": 0
      },
      "text/plain": [
       "  0%|          | 0/1 [00:00<?, ?it/s]"
      ]
     },
     "metadata": {},
     "output_type": "display_data"
    },
    {
     "data": {
      "application/vnd.jupyter.widget-view+json": {
       "model_id": "b7ae9d3577a846de937f9bd58756c3ba",
       "version_major": 2,
       "version_minor": 0
      },
      "text/plain": [
       "  0%|          | 0/1 [00:00<?, ?it/s]"
      ]
     },
     "metadata": {},
     "output_type": "display_data"
    },
    {
     "data": {
      "application/vnd.jupyter.widget-view+json": {
       "model_id": "a0abf90a9e104e89838393669b4eb546",
       "version_major": 2,
       "version_minor": 0
      },
      "text/plain": [
       "  0%|          | 0/1 [00:00<?, ?it/s]"
      ]
     },
     "metadata": {},
     "output_type": "display_data"
    },
    {
     "data": {
      "application/vnd.jupyter.widget-view+json": {
       "model_id": "09e78f9acd78420185bfcd1a1763fb70",
       "version_major": 2,
       "version_minor": 0
      },
      "text/plain": [
       "  0%|          | 0/1 [00:00<?, ?it/s]"
      ]
     },
     "metadata": {},
     "output_type": "display_data"
    },
    {
     "name": "stdout",
     "output_type": "stream",
     "text": [
      "Epoch number:19 Loss: 0.1386\n"
     ]
    },
    {
     "data": {
      "application/vnd.jupyter.widget-view+json": {
       "model_id": "9fc7de85b52741bd8442ddfcff8c156d",
       "version_major": 2,
       "version_minor": 0
      },
      "text/plain": [
       "  0%|          | 0/1 [00:00<?, ?it/s]"
      ]
     },
     "metadata": {},
     "output_type": "display_data"
    },
    {
     "data": {
      "application/vnd.jupyter.widget-view+json": {
       "model_id": "b1ae49a67bc746e898bbdadac2bdefd2",
       "version_major": 2,
       "version_minor": 0
      },
      "text/plain": [
       "  0%|          | 0/1 [00:00<?, ?it/s]"
      ]
     },
     "metadata": {},
     "output_type": "display_data"
    },
    {
     "data": {
      "application/vnd.jupyter.widget-view+json": {
       "model_id": "491dd05d541d4b2aaabbd564a0443202",
       "version_major": 2,
       "version_minor": 0
      },
      "text/plain": [
       "  0%|          | 0/1 [00:00<?, ?it/s]"
      ]
     },
     "metadata": {},
     "output_type": "display_data"
    },
    {
     "data": {
      "application/vnd.jupyter.widget-view+json": {
       "model_id": "4f950117d9a14185a20a2c612e16c026",
       "version_major": 2,
       "version_minor": 0
      },
      "text/plain": [
       "  0%|          | 0/1 [00:00<?, ?it/s]"
      ]
     },
     "metadata": {},
     "output_type": "display_data"
    },
    {
     "data": {
      "application/vnd.jupyter.widget-view+json": {
       "model_id": "87361352007b454ab0a8738387195941",
       "version_major": 2,
       "version_minor": 0
      },
      "text/plain": [
       "  0%|          | 0/1 [00:00<?, ?it/s]"
      ]
     },
     "metadata": {},
     "output_type": "display_data"
    },
    {
     "data": {
      "application/vnd.jupyter.widget-view+json": {
       "model_id": "02d8f945d5b047289cf8cc850d550e7b",
       "version_major": 2,
       "version_minor": 0
      },
      "text/plain": [
       "  0%|          | 0/1 [00:00<?, ?it/s]"
      ]
     },
     "metadata": {},
     "output_type": "display_data"
    },
    {
     "data": {
      "application/vnd.jupyter.widget-view+json": {
       "model_id": "81173e71a9f84405a6ca70ebceb7ad3b",
       "version_major": 2,
       "version_minor": 0
      },
      "text/plain": [
       "  0%|          | 0/1 [00:00<?, ?it/s]"
      ]
     },
     "metadata": {},
     "output_type": "display_data"
    },
    {
     "data": {
      "application/vnd.jupyter.widget-view+json": {
       "model_id": "33ab70fdec6548198572d3187a71fef8",
       "version_major": 2,
       "version_minor": 0
      },
      "text/plain": [
       "  0%|          | 0/1 [00:00<?, ?it/s]"
      ]
     },
     "metadata": {},
     "output_type": "display_data"
    },
    {
     "data": {
      "application/vnd.jupyter.widget-view+json": {
       "model_id": "426a96cd742549c79773c954a4e969da",
       "version_major": 2,
       "version_minor": 0
      },
      "text/plain": [
       "  0%|          | 0/1 [00:00<?, ?it/s]"
      ]
     },
     "metadata": {},
     "output_type": "display_data"
    },
    {
     "data": {
      "application/vnd.jupyter.widget-view+json": {
       "model_id": "90bf03bb004541cea0ad60b9a7c5fa0c",
       "version_major": 2,
       "version_minor": 0
      },
      "text/plain": [
       "  0%|          | 0/1 [00:00<?, ?it/s]"
      ]
     },
     "metadata": {},
     "output_type": "display_data"
    },
    {
     "name": "stdout",
     "output_type": "stream",
     "text": [
      "Epoch number:29 Loss: 0.1288\n"
     ]
    },
    {
     "data": {
      "application/vnd.jupyter.widget-view+json": {
       "model_id": "5bca4f042a814389a77f6a8a1b699a8a",
       "version_major": 2,
       "version_minor": 0
      },
      "text/plain": [
       "  0%|          | 0/1 [00:00<?, ?it/s]"
      ]
     },
     "metadata": {},
     "output_type": "display_data"
    },
    {
     "data": {
      "application/vnd.jupyter.widget-view+json": {
       "model_id": "95819ff777b3456ea633991c20263d79",
       "version_major": 2,
       "version_minor": 0
      },
      "text/plain": [
       "  0%|          | 0/1 [00:00<?, ?it/s]"
      ]
     },
     "metadata": {},
     "output_type": "display_data"
    },
    {
     "data": {
      "application/vnd.jupyter.widget-view+json": {
       "model_id": "9f41eddca21947f090daf817161eda93",
       "version_major": 2,
       "version_minor": 0
      },
      "text/plain": [
       "  0%|          | 0/1 [00:00<?, ?it/s]"
      ]
     },
     "metadata": {},
     "output_type": "display_data"
    },
    {
     "data": {
      "application/vnd.jupyter.widget-view+json": {
       "model_id": "40914a1bac2940859b3342ca0ddf1c07",
       "version_major": 2,
       "version_minor": 0
      },
      "text/plain": [
       "  0%|          | 0/1 [00:00<?, ?it/s]"
      ]
     },
     "metadata": {},
     "output_type": "display_data"
    },
    {
     "data": {
      "application/vnd.jupyter.widget-view+json": {
       "model_id": "4b2d64474c94400c9ce9095b6a564e71",
       "version_major": 2,
       "version_minor": 0
      },
      "text/plain": [
       "  0%|          | 0/1 [00:00<?, ?it/s]"
      ]
     },
     "metadata": {},
     "output_type": "display_data"
    },
    {
     "data": {
      "application/vnd.jupyter.widget-view+json": {
       "model_id": "d41f9b81de1746df925f82851e873b38",
       "version_major": 2,
       "version_minor": 0
      },
      "text/plain": [
       "  0%|          | 0/1 [00:00<?, ?it/s]"
      ]
     },
     "metadata": {},
     "output_type": "display_data"
    },
    {
     "data": {
      "application/vnd.jupyter.widget-view+json": {
       "model_id": "e62fc00b2f044104bf37705fcbe32d26",
       "version_major": 2,
       "version_minor": 0
      },
      "text/plain": [
       "  0%|          | 0/1 [00:00<?, ?it/s]"
      ]
     },
     "metadata": {},
     "output_type": "display_data"
    },
    {
     "data": {
      "application/vnd.jupyter.widget-view+json": {
       "model_id": "bc9d2dc4724845039b797dac5cc6b40c",
       "version_major": 2,
       "version_minor": 0
      },
      "text/plain": [
       "  0%|          | 0/1 [00:00<?, ?it/s]"
      ]
     },
     "metadata": {},
     "output_type": "display_data"
    },
    {
     "data": {
      "application/vnd.jupyter.widget-view+json": {
       "model_id": "d6c7202f2c004e71abd80e45ebfebd16",
       "version_major": 2,
       "version_minor": 0
      },
      "text/plain": [
       "  0%|          | 0/1 [00:00<?, ?it/s]"
      ]
     },
     "metadata": {},
     "output_type": "display_data"
    },
    {
     "data": {
      "application/vnd.jupyter.widget-view+json": {
       "model_id": "7de673fe61cc4399b5e85f08673931dc",
       "version_major": 2,
       "version_minor": 0
      },
      "text/plain": [
       "  0%|          | 0/1 [00:00<?, ?it/s]"
      ]
     },
     "metadata": {},
     "output_type": "display_data"
    },
    {
     "name": "stdout",
     "output_type": "stream",
     "text": [
      "Epoch number:39 Loss: 0.1253\n"
     ]
    },
    {
     "data": {
      "application/vnd.jupyter.widget-view+json": {
       "model_id": "28c09e156bcc4a38b950b313c1c7e7f2",
       "version_major": 2,
       "version_minor": 0
      },
      "text/plain": [
       "  0%|          | 0/1 [00:00<?, ?it/s]"
      ]
     },
     "metadata": {},
     "output_type": "display_data"
    },
    {
     "data": {
      "application/vnd.jupyter.widget-view+json": {
       "model_id": "457391a9cdff46c9bc4c286403a00648",
       "version_major": 2,
       "version_minor": 0
      },
      "text/plain": [
       "  0%|          | 0/1 [00:00<?, ?it/s]"
      ]
     },
     "metadata": {},
     "output_type": "display_data"
    },
    {
     "data": {
      "application/vnd.jupyter.widget-view+json": {
       "model_id": "8e50de68c6584c9b8972cf34f7a0d2d1",
       "version_major": 2,
       "version_minor": 0
      },
      "text/plain": [
       "  0%|          | 0/1 [00:00<?, ?it/s]"
      ]
     },
     "metadata": {},
     "output_type": "display_data"
    },
    {
     "data": {
      "application/vnd.jupyter.widget-view+json": {
       "model_id": "45a3df3b2add4558953aa4d6db327969",
       "version_major": 2,
       "version_minor": 0
      },
      "text/plain": [
       "  0%|          | 0/1 [00:00<?, ?it/s]"
      ]
     },
     "metadata": {},
     "output_type": "display_data"
    },
    {
     "data": {
      "application/vnd.jupyter.widget-view+json": {
       "model_id": "384f4e646f804f108b8329ec01929495",
       "version_major": 2,
       "version_minor": 0
      },
      "text/plain": [
       "  0%|          | 0/1 [00:00<?, ?it/s]"
      ]
     },
     "metadata": {},
     "output_type": "display_data"
    },
    {
     "data": {
      "application/vnd.jupyter.widget-view+json": {
       "model_id": "97370ab58e364febb0060e39745ae0c0",
       "version_major": 2,
       "version_minor": 0
      },
      "text/plain": [
       "  0%|          | 0/1 [00:00<?, ?it/s]"
      ]
     },
     "metadata": {},
     "output_type": "display_data"
    },
    {
     "data": {
      "application/vnd.jupyter.widget-view+json": {
       "model_id": "9745123fee124d90bf689df43b6e0d2e",
       "version_major": 2,
       "version_minor": 0
      },
      "text/plain": [
       "  0%|          | 0/1 [00:00<?, ?it/s]"
      ]
     },
     "metadata": {},
     "output_type": "display_data"
    },
    {
     "data": {
      "application/vnd.jupyter.widget-view+json": {
       "model_id": "5b6256d855324783971cad8f48fc3def",
       "version_major": 2,
       "version_minor": 0
      },
      "text/plain": [
       "  0%|          | 0/1 [00:00<?, ?it/s]"
      ]
     },
     "metadata": {},
     "output_type": "display_data"
    },
    {
     "data": {
      "application/vnd.jupyter.widget-view+json": {
       "model_id": "d5a18e267a76497bbbfc4d2bbb9b49ee",
       "version_major": 2,
       "version_minor": 0
      },
      "text/plain": [
       "  0%|          | 0/1 [00:00<?, ?it/s]"
      ]
     },
     "metadata": {},
     "output_type": "display_data"
    },
    {
     "data": {
      "application/vnd.jupyter.widget-view+json": {
       "model_id": "1f719a12c5ad4f59b1d7e863a5d4ee83",
       "version_major": 2,
       "version_minor": 0
      },
      "text/plain": [
       "  0%|          | 0/1 [00:00<?, ?it/s]"
      ]
     },
     "metadata": {},
     "output_type": "display_data"
    },
    {
     "name": "stdout",
     "output_type": "stream",
     "text": [
      "Epoch number:49 Loss: 0.1195\n"
     ]
    },
    {
     "data": {
      "application/vnd.jupyter.widget-view+json": {
       "model_id": "835d411634a14d00b37e0fac067ba282",
       "version_major": 2,
       "version_minor": 0
      },
      "text/plain": [
       "  0%|          | 0/1 [00:00<?, ?it/s]"
      ]
     },
     "metadata": {},
     "output_type": "display_data"
    },
    {
     "data": {
      "application/vnd.jupyter.widget-view+json": {
       "model_id": "5e27455b7df94362a64ffde5bec97859",
       "version_major": 2,
       "version_minor": 0
      },
      "text/plain": [
       "  0%|          | 0/1 [00:00<?, ?it/s]"
      ]
     },
     "metadata": {},
     "output_type": "display_data"
    },
    {
     "data": {
      "application/vnd.jupyter.widget-view+json": {
       "model_id": "8ae8f57dba6b4215a4c0fa301f58bb0e",
       "version_major": 2,
       "version_minor": 0
      },
      "text/plain": [
       "  0%|          | 0/1 [00:00<?, ?it/s]"
      ]
     },
     "metadata": {},
     "output_type": "display_data"
    },
    {
     "data": {
      "application/vnd.jupyter.widget-view+json": {
       "model_id": "e6e8ef6118f643b7aeef1f9d0f4d6079",
       "version_major": 2,
       "version_minor": 0
      },
      "text/plain": [
       "  0%|          | 0/1 [00:00<?, ?it/s]"
      ]
     },
     "metadata": {},
     "output_type": "display_data"
    },
    {
     "data": {
      "application/vnd.jupyter.widget-view+json": {
       "model_id": "38141fceaf0b4c6289b65f452674e833",
       "version_major": 2,
       "version_minor": 0
      },
      "text/plain": [
       "  0%|          | 0/1 [00:00<?, ?it/s]"
      ]
     },
     "metadata": {},
     "output_type": "display_data"
    },
    {
     "data": {
      "application/vnd.jupyter.widget-view+json": {
       "model_id": "85671d4e236047f5bd54f40d75ffb546",
       "version_major": 2,
       "version_minor": 0
      },
      "text/plain": [
       "  0%|          | 0/1 [00:00<?, ?it/s]"
      ]
     },
     "metadata": {},
     "output_type": "display_data"
    },
    {
     "data": {
      "application/vnd.jupyter.widget-view+json": {
       "model_id": "11118fba1deb449d861058647e7f84b0",
       "version_major": 2,
       "version_minor": 0
      },
      "text/plain": [
       "  0%|          | 0/1 [00:00<?, ?it/s]"
      ]
     },
     "metadata": {},
     "output_type": "display_data"
    },
    {
     "data": {
      "application/vnd.jupyter.widget-view+json": {
       "model_id": "e80d09ef3bb84b45a3eca844b0323c19",
       "version_major": 2,
       "version_minor": 0
      },
      "text/plain": [
       "  0%|          | 0/1 [00:00<?, ?it/s]"
      ]
     },
     "metadata": {},
     "output_type": "display_data"
    },
    {
     "data": {
      "application/vnd.jupyter.widget-view+json": {
       "model_id": "0e19d55e36624b8a83cde3517322c749",
       "version_major": 2,
       "version_minor": 0
      },
      "text/plain": [
       "  0%|          | 0/1 [00:00<?, ?it/s]"
      ]
     },
     "metadata": {},
     "output_type": "display_data"
    },
    {
     "data": {
      "application/vnd.jupyter.widget-view+json": {
       "model_id": "45b185e09e6a4b59bd1534308ad52823",
       "version_major": 2,
       "version_minor": 0
      },
      "text/plain": [
       "  0%|          | 0/1 [00:00<?, ?it/s]"
      ]
     },
     "metadata": {},
     "output_type": "display_data"
    },
    {
     "name": "stdout",
     "output_type": "stream",
     "text": [
      "Epoch number:59 Loss: 0.1142\n"
     ]
    },
    {
     "data": {
      "application/vnd.jupyter.widget-view+json": {
       "model_id": "dac013db1e924a83850655f0c55cbbd4",
       "version_major": 2,
       "version_minor": 0
      },
      "text/plain": [
       "  0%|          | 0/1 [00:00<?, ?it/s]"
      ]
     },
     "metadata": {},
     "output_type": "display_data"
    },
    {
     "data": {
      "application/vnd.jupyter.widget-view+json": {
       "model_id": "66af22320b564a5aad039ccc8c0e1416",
       "version_major": 2,
       "version_minor": 0
      },
      "text/plain": [
       "  0%|          | 0/1 [00:00<?, ?it/s]"
      ]
     },
     "metadata": {},
     "output_type": "display_data"
    },
    {
     "data": {
      "application/vnd.jupyter.widget-view+json": {
       "model_id": "1f78a6cfbbc8446a9fe3b46f1c4e9f87",
       "version_major": 2,
       "version_minor": 0
      },
      "text/plain": [
       "  0%|          | 0/1 [00:00<?, ?it/s]"
      ]
     },
     "metadata": {},
     "output_type": "display_data"
    },
    {
     "data": {
      "application/vnd.jupyter.widget-view+json": {
       "model_id": "2da968da97794d6c9a90371983eba675",
       "version_major": 2,
       "version_minor": 0
      },
      "text/plain": [
       "  0%|          | 0/1 [00:00<?, ?it/s]"
      ]
     },
     "metadata": {},
     "output_type": "display_data"
    },
    {
     "data": {
      "application/vnd.jupyter.widget-view+json": {
       "model_id": "b535469d2ec44defa7d50c689430df98",
       "version_major": 2,
       "version_minor": 0
      },
      "text/plain": [
       "  0%|          | 0/1 [00:00<?, ?it/s]"
      ]
     },
     "metadata": {},
     "output_type": "display_data"
    },
    {
     "data": {
      "application/vnd.jupyter.widget-view+json": {
       "model_id": "6b2ec7dd2c4f4f909e26382b5d2047af",
       "version_major": 2,
       "version_minor": 0
      },
      "text/plain": [
       "  0%|          | 0/1 [00:00<?, ?it/s]"
      ]
     },
     "metadata": {},
     "output_type": "display_data"
    },
    {
     "data": {
      "application/vnd.jupyter.widget-view+json": {
       "model_id": "9c144c5eba8043a0b85b5b8346ae6d0b",
       "version_major": 2,
       "version_minor": 0
      },
      "text/plain": [
       "  0%|          | 0/1 [00:00<?, ?it/s]"
      ]
     },
     "metadata": {},
     "output_type": "display_data"
    },
    {
     "data": {
      "application/vnd.jupyter.widget-view+json": {
       "model_id": "cb31dea54a4341f981e643f267b46b9d",
       "version_major": 2,
       "version_minor": 0
      },
      "text/plain": [
       "  0%|          | 0/1 [00:00<?, ?it/s]"
      ]
     },
     "metadata": {},
     "output_type": "display_data"
    },
    {
     "data": {
      "application/vnd.jupyter.widget-view+json": {
       "model_id": "c583b4935dd147a0b72e1d670bd84dd9",
       "version_major": 2,
       "version_minor": 0
      },
      "text/plain": [
       "  0%|          | 0/1 [00:00<?, ?it/s]"
      ]
     },
     "metadata": {},
     "output_type": "display_data"
    },
    {
     "data": {
      "application/vnd.jupyter.widget-view+json": {
       "model_id": "699c898261a44a15ad33a784e1551c9f",
       "version_major": 2,
       "version_minor": 0
      },
      "text/plain": [
       "  0%|          | 0/1 [00:00<?, ?it/s]"
      ]
     },
     "metadata": {},
     "output_type": "display_data"
    },
    {
     "name": "stdout",
     "output_type": "stream",
     "text": [
      "Epoch number:69 Loss: 0.1121\n"
     ]
    },
    {
     "data": {
      "application/vnd.jupyter.widget-view+json": {
       "model_id": "70f031ae47734d499555124c9b839dd9",
       "version_major": 2,
       "version_minor": 0
      },
      "text/plain": [
       "  0%|          | 0/1 [00:00<?, ?it/s]"
      ]
     },
     "metadata": {},
     "output_type": "display_data"
    },
    {
     "data": {
      "application/vnd.jupyter.widget-view+json": {
       "model_id": "52353fd887a24f258d183194cd40d2c6",
       "version_major": 2,
       "version_minor": 0
      },
      "text/plain": [
       "  0%|          | 0/1 [00:00<?, ?it/s]"
      ]
     },
     "metadata": {},
     "output_type": "display_data"
    },
    {
     "data": {
      "application/vnd.jupyter.widget-view+json": {
       "model_id": "db28a2fbe47e4dbfb27c47263010f2a4",
       "version_major": 2,
       "version_minor": 0
      },
      "text/plain": [
       "  0%|          | 0/1 [00:00<?, ?it/s]"
      ]
     },
     "metadata": {},
     "output_type": "display_data"
    },
    {
     "data": {
      "application/vnd.jupyter.widget-view+json": {
       "model_id": "9aa46445d0be47308fd85a1b580ba82b",
       "version_major": 2,
       "version_minor": 0
      },
      "text/plain": [
       "  0%|          | 0/1 [00:00<?, ?it/s]"
      ]
     },
     "metadata": {},
     "output_type": "display_data"
    },
    {
     "data": {
      "application/vnd.jupyter.widget-view+json": {
       "model_id": "773acaade85f4931b0b6f206cb6073c0",
       "version_major": 2,
       "version_minor": 0
      },
      "text/plain": [
       "  0%|          | 0/1 [00:00<?, ?it/s]"
      ]
     },
     "metadata": {},
     "output_type": "display_data"
    },
    {
     "data": {
      "application/vnd.jupyter.widget-view+json": {
       "model_id": "ce3cac2b34fa4cf1a28774536352371a",
       "version_major": 2,
       "version_minor": 0
      },
      "text/plain": [
       "  0%|          | 0/1 [00:00<?, ?it/s]"
      ]
     },
     "metadata": {},
     "output_type": "display_data"
    },
    {
     "data": {
      "application/vnd.jupyter.widget-view+json": {
       "model_id": "8c810b6059c64234a507f0b0dd5ef46e",
       "version_major": 2,
       "version_minor": 0
      },
      "text/plain": [
       "  0%|          | 0/1 [00:00<?, ?it/s]"
      ]
     },
     "metadata": {},
     "output_type": "display_data"
    },
    {
     "data": {
      "application/vnd.jupyter.widget-view+json": {
       "model_id": "de39abe658c94f639169ec6226947fd7",
       "version_major": 2,
       "version_minor": 0
      },
      "text/plain": [
       "  0%|          | 0/1 [00:00<?, ?it/s]"
      ]
     },
     "metadata": {},
     "output_type": "display_data"
    },
    {
     "data": {
      "application/vnd.jupyter.widget-view+json": {
       "model_id": "9fdb9d7db3654fabb095132e49a39774",
       "version_major": 2,
       "version_minor": 0
      },
      "text/plain": [
       "  0%|          | 0/1 [00:00<?, ?it/s]"
      ]
     },
     "metadata": {},
     "output_type": "display_data"
    },
    {
     "data": {
      "application/vnd.jupyter.widget-view+json": {
       "model_id": "c5aca84be1bf427e9dc0cb5f833352e5",
       "version_major": 2,
       "version_minor": 0
      },
      "text/plain": [
       "  0%|          | 0/1 [00:00<?, ?it/s]"
      ]
     },
     "metadata": {},
     "output_type": "display_data"
    },
    {
     "name": "stdout",
     "output_type": "stream",
     "text": [
      "Epoch number:79 Loss: 0.1083\n"
     ]
    },
    {
     "data": {
      "application/vnd.jupyter.widget-view+json": {
       "model_id": "b2289caf35ac483ea13da716f54f4aa4",
       "version_major": 2,
       "version_minor": 0
      },
      "text/plain": [
       "  0%|          | 0/1 [00:00<?, ?it/s]"
      ]
     },
     "metadata": {},
     "output_type": "display_data"
    },
    {
     "data": {
      "application/vnd.jupyter.widget-view+json": {
       "model_id": "d712c64e3bb445c5a2ebd30098a0760f",
       "version_major": 2,
       "version_minor": 0
      },
      "text/plain": [
       "  0%|          | 0/1 [00:00<?, ?it/s]"
      ]
     },
     "metadata": {},
     "output_type": "display_data"
    },
    {
     "data": {
      "application/vnd.jupyter.widget-view+json": {
       "model_id": "7d880d0f2d94416e8ec22926b0ee3b76",
       "version_major": 2,
       "version_minor": 0
      },
      "text/plain": [
       "  0%|          | 0/1 [00:00<?, ?it/s]"
      ]
     },
     "metadata": {},
     "output_type": "display_data"
    },
    {
     "data": {
      "application/vnd.jupyter.widget-view+json": {
       "model_id": "f75f41f4c26b40bbb81a5061dff0f296",
       "version_major": 2,
       "version_minor": 0
      },
      "text/plain": [
       "  0%|          | 0/1 [00:00<?, ?it/s]"
      ]
     },
     "metadata": {},
     "output_type": "display_data"
    },
    {
     "data": {
      "application/vnd.jupyter.widget-view+json": {
       "model_id": "2e2e81eb437d4c53be4dac2c83d683a7",
       "version_major": 2,
       "version_minor": 0
      },
      "text/plain": [
       "  0%|          | 0/1 [00:00<?, ?it/s]"
      ]
     },
     "metadata": {},
     "output_type": "display_data"
    },
    {
     "data": {
      "application/vnd.jupyter.widget-view+json": {
       "model_id": "78212faa6d84414c9a912aa713605445",
       "version_major": 2,
       "version_minor": 0
      },
      "text/plain": [
       "  0%|          | 0/1 [00:00<?, ?it/s]"
      ]
     },
     "metadata": {},
     "output_type": "display_data"
    },
    {
     "data": {
      "application/vnd.jupyter.widget-view+json": {
       "model_id": "1b6fcbb05cf5481ebaf7bb42b8ee2d70",
       "version_major": 2,
       "version_minor": 0
      },
      "text/plain": [
       "  0%|          | 0/1 [00:00<?, ?it/s]"
      ]
     },
     "metadata": {},
     "output_type": "display_data"
    },
    {
     "data": {
      "application/vnd.jupyter.widget-view+json": {
       "model_id": "9326100ebc2c4e34944cbe9038f78fbe",
       "version_major": 2,
       "version_minor": 0
      },
      "text/plain": [
       "  0%|          | 0/1 [00:00<?, ?it/s]"
      ]
     },
     "metadata": {},
     "output_type": "display_data"
    },
    {
     "data": {
      "application/vnd.jupyter.widget-view+json": {
       "model_id": "2d545a6d1cfa4b1eb254db1a3add47a5",
       "version_major": 2,
       "version_minor": 0
      },
      "text/plain": [
       "  0%|          | 0/1 [00:00<?, ?it/s]"
      ]
     },
     "metadata": {},
     "output_type": "display_data"
    },
    {
     "data": {
      "application/vnd.jupyter.widget-view+json": {
       "model_id": "6cf7d09f25814585a56a648864c19d43",
       "version_major": 2,
       "version_minor": 0
      },
      "text/plain": [
       "  0%|          | 0/1 [00:00<?, ?it/s]"
      ]
     },
     "metadata": {},
     "output_type": "display_data"
    },
    {
     "name": "stdout",
     "output_type": "stream",
     "text": [
      "Epoch number:89 Loss: 0.1075\n"
     ]
    },
    {
     "data": {
      "application/vnd.jupyter.widget-view+json": {
       "model_id": "b60f71715f6246cba50f8086a03a0899",
       "version_major": 2,
       "version_minor": 0
      },
      "text/plain": [
       "  0%|          | 0/1 [00:00<?, ?it/s]"
      ]
     },
     "metadata": {},
     "output_type": "display_data"
    },
    {
     "data": {
      "application/vnd.jupyter.widget-view+json": {
       "model_id": "872dfb8ef99046ccb3ea94d1b692d13e",
       "version_major": 2,
       "version_minor": 0
      },
      "text/plain": [
       "  0%|          | 0/1 [00:00<?, ?it/s]"
      ]
     },
     "metadata": {},
     "output_type": "display_data"
    },
    {
     "data": {
      "application/vnd.jupyter.widget-view+json": {
       "model_id": "a6b0c95f816e4bcd8e0fadacc9c8ee93",
       "version_major": 2,
       "version_minor": 0
      },
      "text/plain": [
       "  0%|          | 0/1 [00:00<?, ?it/s]"
      ]
     },
     "metadata": {},
     "output_type": "display_data"
    },
    {
     "data": {
      "application/vnd.jupyter.widget-view+json": {
       "model_id": "2126662467084e759150ef3f509286c0",
       "version_major": 2,
       "version_minor": 0
      },
      "text/plain": [
       "  0%|          | 0/1 [00:00<?, ?it/s]"
      ]
     },
     "metadata": {},
     "output_type": "display_data"
    },
    {
     "data": {
      "application/vnd.jupyter.widget-view+json": {
       "model_id": "2878702ecce14731b90c74311deb400b",
       "version_major": 2,
       "version_minor": 0
      },
      "text/plain": [
       "  0%|          | 0/1 [00:00<?, ?it/s]"
      ]
     },
     "metadata": {},
     "output_type": "display_data"
    },
    {
     "data": {
      "application/vnd.jupyter.widget-view+json": {
       "model_id": "5d67d065f6a34f80be0fbd9a8db240fc",
       "version_major": 2,
       "version_minor": 0
      },
      "text/plain": [
       "  0%|          | 0/1 [00:00<?, ?it/s]"
      ]
     },
     "metadata": {},
     "output_type": "display_data"
    },
    {
     "data": {
      "application/vnd.jupyter.widget-view+json": {
       "model_id": "6fc82421a53b44f4bfc40e2586aa1e76",
       "version_major": 2,
       "version_minor": 0
      },
      "text/plain": [
       "  0%|          | 0/1 [00:00<?, ?it/s]"
      ]
     },
     "metadata": {},
     "output_type": "display_data"
    },
    {
     "data": {
      "application/vnd.jupyter.widget-view+json": {
       "model_id": "4d9fe7d72a7d4637941bb3ae6a3da353",
       "version_major": 2,
       "version_minor": 0
      },
      "text/plain": [
       "  0%|          | 0/1 [00:00<?, ?it/s]"
      ]
     },
     "metadata": {},
     "output_type": "display_data"
    },
    {
     "data": {
      "application/vnd.jupyter.widget-view+json": {
       "model_id": "27cd17e8c5e149e4ba6b10abcd5f5e16",
       "version_major": 2,
       "version_minor": 0
      },
      "text/plain": [
       "  0%|          | 0/1 [00:00<?, ?it/s]"
      ]
     },
     "metadata": {},
     "output_type": "display_data"
    },
    {
     "data": {
      "application/vnd.jupyter.widget-view+json": {
       "model_id": "3564c85be7b842ec826c9898e8a045cf",
       "version_major": 2,
       "version_minor": 0
      },
      "text/plain": [
       "  0%|          | 0/1 [00:00<?, ?it/s]"
      ]
     },
     "metadata": {},
     "output_type": "display_data"
    },
    {
     "name": "stdout",
     "output_type": "stream",
     "text": [
      "Epoch number:99 Loss: 0.1054\n"
     ]
    },
    {
     "data": {
      "application/vnd.jupyter.widget-view+json": {
       "model_id": "fc8929ff456348dcb1b6ddbb93ff4509",
       "version_major": 2,
       "version_minor": 0
      },
      "text/plain": [
       "  0%|          | 0/1 [00:00<?, ?it/s]"
      ]
     },
     "metadata": {},
     "output_type": "display_data"
    }
   ],
   "source": [
    "model_name = \"DAE_Arch_N_7_ImputeOnlyNaNs_WithDropout\"\n",
    "torch.set_default_tensor_type('torch.FloatTensor')\n",
    "train_model(0,101, net, model_name, train_loader=train_loader, val_loader=val_loader)"
   ]
  },
  {
   "cell_type": "code",
   "execution_count": 17,
   "metadata": {},
   "outputs": [],
   "source": [
    "# '''Remove folder before training again'''\n",
    "# import shutil\n",
    "# shutil.rmtree(model_name)\n",
    "\n",
    "# Saving model\n",
    "\n",
    "#torch.save(optimizer.state_dict(), filename)\n",
    "#optimizer.load_state_dict(torch.load(filename))\n",
    "\n",
    "# Modelling Loading from saved point\n",
    "\n",
    "# model =  Modelling.DenoisingAutoEncoder(len(trainset.variables()))\n",
    "# model.load_state_dict(torch.load(\"./artifacts/saved_model_epoch50\"))\n",
    "# model.eval()\n",
    "\n",
    "#Tweaking the learning rate to improve convergence speed\n",
    "# optimizer = Adam(net.parameters(), LR)"
   ]
  },
  {
   "cell_type": "markdown",
   "metadata": {},
   "source": [
    "# 4. Testing"
   ]
  },
  {
   "cell_type": "code",
   "execution_count": 18,
   "metadata": {},
   "outputs": [],
   "source": [
    "net = net.eval()"
   ]
  },
  {
   "cell_type": "code",
   "execution_count": 19,
   "metadata": {},
   "outputs": [],
   "source": [
    "import pandas as pd\n",
    "import torch\n",
    "def test_model(net=None, test_df= None, trainset=None, device =None, logger_level=20):\n",
    "    \"\"\"\n",
    "    Function to evaluate the model on test set\n",
    "    Should meet the following requirements:\n",
    "        :-trainset - should be an object of class DataSetForImputation\n",
    "        :-test_df - should be a Pandas dataframe with NaNs (if there are no NaNs, the same will be returned)\n",
    "        :-net - should be an object of DenoisingAutoEncoder\n",
    "    \"\"\"\n",
    "    assert isinstance(net, Modelling.DenoisingAutoEncoder)\n",
    "    assert isinstance(test_df, pd.DataFrame)\n",
    "    assert isinstance(trainset, dataset_module.DataSetForImputation)\n",
    "    \n",
    "    import logging\n",
    "    logger = logging.getLogger()\n",
    "    logger.setLevel(logger_level)\n",
    "    \n",
    "    NaN_test_df = test_df.reset_index(drop=True)  #Dropping index so that everything is reindexed from 0\n",
    "       \n",
    "    test_df = test_df.apply(lambda x: x.fillna(x.mean()), axis=0)\n",
    "    test_df_norm = (test_df- trainset.min_df)/(trainset.max_df-trainset.min_df)\n",
    "    test_df_tensor = torch.tensor(test_df_norm.values).to(device)\n",
    "        \n",
    "    net = net.eval()\n",
    "    logging.debug(f\"{test_df_tensor.shape}\")\n",
    "    pred = net(test_df_tensor)\n",
    "     \n",
    "    pred =  trainset.get_denormalized_data(pred)  #Predicted dataframe from the mode    \n",
    "    \n",
    "    # Replace the NaNs in the original test_df with newly imputed values\n",
    "    final_pred = NaN_test_df.where(~NaN_test_df.isna(), other = pred)\n",
    "    logging.debug(f\"final_pred:\\n {final_pred.head()}\")\n",
    "    \n",
    "    return final_pred"
   ]
  },
  {
   "cell_type": "code",
   "execution_count": 20,
   "metadata": {},
   "outputs": [
    {
     "name": "stdout",
     "output_type": "stream",
     "text": [
      "(289, 97)\n",
      "(289, 155)\n"
     ]
    },
    {
     "data": {
      "text/plain": [
       "(289, 251)"
      ]
     },
     "execution_count": 20,
     "metadata": {},
     "output_type": "execute_result"
    }
   ],
   "source": [
    "fill_test_df= test_model(net=net, test_df=test_df, trainset=trainset, device=device,logger_level=20)\n",
    "fill_test_df['Key'] = test_df_Key.reset_index(drop=True)\n",
    "train_df['Key'] = train_df_Key\n",
    "\n",
    "m_df = pd.concat([fill_test_df,train_df])\n",
    "print(m_df.shape)\n",
    "\n",
    "ls = ['Key']\n",
    "\n",
    "for i in df1.columns:\n",
    "        if i not in m_df.columns: # SP + Neuropsychology 외의 피처\n",
    "            ls.append(i)\n",
    "\n",
    "the_others = df[ls]\n",
    "print(the_others.shape)\n",
    "\n",
    "df1=pd.merge(m_df,the_others, how='outer',on='Key')\n",
    "df1.shape\n"
   ]
  },
  {
   "cell_type": "code",
   "execution_count": null,
   "metadata": {},
   "outputs": [],
   "source": [
    "df1 = df1[list(df.drop('cutoff',axis=1).columns)]"
   ]
  },
  {
   "cell_type": "markdown",
   "metadata": {},
   "source": [
    "# WMS"
   ]
  },
  {
   "cell_type": "code",
   "execution_count": 23,
   "metadata": {},
   "outputs": [
    {
     "name": "stdout",
     "output_type": "stream",
     "text": [
      "(289, 149)\n",
      "(66, 149)\n",
      "(223, 149)\n"
     ]
    }
   ],
   "source": [
    "# WMS 결측치처리\n",
    "nonan_merge = df1.dropna(axis=1)\n",
    "ls = []\n",
    "for i in df1.columns:\n",
    "    if 'WMS' in i:\n",
    "        ls.append(i)\n",
    "\n",
    "for c in nonan_merge.columns:\n",
    "    ls.append(c)\n",
    "ls=list(set(ls))\n",
    "\n",
    "m_df = df1[ls]\n",
    "print(m_df.shape)\n",
    "train_df = m_df.dropna(axis=0)\n",
    "print(train_df.shape)\n",
    "\n",
    "loc_list = []\n",
    "for i in range(len(m_df)):\n",
    "    if m_df.loc[i].isnull().any() == True:\n",
    "        loc_list.append(i)\n",
    "test_df = m_df.loc[loc_list]\n",
    "print(test_df.shape)\n",
    "\n",
    "train_df_Key = train_df['Key']\n",
    "test_df_Key = test_df['Key']\n",
    "train_df= train_df.drop('Key',axis=1)\n",
    "test_df= test_df.drop('Key',axis=1)\n"
   ]
  },
  {
   "cell_type": "code",
   "execution_count": 24,
   "metadata": {},
   "outputs": [
    {
     "name": "stdout",
     "output_type": "stream",
     "text": [
      "66\n",
      "223\n"
     ]
    },
    {
     "name": "stderr",
     "output_type": "stream",
     "text": [
      "c:\\Users\\hOMe_pc\\Anaconda3\\envs\\AIS_mrcnn\\lib\\site-packages\\ipykernel_launcher.py:10: TqdmDeprecationWarning: This function will be removed in tqdm==5.0.0\n",
      "Please use `tqdm.notebook.tqdm` instead of `tqdm.tqdm_notebook`\n",
      "  # Remove the CWD from sys.path while we load stuff.\n"
     ]
    },
    {
     "data": {
      "application/vnd.jupyter.widget-view+json": {
       "model_id": "2387025979a54cda8e7dbf60b610ed0a",
       "version_major": 2,
       "version_minor": 0
      },
      "text/plain": [
       "  0%|          | 0/101 [00:00<?, ?it/s]"
      ]
     },
     "metadata": {},
     "output_type": "display_data"
    },
    {
     "name": "stderr",
     "output_type": "stream",
     "text": [
      "c:\\Users\\hOMe_pc\\Anaconda3\\envs\\AIS_mrcnn\\lib\\site-packages\\ipykernel_launcher.py:15: TqdmDeprecationWarning: This function will be removed in tqdm==5.0.0\n",
      "Please use `tqdm.notebook.tqdm` instead of `tqdm.tqdm_notebook`\n",
      "  from ipykernel import kernelapp as app\n"
     ]
    },
    {
     "data": {
      "application/vnd.jupyter.widget-view+json": {
       "model_id": "cad501c8f9b4414ea6fc43eab5837a85",
       "version_major": 2,
       "version_minor": 0
      },
      "text/plain": [
       "  0%|          | 0/1 [00:00<?, ?it/s]"
      ]
     },
     "metadata": {},
     "output_type": "display_data"
    },
    {
     "data": {
      "application/vnd.jupyter.widget-view+json": {
       "model_id": "33143fc1d2114a6db9a37d5b19cc768c",
       "version_major": 2,
       "version_minor": 0
      },
      "text/plain": [
       "  0%|          | 0/1 [00:00<?, ?it/s]"
      ]
     },
     "metadata": {},
     "output_type": "display_data"
    },
    {
     "data": {
      "application/vnd.jupyter.widget-view+json": {
       "model_id": "6e37f96c2a5048de8a11d604bdda1ef1",
       "version_major": 2,
       "version_minor": 0
      },
      "text/plain": [
       "  0%|          | 0/1 [00:00<?, ?it/s]"
      ]
     },
     "metadata": {},
     "output_type": "display_data"
    },
    {
     "data": {
      "application/vnd.jupyter.widget-view+json": {
       "model_id": "c7dd4439c3044871853084741070f648",
       "version_major": 2,
       "version_minor": 0
      },
      "text/plain": [
       "  0%|          | 0/1 [00:00<?, ?it/s]"
      ]
     },
     "metadata": {},
     "output_type": "display_data"
    },
    {
     "data": {
      "application/vnd.jupyter.widget-view+json": {
       "model_id": "00956b1412bd4eec96e0aa895f41f446",
       "version_major": 2,
       "version_minor": 0
      },
      "text/plain": [
       "  0%|          | 0/1 [00:00<?, ?it/s]"
      ]
     },
     "metadata": {},
     "output_type": "display_data"
    },
    {
     "data": {
      "application/vnd.jupyter.widget-view+json": {
       "model_id": "7d48a20e36374e47b2bdce303d35fdfd",
       "version_major": 2,
       "version_minor": 0
      },
      "text/plain": [
       "  0%|          | 0/1 [00:00<?, ?it/s]"
      ]
     },
     "metadata": {},
     "output_type": "display_data"
    },
    {
     "data": {
      "application/vnd.jupyter.widget-view+json": {
       "model_id": "8e1a765e053b40e688b081ab8bf112af",
       "version_major": 2,
       "version_minor": 0
      },
      "text/plain": [
       "  0%|          | 0/1 [00:00<?, ?it/s]"
      ]
     },
     "metadata": {},
     "output_type": "display_data"
    },
    {
     "data": {
      "application/vnd.jupyter.widget-view+json": {
       "model_id": "e18fbda4befc438b9ef381881374bade",
       "version_major": 2,
       "version_minor": 0
      },
      "text/plain": [
       "  0%|          | 0/1 [00:00<?, ?it/s]"
      ]
     },
     "metadata": {},
     "output_type": "display_data"
    },
    {
     "data": {
      "application/vnd.jupyter.widget-view+json": {
       "model_id": "5c8bad239d1c4e9988b369736c25686f",
       "version_major": 2,
       "version_minor": 0
      },
      "text/plain": [
       "  0%|          | 0/1 [00:00<?, ?it/s]"
      ]
     },
     "metadata": {},
     "output_type": "display_data"
    },
    {
     "data": {
      "application/vnd.jupyter.widget-view+json": {
       "model_id": "eeb1cb7c8c5648dca1d1d2df2b8e8e4b",
       "version_major": 2,
       "version_minor": 0
      },
      "text/plain": [
       "  0%|          | 0/1 [00:00<?, ?it/s]"
      ]
     },
     "metadata": {},
     "output_type": "display_data"
    },
    {
     "name": "stdout",
     "output_type": "stream",
     "text": [
      "Epoch number:9 Loss: 0.2106\n"
     ]
    },
    {
     "data": {
      "application/vnd.jupyter.widget-view+json": {
       "model_id": "8ba0354714a3405b80dc7dfce716b276",
       "version_major": 2,
       "version_minor": 0
      },
      "text/plain": [
       "  0%|          | 0/1 [00:00<?, ?it/s]"
      ]
     },
     "metadata": {},
     "output_type": "display_data"
    },
    {
     "data": {
      "application/vnd.jupyter.widget-view+json": {
       "model_id": "bcc412279d96447d9e194c7445678e6b",
       "version_major": 2,
       "version_minor": 0
      },
      "text/plain": [
       "  0%|          | 0/1 [00:00<?, ?it/s]"
      ]
     },
     "metadata": {},
     "output_type": "display_data"
    },
    {
     "data": {
      "application/vnd.jupyter.widget-view+json": {
       "model_id": "a4ace02bf36b4da2ada4b54ad2f738b9",
       "version_major": 2,
       "version_minor": 0
      },
      "text/plain": [
       "  0%|          | 0/1 [00:00<?, ?it/s]"
      ]
     },
     "metadata": {},
     "output_type": "display_data"
    },
    {
     "data": {
      "application/vnd.jupyter.widget-view+json": {
       "model_id": "c77c7032cad7448b8ad983fc1403895b",
       "version_major": 2,
       "version_minor": 0
      },
      "text/plain": [
       "  0%|          | 0/1 [00:00<?, ?it/s]"
      ]
     },
     "metadata": {},
     "output_type": "display_data"
    },
    {
     "data": {
      "application/vnd.jupyter.widget-view+json": {
       "model_id": "4df1763e4cd54d1c8219696e0123a876",
       "version_major": 2,
       "version_minor": 0
      },
      "text/plain": [
       "  0%|          | 0/1 [00:00<?, ?it/s]"
      ]
     },
     "metadata": {},
     "output_type": "display_data"
    },
    {
     "data": {
      "application/vnd.jupyter.widget-view+json": {
       "model_id": "6026f9319df94773acc114fa7c9bcf0d",
       "version_major": 2,
       "version_minor": 0
      },
      "text/plain": [
       "  0%|          | 0/1 [00:00<?, ?it/s]"
      ]
     },
     "metadata": {},
     "output_type": "display_data"
    },
    {
     "data": {
      "application/vnd.jupyter.widget-view+json": {
       "model_id": "413848f99423474a808181fb4eac90cf",
       "version_major": 2,
       "version_minor": 0
      },
      "text/plain": [
       "  0%|          | 0/1 [00:00<?, ?it/s]"
      ]
     },
     "metadata": {},
     "output_type": "display_data"
    },
    {
     "data": {
      "application/vnd.jupyter.widget-view+json": {
       "model_id": "facfb8646b7a48658b0f692f430d8896",
       "version_major": 2,
       "version_minor": 0
      },
      "text/plain": [
       "  0%|          | 0/1 [00:00<?, ?it/s]"
      ]
     },
     "metadata": {},
     "output_type": "display_data"
    },
    {
     "data": {
      "application/vnd.jupyter.widget-view+json": {
       "model_id": "b14248c0a10c42db823af2ea0719956a",
       "version_major": 2,
       "version_minor": 0
      },
      "text/plain": [
       "  0%|          | 0/1 [00:00<?, ?it/s]"
      ]
     },
     "metadata": {},
     "output_type": "display_data"
    },
    {
     "data": {
      "application/vnd.jupyter.widget-view+json": {
       "model_id": "4896b20542514b47818066ace2efc618",
       "version_major": 2,
       "version_minor": 0
      },
      "text/plain": [
       "  0%|          | 0/1 [00:00<?, ?it/s]"
      ]
     },
     "metadata": {},
     "output_type": "display_data"
    },
    {
     "name": "stdout",
     "output_type": "stream",
     "text": [
      "Epoch number:19 Loss: 0.2045\n"
     ]
    },
    {
     "data": {
      "application/vnd.jupyter.widget-view+json": {
       "model_id": "89b7f15492b147acb6168336be99a5f8",
       "version_major": 2,
       "version_minor": 0
      },
      "text/plain": [
       "  0%|          | 0/1 [00:00<?, ?it/s]"
      ]
     },
     "metadata": {},
     "output_type": "display_data"
    },
    {
     "data": {
      "application/vnd.jupyter.widget-view+json": {
       "model_id": "a4a743ac844945be838b671848206aae",
       "version_major": 2,
       "version_minor": 0
      },
      "text/plain": [
       "  0%|          | 0/1 [00:00<?, ?it/s]"
      ]
     },
     "metadata": {},
     "output_type": "display_data"
    },
    {
     "data": {
      "application/vnd.jupyter.widget-view+json": {
       "model_id": "c57ecf2169c5473da285f0e4c78d1677",
       "version_major": 2,
       "version_minor": 0
      },
      "text/plain": [
       "  0%|          | 0/1 [00:00<?, ?it/s]"
      ]
     },
     "metadata": {},
     "output_type": "display_data"
    },
    {
     "data": {
      "application/vnd.jupyter.widget-view+json": {
       "model_id": "c9684651824d45c497997b3e82424279",
       "version_major": 2,
       "version_minor": 0
      },
      "text/plain": [
       "  0%|          | 0/1 [00:00<?, ?it/s]"
      ]
     },
     "metadata": {},
     "output_type": "display_data"
    },
    {
     "data": {
      "application/vnd.jupyter.widget-view+json": {
       "model_id": "954ff13890774cf686e25c30c2a5e06e",
       "version_major": 2,
       "version_minor": 0
      },
      "text/plain": [
       "  0%|          | 0/1 [00:00<?, ?it/s]"
      ]
     },
     "metadata": {},
     "output_type": "display_data"
    },
    {
     "data": {
      "application/vnd.jupyter.widget-view+json": {
       "model_id": "4c7b272602fa4c8d88394a05dc30aa88",
       "version_major": 2,
       "version_minor": 0
      },
      "text/plain": [
       "  0%|          | 0/1 [00:00<?, ?it/s]"
      ]
     },
     "metadata": {},
     "output_type": "display_data"
    },
    {
     "data": {
      "application/vnd.jupyter.widget-view+json": {
       "model_id": "f0e4e2c579a54968aec00a861c6a757d",
       "version_major": 2,
       "version_minor": 0
      },
      "text/plain": [
       "  0%|          | 0/1 [00:00<?, ?it/s]"
      ]
     },
     "metadata": {},
     "output_type": "display_data"
    },
    {
     "data": {
      "application/vnd.jupyter.widget-view+json": {
       "model_id": "ad37ca92551c48f8995ae7ceea444477",
       "version_major": 2,
       "version_minor": 0
      },
      "text/plain": [
       "  0%|          | 0/1 [00:00<?, ?it/s]"
      ]
     },
     "metadata": {},
     "output_type": "display_data"
    },
    {
     "data": {
      "application/vnd.jupyter.widget-view+json": {
       "model_id": "9f1c9ab4dc8340429d617e3e1a032912",
       "version_major": 2,
       "version_minor": 0
      },
      "text/plain": [
       "  0%|          | 0/1 [00:00<?, ?it/s]"
      ]
     },
     "metadata": {},
     "output_type": "display_data"
    },
    {
     "data": {
      "application/vnd.jupyter.widget-view+json": {
       "model_id": "5cf0971c6ed7425aa3080a1c4bd9ec1e",
       "version_major": 2,
       "version_minor": 0
      },
      "text/plain": [
       "  0%|          | 0/1 [00:00<?, ?it/s]"
      ]
     },
     "metadata": {},
     "output_type": "display_data"
    },
    {
     "name": "stdout",
     "output_type": "stream",
     "text": [
      "Epoch number:29 Loss: 0.1952\n"
     ]
    },
    {
     "data": {
      "application/vnd.jupyter.widget-view+json": {
       "model_id": "80197dd2ca8c4121a8245b2d2fbb2313",
       "version_major": 2,
       "version_minor": 0
      },
      "text/plain": [
       "  0%|          | 0/1 [00:00<?, ?it/s]"
      ]
     },
     "metadata": {},
     "output_type": "display_data"
    },
    {
     "data": {
      "application/vnd.jupyter.widget-view+json": {
       "model_id": "1b0801c236c1401fa862ff95a988c420",
       "version_major": 2,
       "version_minor": 0
      },
      "text/plain": [
       "  0%|          | 0/1 [00:00<?, ?it/s]"
      ]
     },
     "metadata": {},
     "output_type": "display_data"
    },
    {
     "data": {
      "application/vnd.jupyter.widget-view+json": {
       "model_id": "4e9ff3ab7a9946dd8059fa10775d7e36",
       "version_major": 2,
       "version_minor": 0
      },
      "text/plain": [
       "  0%|          | 0/1 [00:00<?, ?it/s]"
      ]
     },
     "metadata": {},
     "output_type": "display_data"
    },
    {
     "data": {
      "application/vnd.jupyter.widget-view+json": {
       "model_id": "f5de0106b2104f54ae1a1c0fd18f7e28",
       "version_major": 2,
       "version_minor": 0
      },
      "text/plain": [
       "  0%|          | 0/1 [00:00<?, ?it/s]"
      ]
     },
     "metadata": {},
     "output_type": "display_data"
    },
    {
     "data": {
      "application/vnd.jupyter.widget-view+json": {
       "model_id": "970cacbc5bfc4a64b530e0259853852c",
       "version_major": 2,
       "version_minor": 0
      },
      "text/plain": [
       "  0%|          | 0/1 [00:00<?, ?it/s]"
      ]
     },
     "metadata": {},
     "output_type": "display_data"
    },
    {
     "data": {
      "application/vnd.jupyter.widget-view+json": {
       "model_id": "f1b549766be04572a87b9ddd989fb497",
       "version_major": 2,
       "version_minor": 0
      },
      "text/plain": [
       "  0%|          | 0/1 [00:00<?, ?it/s]"
      ]
     },
     "metadata": {},
     "output_type": "display_data"
    },
    {
     "data": {
      "application/vnd.jupyter.widget-view+json": {
       "model_id": "ca50a448223a441dae79d1f561e143c7",
       "version_major": 2,
       "version_minor": 0
      },
      "text/plain": [
       "  0%|          | 0/1 [00:00<?, ?it/s]"
      ]
     },
     "metadata": {},
     "output_type": "display_data"
    },
    {
     "data": {
      "application/vnd.jupyter.widget-view+json": {
       "model_id": "49e3e7c4f4564c2caa7ed01716ac5b74",
       "version_major": 2,
       "version_minor": 0
      },
      "text/plain": [
       "  0%|          | 0/1 [00:00<?, ?it/s]"
      ]
     },
     "metadata": {},
     "output_type": "display_data"
    },
    {
     "data": {
      "application/vnd.jupyter.widget-view+json": {
       "model_id": "f2ee5df0e7f74d4c85f4daa82c0749f4",
       "version_major": 2,
       "version_minor": 0
      },
      "text/plain": [
       "  0%|          | 0/1 [00:00<?, ?it/s]"
      ]
     },
     "metadata": {},
     "output_type": "display_data"
    },
    {
     "data": {
      "application/vnd.jupyter.widget-view+json": {
       "model_id": "791f303e80af4d08893a79ec854136f8",
       "version_major": 2,
       "version_minor": 0
      },
      "text/plain": [
       "  0%|          | 0/1 [00:00<?, ?it/s]"
      ]
     },
     "metadata": {},
     "output_type": "display_data"
    },
    {
     "name": "stdout",
     "output_type": "stream",
     "text": [
      "Epoch number:39 Loss: 0.1874\n"
     ]
    },
    {
     "data": {
      "application/vnd.jupyter.widget-view+json": {
       "model_id": "a5a4317490d6465f9cf1aa862e40281e",
       "version_major": 2,
       "version_minor": 0
      },
      "text/plain": [
       "  0%|          | 0/1 [00:00<?, ?it/s]"
      ]
     },
     "metadata": {},
     "output_type": "display_data"
    },
    {
     "data": {
      "application/vnd.jupyter.widget-view+json": {
       "model_id": "7943e1d042b14c4f8dbe184d7fbe2316",
       "version_major": 2,
       "version_minor": 0
      },
      "text/plain": [
       "  0%|          | 0/1 [00:00<?, ?it/s]"
      ]
     },
     "metadata": {},
     "output_type": "display_data"
    },
    {
     "data": {
      "application/vnd.jupyter.widget-view+json": {
       "model_id": "e6bbc283adb042e0b7b37e82e3ab2c46",
       "version_major": 2,
       "version_minor": 0
      },
      "text/plain": [
       "  0%|          | 0/1 [00:00<?, ?it/s]"
      ]
     },
     "metadata": {},
     "output_type": "display_data"
    },
    {
     "data": {
      "application/vnd.jupyter.widget-view+json": {
       "model_id": "4001b39637b44d0ea7226de1743e0ecb",
       "version_major": 2,
       "version_minor": 0
      },
      "text/plain": [
       "  0%|          | 0/1 [00:00<?, ?it/s]"
      ]
     },
     "metadata": {},
     "output_type": "display_data"
    },
    {
     "data": {
      "application/vnd.jupyter.widget-view+json": {
       "model_id": "451c6cd23a204d2ab5e622d3ab482810",
       "version_major": 2,
       "version_minor": 0
      },
      "text/plain": [
       "  0%|          | 0/1 [00:00<?, ?it/s]"
      ]
     },
     "metadata": {},
     "output_type": "display_data"
    },
    {
     "data": {
      "application/vnd.jupyter.widget-view+json": {
       "model_id": "6ecb2780ec7f419cba58844a55c3cfab",
       "version_major": 2,
       "version_minor": 0
      },
      "text/plain": [
       "  0%|          | 0/1 [00:00<?, ?it/s]"
      ]
     },
     "metadata": {},
     "output_type": "display_data"
    },
    {
     "data": {
      "application/vnd.jupyter.widget-view+json": {
       "model_id": "beea04d128174db4ad53db17c32fd9d9",
       "version_major": 2,
       "version_minor": 0
      },
      "text/plain": [
       "  0%|          | 0/1 [00:00<?, ?it/s]"
      ]
     },
     "metadata": {},
     "output_type": "display_data"
    },
    {
     "data": {
      "application/vnd.jupyter.widget-view+json": {
       "model_id": "fe847ce240d3409dbaeab1028c41bcc8",
       "version_major": 2,
       "version_minor": 0
      },
      "text/plain": [
       "  0%|          | 0/1 [00:00<?, ?it/s]"
      ]
     },
     "metadata": {},
     "output_type": "display_data"
    },
    {
     "data": {
      "application/vnd.jupyter.widget-view+json": {
       "model_id": "a969d481c1e04bf48f73356e6a7f6d04",
       "version_major": 2,
       "version_minor": 0
      },
      "text/plain": [
       "  0%|          | 0/1 [00:00<?, ?it/s]"
      ]
     },
     "metadata": {},
     "output_type": "display_data"
    },
    {
     "data": {
      "application/vnd.jupyter.widget-view+json": {
       "model_id": "9e222db8befc49de94faf117af2aec0a",
       "version_major": 2,
       "version_minor": 0
      },
      "text/plain": [
       "  0%|          | 0/1 [00:00<?, ?it/s]"
      ]
     },
     "metadata": {},
     "output_type": "display_data"
    },
    {
     "name": "stdout",
     "output_type": "stream",
     "text": [
      "Epoch number:49 Loss: 0.1795\n"
     ]
    },
    {
     "data": {
      "application/vnd.jupyter.widget-view+json": {
       "model_id": "a0e13d5dff884e8f8de3cd29bf84c8e4",
       "version_major": 2,
       "version_minor": 0
      },
      "text/plain": [
       "  0%|          | 0/1 [00:00<?, ?it/s]"
      ]
     },
     "metadata": {},
     "output_type": "display_data"
    },
    {
     "data": {
      "application/vnd.jupyter.widget-view+json": {
       "model_id": "90b31f5336f748ebadc03f54bd708f3d",
       "version_major": 2,
       "version_minor": 0
      },
      "text/plain": [
       "  0%|          | 0/1 [00:00<?, ?it/s]"
      ]
     },
     "metadata": {},
     "output_type": "display_data"
    },
    {
     "data": {
      "application/vnd.jupyter.widget-view+json": {
       "model_id": "f77c36b6344b4b619d306d30d729a9ec",
       "version_major": 2,
       "version_minor": 0
      },
      "text/plain": [
       "  0%|          | 0/1 [00:00<?, ?it/s]"
      ]
     },
     "metadata": {},
     "output_type": "display_data"
    },
    {
     "data": {
      "application/vnd.jupyter.widget-view+json": {
       "model_id": "e31fce17d52f4f188577f541b515f347",
       "version_major": 2,
       "version_minor": 0
      },
      "text/plain": [
       "  0%|          | 0/1 [00:00<?, ?it/s]"
      ]
     },
     "metadata": {},
     "output_type": "display_data"
    },
    {
     "data": {
      "application/vnd.jupyter.widget-view+json": {
       "model_id": "66a81b6d8cf34b42a6290245f571db32",
       "version_major": 2,
       "version_minor": 0
      },
      "text/plain": [
       "  0%|          | 0/1 [00:00<?, ?it/s]"
      ]
     },
     "metadata": {},
     "output_type": "display_data"
    },
    {
     "data": {
      "application/vnd.jupyter.widget-view+json": {
       "model_id": "50e10c8a4b0d49a089f59d48b8c9e212",
       "version_major": 2,
       "version_minor": 0
      },
      "text/plain": [
       "  0%|          | 0/1 [00:00<?, ?it/s]"
      ]
     },
     "metadata": {},
     "output_type": "display_data"
    },
    {
     "data": {
      "application/vnd.jupyter.widget-view+json": {
       "model_id": "b5c8ec7e6ad74e9c8a49dc4322808f66",
       "version_major": 2,
       "version_minor": 0
      },
      "text/plain": [
       "  0%|          | 0/1 [00:00<?, ?it/s]"
      ]
     },
     "metadata": {},
     "output_type": "display_data"
    },
    {
     "data": {
      "application/vnd.jupyter.widget-view+json": {
       "model_id": "364ce648c1714f9bab0140fbb9d05d91",
       "version_major": 2,
       "version_minor": 0
      },
      "text/plain": [
       "  0%|          | 0/1 [00:00<?, ?it/s]"
      ]
     },
     "metadata": {},
     "output_type": "display_data"
    },
    {
     "data": {
      "application/vnd.jupyter.widget-view+json": {
       "model_id": "2facacfccbd945d8a0a0b2d5bff702f3",
       "version_major": 2,
       "version_minor": 0
      },
      "text/plain": [
       "  0%|          | 0/1 [00:00<?, ?it/s]"
      ]
     },
     "metadata": {},
     "output_type": "display_data"
    },
    {
     "data": {
      "application/vnd.jupyter.widget-view+json": {
       "model_id": "a23443d43050457d8f6ced4b3f77eecc",
       "version_major": 2,
       "version_minor": 0
      },
      "text/plain": [
       "  0%|          | 0/1 [00:00<?, ?it/s]"
      ]
     },
     "metadata": {},
     "output_type": "display_data"
    },
    {
     "name": "stdout",
     "output_type": "stream",
     "text": [
      "Epoch number:59 Loss: 0.1720\n"
     ]
    },
    {
     "data": {
      "application/vnd.jupyter.widget-view+json": {
       "model_id": "d5f1475e74e341cdba76d0597031e3f0",
       "version_major": 2,
       "version_minor": 0
      },
      "text/plain": [
       "  0%|          | 0/1 [00:00<?, ?it/s]"
      ]
     },
     "metadata": {},
     "output_type": "display_data"
    },
    {
     "data": {
      "application/vnd.jupyter.widget-view+json": {
       "model_id": "28f399ef932143d9a3f423313e38a4fd",
       "version_major": 2,
       "version_minor": 0
      },
      "text/plain": [
       "  0%|          | 0/1 [00:00<?, ?it/s]"
      ]
     },
     "metadata": {},
     "output_type": "display_data"
    },
    {
     "data": {
      "application/vnd.jupyter.widget-view+json": {
       "model_id": "7defc5aa765c48be90311012a5e58f9e",
       "version_major": 2,
       "version_minor": 0
      },
      "text/plain": [
       "  0%|          | 0/1 [00:00<?, ?it/s]"
      ]
     },
     "metadata": {},
     "output_type": "display_data"
    },
    {
     "data": {
      "application/vnd.jupyter.widget-view+json": {
       "model_id": "606e840d442045c59f292d8d532c9d76",
       "version_major": 2,
       "version_minor": 0
      },
      "text/plain": [
       "  0%|          | 0/1 [00:00<?, ?it/s]"
      ]
     },
     "metadata": {},
     "output_type": "display_data"
    },
    {
     "data": {
      "application/vnd.jupyter.widget-view+json": {
       "model_id": "23188eebf94d43798be6cf730817b0cf",
       "version_major": 2,
       "version_minor": 0
      },
      "text/plain": [
       "  0%|          | 0/1 [00:00<?, ?it/s]"
      ]
     },
     "metadata": {},
     "output_type": "display_data"
    },
    {
     "data": {
      "application/vnd.jupyter.widget-view+json": {
       "model_id": "5c48c4a328354b189658a6aed92e341c",
       "version_major": 2,
       "version_minor": 0
      },
      "text/plain": [
       "  0%|          | 0/1 [00:00<?, ?it/s]"
      ]
     },
     "metadata": {},
     "output_type": "display_data"
    },
    {
     "data": {
      "application/vnd.jupyter.widget-view+json": {
       "model_id": "cc17802c09d84429a2e1588f768e5e43",
       "version_major": 2,
       "version_minor": 0
      },
      "text/plain": [
       "  0%|          | 0/1 [00:00<?, ?it/s]"
      ]
     },
     "metadata": {},
     "output_type": "display_data"
    },
    {
     "data": {
      "application/vnd.jupyter.widget-view+json": {
       "model_id": "36a13f352070430ba48c81cdd774cebe",
       "version_major": 2,
       "version_minor": 0
      },
      "text/plain": [
       "  0%|          | 0/1 [00:00<?, ?it/s]"
      ]
     },
     "metadata": {},
     "output_type": "display_data"
    },
    {
     "data": {
      "application/vnd.jupyter.widget-view+json": {
       "model_id": "652301081a2841d7923e80793ddf7e34",
       "version_major": 2,
       "version_minor": 0
      },
      "text/plain": [
       "  0%|          | 0/1 [00:00<?, ?it/s]"
      ]
     },
     "metadata": {},
     "output_type": "display_data"
    },
    {
     "data": {
      "application/vnd.jupyter.widget-view+json": {
       "model_id": "5bb04f94563a4dbcbe01149620b76a6e",
       "version_major": 2,
       "version_minor": 0
      },
      "text/plain": [
       "  0%|          | 0/1 [00:00<?, ?it/s]"
      ]
     },
     "metadata": {},
     "output_type": "display_data"
    },
    {
     "name": "stdout",
     "output_type": "stream",
     "text": [
      "Epoch number:69 Loss: 0.1648\n"
     ]
    },
    {
     "data": {
      "application/vnd.jupyter.widget-view+json": {
       "model_id": "ef69ddc0215d44a1ab4bb4220a635d3b",
       "version_major": 2,
       "version_minor": 0
      },
      "text/plain": [
       "  0%|          | 0/1 [00:00<?, ?it/s]"
      ]
     },
     "metadata": {},
     "output_type": "display_data"
    },
    {
     "data": {
      "application/vnd.jupyter.widget-view+json": {
       "model_id": "b765f07c2daa4ec8985e0fae839949f7",
       "version_major": 2,
       "version_minor": 0
      },
      "text/plain": [
       "  0%|          | 0/1 [00:00<?, ?it/s]"
      ]
     },
     "metadata": {},
     "output_type": "display_data"
    },
    {
     "data": {
      "application/vnd.jupyter.widget-view+json": {
       "model_id": "b7d8df8082e84ad8aed2dd2349e85a4c",
       "version_major": 2,
       "version_minor": 0
      },
      "text/plain": [
       "  0%|          | 0/1 [00:00<?, ?it/s]"
      ]
     },
     "metadata": {},
     "output_type": "display_data"
    },
    {
     "data": {
      "application/vnd.jupyter.widget-view+json": {
       "model_id": "8a193152c42c4c69abdccbdd3ffbba6a",
       "version_major": 2,
       "version_minor": 0
      },
      "text/plain": [
       "  0%|          | 0/1 [00:00<?, ?it/s]"
      ]
     },
     "metadata": {},
     "output_type": "display_data"
    },
    {
     "data": {
      "application/vnd.jupyter.widget-view+json": {
       "model_id": "2cc45d2c29ae4e3c8e77f63a297f2d9e",
       "version_major": 2,
       "version_minor": 0
      },
      "text/plain": [
       "  0%|          | 0/1 [00:00<?, ?it/s]"
      ]
     },
     "metadata": {},
     "output_type": "display_data"
    },
    {
     "data": {
      "application/vnd.jupyter.widget-view+json": {
       "model_id": "9bbe518c4a6d43b2a7625265f7a79a72",
       "version_major": 2,
       "version_minor": 0
      },
      "text/plain": [
       "  0%|          | 0/1 [00:00<?, ?it/s]"
      ]
     },
     "metadata": {},
     "output_type": "display_data"
    },
    {
     "data": {
      "application/vnd.jupyter.widget-view+json": {
       "model_id": "eaa711a8614c4e6491bd88d922840545",
       "version_major": 2,
       "version_minor": 0
      },
      "text/plain": [
       "  0%|          | 0/1 [00:00<?, ?it/s]"
      ]
     },
     "metadata": {},
     "output_type": "display_data"
    },
    {
     "data": {
      "application/vnd.jupyter.widget-view+json": {
       "model_id": "fa8c3cdb47344800a3730d22c75c7524",
       "version_major": 2,
       "version_minor": 0
      },
      "text/plain": [
       "  0%|          | 0/1 [00:00<?, ?it/s]"
      ]
     },
     "metadata": {},
     "output_type": "display_data"
    },
    {
     "data": {
      "application/vnd.jupyter.widget-view+json": {
       "model_id": "f140eb34e0fc4ebeb9cdd7b6786b77ea",
       "version_major": 2,
       "version_minor": 0
      },
      "text/plain": [
       "  0%|          | 0/1 [00:00<?, ?it/s]"
      ]
     },
     "metadata": {},
     "output_type": "display_data"
    },
    {
     "data": {
      "application/vnd.jupyter.widget-view+json": {
       "model_id": "e14235cb3e134e39b85ca697915871c1",
       "version_major": 2,
       "version_minor": 0
      },
      "text/plain": [
       "  0%|          | 0/1 [00:00<?, ?it/s]"
      ]
     },
     "metadata": {},
     "output_type": "display_data"
    },
    {
     "name": "stdout",
     "output_type": "stream",
     "text": [
      "Epoch number:79 Loss: 0.1609\n"
     ]
    },
    {
     "data": {
      "application/vnd.jupyter.widget-view+json": {
       "model_id": "438f8018d3344b8891d229f30c702694",
       "version_major": 2,
       "version_minor": 0
      },
      "text/plain": [
       "  0%|          | 0/1 [00:00<?, ?it/s]"
      ]
     },
     "metadata": {},
     "output_type": "display_data"
    },
    {
     "data": {
      "application/vnd.jupyter.widget-view+json": {
       "model_id": "b69fa1265d674a169edcefec75fcd087",
       "version_major": 2,
       "version_minor": 0
      },
      "text/plain": [
       "  0%|          | 0/1 [00:00<?, ?it/s]"
      ]
     },
     "metadata": {},
     "output_type": "display_data"
    },
    {
     "data": {
      "application/vnd.jupyter.widget-view+json": {
       "model_id": "a2bf9687ba894cc783f9e261b950a622",
       "version_major": 2,
       "version_minor": 0
      },
      "text/plain": [
       "  0%|          | 0/1 [00:00<?, ?it/s]"
      ]
     },
     "metadata": {},
     "output_type": "display_data"
    },
    {
     "data": {
      "application/vnd.jupyter.widget-view+json": {
       "model_id": "6f4f5cae464f479a84772897bd939a9f",
       "version_major": 2,
       "version_minor": 0
      },
      "text/plain": [
       "  0%|          | 0/1 [00:00<?, ?it/s]"
      ]
     },
     "metadata": {},
     "output_type": "display_data"
    },
    {
     "data": {
      "application/vnd.jupyter.widget-view+json": {
       "model_id": "276d919aeeb847e7b1fad55e9e4c4e22",
       "version_major": 2,
       "version_minor": 0
      },
      "text/plain": [
       "  0%|          | 0/1 [00:00<?, ?it/s]"
      ]
     },
     "metadata": {},
     "output_type": "display_data"
    },
    {
     "data": {
      "application/vnd.jupyter.widget-view+json": {
       "model_id": "d29912c232384b80b30e448e433e8a98",
       "version_major": 2,
       "version_minor": 0
      },
      "text/plain": [
       "  0%|          | 0/1 [00:00<?, ?it/s]"
      ]
     },
     "metadata": {},
     "output_type": "display_data"
    },
    {
     "data": {
      "application/vnd.jupyter.widget-view+json": {
       "model_id": "999e921d01d542ff9ec1427d767aec47",
       "version_major": 2,
       "version_minor": 0
      },
      "text/plain": [
       "  0%|          | 0/1 [00:00<?, ?it/s]"
      ]
     },
     "metadata": {},
     "output_type": "display_data"
    },
    {
     "data": {
      "application/vnd.jupyter.widget-view+json": {
       "model_id": "ebd8daa3cd7245bd948d7cad11caa04d",
       "version_major": 2,
       "version_minor": 0
      },
      "text/plain": [
       "  0%|          | 0/1 [00:00<?, ?it/s]"
      ]
     },
     "metadata": {},
     "output_type": "display_data"
    },
    {
     "data": {
      "application/vnd.jupyter.widget-view+json": {
       "model_id": "85057f99c62e41a4b85e02c41c65aba3",
       "version_major": 2,
       "version_minor": 0
      },
      "text/plain": [
       "  0%|          | 0/1 [00:00<?, ?it/s]"
      ]
     },
     "metadata": {},
     "output_type": "display_data"
    },
    {
     "data": {
      "application/vnd.jupyter.widget-view+json": {
       "model_id": "7dfd24fe647740ee8c0f8cbc1f3157ae",
       "version_major": 2,
       "version_minor": 0
      },
      "text/plain": [
       "  0%|          | 0/1 [00:00<?, ?it/s]"
      ]
     },
     "metadata": {},
     "output_type": "display_data"
    },
    {
     "name": "stdout",
     "output_type": "stream",
     "text": [
      "Epoch number:89 Loss: 0.1571\n"
     ]
    },
    {
     "data": {
      "application/vnd.jupyter.widget-view+json": {
       "model_id": "ab4deaea71fd4bab9701e03a5d16fd82",
       "version_major": 2,
       "version_minor": 0
      },
      "text/plain": [
       "  0%|          | 0/1 [00:00<?, ?it/s]"
      ]
     },
     "metadata": {},
     "output_type": "display_data"
    },
    {
     "data": {
      "application/vnd.jupyter.widget-view+json": {
       "model_id": "711f70461d68449b9d038a50421f493f",
       "version_major": 2,
       "version_minor": 0
      },
      "text/plain": [
       "  0%|          | 0/1 [00:00<?, ?it/s]"
      ]
     },
     "metadata": {},
     "output_type": "display_data"
    },
    {
     "data": {
      "application/vnd.jupyter.widget-view+json": {
       "model_id": "2974838fa494482ea0a6bf367fe48dd4",
       "version_major": 2,
       "version_minor": 0
      },
      "text/plain": [
       "  0%|          | 0/1 [00:00<?, ?it/s]"
      ]
     },
     "metadata": {},
     "output_type": "display_data"
    },
    {
     "data": {
      "application/vnd.jupyter.widget-view+json": {
       "model_id": "614863fc0bc644a9b383e866666f3714",
       "version_major": 2,
       "version_minor": 0
      },
      "text/plain": [
       "  0%|          | 0/1 [00:00<?, ?it/s]"
      ]
     },
     "metadata": {},
     "output_type": "display_data"
    },
    {
     "data": {
      "application/vnd.jupyter.widget-view+json": {
       "model_id": "57e697e9239c4b55aa57ac6f3715ef50",
       "version_major": 2,
       "version_minor": 0
      },
      "text/plain": [
       "  0%|          | 0/1 [00:00<?, ?it/s]"
      ]
     },
     "metadata": {},
     "output_type": "display_data"
    },
    {
     "data": {
      "application/vnd.jupyter.widget-view+json": {
       "model_id": "2a5690a352d64e1f9cdc751f7bc71474",
       "version_major": 2,
       "version_minor": 0
      },
      "text/plain": [
       "  0%|          | 0/1 [00:00<?, ?it/s]"
      ]
     },
     "metadata": {},
     "output_type": "display_data"
    },
    {
     "data": {
      "application/vnd.jupyter.widget-view+json": {
       "model_id": "c5381e1083ec456d9f3510ce3813a381",
       "version_major": 2,
       "version_minor": 0
      },
      "text/plain": [
       "  0%|          | 0/1 [00:00<?, ?it/s]"
      ]
     },
     "metadata": {},
     "output_type": "display_data"
    },
    {
     "data": {
      "application/vnd.jupyter.widget-view+json": {
       "model_id": "baf4665b134d440daf7e053338595146",
       "version_major": 2,
       "version_minor": 0
      },
      "text/plain": [
       "  0%|          | 0/1 [00:00<?, ?it/s]"
      ]
     },
     "metadata": {},
     "output_type": "display_data"
    },
    {
     "data": {
      "application/vnd.jupyter.widget-view+json": {
       "model_id": "87297fe64eba4246b19548f825017499",
       "version_major": 2,
       "version_minor": 0
      },
      "text/plain": [
       "  0%|          | 0/1 [00:00<?, ?it/s]"
      ]
     },
     "metadata": {},
     "output_type": "display_data"
    },
    {
     "data": {
      "application/vnd.jupyter.widget-view+json": {
       "model_id": "364feb594ba54b5f8d8bfd4081c24592",
       "version_major": 2,
       "version_minor": 0
      },
      "text/plain": [
       "  0%|          | 0/1 [00:00<?, ?it/s]"
      ]
     },
     "metadata": {},
     "output_type": "display_data"
    },
    {
     "name": "stdout",
     "output_type": "stream",
     "text": [
      "Epoch number:99 Loss: 0.1528\n"
     ]
    },
    {
     "data": {
      "application/vnd.jupyter.widget-view+json": {
       "model_id": "6c08257f0fdf4e6694e1d001dbb4c1bc",
       "version_major": 2,
       "version_minor": 0
      },
      "text/plain": [
       "  0%|          | 0/1 [00:00<?, ?it/s]"
      ]
     },
     "metadata": {},
     "output_type": "display_data"
    },
    {
     "name": "stdout",
     "output_type": "stream",
     "text": [
      "tensor([ 0.5365,  0.3784,  0.5342,  0.1683,  0.2427,  0.3741,  0.3313,  0.4336,\n",
      "         0.7427,  0.3046,  0.7739,  0.2220,  0.2630,  0.2519,  0.2710,  0.3038,\n",
      "         0.5603,  0.5336,  0.0549,  0.3941,  0.1812,  0.1251, -0.0105,  0.1265,\n",
      "         0.3204,  0.3826,  0.0578,  0.6774,  0.0214,  0.2328,  0.3158,  0.3660,\n",
      "         0.2763,  0.5922,  0.0383,  0.3908,  0.2038,  0.4557,  0.2152,  0.2864,\n",
      "         0.1755,  0.2693,  0.2705,  0.3373,  0.1088,  0.2213,  0.2519,  0.3942,\n",
      "         0.4040,  0.9520,  0.1151,  0.3988,  0.3411,  0.3407,  0.6315,  0.3061,\n",
      "         0.3479,  0.4430,  0.3114,  0.2675,  0.2188,  0.6854,  0.2812,  0.1948,\n",
      "         0.2976,  0.4376,  0.1208,  0.4827,  0.5553,  0.3528,  0.0726,  0.0384,\n",
      "         0.2986,  0.2554,  0.2283,  0.4059, -0.0652,  0.1231,  0.4731,  0.3273,\n",
      "         0.2407,  0.5784,  0.2692,  0.2415,  0.9370,  0.2888,  0.3881,  0.0536,\n",
      "         0.0223,  0.2291,  0.2763,  0.3595,  0.1129,  0.3929,  0.1618,  0.1620,\n",
      "         0.2287,  0.6484,  0.0281,  0.2245,  0.1336,  0.6910,  0.1602,  0.3051,\n",
      "         0.3537,  0.2389,  0.3010,  0.4055,  0.2996,  0.1066,  0.3134,  0.0252,\n",
      "         0.0062,  0.3633,  0.2485,  0.2566,  0.4920,  0.2911,  0.1220,  0.1650,\n",
      "         0.1358,  0.4527,  0.4554,  0.3452,  0.2069,  0.7923,  0.3762,  0.1256,\n",
      "         0.1228,  0.2660,  0.5134,  0.4575,  0.0221,  0.3128,  0.2909,  0.2078,\n",
      "         0.4676,  0.3361,  0.2142,  0.3470,  0.7841,  0.5330,  0.4705,  0.4762,\n",
      "         0.1892,  0.1945,  0.3071,  0.5690])\n",
      "tensor([0.6412, 0.4683, 0.6269, 0.1227, 0.2882, 0.0000, 0.4132, 0.4128, 0.5300,\n",
      "        0.7264, 0.7199, 0.4227, 0.0380, 0.2689, 0.3217, 0.2542, 0.5474, 0.5151,\n",
      "        0.0289, 0.4579, 0.2857, 0.0015, 0.0692, 0.1180, 0.2807, 0.3340, 0.0000,\n",
      "        0.6103, 0.0451, 0.2857, 0.3150, 0.3580, 0.3075, 0.7500, 0.2143, 0.5179,\n",
      "        0.1775, 0.6757, 0.3513, 0.2029, 0.0953, 0.0896, 0.3125, 0.2968, 0.1093,\n",
      "        0.0980, 0.2689, 0.5000, 0.0000, 1.0000, 0.2263, 0.4459, 0.3795, 0.0000,\n",
      "        0.7667, 0.3915, 0.4286, 0.9604, 0.3705, 0.3636, 0.2565, 1.0000, 0.3010,\n",
      "        0.0000, 0.3040, 0.1560, 0.0288, 0.5000, 0.5000, 0.5526, 0.0116, 0.0000,\n",
      "        0.2368, 0.2473, 0.0631, 0.4459, 0.0000, 0.0157, 0.2825, 0.2848, 0.2354,\n",
      "        0.6548, 0.1195, 0.1260, 0.8768, 0.1302, 1.0000, 0.0250, 0.0000, 0.0631,\n",
      "        0.1058, 0.3639, 0.0230, 0.0000, 0.1340, 0.0853, 0.1343, 0.4306, 0.2049,\n",
      "        0.0782, 0.0816, 0.8885, 0.1455, 0.1710, 0.4259, 0.3176, 0.4749, 0.2901,\n",
      "        0.2568, 0.0279, 0.2204, 0.0451, 0.1162, 0.3885, 0.2271, 0.2454, 0.6299,\n",
      "        0.3631, 0.0204, 0.0354, 0.0000, 0.4087, 0.5047, 0.3437, 0.3029, 0.7708,\n",
      "        0.3728, 0.0197, 0.0222, 0.3201, 0.6269, 0.7830, 0.0422, 0.1270, 0.1869,\n",
      "        0.1575, 1.0000, 0.4947, 0.2681, 0.4106, 0.7257, 0.3918, 0.4247, 0.5173,\n",
      "        0.3320, 0.3320, 0.3594, 0.6269], dtype=torch.float64)\n"
     ]
    }
   ],
   "source": [
    "trainset = dataset_module.DataSetForImputation(train_df, normalize=True)  #normalize True for [0,1] normalization for dataframe\n",
    "print(len(trainset))\n",
    "testset = dataset_module.DataSetForImputation(test_df, normalize=True)\n",
    "print(len(testset))\n",
    "\n",
    "net = Modelling.DenoisingAutoEncoder(len(trainset.variables()), theta = 7, input_dropout=0.5)\n",
    "criterion = nn.MSELoss()\n",
    "net = net.to(device) \n",
    "\n",
    "train_loader = td.DataLoader(trainset, batch_size=BATCH_SIZE, shuffle=True, **{})\n",
    "val_loader = td.DataLoader(testset, batch_size=BATCH_SIZE, shuffle=True, **{})\n",
    "\n",
    "optimizer = Adam(net.parameters(), lr = LR)\n",
    "\n",
    "LOG_INTERVAL = 10\n",
    "SAVE_INTERVAL = 50\n",
    "torch.set_printoptions(sci_mode=False)\n",
    "\n",
    "\n",
    "train_model(0,101, net, model_name, train_loader=train_loader, val_loader=val_loader)\n",
    "\n",
    "net = net.eval()\n",
    "print((net(trainset[0][0]).detach()))\n",
    "print(trainset[0][0])\n",
    "\n",
    "net = net.eval()"
   ]
  },
  {
   "cell_type": "code",
   "execution_count": 25,
   "metadata": {},
   "outputs": [
    {
     "name": "stdout",
     "output_type": "stream",
     "text": [
      "(289, 149)\n",
      "(289, 103)\n"
     ]
    },
    {
     "data": {
      "text/plain": [
       "(289, 251)"
      ]
     },
     "execution_count": 25,
     "metadata": {},
     "output_type": "execute_result"
    }
   ],
   "source": [
    "fill_test_df= test_model(net=net, test_df=test_df, trainset=trainset, device=device,logger_level=20)\n",
    "fill_test_df['Key'] = test_df_Key.reset_index(drop=True)\n",
    "train_df['Key'] = train_df_Key\n",
    "\n",
    "m_df = pd.concat([fill_test_df, train_df])\n",
    "print(m_df.shape)\n",
    "\n",
    "ls = ['Key']\n",
    "\n",
    "for i in df1.columns:\n",
    "        if i not in m_df.columns: # SP + Neuropsychology 외의 피처\n",
    "            ls.append(i)\n",
    "\n",
    "the_others = df[ls]\n",
    "print(the_others.shape)\n",
    "\n",
    "df1=pd.merge(m_df,the_others, how='outer',on='Key')\n",
    "df1.shape"
   ]
  },
  {
   "cell_type": "code",
   "execution_count": null,
   "metadata": {},
   "outputs": [],
   "source": [
    "df1 = df1[list(df.drop('cutoff',axis=1).columns)]"
   ]
  },
  {
   "cell_type": "markdown",
   "metadata": {},
   "source": [
    "# PD"
   ]
  },
  {
   "cell_type": "code",
   "execution_count": 28,
   "metadata": {},
   "outputs": [
    {
     "name": "stdout",
     "output_type": "stream",
     "text": [
      "(289, 170)\n",
      "(101, 170)\n",
      "(188, 170)\n"
     ]
    }
   ],
   "source": [
    "# PD 결측치처리\n",
    "nonan_merge = df1.dropna(axis=1)\n",
    "ls = []\n",
    "for i in df1.columns:\n",
    "    if 'PD' in i:\n",
    "        ls.append(i)\n",
    "\n",
    "for c in nonan_merge.columns:\n",
    "    ls.append(c)\n",
    "ls=list(set(ls))\n",
    "\n",
    "m_df = df1[ls]\n",
    "print(m_df.shape)\n",
    "train_df = m_df.dropna(axis=0)\n",
    "print(train_df.shape)\n",
    "\n",
    "loc_list = []\n",
    "for i in range(len(m_df)):\n",
    "    if m_df.loc[i].isnull().any() == True:\n",
    "        loc_list.append(i)\n",
    "test_df = m_df.loc[loc_list]\n",
    "print(test_df.shape)\n",
    "\n",
    "train_df_Key = train_df['Key']\n",
    "test_df_Key = test_df['Key']\n",
    "train_df= train_df.drop('Key',axis=1)\n",
    "test_df= test_df.drop('Key',axis=1)\n"
   ]
  },
  {
   "cell_type": "code",
   "execution_count": 29,
   "metadata": {},
   "outputs": [
    {
     "name": "stdout",
     "output_type": "stream",
     "text": [
      "101\n",
      "188\n"
     ]
    },
    {
     "name": "stderr",
     "output_type": "stream",
     "text": [
      "c:\\Users\\hOMe_pc\\Anaconda3\\envs\\AIS_mrcnn\\lib\\site-packages\\ipykernel_launcher.py:10: TqdmDeprecationWarning: This function will be removed in tqdm==5.0.0\n",
      "Please use `tqdm.notebook.tqdm` instead of `tqdm.tqdm_notebook`\n",
      "  # Remove the CWD from sys.path while we load stuff.\n"
     ]
    },
    {
     "data": {
      "application/vnd.jupyter.widget-view+json": {
       "model_id": "5d8033af65fa4fb2804bd3b8a7c62fd8",
       "version_major": 2,
       "version_minor": 0
      },
      "text/plain": [
       "  0%|          | 0/101 [00:00<?, ?it/s]"
      ]
     },
     "metadata": {},
     "output_type": "display_data"
    },
    {
     "name": "stderr",
     "output_type": "stream",
     "text": [
      "c:\\Users\\hOMe_pc\\Anaconda3\\envs\\AIS_mrcnn\\lib\\site-packages\\ipykernel_launcher.py:15: TqdmDeprecationWarning: This function will be removed in tqdm==5.0.0\n",
      "Please use `tqdm.notebook.tqdm` instead of `tqdm.tqdm_notebook`\n",
      "  from ipykernel import kernelapp as app\n"
     ]
    },
    {
     "data": {
      "application/vnd.jupyter.widget-view+json": {
       "model_id": "8a46e4e61daa401b8920c1d8b8ff3da8",
       "version_major": 2,
       "version_minor": 0
      },
      "text/plain": [
       "  0%|          | 0/1 [00:00<?, ?it/s]"
      ]
     },
     "metadata": {},
     "output_type": "display_data"
    },
    {
     "data": {
      "application/vnd.jupyter.widget-view+json": {
       "model_id": "6c1247c3a15f4d93adcfd6b3c125d279",
       "version_major": 2,
       "version_minor": 0
      },
      "text/plain": [
       "  0%|          | 0/1 [00:00<?, ?it/s]"
      ]
     },
     "metadata": {},
     "output_type": "display_data"
    },
    {
     "data": {
      "application/vnd.jupyter.widget-view+json": {
       "model_id": "f090cad93ee243c78ebad9ddff6f545f",
       "version_major": 2,
       "version_minor": 0
      },
      "text/plain": [
       "  0%|          | 0/1 [00:00<?, ?it/s]"
      ]
     },
     "metadata": {},
     "output_type": "display_data"
    },
    {
     "data": {
      "application/vnd.jupyter.widget-view+json": {
       "model_id": "eca45d9ea79049729762a83af13cd318",
       "version_major": 2,
       "version_minor": 0
      },
      "text/plain": [
       "  0%|          | 0/1 [00:00<?, ?it/s]"
      ]
     },
     "metadata": {},
     "output_type": "display_data"
    },
    {
     "data": {
      "application/vnd.jupyter.widget-view+json": {
       "model_id": "c650aec22d58478881d62a3255d9cfbc",
       "version_major": 2,
       "version_minor": 0
      },
      "text/plain": [
       "  0%|          | 0/1 [00:00<?, ?it/s]"
      ]
     },
     "metadata": {},
     "output_type": "display_data"
    },
    {
     "data": {
      "application/vnd.jupyter.widget-view+json": {
       "model_id": "3c2772cf37344f008c983faa619d7661",
       "version_major": 2,
       "version_minor": 0
      },
      "text/plain": [
       "  0%|          | 0/1 [00:00<?, ?it/s]"
      ]
     },
     "metadata": {},
     "output_type": "display_data"
    },
    {
     "data": {
      "application/vnd.jupyter.widget-view+json": {
       "model_id": "453f26deffa74c8d8cc5884375ff5901",
       "version_major": 2,
       "version_minor": 0
      },
      "text/plain": [
       "  0%|          | 0/1 [00:00<?, ?it/s]"
      ]
     },
     "metadata": {},
     "output_type": "display_data"
    },
    {
     "data": {
      "application/vnd.jupyter.widget-view+json": {
       "model_id": "29436bf9eb044f0f91284bd839d08181",
       "version_major": 2,
       "version_minor": 0
      },
      "text/plain": [
       "  0%|          | 0/1 [00:00<?, ?it/s]"
      ]
     },
     "metadata": {},
     "output_type": "display_data"
    },
    {
     "data": {
      "application/vnd.jupyter.widget-view+json": {
       "model_id": "4386d90f3abf41748c5cdcbd1e3b6355",
       "version_major": 2,
       "version_minor": 0
      },
      "text/plain": [
       "  0%|          | 0/1 [00:00<?, ?it/s]"
      ]
     },
     "metadata": {},
     "output_type": "display_data"
    },
    {
     "data": {
      "application/vnd.jupyter.widget-view+json": {
       "model_id": "2385c12332674debadd1a64bf0dca2c1",
       "version_major": 2,
       "version_minor": 0
      },
      "text/plain": [
       "  0%|          | 0/1 [00:00<?, ?it/s]"
      ]
     },
     "metadata": {},
     "output_type": "display_data"
    },
    {
     "name": "stdout",
     "output_type": "stream",
     "text": [
      "Epoch number:9 Loss: 0.1984\n"
     ]
    },
    {
     "data": {
      "application/vnd.jupyter.widget-view+json": {
       "model_id": "499cab213d2743f09b85fa742da98718",
       "version_major": 2,
       "version_minor": 0
      },
      "text/plain": [
       "  0%|          | 0/1 [00:00<?, ?it/s]"
      ]
     },
     "metadata": {},
     "output_type": "display_data"
    },
    {
     "data": {
      "application/vnd.jupyter.widget-view+json": {
       "model_id": "99eccf8fbf5d457dbbe043a5db679432",
       "version_major": 2,
       "version_minor": 0
      },
      "text/plain": [
       "  0%|          | 0/1 [00:00<?, ?it/s]"
      ]
     },
     "metadata": {},
     "output_type": "display_data"
    },
    {
     "data": {
      "application/vnd.jupyter.widget-view+json": {
       "model_id": "bb88a83c52e74dda8b832671f211b8d0",
       "version_major": 2,
       "version_minor": 0
      },
      "text/plain": [
       "  0%|          | 0/1 [00:00<?, ?it/s]"
      ]
     },
     "metadata": {},
     "output_type": "display_data"
    },
    {
     "data": {
      "application/vnd.jupyter.widget-view+json": {
       "model_id": "81d0ae4fca94462aa320525196ae5f68",
       "version_major": 2,
       "version_minor": 0
      },
      "text/plain": [
       "  0%|          | 0/1 [00:00<?, ?it/s]"
      ]
     },
     "metadata": {},
     "output_type": "display_data"
    },
    {
     "data": {
      "application/vnd.jupyter.widget-view+json": {
       "model_id": "3d3a990f8be248fc900b2bd638e2030d",
       "version_major": 2,
       "version_minor": 0
      },
      "text/plain": [
       "  0%|          | 0/1 [00:00<?, ?it/s]"
      ]
     },
     "metadata": {},
     "output_type": "display_data"
    },
    {
     "data": {
      "application/vnd.jupyter.widget-view+json": {
       "model_id": "e84a83bec52d4f39b555996de9492f2a",
       "version_major": 2,
       "version_minor": 0
      },
      "text/plain": [
       "  0%|          | 0/1 [00:00<?, ?it/s]"
      ]
     },
     "metadata": {},
     "output_type": "display_data"
    },
    {
     "data": {
      "application/vnd.jupyter.widget-view+json": {
       "model_id": "845a97093fd74cefacdec1e779c044ce",
       "version_major": 2,
       "version_minor": 0
      },
      "text/plain": [
       "  0%|          | 0/1 [00:00<?, ?it/s]"
      ]
     },
     "metadata": {},
     "output_type": "display_data"
    },
    {
     "data": {
      "application/vnd.jupyter.widget-view+json": {
       "model_id": "3533c92ecc8c41f5ab16ae8cc4dbdc0c",
       "version_major": 2,
       "version_minor": 0
      },
      "text/plain": [
       "  0%|          | 0/1 [00:00<?, ?it/s]"
      ]
     },
     "metadata": {},
     "output_type": "display_data"
    },
    {
     "data": {
      "application/vnd.jupyter.widget-view+json": {
       "model_id": "6eab6e395c024c31bc8aed7f161cc1f2",
       "version_major": 2,
       "version_minor": 0
      },
      "text/plain": [
       "  0%|          | 0/1 [00:00<?, ?it/s]"
      ]
     },
     "metadata": {},
     "output_type": "display_data"
    },
    {
     "data": {
      "application/vnd.jupyter.widget-view+json": {
       "model_id": "07dd628a05484b3bbe25bc5fd8fdf7b0",
       "version_major": 2,
       "version_minor": 0
      },
      "text/plain": [
       "  0%|          | 0/1 [00:00<?, ?it/s]"
      ]
     },
     "metadata": {},
     "output_type": "display_data"
    },
    {
     "name": "stdout",
     "output_type": "stream",
     "text": [
      "Epoch number:19 Loss: 0.1841\n"
     ]
    },
    {
     "data": {
      "application/vnd.jupyter.widget-view+json": {
       "model_id": "342d330eff3b4423b9aa0e4e9af83c45",
       "version_major": 2,
       "version_minor": 0
      },
      "text/plain": [
       "  0%|          | 0/1 [00:00<?, ?it/s]"
      ]
     },
     "metadata": {},
     "output_type": "display_data"
    },
    {
     "data": {
      "application/vnd.jupyter.widget-view+json": {
       "model_id": "e2b7fbc88b3b447aa44964f8815a34fa",
       "version_major": 2,
       "version_minor": 0
      },
      "text/plain": [
       "  0%|          | 0/1 [00:00<?, ?it/s]"
      ]
     },
     "metadata": {},
     "output_type": "display_data"
    },
    {
     "data": {
      "application/vnd.jupyter.widget-view+json": {
       "model_id": "8fd20759a9344f988a487c49c55ca367",
       "version_major": 2,
       "version_minor": 0
      },
      "text/plain": [
       "  0%|          | 0/1 [00:00<?, ?it/s]"
      ]
     },
     "metadata": {},
     "output_type": "display_data"
    },
    {
     "data": {
      "application/vnd.jupyter.widget-view+json": {
       "model_id": "4de0fb2f98314fca9874dde9c75cc3ea",
       "version_major": 2,
       "version_minor": 0
      },
      "text/plain": [
       "  0%|          | 0/1 [00:00<?, ?it/s]"
      ]
     },
     "metadata": {},
     "output_type": "display_data"
    },
    {
     "data": {
      "application/vnd.jupyter.widget-view+json": {
       "model_id": "0fd07158fc6944e2b3b6109bfe28778c",
       "version_major": 2,
       "version_minor": 0
      },
      "text/plain": [
       "  0%|          | 0/1 [00:00<?, ?it/s]"
      ]
     },
     "metadata": {},
     "output_type": "display_data"
    },
    {
     "data": {
      "application/vnd.jupyter.widget-view+json": {
       "model_id": "18dd46a543a94f5390fb59e06b6bec49",
       "version_major": 2,
       "version_minor": 0
      },
      "text/plain": [
       "  0%|          | 0/1 [00:00<?, ?it/s]"
      ]
     },
     "metadata": {},
     "output_type": "display_data"
    },
    {
     "data": {
      "application/vnd.jupyter.widget-view+json": {
       "model_id": "953a1a05a3b1429182b48289e1848e85",
       "version_major": 2,
       "version_minor": 0
      },
      "text/plain": [
       "  0%|          | 0/1 [00:00<?, ?it/s]"
      ]
     },
     "metadata": {},
     "output_type": "display_data"
    },
    {
     "data": {
      "application/vnd.jupyter.widget-view+json": {
       "model_id": "3f55e362b4fb42d19967269a01fe7100",
       "version_major": 2,
       "version_minor": 0
      },
      "text/plain": [
       "  0%|          | 0/1 [00:00<?, ?it/s]"
      ]
     },
     "metadata": {},
     "output_type": "display_data"
    },
    {
     "data": {
      "application/vnd.jupyter.widget-view+json": {
       "model_id": "d851c5d030954c6791522c1947c05d4f",
       "version_major": 2,
       "version_minor": 0
      },
      "text/plain": [
       "  0%|          | 0/1 [00:00<?, ?it/s]"
      ]
     },
     "metadata": {},
     "output_type": "display_data"
    },
    {
     "data": {
      "application/vnd.jupyter.widget-view+json": {
       "model_id": "58348a661f6f4aea8915ed877f3e960b",
       "version_major": 2,
       "version_minor": 0
      },
      "text/plain": [
       "  0%|          | 0/1 [00:00<?, ?it/s]"
      ]
     },
     "metadata": {},
     "output_type": "display_data"
    },
    {
     "name": "stdout",
     "output_type": "stream",
     "text": [
      "Epoch number:29 Loss: 0.1754\n"
     ]
    },
    {
     "data": {
      "application/vnd.jupyter.widget-view+json": {
       "model_id": "e470a663e38f46208b21441cefffda2f",
       "version_major": 2,
       "version_minor": 0
      },
      "text/plain": [
       "  0%|          | 0/1 [00:00<?, ?it/s]"
      ]
     },
     "metadata": {},
     "output_type": "display_data"
    },
    {
     "data": {
      "application/vnd.jupyter.widget-view+json": {
       "model_id": "537c6b63a98844c29577e941bc3bd00a",
       "version_major": 2,
       "version_minor": 0
      },
      "text/plain": [
       "  0%|          | 0/1 [00:00<?, ?it/s]"
      ]
     },
     "metadata": {},
     "output_type": "display_data"
    },
    {
     "data": {
      "application/vnd.jupyter.widget-view+json": {
       "model_id": "38151b6e510542e39c01adbd384e8cdd",
       "version_major": 2,
       "version_minor": 0
      },
      "text/plain": [
       "  0%|          | 0/1 [00:00<?, ?it/s]"
      ]
     },
     "metadata": {},
     "output_type": "display_data"
    },
    {
     "data": {
      "application/vnd.jupyter.widget-view+json": {
       "model_id": "60e4896baa2049d29b46b12841690180",
       "version_major": 2,
       "version_minor": 0
      },
      "text/plain": [
       "  0%|          | 0/1 [00:00<?, ?it/s]"
      ]
     },
     "metadata": {},
     "output_type": "display_data"
    },
    {
     "data": {
      "application/vnd.jupyter.widget-view+json": {
       "model_id": "bae9332060c14c6d8c61dc0ddf6e9b0f",
       "version_major": 2,
       "version_minor": 0
      },
      "text/plain": [
       "  0%|          | 0/1 [00:00<?, ?it/s]"
      ]
     },
     "metadata": {},
     "output_type": "display_data"
    },
    {
     "data": {
      "application/vnd.jupyter.widget-view+json": {
       "model_id": "f430f158c4a743699d65e54e1457ef83",
       "version_major": 2,
       "version_minor": 0
      },
      "text/plain": [
       "  0%|          | 0/1 [00:00<?, ?it/s]"
      ]
     },
     "metadata": {},
     "output_type": "display_data"
    },
    {
     "data": {
      "application/vnd.jupyter.widget-view+json": {
       "model_id": "3b6a6793f9cf48adb6ffe205aba92e26",
       "version_major": 2,
       "version_minor": 0
      },
      "text/plain": [
       "  0%|          | 0/1 [00:00<?, ?it/s]"
      ]
     },
     "metadata": {},
     "output_type": "display_data"
    },
    {
     "data": {
      "application/vnd.jupyter.widget-view+json": {
       "model_id": "e1ee749296b64a22ba91b4b9c9a5df8d",
       "version_major": 2,
       "version_minor": 0
      },
      "text/plain": [
       "  0%|          | 0/1 [00:00<?, ?it/s]"
      ]
     },
     "metadata": {},
     "output_type": "display_data"
    },
    {
     "data": {
      "application/vnd.jupyter.widget-view+json": {
       "model_id": "2c5bd6fe690f420e9fa0e7da9edd2e68",
       "version_major": 2,
       "version_minor": 0
      },
      "text/plain": [
       "  0%|          | 0/1 [00:00<?, ?it/s]"
      ]
     },
     "metadata": {},
     "output_type": "display_data"
    },
    {
     "data": {
      "application/vnd.jupyter.widget-view+json": {
       "model_id": "8d45dbcfb191430b8414d520a60d9346",
       "version_major": 2,
       "version_minor": 0
      },
      "text/plain": [
       "  0%|          | 0/1 [00:00<?, ?it/s]"
      ]
     },
     "metadata": {},
     "output_type": "display_data"
    },
    {
     "name": "stdout",
     "output_type": "stream",
     "text": [
      "Epoch number:39 Loss: 0.1676\n"
     ]
    },
    {
     "data": {
      "application/vnd.jupyter.widget-view+json": {
       "model_id": "79091b1a70b948cf900ea4f5dcf46c6e",
       "version_major": 2,
       "version_minor": 0
      },
      "text/plain": [
       "  0%|          | 0/1 [00:00<?, ?it/s]"
      ]
     },
     "metadata": {},
     "output_type": "display_data"
    },
    {
     "data": {
      "application/vnd.jupyter.widget-view+json": {
       "model_id": "8746ca1090204066b1a3217dad786921",
       "version_major": 2,
       "version_minor": 0
      },
      "text/plain": [
       "  0%|          | 0/1 [00:00<?, ?it/s]"
      ]
     },
     "metadata": {},
     "output_type": "display_data"
    },
    {
     "data": {
      "application/vnd.jupyter.widget-view+json": {
       "model_id": "c1ee6f210c85407abe8bbf2613828b3d",
       "version_major": 2,
       "version_minor": 0
      },
      "text/plain": [
       "  0%|          | 0/1 [00:00<?, ?it/s]"
      ]
     },
     "metadata": {},
     "output_type": "display_data"
    },
    {
     "data": {
      "application/vnd.jupyter.widget-view+json": {
       "model_id": "f43dc82be0c948b09399ce8c8e4d2815",
       "version_major": 2,
       "version_minor": 0
      },
      "text/plain": [
       "  0%|          | 0/1 [00:00<?, ?it/s]"
      ]
     },
     "metadata": {},
     "output_type": "display_data"
    },
    {
     "data": {
      "application/vnd.jupyter.widget-view+json": {
       "model_id": "4199d7dd507f4d7e873d310ef1850e04",
       "version_major": 2,
       "version_minor": 0
      },
      "text/plain": [
       "  0%|          | 0/1 [00:00<?, ?it/s]"
      ]
     },
     "metadata": {},
     "output_type": "display_data"
    },
    {
     "data": {
      "application/vnd.jupyter.widget-view+json": {
       "model_id": "0de559d0a26c4346bffe470b3fc63a1f",
       "version_major": 2,
       "version_minor": 0
      },
      "text/plain": [
       "  0%|          | 0/1 [00:00<?, ?it/s]"
      ]
     },
     "metadata": {},
     "output_type": "display_data"
    },
    {
     "data": {
      "application/vnd.jupyter.widget-view+json": {
       "model_id": "a74d067bb94b49f7b7c8b4ce280d3d0e",
       "version_major": 2,
       "version_minor": 0
      },
      "text/plain": [
       "  0%|          | 0/1 [00:00<?, ?it/s]"
      ]
     },
     "metadata": {},
     "output_type": "display_data"
    },
    {
     "data": {
      "application/vnd.jupyter.widget-view+json": {
       "model_id": "3f2be7b8c1ea4b11b6da655169735e3d",
       "version_major": 2,
       "version_minor": 0
      },
      "text/plain": [
       "  0%|          | 0/1 [00:00<?, ?it/s]"
      ]
     },
     "metadata": {},
     "output_type": "display_data"
    },
    {
     "data": {
      "application/vnd.jupyter.widget-view+json": {
       "model_id": "3d478cd52fcd4e6c8c4aa56c42c74245",
       "version_major": 2,
       "version_minor": 0
      },
      "text/plain": [
       "  0%|          | 0/1 [00:00<?, ?it/s]"
      ]
     },
     "metadata": {},
     "output_type": "display_data"
    },
    {
     "data": {
      "application/vnd.jupyter.widget-view+json": {
       "model_id": "2d05090f80734efa8a1e89a11d38e2cb",
       "version_major": 2,
       "version_minor": 0
      },
      "text/plain": [
       "  0%|          | 0/1 [00:00<?, ?it/s]"
      ]
     },
     "metadata": {},
     "output_type": "display_data"
    },
    {
     "name": "stdout",
     "output_type": "stream",
     "text": [
      "Epoch number:49 Loss: 0.1628\n"
     ]
    },
    {
     "data": {
      "application/vnd.jupyter.widget-view+json": {
       "model_id": "46776118ad644fd5895b684eb2b9c79b",
       "version_major": 2,
       "version_minor": 0
      },
      "text/plain": [
       "  0%|          | 0/1 [00:00<?, ?it/s]"
      ]
     },
     "metadata": {},
     "output_type": "display_data"
    },
    {
     "data": {
      "application/vnd.jupyter.widget-view+json": {
       "model_id": "30ee44d65d8f4936ab4c33bb274f4cf9",
       "version_major": 2,
       "version_minor": 0
      },
      "text/plain": [
       "  0%|          | 0/1 [00:00<?, ?it/s]"
      ]
     },
     "metadata": {},
     "output_type": "display_data"
    },
    {
     "data": {
      "application/vnd.jupyter.widget-view+json": {
       "model_id": "0fbd4563b8174506817fbc02af2fefde",
       "version_major": 2,
       "version_minor": 0
      },
      "text/plain": [
       "  0%|          | 0/1 [00:00<?, ?it/s]"
      ]
     },
     "metadata": {},
     "output_type": "display_data"
    },
    {
     "data": {
      "application/vnd.jupyter.widget-view+json": {
       "model_id": "86e4d310b65e4b079de4185a6a0bce99",
       "version_major": 2,
       "version_minor": 0
      },
      "text/plain": [
       "  0%|          | 0/1 [00:00<?, ?it/s]"
      ]
     },
     "metadata": {},
     "output_type": "display_data"
    },
    {
     "data": {
      "application/vnd.jupyter.widget-view+json": {
       "model_id": "500ac5332a674743881c6b8cd27e3a1b",
       "version_major": 2,
       "version_minor": 0
      },
      "text/plain": [
       "  0%|          | 0/1 [00:00<?, ?it/s]"
      ]
     },
     "metadata": {},
     "output_type": "display_data"
    },
    {
     "data": {
      "application/vnd.jupyter.widget-view+json": {
       "model_id": "2729871a3ef1466595396c74b2ee5210",
       "version_major": 2,
       "version_minor": 0
      },
      "text/plain": [
       "  0%|          | 0/1 [00:00<?, ?it/s]"
      ]
     },
     "metadata": {},
     "output_type": "display_data"
    },
    {
     "data": {
      "application/vnd.jupyter.widget-view+json": {
       "model_id": "759bc90a13064fb69a6731de1368033e",
       "version_major": 2,
       "version_minor": 0
      },
      "text/plain": [
       "  0%|          | 0/1 [00:00<?, ?it/s]"
      ]
     },
     "metadata": {},
     "output_type": "display_data"
    },
    {
     "data": {
      "application/vnd.jupyter.widget-view+json": {
       "model_id": "d3b67a17e6174262997f2178387dcdbc",
       "version_major": 2,
       "version_minor": 0
      },
      "text/plain": [
       "  0%|          | 0/1 [00:00<?, ?it/s]"
      ]
     },
     "metadata": {},
     "output_type": "display_data"
    },
    {
     "data": {
      "application/vnd.jupyter.widget-view+json": {
       "model_id": "77d970c101da4d6da63cf3194ac3287d",
       "version_major": 2,
       "version_minor": 0
      },
      "text/plain": [
       "  0%|          | 0/1 [00:00<?, ?it/s]"
      ]
     },
     "metadata": {},
     "output_type": "display_data"
    },
    {
     "data": {
      "application/vnd.jupyter.widget-view+json": {
       "model_id": "e3293dfb3c96401da1239a5f9bb91dc7",
       "version_major": 2,
       "version_minor": 0
      },
      "text/plain": [
       "  0%|          | 0/1 [00:00<?, ?it/s]"
      ]
     },
     "metadata": {},
     "output_type": "display_data"
    },
    {
     "name": "stdout",
     "output_type": "stream",
     "text": [
      "Epoch number:59 Loss: 0.1566\n"
     ]
    },
    {
     "data": {
      "application/vnd.jupyter.widget-view+json": {
       "model_id": "ad66c21a9c3e43e690cd6df69107501b",
       "version_major": 2,
       "version_minor": 0
      },
      "text/plain": [
       "  0%|          | 0/1 [00:00<?, ?it/s]"
      ]
     },
     "metadata": {},
     "output_type": "display_data"
    },
    {
     "data": {
      "application/vnd.jupyter.widget-view+json": {
       "model_id": "bc08cb86808a4412ba768bab05ced220",
       "version_major": 2,
       "version_minor": 0
      },
      "text/plain": [
       "  0%|          | 0/1 [00:00<?, ?it/s]"
      ]
     },
     "metadata": {},
     "output_type": "display_data"
    },
    {
     "data": {
      "application/vnd.jupyter.widget-view+json": {
       "model_id": "a85336f22e3b4d3eb35b318a0aa89fb1",
       "version_major": 2,
       "version_minor": 0
      },
      "text/plain": [
       "  0%|          | 0/1 [00:00<?, ?it/s]"
      ]
     },
     "metadata": {},
     "output_type": "display_data"
    },
    {
     "data": {
      "application/vnd.jupyter.widget-view+json": {
       "model_id": "e667b483259b4391987c270a004e31f2",
       "version_major": 2,
       "version_minor": 0
      },
      "text/plain": [
       "  0%|          | 0/1 [00:00<?, ?it/s]"
      ]
     },
     "metadata": {},
     "output_type": "display_data"
    },
    {
     "data": {
      "application/vnd.jupyter.widget-view+json": {
       "model_id": "ef8f3373418440b6a0130b755f482c74",
       "version_major": 2,
       "version_minor": 0
      },
      "text/plain": [
       "  0%|          | 0/1 [00:00<?, ?it/s]"
      ]
     },
     "metadata": {},
     "output_type": "display_data"
    },
    {
     "data": {
      "application/vnd.jupyter.widget-view+json": {
       "model_id": "d064d507f8a24b66a2b0732ff7c8cc49",
       "version_major": 2,
       "version_minor": 0
      },
      "text/plain": [
       "  0%|          | 0/1 [00:00<?, ?it/s]"
      ]
     },
     "metadata": {},
     "output_type": "display_data"
    },
    {
     "data": {
      "application/vnd.jupyter.widget-view+json": {
       "model_id": "2e3e3a55e51746c591db9406ca97091a",
       "version_major": 2,
       "version_minor": 0
      },
      "text/plain": [
       "  0%|          | 0/1 [00:00<?, ?it/s]"
      ]
     },
     "metadata": {},
     "output_type": "display_data"
    },
    {
     "data": {
      "application/vnd.jupyter.widget-view+json": {
       "model_id": "6256cca89563493ab97c99d33cb3905d",
       "version_major": 2,
       "version_minor": 0
      },
      "text/plain": [
       "  0%|          | 0/1 [00:00<?, ?it/s]"
      ]
     },
     "metadata": {},
     "output_type": "display_data"
    },
    {
     "data": {
      "application/vnd.jupyter.widget-view+json": {
       "model_id": "0a966b425ab048e29aa85272a823afab",
       "version_major": 2,
       "version_minor": 0
      },
      "text/plain": [
       "  0%|          | 0/1 [00:00<?, ?it/s]"
      ]
     },
     "metadata": {},
     "output_type": "display_data"
    },
    {
     "data": {
      "application/vnd.jupyter.widget-view+json": {
       "model_id": "c670de4dcc03476a89381584e9af4c2a",
       "version_major": 2,
       "version_minor": 0
      },
      "text/plain": [
       "  0%|          | 0/1 [00:00<?, ?it/s]"
      ]
     },
     "metadata": {},
     "output_type": "display_data"
    },
    {
     "name": "stdout",
     "output_type": "stream",
     "text": [
      "Epoch number:69 Loss: 0.1504\n"
     ]
    },
    {
     "data": {
      "application/vnd.jupyter.widget-view+json": {
       "model_id": "0aefbc87734b41d4a43a59daeae02cd9",
       "version_major": 2,
       "version_minor": 0
      },
      "text/plain": [
       "  0%|          | 0/1 [00:00<?, ?it/s]"
      ]
     },
     "metadata": {},
     "output_type": "display_data"
    },
    {
     "data": {
      "application/vnd.jupyter.widget-view+json": {
       "model_id": "67500ffabd6a4473802fe094eb03ec44",
       "version_major": 2,
       "version_minor": 0
      },
      "text/plain": [
       "  0%|          | 0/1 [00:00<?, ?it/s]"
      ]
     },
     "metadata": {},
     "output_type": "display_data"
    },
    {
     "data": {
      "application/vnd.jupyter.widget-view+json": {
       "model_id": "3109c2d8890a49b2b2772f39c0a2f849",
       "version_major": 2,
       "version_minor": 0
      },
      "text/plain": [
       "  0%|          | 0/1 [00:00<?, ?it/s]"
      ]
     },
     "metadata": {},
     "output_type": "display_data"
    },
    {
     "data": {
      "application/vnd.jupyter.widget-view+json": {
       "model_id": "90cc3ed7d6db48e1859cf59620887d73",
       "version_major": 2,
       "version_minor": 0
      },
      "text/plain": [
       "  0%|          | 0/1 [00:00<?, ?it/s]"
      ]
     },
     "metadata": {},
     "output_type": "display_data"
    },
    {
     "data": {
      "application/vnd.jupyter.widget-view+json": {
       "model_id": "d1610af4864a4ac184ab095cca072af8",
       "version_major": 2,
       "version_minor": 0
      },
      "text/plain": [
       "  0%|          | 0/1 [00:00<?, ?it/s]"
      ]
     },
     "metadata": {},
     "output_type": "display_data"
    },
    {
     "data": {
      "application/vnd.jupyter.widget-view+json": {
       "model_id": "a3577123dec64299a33c1941474bf4d8",
       "version_major": 2,
       "version_minor": 0
      },
      "text/plain": [
       "  0%|          | 0/1 [00:00<?, ?it/s]"
      ]
     },
     "metadata": {},
     "output_type": "display_data"
    },
    {
     "data": {
      "application/vnd.jupyter.widget-view+json": {
       "model_id": "9f0580cb03bc4779a09b4553cd81048d",
       "version_major": 2,
       "version_minor": 0
      },
      "text/plain": [
       "  0%|          | 0/1 [00:00<?, ?it/s]"
      ]
     },
     "metadata": {},
     "output_type": "display_data"
    },
    {
     "data": {
      "application/vnd.jupyter.widget-view+json": {
       "model_id": "2f7c58868b6343b9a895aa5ce93d1446",
       "version_major": 2,
       "version_minor": 0
      },
      "text/plain": [
       "  0%|          | 0/1 [00:00<?, ?it/s]"
      ]
     },
     "metadata": {},
     "output_type": "display_data"
    },
    {
     "data": {
      "application/vnd.jupyter.widget-view+json": {
       "model_id": "4f6f0ca4f5264301b8cc20773b95302e",
       "version_major": 2,
       "version_minor": 0
      },
      "text/plain": [
       "  0%|          | 0/1 [00:00<?, ?it/s]"
      ]
     },
     "metadata": {},
     "output_type": "display_data"
    },
    {
     "data": {
      "application/vnd.jupyter.widget-view+json": {
       "model_id": "439ae18936244023b216e4b6844c796b",
       "version_major": 2,
       "version_minor": 0
      },
      "text/plain": [
       "  0%|          | 0/1 [00:00<?, ?it/s]"
      ]
     },
     "metadata": {},
     "output_type": "display_data"
    },
    {
     "name": "stdout",
     "output_type": "stream",
     "text": [
      "Epoch number:79 Loss: 0.1476\n"
     ]
    },
    {
     "data": {
      "application/vnd.jupyter.widget-view+json": {
       "model_id": "24d4be4a7ebf4baba4e5fec76ef3118e",
       "version_major": 2,
       "version_minor": 0
      },
      "text/plain": [
       "  0%|          | 0/1 [00:00<?, ?it/s]"
      ]
     },
     "metadata": {},
     "output_type": "display_data"
    },
    {
     "data": {
      "application/vnd.jupyter.widget-view+json": {
       "model_id": "f03258172e074337a635138b0b3b6b96",
       "version_major": 2,
       "version_minor": 0
      },
      "text/plain": [
       "  0%|          | 0/1 [00:00<?, ?it/s]"
      ]
     },
     "metadata": {},
     "output_type": "display_data"
    },
    {
     "data": {
      "application/vnd.jupyter.widget-view+json": {
       "model_id": "2122099fa34442d49fb30cf32cbdf85e",
       "version_major": 2,
       "version_minor": 0
      },
      "text/plain": [
       "  0%|          | 0/1 [00:00<?, ?it/s]"
      ]
     },
     "metadata": {},
     "output_type": "display_data"
    },
    {
     "data": {
      "application/vnd.jupyter.widget-view+json": {
       "model_id": "f514303c48c64a33ba0d8ff325afe92c",
       "version_major": 2,
       "version_minor": 0
      },
      "text/plain": [
       "  0%|          | 0/1 [00:00<?, ?it/s]"
      ]
     },
     "metadata": {},
     "output_type": "display_data"
    },
    {
     "data": {
      "application/vnd.jupyter.widget-view+json": {
       "model_id": "c05a52568e4a4531b661692b817d3ec4",
       "version_major": 2,
       "version_minor": 0
      },
      "text/plain": [
       "  0%|          | 0/1 [00:00<?, ?it/s]"
      ]
     },
     "metadata": {},
     "output_type": "display_data"
    },
    {
     "data": {
      "application/vnd.jupyter.widget-view+json": {
       "model_id": "41fb54e495ca4de0a17130a10e7abcd1",
       "version_major": 2,
       "version_minor": 0
      },
      "text/plain": [
       "  0%|          | 0/1 [00:00<?, ?it/s]"
      ]
     },
     "metadata": {},
     "output_type": "display_data"
    },
    {
     "data": {
      "application/vnd.jupyter.widget-view+json": {
       "model_id": "44a9790b29c84e36afa805259f59bebe",
       "version_major": 2,
       "version_minor": 0
      },
      "text/plain": [
       "  0%|          | 0/1 [00:00<?, ?it/s]"
      ]
     },
     "metadata": {},
     "output_type": "display_data"
    },
    {
     "data": {
      "application/vnd.jupyter.widget-view+json": {
       "model_id": "f5a23fe44bee4225afda566ee4f476b0",
       "version_major": 2,
       "version_minor": 0
      },
      "text/plain": [
       "  0%|          | 0/1 [00:00<?, ?it/s]"
      ]
     },
     "metadata": {},
     "output_type": "display_data"
    },
    {
     "data": {
      "application/vnd.jupyter.widget-view+json": {
       "model_id": "1ec5324f7c2e44b6a2d4863aa995bc5e",
       "version_major": 2,
       "version_minor": 0
      },
      "text/plain": [
       "  0%|          | 0/1 [00:00<?, ?it/s]"
      ]
     },
     "metadata": {},
     "output_type": "display_data"
    },
    {
     "data": {
      "application/vnd.jupyter.widget-view+json": {
       "model_id": "9479dd5b05e047eabeff95a5847ea4c9",
       "version_major": 2,
       "version_minor": 0
      },
      "text/plain": [
       "  0%|          | 0/1 [00:00<?, ?it/s]"
      ]
     },
     "metadata": {},
     "output_type": "display_data"
    },
    {
     "name": "stdout",
     "output_type": "stream",
     "text": [
      "Epoch number:89 Loss: 0.1438\n"
     ]
    },
    {
     "data": {
      "application/vnd.jupyter.widget-view+json": {
       "model_id": "94ae1e34cfdf4e37836d2ce084bab897",
       "version_major": 2,
       "version_minor": 0
      },
      "text/plain": [
       "  0%|          | 0/1 [00:00<?, ?it/s]"
      ]
     },
     "metadata": {},
     "output_type": "display_data"
    },
    {
     "data": {
      "application/vnd.jupyter.widget-view+json": {
       "model_id": "be45add3daff455fad073c8b8f35fa13",
       "version_major": 2,
       "version_minor": 0
      },
      "text/plain": [
       "  0%|          | 0/1 [00:00<?, ?it/s]"
      ]
     },
     "metadata": {},
     "output_type": "display_data"
    },
    {
     "data": {
      "application/vnd.jupyter.widget-view+json": {
       "model_id": "a6f0266131234311917b3a23ca06aadb",
       "version_major": 2,
       "version_minor": 0
      },
      "text/plain": [
       "  0%|          | 0/1 [00:00<?, ?it/s]"
      ]
     },
     "metadata": {},
     "output_type": "display_data"
    },
    {
     "data": {
      "application/vnd.jupyter.widget-view+json": {
       "model_id": "d57c65517fb14da59e29814cd704668a",
       "version_major": 2,
       "version_minor": 0
      },
      "text/plain": [
       "  0%|          | 0/1 [00:00<?, ?it/s]"
      ]
     },
     "metadata": {},
     "output_type": "display_data"
    },
    {
     "data": {
      "application/vnd.jupyter.widget-view+json": {
       "model_id": "7d8d0ecad0fb4346b72ee481e6858de6",
       "version_major": 2,
       "version_minor": 0
      },
      "text/plain": [
       "  0%|          | 0/1 [00:00<?, ?it/s]"
      ]
     },
     "metadata": {},
     "output_type": "display_data"
    },
    {
     "data": {
      "application/vnd.jupyter.widget-view+json": {
       "model_id": "860e077408684882869ba0026888657d",
       "version_major": 2,
       "version_minor": 0
      },
      "text/plain": [
       "  0%|          | 0/1 [00:00<?, ?it/s]"
      ]
     },
     "metadata": {},
     "output_type": "display_data"
    },
    {
     "data": {
      "application/vnd.jupyter.widget-view+json": {
       "model_id": "12184b03fc834ac5975e51890e91c9b1",
       "version_major": 2,
       "version_minor": 0
      },
      "text/plain": [
       "  0%|          | 0/1 [00:00<?, ?it/s]"
      ]
     },
     "metadata": {},
     "output_type": "display_data"
    },
    {
     "data": {
      "application/vnd.jupyter.widget-view+json": {
       "model_id": "a7a3f65920f44e2d94fe73af242475ed",
       "version_major": 2,
       "version_minor": 0
      },
      "text/plain": [
       "  0%|          | 0/1 [00:00<?, ?it/s]"
      ]
     },
     "metadata": {},
     "output_type": "display_data"
    },
    {
     "data": {
      "application/vnd.jupyter.widget-view+json": {
       "model_id": "cd4f695a224f463fb2c5f22ebf778b3a",
       "version_major": 2,
       "version_minor": 0
      },
      "text/plain": [
       "  0%|          | 0/1 [00:00<?, ?it/s]"
      ]
     },
     "metadata": {},
     "output_type": "display_data"
    },
    {
     "data": {
      "application/vnd.jupyter.widget-view+json": {
       "model_id": "2dbba67c9a91403d8dc2a333387d4276",
       "version_major": 2,
       "version_minor": 0
      },
      "text/plain": [
       "  0%|          | 0/1 [00:00<?, ?it/s]"
      ]
     },
     "metadata": {},
     "output_type": "display_data"
    },
    {
     "name": "stdout",
     "output_type": "stream",
     "text": [
      "Epoch number:99 Loss: 0.1403\n"
     ]
    },
    {
     "data": {
      "application/vnd.jupyter.widget-view+json": {
       "model_id": "ff5b63d206654ecbb4bb5631221916b5",
       "version_major": 2,
       "version_minor": 0
      },
      "text/plain": [
       "  0%|          | 0/1 [00:00<?, ?it/s]"
      ]
     },
     "metadata": {},
     "output_type": "display_data"
    },
    {
     "name": "stdout",
     "output_type": "stream",
     "text": [
      "tensor([0.4570, 0.2317, 0.2101, 0.1441, 0.5264, 0.5634, 0.2562, 0.4503, 0.7402,\n",
      "        0.2737, 0.7072, 0.2261, 0.3887, 0.2191, 0.2349, 0.0553, 0.0332, 0.1104,\n",
      "        0.1423, 0.3249, 0.3995, 0.5077, 0.1455, 0.1545, 0.0780, 0.1785, 0.3010,\n",
      "        0.2337, 0.1648, 0.1171, 0.1641, 0.3066, 0.3759, 0.1119, 0.1447, 0.3448,\n",
      "        0.3106, 0.3622, 0.6122, 0.1112, 0.2041, 0.1479, 0.3108, 0.1610, 0.2718,\n",
      "        0.3783, 0.0856, 0.2801, 0.2704, 0.1670, 0.2539, 0.3306, 0.2273, 0.4127,\n",
      "        0.2394, 0.2939, 0.2701, 0.5591, 0.2643, 0.8414, 0.1659, 0.3664, 0.2146,\n",
      "        0.5722, 0.1951, 0.6553, 0.3611, 0.4145, 0.2811, 0.3332, 0.4218, 0.2279,\n",
      "        0.4920, 0.3835, 0.5248, 0.1387, 0.2429, 0.6112, 0.4653, 0.1007, 0.1411,\n",
      "        0.6273, 0.6544, 0.2569, 0.2572, 0.1854, 0.4217, 0.1850, 0.3088, 0.1764,\n",
      "        0.3490, 0.2461, 0.5711, 0.5851, 0.1869, 0.5638, 0.2420, 0.2991, 0.8634,\n",
      "        0.1144, 0.1584, 0.1352, 0.1689, 0.2975, 0.3294, 0.3622, 0.1596, 0.5954,\n",
      "        0.1824, 0.1845, 0.1407, 0.6189, 0.2208, 0.3448, 0.3469, 0.1994, 0.2126,\n",
      "        0.3213, 0.6191, 0.5101, 0.0963, 0.2364, 0.2979, 0.4585, 0.0859, 0.1924,\n",
      "        0.1996, 0.1847, 0.3406, 0.3360, 0.3853, 0.2203, 0.2594, 0.2325, 0.3271,\n",
      "        0.2100, 0.6370, 0.1652, 0.1407, 0.2721, 0.2476, 0.3437, 0.2384, 0.5372,\n",
      "        0.7967, 0.1914, 0.1316, 0.1333, 0.2781, 0.6653, 0.1236, 0.5309, 0.2008,\n",
      "        0.0619, 0.2032, 0.1994, 0.1314, 0.3084, 0.4902, 0.1722, 0.2291, 0.3115,\n",
      "        0.4895, 0.5077, 0.5544, 0.2694, 0.3015, 0.2841, 0.1565])\n",
      "tensor([0.5784, 0.2086, 0.2228, 0.0842, 0.5819, 0.6576, 0.1353, 0.2690, 0.7137,\n",
      "        0.2330, 0.6623, 0.1670, 0.4566, 0.0607, 0.2823, 0.0431, 0.0568, 0.0666,\n",
      "        0.1569, 0.3398, 0.2075, 0.4823, 0.0545, 0.1349, 0.0458, 0.0607, 0.3234,\n",
      "        0.1000, 0.1710, 0.0616, 0.0321, 0.2158, 0.4062, 0.1293, 0.1250, 0.1834,\n",
      "        0.3476, 0.3391, 0.5000, 0.0504, 0.2839, 0.1394, 0.1810, 0.0810, 0.1806,\n",
      "        0.5146, 0.1098, 0.2899, 0.1399, 0.1204, 0.3671, 0.5872, 0.1547, 0.3372,\n",
      "        0.1371, 0.3149, 0.0000, 0.3680, 0.1334, 1.0000, 0.0677, 0.2654, 0.0787,\n",
      "        0.6387, 0.1681, 0.7039, 0.3090, 0.4920, 0.1708, 0.3410, 0.3478, 0.2688,\n",
      "        0.3432, 0.4314, 0.6667, 0.1929, 0.2686, 0.5709, 0.5360, 0.0408, 0.1531,\n",
      "        0.3849, 0.6000, 0.1130, 0.8108, 0.1482, 0.4173, 0.0923, 0.3646, 0.2540,\n",
      "        0.1449, 0.4363, 0.5463, 0.5702, 0.2581, 0.5766, 0.2721, 0.2544, 0.9087,\n",
      "        0.1957, 0.1590, 0.0738, 0.1429, 0.3646, 0.2933, 0.4712, 0.2005, 0.4436,\n",
      "        0.0521, 0.0862, 0.1514, 0.7309, 0.1131, 0.2906, 0.4458, 0.1549, 0.0636,\n",
      "        0.1896, 0.6725, 0.5819, 0.1042, 0.1844, 0.1836, 0.5614, 0.0326, 0.1493,\n",
      "        0.1101, 0.1854, 0.3152, 0.1332, 0.3484, 0.1066, 0.1195, 0.2572, 0.3128,\n",
      "        0.2661, 0.6694, 0.1874, 0.3493, 0.1842, 0.2525, 0.2978, 0.0765, 0.5702,\n",
      "        0.7598, 0.2386, 0.0303, 0.1400, 0.1806, 0.8362, 0.0842, 0.4611, 0.2626,\n",
      "        0.0144, 0.1734, 0.5315, 0.0906, 0.3549, 0.3415, 0.0225, 0.2759, 0.3090,\n",
      "        0.3745, 0.3798, 0.4106, 0.1589, 0.2856, 0.2857, 0.0842],\n",
      "       dtype=torch.float64)\n"
     ]
    }
   ],
   "source": [
    "trainset = dataset_module.DataSetForImputation(train_df, normalize=True)  #normalize True for [0,1] normalization for dataframe\n",
    "print(len(trainset))\n",
    "testset = dataset_module.DataSetForImputation(test_df, normalize=True)\n",
    "print(len(testset))\n",
    "\n",
    "net = Modelling.DenoisingAutoEncoder(len(trainset.variables()), theta = 7, input_dropout=0.5)\n",
    "criterion = nn.MSELoss()\n",
    "net = net.to(device) \n",
    "\n",
    "train_loader = td.DataLoader(trainset, batch_size=BATCH_SIZE, shuffle=True, **{})\n",
    "val_loader = td.DataLoader(testset, batch_size=BATCH_SIZE, shuffle=True, **{})\n",
    "\n",
    "optimizer = Adam(net.parameters(), lr = LR)\n",
    "\n",
    "LOG_INTERVAL = 10\n",
    "SAVE_INTERVAL = 50\n",
    "torch.set_printoptions(sci_mode=False)\n",
    "\n",
    "\n",
    "train_model(0,101, net, model_name, train_loader=train_loader, val_loader=val_loader)\n",
    "\n",
    "net = net.eval()\n",
    "print((net(trainset[0][0]).detach()))\n",
    "print(trainset[0][0])\n",
    "\n",
    "net = net.eval()"
   ]
  },
  {
   "cell_type": "code",
   "execution_count": 30,
   "metadata": {},
   "outputs": [
    {
     "name": "stdout",
     "output_type": "stream",
     "text": [
      "(289, 170)\n",
      "(289, 82)\n"
     ]
    },
    {
     "data": {
      "text/plain": [
       "(289, 251)"
      ]
     },
     "execution_count": 30,
     "metadata": {},
     "output_type": "execute_result"
    }
   ],
   "source": [
    "fill_test_df= test_model(net=net, test_df=test_df, trainset=trainset, device=device,logger_level=20)\n",
    "\n",
    "fill_test_df['Key'] = test_df_Key.reset_index(drop=True)\n",
    "train_df['Key'] = train_df_Key\n",
    "\n",
    "m_df = pd.concat([fill_test_df, train_df])\n",
    "print(m_df.shape)\n",
    "\n",
    "ls = ['Key']\n",
    "\n",
    "for i in df1.columns:\n",
    "        if i not in m_df.columns: # SP + Neuropsychology 외의 피처\n",
    "            ls.append(i)\n",
    "\n",
    "the_others = df[ls]\n",
    "print(the_others.shape)\n",
    "\n",
    "df1=pd.merge(m_df,the_others, how='outer',on='Key')\n",
    "df1.shape"
   ]
  },
  {
   "cell_type": "code",
   "execution_count": null,
   "metadata": {},
   "outputs": [],
   "source": [
    "df1 = df1[list(df.drop('cutoff',axis=1).columns)]"
   ]
  },
  {
   "cell_type": "code",
   "execution_count": 33,
   "metadata": {},
   "outputs": [
    {
     "data": {
      "text/plain": [
       "소요시간                             0\n",
       "RT_A3                            0\n",
       "RT_A4                            0\n",
       "RT_A5                            0\n",
       "RT_A8                            0\n",
       "                                ..\n",
       "AntiSaccade5.Velocity:median    19\n",
       "AntiSaccade5.Velocity:std       34\n",
       "AntiSaccade5.Velocity:min       19\n",
       "AntiSaccade5.Velocity:max       19\n",
       "Key                              0\n",
       "Length: 251, dtype: int64"
      ]
     },
     "execution_count": 33,
     "metadata": {},
     "output_type": "execute_result"
    }
   ],
   "source": [
    "df1.isnull().sum()"
   ]
  },
  {
   "cell_type": "markdown",
   "metadata": {},
   "source": [
    "# AntiSaccade"
   ]
  },
  {
   "cell_type": "code",
   "execution_count": 34,
   "metadata": {},
   "outputs": [
    {
     "name": "stdout",
     "output_type": "stream",
     "text": [
      "(289, 200)\n",
      "(223, 200)\n",
      "(66, 200)\n"
     ]
    }
   ],
   "source": [
    "# WMS 결측치처리\n",
    "nonan_merge = df1.dropna(axis=1)\n",
    "ls = []\n",
    "for i in df1.columns:\n",
    "    if 'Anti' in i:\n",
    "        ls.append(i)\n",
    "\n",
    "for c in nonan_merge.columns:\n",
    "    ls.append(c)\n",
    "ls=list(set(ls))\n",
    "\n",
    "m_df = df1[ls]\n",
    "print(m_df.shape)\n",
    "train_df = m_df.dropna(axis=0)\n",
    "print(train_df.shape)\n",
    "\n",
    "loc_list = []\n",
    "for i in range(len(m_df)):\n",
    "    if m_df.loc[i].isnull().any() == True:\n",
    "        loc_list.append(i)\n",
    "test_df = m_df.loc[loc_list]\n",
    "print(test_df.shape)\n",
    "\n",
    "train_df_Key = train_df['Key']\n",
    "test_df_Key = test_df['Key']\n",
    "train_df= train_df.drop('Key',axis=1)\n",
    "test_df= test_df.drop('Key',axis=1)\n"
   ]
  },
  {
   "cell_type": "code",
   "execution_count": 35,
   "metadata": {},
   "outputs": [
    {
     "name": "stdout",
     "output_type": "stream",
     "text": [
      "223\n",
      "66\n"
     ]
    },
    {
     "name": "stderr",
     "output_type": "stream",
     "text": [
      "c:\\Users\\hOMe_pc\\Anaconda3\\envs\\AIS_mrcnn\\lib\\site-packages\\ipykernel_launcher.py:10: TqdmDeprecationWarning: This function will be removed in tqdm==5.0.0\n",
      "Please use `tqdm.notebook.tqdm` instead of `tqdm.tqdm_notebook`\n",
      "  # Remove the CWD from sys.path while we load stuff.\n"
     ]
    },
    {
     "data": {
      "application/vnd.jupyter.widget-view+json": {
       "model_id": "1b215dd3dcd641b09fca53fccf9bc97d",
       "version_major": 2,
       "version_minor": 0
      },
      "text/plain": [
       "  0%|          | 0/101 [00:00<?, ?it/s]"
      ]
     },
     "metadata": {},
     "output_type": "display_data"
    },
    {
     "name": "stderr",
     "output_type": "stream",
     "text": [
      "c:\\Users\\hOMe_pc\\Anaconda3\\envs\\AIS_mrcnn\\lib\\site-packages\\ipykernel_launcher.py:15: TqdmDeprecationWarning: This function will be removed in tqdm==5.0.0\n",
      "Please use `tqdm.notebook.tqdm` instead of `tqdm.tqdm_notebook`\n",
      "  from ipykernel import kernelapp as app\n"
     ]
    },
    {
     "data": {
      "application/vnd.jupyter.widget-view+json": {
       "model_id": "f16d306c35b64aaa9f6a1b39a4d90ee7",
       "version_major": 2,
       "version_minor": 0
      },
      "text/plain": [
       "  0%|          | 0/1 [00:00<?, ?it/s]"
      ]
     },
     "metadata": {},
     "output_type": "display_data"
    },
    {
     "data": {
      "application/vnd.jupyter.widget-view+json": {
       "model_id": "c99041d24b024f14afc68aa94142ad51",
       "version_major": 2,
       "version_minor": 0
      },
      "text/plain": [
       "  0%|          | 0/1 [00:00<?, ?it/s]"
      ]
     },
     "metadata": {},
     "output_type": "display_data"
    },
    {
     "data": {
      "application/vnd.jupyter.widget-view+json": {
       "model_id": "bcc6e69d81f2463f8c511e435e13fd26",
       "version_major": 2,
       "version_minor": 0
      },
      "text/plain": [
       "  0%|          | 0/1 [00:00<?, ?it/s]"
      ]
     },
     "metadata": {},
     "output_type": "display_data"
    },
    {
     "data": {
      "application/vnd.jupyter.widget-view+json": {
       "model_id": "758c1bb7dbeb4a12a85a84e70da81143",
       "version_major": 2,
       "version_minor": 0
      },
      "text/plain": [
       "  0%|          | 0/1 [00:00<?, ?it/s]"
      ]
     },
     "metadata": {},
     "output_type": "display_data"
    },
    {
     "data": {
      "application/vnd.jupyter.widget-view+json": {
       "model_id": "1170600f9bb8404c9891afe84f80e2fb",
       "version_major": 2,
       "version_minor": 0
      },
      "text/plain": [
       "  0%|          | 0/1 [00:00<?, ?it/s]"
      ]
     },
     "metadata": {},
     "output_type": "display_data"
    },
    {
     "data": {
      "application/vnd.jupyter.widget-view+json": {
       "model_id": "bb819a3ea23f44238fbf0b1da6411a5b",
       "version_major": 2,
       "version_minor": 0
      },
      "text/plain": [
       "  0%|          | 0/1 [00:00<?, ?it/s]"
      ]
     },
     "metadata": {},
     "output_type": "display_data"
    },
    {
     "data": {
      "application/vnd.jupyter.widget-view+json": {
       "model_id": "7a339633d95c4ab48fdf2035f11f4618",
       "version_major": 2,
       "version_minor": 0
      },
      "text/plain": [
       "  0%|          | 0/1 [00:00<?, ?it/s]"
      ]
     },
     "metadata": {},
     "output_type": "display_data"
    },
    {
     "data": {
      "application/vnd.jupyter.widget-view+json": {
       "model_id": "f6c2a3a0b6f24671b842b030c73d52e0",
       "version_major": 2,
       "version_minor": 0
      },
      "text/plain": [
       "  0%|          | 0/1 [00:00<?, ?it/s]"
      ]
     },
     "metadata": {},
     "output_type": "display_data"
    },
    {
     "data": {
      "application/vnd.jupyter.widget-view+json": {
       "model_id": "79bd14c6eb3a418e8dd87f9d037e1e4c",
       "version_major": 2,
       "version_minor": 0
      },
      "text/plain": [
       "  0%|          | 0/1 [00:00<?, ?it/s]"
      ]
     },
     "metadata": {},
     "output_type": "display_data"
    },
    {
     "data": {
      "application/vnd.jupyter.widget-view+json": {
       "model_id": "5d3241ec343f47a19757ca2f66c7365a",
       "version_major": 2,
       "version_minor": 0
      },
      "text/plain": [
       "  0%|          | 0/1 [00:00<?, ?it/s]"
      ]
     },
     "metadata": {},
     "output_type": "display_data"
    },
    {
     "name": "stdout",
     "output_type": "stream",
     "text": [
      "Epoch number:9 Loss: 0.1685\n"
     ]
    },
    {
     "data": {
      "application/vnd.jupyter.widget-view+json": {
       "model_id": "76962239e95c4392b5b1a7b1661a65ba",
       "version_major": 2,
       "version_minor": 0
      },
      "text/plain": [
       "  0%|          | 0/1 [00:00<?, ?it/s]"
      ]
     },
     "metadata": {},
     "output_type": "display_data"
    },
    {
     "data": {
      "application/vnd.jupyter.widget-view+json": {
       "model_id": "216e8bbe6dab4e7c90b69f4e5a755dd5",
       "version_major": 2,
       "version_minor": 0
      },
      "text/plain": [
       "  0%|          | 0/1 [00:00<?, ?it/s]"
      ]
     },
     "metadata": {},
     "output_type": "display_data"
    },
    {
     "data": {
      "application/vnd.jupyter.widget-view+json": {
       "model_id": "4bd05062b1184aba9e7643622ebf7822",
       "version_major": 2,
       "version_minor": 0
      },
      "text/plain": [
       "  0%|          | 0/1 [00:00<?, ?it/s]"
      ]
     },
     "metadata": {},
     "output_type": "display_data"
    },
    {
     "data": {
      "application/vnd.jupyter.widget-view+json": {
       "model_id": "4bed392659be45d4a43038199929dfe3",
       "version_major": 2,
       "version_minor": 0
      },
      "text/plain": [
       "  0%|          | 0/1 [00:00<?, ?it/s]"
      ]
     },
     "metadata": {},
     "output_type": "display_data"
    },
    {
     "data": {
      "application/vnd.jupyter.widget-view+json": {
       "model_id": "04f453f2ddc64d7f96732ed7d2a236c6",
       "version_major": 2,
       "version_minor": 0
      },
      "text/plain": [
       "  0%|          | 0/1 [00:00<?, ?it/s]"
      ]
     },
     "metadata": {},
     "output_type": "display_data"
    },
    {
     "data": {
      "application/vnd.jupyter.widget-view+json": {
       "model_id": "101a41a731904b1ca37bf1ae17d55254",
       "version_major": 2,
       "version_minor": 0
      },
      "text/plain": [
       "  0%|          | 0/1 [00:00<?, ?it/s]"
      ]
     },
     "metadata": {},
     "output_type": "display_data"
    },
    {
     "data": {
      "application/vnd.jupyter.widget-view+json": {
       "model_id": "382cc729046e4c74bef63aa84a20bdb6",
       "version_major": 2,
       "version_minor": 0
      },
      "text/plain": [
       "  0%|          | 0/1 [00:00<?, ?it/s]"
      ]
     },
     "metadata": {},
     "output_type": "display_data"
    },
    {
     "data": {
      "application/vnd.jupyter.widget-view+json": {
       "model_id": "35afcb587608416a9f9c9377a9685bdb",
       "version_major": 2,
       "version_minor": 0
      },
      "text/plain": [
       "  0%|          | 0/1 [00:00<?, ?it/s]"
      ]
     },
     "metadata": {},
     "output_type": "display_data"
    },
    {
     "data": {
      "application/vnd.jupyter.widget-view+json": {
       "model_id": "20c495293a3a4a99a46de53e77ca152c",
       "version_major": 2,
       "version_minor": 0
      },
      "text/plain": [
       "  0%|          | 0/1 [00:00<?, ?it/s]"
      ]
     },
     "metadata": {},
     "output_type": "display_data"
    },
    {
     "data": {
      "application/vnd.jupyter.widget-view+json": {
       "model_id": "30282315fbe0492fb11baee98c5ca86f",
       "version_major": 2,
       "version_minor": 0
      },
      "text/plain": [
       "  0%|          | 0/1 [00:00<?, ?it/s]"
      ]
     },
     "metadata": {},
     "output_type": "display_data"
    },
    {
     "name": "stdout",
     "output_type": "stream",
     "text": [
      "Epoch number:19 Loss: 0.1568\n"
     ]
    },
    {
     "data": {
      "application/vnd.jupyter.widget-view+json": {
       "model_id": "1ba64a5341a94910ba24ca459ef180ec",
       "version_major": 2,
       "version_minor": 0
      },
      "text/plain": [
       "  0%|          | 0/1 [00:00<?, ?it/s]"
      ]
     },
     "metadata": {},
     "output_type": "display_data"
    },
    {
     "data": {
      "application/vnd.jupyter.widget-view+json": {
       "model_id": "ffc7edbed1794c7a84ad4348b398080e",
       "version_major": 2,
       "version_minor": 0
      },
      "text/plain": [
       "  0%|          | 0/1 [00:00<?, ?it/s]"
      ]
     },
     "metadata": {},
     "output_type": "display_data"
    },
    {
     "data": {
      "application/vnd.jupyter.widget-view+json": {
       "model_id": "4096c409b28a412c929c87132e7bd918",
       "version_major": 2,
       "version_minor": 0
      },
      "text/plain": [
       "  0%|          | 0/1 [00:00<?, ?it/s]"
      ]
     },
     "metadata": {},
     "output_type": "display_data"
    },
    {
     "data": {
      "application/vnd.jupyter.widget-view+json": {
       "model_id": "f4d9bd72b2e24926ba767d9a37278967",
       "version_major": 2,
       "version_minor": 0
      },
      "text/plain": [
       "  0%|          | 0/1 [00:00<?, ?it/s]"
      ]
     },
     "metadata": {},
     "output_type": "display_data"
    },
    {
     "data": {
      "application/vnd.jupyter.widget-view+json": {
       "model_id": "91020ae26fa64998b23257292cc3d2a7",
       "version_major": 2,
       "version_minor": 0
      },
      "text/plain": [
       "  0%|          | 0/1 [00:00<?, ?it/s]"
      ]
     },
     "metadata": {},
     "output_type": "display_data"
    },
    {
     "data": {
      "application/vnd.jupyter.widget-view+json": {
       "model_id": "259086e6fe1049fd91aff5b038b24a63",
       "version_major": 2,
       "version_minor": 0
      },
      "text/plain": [
       "  0%|          | 0/1 [00:00<?, ?it/s]"
      ]
     },
     "metadata": {},
     "output_type": "display_data"
    },
    {
     "data": {
      "application/vnd.jupyter.widget-view+json": {
       "model_id": "26678536530d4fa6a1347fb2ff57579e",
       "version_major": 2,
       "version_minor": 0
      },
      "text/plain": [
       "  0%|          | 0/1 [00:00<?, ?it/s]"
      ]
     },
     "metadata": {},
     "output_type": "display_data"
    },
    {
     "data": {
      "application/vnd.jupyter.widget-view+json": {
       "model_id": "97f390ebd7ac46789b2d284ea2a4a558",
       "version_major": 2,
       "version_minor": 0
      },
      "text/plain": [
       "  0%|          | 0/1 [00:00<?, ?it/s]"
      ]
     },
     "metadata": {},
     "output_type": "display_data"
    },
    {
     "data": {
      "application/vnd.jupyter.widget-view+json": {
       "model_id": "dc552253ad9642bfa7da68cf841c4d43",
       "version_major": 2,
       "version_minor": 0
      },
      "text/plain": [
       "  0%|          | 0/1 [00:00<?, ?it/s]"
      ]
     },
     "metadata": {},
     "output_type": "display_data"
    },
    {
     "data": {
      "application/vnd.jupyter.widget-view+json": {
       "model_id": "ab0a99757e954f13baf1687fd6b03992",
       "version_major": 2,
       "version_minor": 0
      },
      "text/plain": [
       "  0%|          | 0/1 [00:00<?, ?it/s]"
      ]
     },
     "metadata": {},
     "output_type": "display_data"
    },
    {
     "name": "stdout",
     "output_type": "stream",
     "text": [
      "Epoch number:29 Loss: 0.1490\n"
     ]
    },
    {
     "data": {
      "application/vnd.jupyter.widget-view+json": {
       "model_id": "a0ba7373fec04291b26653ec59675b88",
       "version_major": 2,
       "version_minor": 0
      },
      "text/plain": [
       "  0%|          | 0/1 [00:00<?, ?it/s]"
      ]
     },
     "metadata": {},
     "output_type": "display_data"
    },
    {
     "data": {
      "application/vnd.jupyter.widget-view+json": {
       "model_id": "675c7ea5c6744a89b906de0723b59e1b",
       "version_major": 2,
       "version_minor": 0
      },
      "text/plain": [
       "  0%|          | 0/1 [00:00<?, ?it/s]"
      ]
     },
     "metadata": {},
     "output_type": "display_data"
    },
    {
     "data": {
      "application/vnd.jupyter.widget-view+json": {
       "model_id": "f8a959fa81ea4ee4a276c9acda51c405",
       "version_major": 2,
       "version_minor": 0
      },
      "text/plain": [
       "  0%|          | 0/1 [00:00<?, ?it/s]"
      ]
     },
     "metadata": {},
     "output_type": "display_data"
    },
    {
     "data": {
      "application/vnd.jupyter.widget-view+json": {
       "model_id": "df0aa3bd355143fca2fa7e7d39867d20",
       "version_major": 2,
       "version_minor": 0
      },
      "text/plain": [
       "  0%|          | 0/1 [00:00<?, ?it/s]"
      ]
     },
     "metadata": {},
     "output_type": "display_data"
    },
    {
     "data": {
      "application/vnd.jupyter.widget-view+json": {
       "model_id": "5b452731cb1f444cb3c5853ba6ca3a69",
       "version_major": 2,
       "version_minor": 0
      },
      "text/plain": [
       "  0%|          | 0/1 [00:00<?, ?it/s]"
      ]
     },
     "metadata": {},
     "output_type": "display_data"
    },
    {
     "data": {
      "application/vnd.jupyter.widget-view+json": {
       "model_id": "f00994db2a9f40578ce6cccedfe15e84",
       "version_major": 2,
       "version_minor": 0
      },
      "text/plain": [
       "  0%|          | 0/1 [00:00<?, ?it/s]"
      ]
     },
     "metadata": {},
     "output_type": "display_data"
    },
    {
     "data": {
      "application/vnd.jupyter.widget-view+json": {
       "model_id": "4115cd5fd08a471084c3f76c52079086",
       "version_major": 2,
       "version_minor": 0
      },
      "text/plain": [
       "  0%|          | 0/1 [00:00<?, ?it/s]"
      ]
     },
     "metadata": {},
     "output_type": "display_data"
    },
    {
     "data": {
      "application/vnd.jupyter.widget-view+json": {
       "model_id": "f56cd29471f44eac85f6494de6c22276",
       "version_major": 2,
       "version_minor": 0
      },
      "text/plain": [
       "  0%|          | 0/1 [00:00<?, ?it/s]"
      ]
     },
     "metadata": {},
     "output_type": "display_data"
    },
    {
     "data": {
      "application/vnd.jupyter.widget-view+json": {
       "model_id": "1d2124ac03324b749d30a947c75c37af",
       "version_major": 2,
       "version_minor": 0
      },
      "text/plain": [
       "  0%|          | 0/1 [00:00<?, ?it/s]"
      ]
     },
     "metadata": {},
     "output_type": "display_data"
    },
    {
     "data": {
      "application/vnd.jupyter.widget-view+json": {
       "model_id": "266e22c4e11643f9bd52738ca0e9ee55",
       "version_major": 2,
       "version_minor": 0
      },
      "text/plain": [
       "  0%|          | 0/1 [00:00<?, ?it/s]"
      ]
     },
     "metadata": {},
     "output_type": "display_data"
    },
    {
     "name": "stdout",
     "output_type": "stream",
     "text": [
      "Epoch number:39 Loss: 0.1407\n"
     ]
    },
    {
     "data": {
      "application/vnd.jupyter.widget-view+json": {
       "model_id": "434b9601ab534db5b1315f4c07e7f3b9",
       "version_major": 2,
       "version_minor": 0
      },
      "text/plain": [
       "  0%|          | 0/1 [00:00<?, ?it/s]"
      ]
     },
     "metadata": {},
     "output_type": "display_data"
    },
    {
     "data": {
      "application/vnd.jupyter.widget-view+json": {
       "model_id": "e068af298f294637b81a110f7e2cc4e3",
       "version_major": 2,
       "version_minor": 0
      },
      "text/plain": [
       "  0%|          | 0/1 [00:00<?, ?it/s]"
      ]
     },
     "metadata": {},
     "output_type": "display_data"
    },
    {
     "data": {
      "application/vnd.jupyter.widget-view+json": {
       "model_id": "c146d81480d04d1baf8124508155b044",
       "version_major": 2,
       "version_minor": 0
      },
      "text/plain": [
       "  0%|          | 0/1 [00:00<?, ?it/s]"
      ]
     },
     "metadata": {},
     "output_type": "display_data"
    },
    {
     "data": {
      "application/vnd.jupyter.widget-view+json": {
       "model_id": "35ece95c6c7b4095abde4baf470652f7",
       "version_major": 2,
       "version_minor": 0
      },
      "text/plain": [
       "  0%|          | 0/1 [00:00<?, ?it/s]"
      ]
     },
     "metadata": {},
     "output_type": "display_data"
    },
    {
     "data": {
      "application/vnd.jupyter.widget-view+json": {
       "model_id": "f7047b2bd8c84083a3df95b1acce4457",
       "version_major": 2,
       "version_minor": 0
      },
      "text/plain": [
       "  0%|          | 0/1 [00:00<?, ?it/s]"
      ]
     },
     "metadata": {},
     "output_type": "display_data"
    },
    {
     "data": {
      "application/vnd.jupyter.widget-view+json": {
       "model_id": "f5b21ad7356641eeb119331fef61ec80",
       "version_major": 2,
       "version_minor": 0
      },
      "text/plain": [
       "  0%|          | 0/1 [00:00<?, ?it/s]"
      ]
     },
     "metadata": {},
     "output_type": "display_data"
    },
    {
     "data": {
      "application/vnd.jupyter.widget-view+json": {
       "model_id": "6009d7a4067a4eca883f4c20095b15ed",
       "version_major": 2,
       "version_minor": 0
      },
      "text/plain": [
       "  0%|          | 0/1 [00:00<?, ?it/s]"
      ]
     },
     "metadata": {},
     "output_type": "display_data"
    },
    {
     "data": {
      "application/vnd.jupyter.widget-view+json": {
       "model_id": "1bb9e0e165f0410895a95c45bd8e5956",
       "version_major": 2,
       "version_minor": 0
      },
      "text/plain": [
       "  0%|          | 0/1 [00:00<?, ?it/s]"
      ]
     },
     "metadata": {},
     "output_type": "display_data"
    },
    {
     "data": {
      "application/vnd.jupyter.widget-view+json": {
       "model_id": "44d779aa34b0418fbb40b08ce9d3e94d",
       "version_major": 2,
       "version_minor": 0
      },
      "text/plain": [
       "  0%|          | 0/1 [00:00<?, ?it/s]"
      ]
     },
     "metadata": {},
     "output_type": "display_data"
    },
    {
     "data": {
      "application/vnd.jupyter.widget-view+json": {
       "model_id": "63871c3f3e64440aacb2c2241845ff6a",
       "version_major": 2,
       "version_minor": 0
      },
      "text/plain": [
       "  0%|          | 0/1 [00:00<?, ?it/s]"
      ]
     },
     "metadata": {},
     "output_type": "display_data"
    },
    {
     "name": "stdout",
     "output_type": "stream",
     "text": [
      "Epoch number:49 Loss: 0.1366\n"
     ]
    },
    {
     "data": {
      "application/vnd.jupyter.widget-view+json": {
       "model_id": "1410e04e45224befb3eb07dfac3a21a4",
       "version_major": 2,
       "version_minor": 0
      },
      "text/plain": [
       "  0%|          | 0/1 [00:00<?, ?it/s]"
      ]
     },
     "metadata": {},
     "output_type": "display_data"
    },
    {
     "data": {
      "application/vnd.jupyter.widget-view+json": {
       "model_id": "dffb7958ecc1483f8066e7e22a254c6a",
       "version_major": 2,
       "version_minor": 0
      },
      "text/plain": [
       "  0%|          | 0/1 [00:00<?, ?it/s]"
      ]
     },
     "metadata": {},
     "output_type": "display_data"
    },
    {
     "data": {
      "application/vnd.jupyter.widget-view+json": {
       "model_id": "3b713b595b9445748b4df764acac7ad1",
       "version_major": 2,
       "version_minor": 0
      },
      "text/plain": [
       "  0%|          | 0/1 [00:00<?, ?it/s]"
      ]
     },
     "metadata": {},
     "output_type": "display_data"
    },
    {
     "data": {
      "application/vnd.jupyter.widget-view+json": {
       "model_id": "4db92166a67e46c091a136b2360fddfc",
       "version_major": 2,
       "version_minor": 0
      },
      "text/plain": [
       "  0%|          | 0/1 [00:00<?, ?it/s]"
      ]
     },
     "metadata": {},
     "output_type": "display_data"
    },
    {
     "data": {
      "application/vnd.jupyter.widget-view+json": {
       "model_id": "6505e2b000854438b3459db2b5d95db1",
       "version_major": 2,
       "version_minor": 0
      },
      "text/plain": [
       "  0%|          | 0/1 [00:00<?, ?it/s]"
      ]
     },
     "metadata": {},
     "output_type": "display_data"
    },
    {
     "data": {
      "application/vnd.jupyter.widget-view+json": {
       "model_id": "1d2e79af84e1449e8c97ba2259469630",
       "version_major": 2,
       "version_minor": 0
      },
      "text/plain": [
       "  0%|          | 0/1 [00:00<?, ?it/s]"
      ]
     },
     "metadata": {},
     "output_type": "display_data"
    },
    {
     "data": {
      "application/vnd.jupyter.widget-view+json": {
       "model_id": "ee56c0cb919043d9982cd34af6c3ffb3",
       "version_major": 2,
       "version_minor": 0
      },
      "text/plain": [
       "  0%|          | 0/1 [00:00<?, ?it/s]"
      ]
     },
     "metadata": {},
     "output_type": "display_data"
    },
    {
     "data": {
      "application/vnd.jupyter.widget-view+json": {
       "model_id": "c42af7128ac24eb78cc77a8f95b0e434",
       "version_major": 2,
       "version_minor": 0
      },
      "text/plain": [
       "  0%|          | 0/1 [00:00<?, ?it/s]"
      ]
     },
     "metadata": {},
     "output_type": "display_data"
    },
    {
     "data": {
      "application/vnd.jupyter.widget-view+json": {
       "model_id": "23f4626118ee449e97983e00c7342320",
       "version_major": 2,
       "version_minor": 0
      },
      "text/plain": [
       "  0%|          | 0/1 [00:00<?, ?it/s]"
      ]
     },
     "metadata": {},
     "output_type": "display_data"
    },
    {
     "data": {
      "application/vnd.jupyter.widget-view+json": {
       "model_id": "beb8cf55470c4c558af3458825a93012",
       "version_major": 2,
       "version_minor": 0
      },
      "text/plain": [
       "  0%|          | 0/1 [00:00<?, ?it/s]"
      ]
     },
     "metadata": {},
     "output_type": "display_data"
    },
    {
     "name": "stdout",
     "output_type": "stream",
     "text": [
      "Epoch number:59 Loss: 0.1326\n"
     ]
    },
    {
     "data": {
      "application/vnd.jupyter.widget-view+json": {
       "model_id": "9cf06c44521f4394ad69768c4ced20ac",
       "version_major": 2,
       "version_minor": 0
      },
      "text/plain": [
       "  0%|          | 0/1 [00:00<?, ?it/s]"
      ]
     },
     "metadata": {},
     "output_type": "display_data"
    },
    {
     "data": {
      "application/vnd.jupyter.widget-view+json": {
       "model_id": "ce9ca6fa3ac04b439861ace92f372fb1",
       "version_major": 2,
       "version_minor": 0
      },
      "text/plain": [
       "  0%|          | 0/1 [00:00<?, ?it/s]"
      ]
     },
     "metadata": {},
     "output_type": "display_data"
    },
    {
     "data": {
      "application/vnd.jupyter.widget-view+json": {
       "model_id": "590fd82514a94581a3e2c2021f6056b5",
       "version_major": 2,
       "version_minor": 0
      },
      "text/plain": [
       "  0%|          | 0/1 [00:00<?, ?it/s]"
      ]
     },
     "metadata": {},
     "output_type": "display_data"
    },
    {
     "data": {
      "application/vnd.jupyter.widget-view+json": {
       "model_id": "3b0fef9077ed4f2a8504330ff2edd8bb",
       "version_major": 2,
       "version_minor": 0
      },
      "text/plain": [
       "  0%|          | 0/1 [00:00<?, ?it/s]"
      ]
     },
     "metadata": {},
     "output_type": "display_data"
    },
    {
     "data": {
      "application/vnd.jupyter.widget-view+json": {
       "model_id": "7c0821adf784438da8ac08b363b0cbf3",
       "version_major": 2,
       "version_minor": 0
      },
      "text/plain": [
       "  0%|          | 0/1 [00:00<?, ?it/s]"
      ]
     },
     "metadata": {},
     "output_type": "display_data"
    },
    {
     "data": {
      "application/vnd.jupyter.widget-view+json": {
       "model_id": "8bb468ac0e3e4ab091733c93a82fb1b0",
       "version_major": 2,
       "version_minor": 0
      },
      "text/plain": [
       "  0%|          | 0/1 [00:00<?, ?it/s]"
      ]
     },
     "metadata": {},
     "output_type": "display_data"
    },
    {
     "data": {
      "application/vnd.jupyter.widget-view+json": {
       "model_id": "78a896c3c53849e4b1013ae56323eea1",
       "version_major": 2,
       "version_minor": 0
      },
      "text/plain": [
       "  0%|          | 0/1 [00:00<?, ?it/s]"
      ]
     },
     "metadata": {},
     "output_type": "display_data"
    },
    {
     "data": {
      "application/vnd.jupyter.widget-view+json": {
       "model_id": "4d3026ab965a4cc4b48b217d0903767a",
       "version_major": 2,
       "version_minor": 0
      },
      "text/plain": [
       "  0%|          | 0/1 [00:00<?, ?it/s]"
      ]
     },
     "metadata": {},
     "output_type": "display_data"
    },
    {
     "data": {
      "application/vnd.jupyter.widget-view+json": {
       "model_id": "74e720366a6b48b08bd2b5a6c9df692f",
       "version_major": 2,
       "version_minor": 0
      },
      "text/plain": [
       "  0%|          | 0/1 [00:00<?, ?it/s]"
      ]
     },
     "metadata": {},
     "output_type": "display_data"
    },
    {
     "data": {
      "application/vnd.jupyter.widget-view+json": {
       "model_id": "bf571c886d4246f9a4994b0e48691dfb",
       "version_major": 2,
       "version_minor": 0
      },
      "text/plain": [
       "  0%|          | 0/1 [00:00<?, ?it/s]"
      ]
     },
     "metadata": {},
     "output_type": "display_data"
    },
    {
     "name": "stdout",
     "output_type": "stream",
     "text": [
      "Epoch number:69 Loss: 0.1305\n"
     ]
    },
    {
     "data": {
      "application/vnd.jupyter.widget-view+json": {
       "model_id": "bf7e744bbc694667ada824632f4c077e",
       "version_major": 2,
       "version_minor": 0
      },
      "text/plain": [
       "  0%|          | 0/1 [00:00<?, ?it/s]"
      ]
     },
     "metadata": {},
     "output_type": "display_data"
    },
    {
     "data": {
      "application/vnd.jupyter.widget-view+json": {
       "model_id": "a1c89d6016ac495c88ec4828ed9bdbc6",
       "version_major": 2,
       "version_minor": 0
      },
      "text/plain": [
       "  0%|          | 0/1 [00:00<?, ?it/s]"
      ]
     },
     "metadata": {},
     "output_type": "display_data"
    },
    {
     "data": {
      "application/vnd.jupyter.widget-view+json": {
       "model_id": "44d3ed1d463943b7a9860bf2367a3a4e",
       "version_major": 2,
       "version_minor": 0
      },
      "text/plain": [
       "  0%|          | 0/1 [00:00<?, ?it/s]"
      ]
     },
     "metadata": {},
     "output_type": "display_data"
    },
    {
     "data": {
      "application/vnd.jupyter.widget-view+json": {
       "model_id": "8728aa48ea6a4f1a80042237c552eed7",
       "version_major": 2,
       "version_minor": 0
      },
      "text/plain": [
       "  0%|          | 0/1 [00:00<?, ?it/s]"
      ]
     },
     "metadata": {},
     "output_type": "display_data"
    },
    {
     "data": {
      "application/vnd.jupyter.widget-view+json": {
       "model_id": "8b4ba30c631d40aa94a5a07c71b53e55",
       "version_major": 2,
       "version_minor": 0
      },
      "text/plain": [
       "  0%|          | 0/1 [00:00<?, ?it/s]"
      ]
     },
     "metadata": {},
     "output_type": "display_data"
    },
    {
     "data": {
      "application/vnd.jupyter.widget-view+json": {
       "model_id": "8fa171ef0de34d84a51a568477d1440e",
       "version_major": 2,
       "version_minor": 0
      },
      "text/plain": [
       "  0%|          | 0/1 [00:00<?, ?it/s]"
      ]
     },
     "metadata": {},
     "output_type": "display_data"
    },
    {
     "data": {
      "application/vnd.jupyter.widget-view+json": {
       "model_id": "8a957f568d78481087914fbf988e9b62",
       "version_major": 2,
       "version_minor": 0
      },
      "text/plain": [
       "  0%|          | 0/1 [00:00<?, ?it/s]"
      ]
     },
     "metadata": {},
     "output_type": "display_data"
    },
    {
     "data": {
      "application/vnd.jupyter.widget-view+json": {
       "model_id": "2fc110d167774ad28d40f249d5755a69",
       "version_major": 2,
       "version_minor": 0
      },
      "text/plain": [
       "  0%|          | 0/1 [00:00<?, ?it/s]"
      ]
     },
     "metadata": {},
     "output_type": "display_data"
    },
    {
     "data": {
      "application/vnd.jupyter.widget-view+json": {
       "model_id": "db9957d6c6cb42b78e6aaf54019095fb",
       "version_major": 2,
       "version_minor": 0
      },
      "text/plain": [
       "  0%|          | 0/1 [00:00<?, ?it/s]"
      ]
     },
     "metadata": {},
     "output_type": "display_data"
    },
    {
     "data": {
      "application/vnd.jupyter.widget-view+json": {
       "model_id": "e3dcc8cf43364ed3afb68f2c7282ed04",
       "version_major": 2,
       "version_minor": 0
      },
      "text/plain": [
       "  0%|          | 0/1 [00:00<?, ?it/s]"
      ]
     },
     "metadata": {},
     "output_type": "display_data"
    },
    {
     "name": "stdout",
     "output_type": "stream",
     "text": [
      "Epoch number:79 Loss: 0.1273\n"
     ]
    },
    {
     "data": {
      "application/vnd.jupyter.widget-view+json": {
       "model_id": "9454f5bd36604332b9347c7efee7f31d",
       "version_major": 2,
       "version_minor": 0
      },
      "text/plain": [
       "  0%|          | 0/1 [00:00<?, ?it/s]"
      ]
     },
     "metadata": {},
     "output_type": "display_data"
    },
    {
     "data": {
      "application/vnd.jupyter.widget-view+json": {
       "model_id": "8545e8afb4204619923905e5a72f0d1e",
       "version_major": 2,
       "version_minor": 0
      },
      "text/plain": [
       "  0%|          | 0/1 [00:00<?, ?it/s]"
      ]
     },
     "metadata": {},
     "output_type": "display_data"
    },
    {
     "data": {
      "application/vnd.jupyter.widget-view+json": {
       "model_id": "ad7d01de2f3f4485a2fe71f9a1bf6bb6",
       "version_major": 2,
       "version_minor": 0
      },
      "text/plain": [
       "  0%|          | 0/1 [00:00<?, ?it/s]"
      ]
     },
     "metadata": {},
     "output_type": "display_data"
    },
    {
     "data": {
      "application/vnd.jupyter.widget-view+json": {
       "model_id": "5d63ed5b47154386a397cf17a1a8ecdb",
       "version_major": 2,
       "version_minor": 0
      },
      "text/plain": [
       "  0%|          | 0/1 [00:00<?, ?it/s]"
      ]
     },
     "metadata": {},
     "output_type": "display_data"
    },
    {
     "data": {
      "application/vnd.jupyter.widget-view+json": {
       "model_id": "d6d57cd8d5134687b225b9c054aa6063",
       "version_major": 2,
       "version_minor": 0
      },
      "text/plain": [
       "  0%|          | 0/1 [00:00<?, ?it/s]"
      ]
     },
     "metadata": {},
     "output_type": "display_data"
    },
    {
     "data": {
      "application/vnd.jupyter.widget-view+json": {
       "model_id": "37270214293245209a69127155e545d3",
       "version_major": 2,
       "version_minor": 0
      },
      "text/plain": [
       "  0%|          | 0/1 [00:00<?, ?it/s]"
      ]
     },
     "metadata": {},
     "output_type": "display_data"
    },
    {
     "data": {
      "application/vnd.jupyter.widget-view+json": {
       "model_id": "1b33fa6d4103466cbc74e9b6ee4f43cb",
       "version_major": 2,
       "version_minor": 0
      },
      "text/plain": [
       "  0%|          | 0/1 [00:00<?, ?it/s]"
      ]
     },
     "metadata": {},
     "output_type": "display_data"
    },
    {
     "data": {
      "application/vnd.jupyter.widget-view+json": {
       "model_id": "ae6bf827b5c14255920611727b90a91d",
       "version_major": 2,
       "version_minor": 0
      },
      "text/plain": [
       "  0%|          | 0/1 [00:00<?, ?it/s]"
      ]
     },
     "metadata": {},
     "output_type": "display_data"
    },
    {
     "data": {
      "application/vnd.jupyter.widget-view+json": {
       "model_id": "8cd7315ad74343de8333e9dcc5f439ac",
       "version_major": 2,
       "version_minor": 0
      },
      "text/plain": [
       "  0%|          | 0/1 [00:00<?, ?it/s]"
      ]
     },
     "metadata": {},
     "output_type": "display_data"
    },
    {
     "data": {
      "application/vnd.jupyter.widget-view+json": {
       "model_id": "11ce8d6523ed4cb59216cec7ef25ad1b",
       "version_major": 2,
       "version_minor": 0
      },
      "text/plain": [
       "  0%|          | 0/1 [00:00<?, ?it/s]"
      ]
     },
     "metadata": {},
     "output_type": "display_data"
    },
    {
     "name": "stdout",
     "output_type": "stream",
     "text": [
      "Epoch number:89 Loss: 0.1247\n"
     ]
    },
    {
     "data": {
      "application/vnd.jupyter.widget-view+json": {
       "model_id": "2172b5c6e69b41ff899ceca1c41f5fc7",
       "version_major": 2,
       "version_minor": 0
      },
      "text/plain": [
       "  0%|          | 0/1 [00:00<?, ?it/s]"
      ]
     },
     "metadata": {},
     "output_type": "display_data"
    },
    {
     "data": {
      "application/vnd.jupyter.widget-view+json": {
       "model_id": "447b1fdab6a746479510e582fc258aab",
       "version_major": 2,
       "version_minor": 0
      },
      "text/plain": [
       "  0%|          | 0/1 [00:00<?, ?it/s]"
      ]
     },
     "metadata": {},
     "output_type": "display_data"
    },
    {
     "data": {
      "application/vnd.jupyter.widget-view+json": {
       "model_id": "b30eb806278248c98288e1a6cab9fbb7",
       "version_major": 2,
       "version_minor": 0
      },
      "text/plain": [
       "  0%|          | 0/1 [00:00<?, ?it/s]"
      ]
     },
     "metadata": {},
     "output_type": "display_data"
    },
    {
     "data": {
      "application/vnd.jupyter.widget-view+json": {
       "model_id": "c542d7ecf3564c7f968b45b44d180b97",
       "version_major": 2,
       "version_minor": 0
      },
      "text/plain": [
       "  0%|          | 0/1 [00:00<?, ?it/s]"
      ]
     },
     "metadata": {},
     "output_type": "display_data"
    },
    {
     "data": {
      "application/vnd.jupyter.widget-view+json": {
       "model_id": "5f3f54736e1c499eb403720a0a18b106",
       "version_major": 2,
       "version_minor": 0
      },
      "text/plain": [
       "  0%|          | 0/1 [00:00<?, ?it/s]"
      ]
     },
     "metadata": {},
     "output_type": "display_data"
    },
    {
     "data": {
      "application/vnd.jupyter.widget-view+json": {
       "model_id": "49a470563f4c4e769dd3d7bcf362371e",
       "version_major": 2,
       "version_minor": 0
      },
      "text/plain": [
       "  0%|          | 0/1 [00:00<?, ?it/s]"
      ]
     },
     "metadata": {},
     "output_type": "display_data"
    },
    {
     "data": {
      "application/vnd.jupyter.widget-view+json": {
       "model_id": "97583408cb784751a22f88dfe4c61da8",
       "version_major": 2,
       "version_minor": 0
      },
      "text/plain": [
       "  0%|          | 0/1 [00:00<?, ?it/s]"
      ]
     },
     "metadata": {},
     "output_type": "display_data"
    },
    {
     "data": {
      "application/vnd.jupyter.widget-view+json": {
       "model_id": "617bab1056dd461e8b195eefd9ec6a2c",
       "version_major": 2,
       "version_minor": 0
      },
      "text/plain": [
       "  0%|          | 0/1 [00:00<?, ?it/s]"
      ]
     },
     "metadata": {},
     "output_type": "display_data"
    },
    {
     "data": {
      "application/vnd.jupyter.widget-view+json": {
       "model_id": "5696c3e15b2542e689caf65de2e2b035",
       "version_major": 2,
       "version_minor": 0
      },
      "text/plain": [
       "  0%|          | 0/1 [00:00<?, ?it/s]"
      ]
     },
     "metadata": {},
     "output_type": "display_data"
    },
    {
     "data": {
      "application/vnd.jupyter.widget-view+json": {
       "model_id": "c16659b969904626a3549aea3053caf2",
       "version_major": 2,
       "version_minor": 0
      },
      "text/plain": [
       "  0%|          | 0/1 [00:00<?, ?it/s]"
      ]
     },
     "metadata": {},
     "output_type": "display_data"
    },
    {
     "name": "stdout",
     "output_type": "stream",
     "text": [
      "Epoch number:99 Loss: 0.1222\n"
     ]
    },
    {
     "data": {
      "application/vnd.jupyter.widget-view+json": {
       "model_id": "0deadee5ec0046c4b9132fccf50af8b0",
       "version_major": 2,
       "version_minor": 0
      },
      "text/plain": [
       "  0%|          | 0/1 [00:00<?, ?it/s]"
      ]
     },
     "metadata": {},
     "output_type": "display_data"
    },
    {
     "name": "stdout",
     "output_type": "stream",
     "text": [
      "tensor([ 0.4631,  0.0985,  0.4774,  0.0494,  0.0263,  0.2770,  0.3693,  0.1014,\n",
      "         0.1717,  0.6994,  0.1948,  0.3916,  0.1985,  0.3877,  0.1554,  0.0397,\n",
      "         0.1121,  0.1409,  0.0536,  0.1595,  0.1971,  0.3024,  0.3039,  0.0437,\n",
      "         0.0330,  0.1759,  0.2422,  0.1596,  0.1154,  0.1592,  0.3664,  0.0579,\n",
      "         0.0199,  0.2462,  0.1747,  0.4151,  0.1793,  0.2728,  0.0591,  0.2399,\n",
      "         0.1492,  0.0613,  0.1969,  0.6870,  0.1978,  0.0312,  0.0714,  0.1182,\n",
      "         0.2228,  0.0314,  0.1291,  0.0723,  0.0463,  0.1320,  0.0693,  0.0833,\n",
      "         0.1335,  0.2063,  0.0344,  0.0940,  0.1604,  0.1560,  0.1418,  0.1655,\n",
      "         0.2014,  0.3985,  0.0912,  0.7406,  0.1177,  0.1101,  0.0907,  0.4158,\n",
      "         0.0933,  0.1824,  0.1319,  0.7818,  0.5427,  0.1980,  0.1160,  0.0261,\n",
      "         0.2024,  0.1248,  0.2316,  0.2364,  0.4983,  0.4060,  0.2069,  0.5421,\n",
      "         0.0509,  0.0132,  0.6037,  0.4568,  0.0570,  0.1074,  0.6317,  0.7606,\n",
      "         0.1313,  0.1017,  0.0718,  0.0690,  0.0128,  0.4453,  0.1075,  0.1154,\n",
      "         0.0382,  0.0315,  0.0945,  0.4075,  0.0168,  0.3210,  0.1502,  0.3264,\n",
      "         0.0433,  0.5505,  0.2940,  0.0556,  0.0851,  0.0635,  0.1953,  0.0293,\n",
      "         0.6944,  0.0853,  0.4598,  0.0601,  0.3198,  0.1098,  0.0104,  0.3736,\n",
      "         0.1120,  0.0954,  0.0862,  0.1119,  0.8027,  0.3088,  0.1227,  0.1160,\n",
      "         0.1273,  0.1543,  0.1076,  0.1478,  0.2835,  0.1631,  0.1086,  0.1597,\n",
      "         0.1403,  0.3164,  0.0220,  0.1331,  0.1792,  0.1105,  0.1954,  0.2204,\n",
      "         0.2300,  0.2174,  0.0866,  0.1451,  0.0199,  0.0513,  0.1240,  0.1588,\n",
      "         0.1126,  0.0749,  0.0231,  0.0752,  0.2558,  0.2204,  0.4505,  0.0692,\n",
      "         0.1764,  0.3276,  0.4904,  0.0701,  0.1214,  0.1698,  0.1143,  0.4282,\n",
      "         0.0293,  0.2012, -0.0128,  0.1819,  0.2048,  0.0117,  0.0082,  0.1943,\n",
      "         0.1064,  0.2670,  0.0595,  0.1908,  0.5718,  0.0554,  0.3605,  0.4123,\n",
      "         0.4123,  0.1355,  0.0248,  0.1401,  0.0372,  0.1600,  0.0306])\n",
      "tensor([0.5010, 0.0122, 0.6985, 0.0347, 0.1068, 0.5053, 0.1448, 0.0857, 0.2162,\n",
      "        0.8387, 0.3305, 0.3579, 0.1845, 0.3014, 0.0716, 0.0922, 0.0502, 0.1029,\n",
      "        0.0442, 0.1204, 0.1770, 0.0936, 1.0000, 0.0411, 0.0172, 0.1780, 0.2000,\n",
      "        0.1186, 0.0145, 0.0000, 0.5000, 0.0717, 0.0279, 0.1309, 0.0493, 0.5857,\n",
      "        0.1665, 0.1560, 0.0000, 0.0000, 0.2494, 0.0753, 0.4290, 0.6364, 0.2778,\n",
      "        0.0857, 0.0468, 0.0608, 0.1362, 0.0329, 0.1923, 0.1025, 0.0266, 0.0000,\n",
      "        0.0940, 0.0600, 0.2131, 0.0969, 0.0691, 0.0162, 0.1231, 0.0716, 0.1478,\n",
      "        0.0000, 0.1197, 0.3143, 0.2992, 1.0000, 0.0900, 0.0416, 0.0354, 0.2443,\n",
      "        0.1355, 0.0765, 0.1544, 0.8889, 0.7450, 0.1805, 0.0518, 0.0988, 0.3291,\n",
      "        0.0402, 0.1054, 0.1655, 0.4545, 0.2333, 0.1537, 0.5000, 0.0648, 0.0000,\n",
      "        0.7694, 0.5231, 0.0449, 0.0525, 0.6250, 1.0000, 0.1514, 0.0547, 0.0872,\n",
      "        0.0516, 0.0917, 0.5714, 0.0532, 0.0555, 0.0412, 0.0874, 0.0584, 0.5079,\n",
      "        0.0124, 0.3567, 0.0867, 0.7825, 0.0209, 0.5805, 0.3676, 0.0505, 0.1504,\n",
      "        0.0553, 0.1222, 0.0379, 0.6594, 0.0592, 0.4444, 0.0874, 0.5554, 0.0833,\n",
      "        0.0452, 0.1725, 0.1004, 0.0641, 0.0534, 0.0000, 0.9707, 0.4176, 0.1504,\n",
      "        0.0000, 0.0658, 0.2202, 0.0792, 0.1597, 0.5053, 0.1479, 0.0755, 0.0122,\n",
      "        0.1278, 0.2093, 0.0531, 0.0908, 0.2863, 0.0954, 0.2232, 0.2617, 0.0716,\n",
      "        0.0634, 0.0805, 0.0572, 0.0479, 0.1009, 0.1523, 0.1833, 0.0518, 0.0233,\n",
      "        0.0527, 0.0313, 0.5000, 0.2448, 0.4399, 0.0277, 0.0858, 0.7825, 0.3161,\n",
      "        0.0664, 0.1079, 0.2436, 0.1811, 1.0000, 0.0347, 0.0658, 0.0211, 0.0696,\n",
      "        0.1682, 0.0107, 0.0363, 0.1199, 0.0270, 0.2694, 0.0716, 0.1511, 0.8146,\n",
      "        0.0707, 0.3069, 0.3406, 0.4459, 0.1267, 0.0347, 0.1319, 0.0517, 0.0867,\n",
      "        0.0347], dtype=torch.float64)\n",
      "   SP2.InitAccel:median  AntiSaccade3.Velocity:mean  SP3.InitAccel:median  \\\n",
      "0             -0.000089                    0.766994              0.004535   \n",
      "\n",
      "   RT_sa_sum  PD1.Phonation:sum  SP3.Velocity:median  SP2.Velocity1  \\\n",
      "0  26.331906           2.259287             1.621403       1.126089   \n",
      "\n",
      "   RT_A_median  SP1.InitAccel:max  SP2.InitAccel:min  ...  \\\n",
      "0      1.50623            0.01103          -0.025122  ...   \n",
      "\n",
      "   AntiSaccade1.Velocity:std  RT_B_min  SP1.InitAccel:median  RT_A_min  \\\n",
      "0                   0.160916  1.332943             -0.002924  1.277757   \n",
      "\n",
      "   PD1.Phonation:median  AntiSaccade2.Velocity:max  PD1.Phonation:mean  \\\n",
      "0              2.176995                   0.757286            2.242851   \n",
      "\n",
      "     RT_sa1  AntiSaccade5.Velocity:median     소요시간.2  \n",
      "0  3.885682                      0.893592  23.735568  \n",
      "\n",
      "[1 rows x 199 columns]\n",
      "   SP2.InitAccel:median  AntiSaccade3.Velocity:mean  SP3.InitAccel:median  \\\n",
      "0              0.003454                    0.500502              0.044602   \n",
      "\n",
      "   RT_sa_sum  PD1.Phonation:sum  SP3.Velocity:median  SP2.Velocity1  \\\n",
      "0     24.299                8.5              2.89012       0.603929   \n",
      "\n",
      "   RT_A_median  SP1.InitAccel:max  SP2.InitAccel:min  ...  \\\n",
      "0       1.4545           0.019508          -0.001442  ...   \n",
      "\n",
      "   AntiSaccade1.Velocity:std  RT_B_min  SP1.InitAccel:median  RT_A_min  \\\n",
      "0                   0.205444       1.2               -0.0083     1.346   \n",
      "\n",
      "   PD1.Phonation:median  AntiSaccade2.Velocity:max  PD1.Phonation:mean  \\\n",
      "0                  2.05                   0.875739               2.125   \n",
      "\n",
      "   RT_sa1  AntiSaccade5.Velocity:median  소요시간.2  \n",
      "0   4.579                      0.688459  24.299  \n",
      "\n",
      "[1 rows x 199 columns]\n"
     ]
    }
   ],
   "source": [
    "trainset = dataset_module.DataSetForImputation(train_df, normalize=True)  #normalize True for [0,1] normalization for dataframe\n",
    "print(len(trainset))\n",
    "testset = dataset_module.DataSetForImputation(test_df, normalize=True)\n",
    "print(len(testset))\n",
    "\n",
    "net = Modelling.DenoisingAutoEncoder(len(trainset.variables()), theta = 7, input_dropout=0.5)\n",
    "criterion = nn.MSELoss()\n",
    "net = net.to(device) \n",
    "\n",
    "train_loader = td.DataLoader(trainset, batch_size=BATCH_SIZE, shuffle=True, **{})\n",
    "val_loader = td.DataLoader(testset, batch_size=BATCH_SIZE, shuffle=True, **{})\n",
    "\n",
    "optimizer = Adam(net.parameters(), lr = LR)\n",
    "\n",
    "LOG_INTERVAL = 10\n",
    "SAVE_INTERVAL = 50\n",
    "torch.set_printoptions(sci_mode=False)\n",
    "\n",
    "\n",
    "train_model(0,101, net, model_name, train_loader=train_loader, val_loader=val_loader)\n",
    "\n",
    "net = net.eval()\n",
    "print((net(trainset[0][0]).detach()))\n",
    "print(trainset[0][0])\n",
    "\n",
    "net = net.eval()\n",
    "print(trainset.get_denormalized_data((net(trainset[0][0].detach()))))\n",
    "print(trainset.get_denormalized_data(trainset[0][0]))\n"
   ]
  },
  {
   "cell_type": "code",
   "execution_count": 36,
   "metadata": {},
   "outputs": [
    {
     "name": "stdout",
     "output_type": "stream",
     "text": [
      "(289, 200)\n",
      "(289, 52)\n"
     ]
    },
    {
     "data": {
      "text/plain": [
       "(289, 251)"
      ]
     },
     "execution_count": 36,
     "metadata": {},
     "output_type": "execute_result"
    }
   ],
   "source": [
    "fill_test_df= test_model(net=net, test_df=test_df, trainset=trainset, device=device,logger_level=20)\n",
    "fill_test_df['Key'] = test_df_Key.reset_index(drop=True)\n",
    "train_df['Key'] = train_df_Key\n",
    "\n",
    "m_df = pd.concat([fill_test_df, train_df])\n",
    "print(m_df.shape)\n",
    "\n",
    "ls = ['Key']\n",
    "\n",
    "for i in df1.columns:\n",
    "        if i not in m_df.columns: \n",
    "            ls.append(i)\n",
    "\n",
    "the_others = df[ls]\n",
    "print(the_others.shape)\n",
    "\n",
    "df1=pd.merge(m_df,the_others, how='outer',on='Key')\n",
    "df1.shape\n"
   ]
  },
  {
   "cell_type": "code",
   "execution_count": null,
   "metadata": {},
   "outputs": [],
   "source": [
    "df1 = df1[list(df.drop('cutoff',axis=1).columns)]"
   ]
  },
  {
   "cell_type": "markdown",
   "metadata": {},
   "source": [
    "# Saccade 결측치 처리(100 이하만)"
   ]
  },
  {
   "cell_type": "code",
   "execution_count": 39,
   "metadata": {},
   "outputs": [
    {
     "name": "stdout",
     "output_type": "stream",
     "text": [
      "(289, 244)\n",
      "(128, 244)\n",
      "(161, 244)\n"
     ]
    }
   ],
   "source": [
    "nonan_merge = df1.dropna(axis=1)\n",
    "ls = []\n",
    "\n",
    "for i in df1.columns:\n",
    "    if 'Saccade' in i:\n",
    "        ls.append(i)\n",
    "        \n",
    "for c in nonan_merge.columns:\n",
    "    ls.append(c)\n",
    "ls=list(set(ls))\n",
    "\n",
    "m_df = df1[ls]\n",
    "\n",
    "drop_list = []\n",
    "for c in m_df.columns:\n",
    "    if m_df[c].isnull().sum() > 100:\n",
    "        drop_list.append(c)\n",
    "drop_list\n",
    "m_df= m_df.drop(drop_list,axis=1)\n",
    "print(m_df.shape)\n",
    "train_df = m_df.dropna(axis=0)\n",
    "print(train_df.shape)\n",
    "\n",
    "loc_list = []\n",
    "for i in range(len(m_df)):\n",
    "    if m_df.loc[i].isnull().any() == True:\n",
    "        loc_list.append(i)\n",
    "test_df = m_df.loc[loc_list]\n",
    "print(test_df.shape)\n",
    "\n",
    "train_df_Key = train_df['Key']\n",
    "test_df_Key = test_df['Key']\n",
    "train_df= train_df.drop('Key',axis=1)\n",
    "test_df= test_df.drop('Key',axis=1)\n",
    "\n"
   ]
  },
  {
   "cell_type": "code",
   "execution_count": 40,
   "metadata": {},
   "outputs": [
    {
     "name": "stdout",
     "output_type": "stream",
     "text": [
      "128\n",
      "161\n"
     ]
    },
    {
     "name": "stderr",
     "output_type": "stream",
     "text": [
      "c:\\Users\\hOMe_pc\\Anaconda3\\envs\\AIS_mrcnn\\lib\\site-packages\\ipykernel_launcher.py:10: TqdmDeprecationWarning: This function will be removed in tqdm==5.0.0\n",
      "Please use `tqdm.notebook.tqdm` instead of `tqdm.tqdm_notebook`\n",
      "  # Remove the CWD from sys.path while we load stuff.\n"
     ]
    },
    {
     "data": {
      "application/vnd.jupyter.widget-view+json": {
       "model_id": "ec868932d1e34c29a7707256657c7154",
       "version_major": 2,
       "version_minor": 0
      },
      "text/plain": [
       "  0%|          | 0/101 [00:00<?, ?it/s]"
      ]
     },
     "metadata": {},
     "output_type": "display_data"
    },
    {
     "name": "stderr",
     "output_type": "stream",
     "text": [
      "c:\\Users\\hOMe_pc\\Anaconda3\\envs\\AIS_mrcnn\\lib\\site-packages\\ipykernel_launcher.py:15: TqdmDeprecationWarning: This function will be removed in tqdm==5.0.0\n",
      "Please use `tqdm.notebook.tqdm` instead of `tqdm.tqdm_notebook`\n",
      "  from ipykernel import kernelapp as app\n"
     ]
    },
    {
     "data": {
      "application/vnd.jupyter.widget-view+json": {
       "model_id": "5f3f917cf22b4bf696327249f48a2ffc",
       "version_major": 2,
       "version_minor": 0
      },
      "text/plain": [
       "  0%|          | 0/1 [00:00<?, ?it/s]"
      ]
     },
     "metadata": {},
     "output_type": "display_data"
    },
    {
     "data": {
      "application/vnd.jupyter.widget-view+json": {
       "model_id": "86f32c8070cb4ffe9939aaf807aef99b",
       "version_major": 2,
       "version_minor": 0
      },
      "text/plain": [
       "  0%|          | 0/1 [00:00<?, ?it/s]"
      ]
     },
     "metadata": {},
     "output_type": "display_data"
    },
    {
     "data": {
      "application/vnd.jupyter.widget-view+json": {
       "model_id": "bb050b81b25e47d48ede944d6329af3f",
       "version_major": 2,
       "version_minor": 0
      },
      "text/plain": [
       "  0%|          | 0/1 [00:00<?, ?it/s]"
      ]
     },
     "metadata": {},
     "output_type": "display_data"
    },
    {
     "data": {
      "application/vnd.jupyter.widget-view+json": {
       "model_id": "5bef059d3db84cc3ac0dad04850b1d44",
       "version_major": 2,
       "version_minor": 0
      },
      "text/plain": [
       "  0%|          | 0/1 [00:00<?, ?it/s]"
      ]
     },
     "metadata": {},
     "output_type": "display_data"
    },
    {
     "data": {
      "application/vnd.jupyter.widget-view+json": {
       "model_id": "ec664103c387465f9b19f04464b3fbf6",
       "version_major": 2,
       "version_minor": 0
      },
      "text/plain": [
       "  0%|          | 0/1 [00:00<?, ?it/s]"
      ]
     },
     "metadata": {},
     "output_type": "display_data"
    },
    {
     "data": {
      "application/vnd.jupyter.widget-view+json": {
       "model_id": "a9a1eefbd2e94593a86818c0b1918169",
       "version_major": 2,
       "version_minor": 0
      },
      "text/plain": [
       "  0%|          | 0/1 [00:00<?, ?it/s]"
      ]
     },
     "metadata": {},
     "output_type": "display_data"
    },
    {
     "data": {
      "application/vnd.jupyter.widget-view+json": {
       "model_id": "c4b9758aaa794acda45076948dce31b7",
       "version_major": 2,
       "version_minor": 0
      },
      "text/plain": [
       "  0%|          | 0/1 [00:00<?, ?it/s]"
      ]
     },
     "metadata": {},
     "output_type": "display_data"
    },
    {
     "data": {
      "application/vnd.jupyter.widget-view+json": {
       "model_id": "2aba488a18e644cd97c31dcecc454478",
       "version_major": 2,
       "version_minor": 0
      },
      "text/plain": [
       "  0%|          | 0/1 [00:00<?, ?it/s]"
      ]
     },
     "metadata": {},
     "output_type": "display_data"
    },
    {
     "data": {
      "application/vnd.jupyter.widget-view+json": {
       "model_id": "4e4a86352e614a2a98a78e55b11a2008",
       "version_major": 2,
       "version_minor": 0
      },
      "text/plain": [
       "  0%|          | 0/1 [00:00<?, ?it/s]"
      ]
     },
     "metadata": {},
     "output_type": "display_data"
    },
    {
     "data": {
      "application/vnd.jupyter.widget-view+json": {
       "model_id": "c7f0e4c0192a41359684b017d857996f",
       "version_major": 2,
       "version_minor": 0
      },
      "text/plain": [
       "  0%|          | 0/1 [00:00<?, ?it/s]"
      ]
     },
     "metadata": {},
     "output_type": "display_data"
    },
    {
     "name": "stdout",
     "output_type": "stream",
     "text": [
      "Epoch number:9 Loss: 0.1866\n"
     ]
    },
    {
     "data": {
      "application/vnd.jupyter.widget-view+json": {
       "model_id": "d60310eaac3a41ca8af70cce110fc88b",
       "version_major": 2,
       "version_minor": 0
      },
      "text/plain": [
       "  0%|          | 0/1 [00:00<?, ?it/s]"
      ]
     },
     "metadata": {},
     "output_type": "display_data"
    },
    {
     "data": {
      "application/vnd.jupyter.widget-view+json": {
       "model_id": "8a236e90fb2344e4946364646554e642",
       "version_major": 2,
       "version_minor": 0
      },
      "text/plain": [
       "  0%|          | 0/1 [00:00<?, ?it/s]"
      ]
     },
     "metadata": {},
     "output_type": "display_data"
    },
    {
     "data": {
      "application/vnd.jupyter.widget-view+json": {
       "model_id": "91d930ec2ee64291b00174947dfdb87d",
       "version_major": 2,
       "version_minor": 0
      },
      "text/plain": [
       "  0%|          | 0/1 [00:00<?, ?it/s]"
      ]
     },
     "metadata": {},
     "output_type": "display_data"
    },
    {
     "data": {
      "application/vnd.jupyter.widget-view+json": {
       "model_id": "b1fc2862cfe945efa4533387e06fcf52",
       "version_major": 2,
       "version_minor": 0
      },
      "text/plain": [
       "  0%|          | 0/1 [00:00<?, ?it/s]"
      ]
     },
     "metadata": {},
     "output_type": "display_data"
    },
    {
     "data": {
      "application/vnd.jupyter.widget-view+json": {
       "model_id": "ce8e2beaaae5479d81ef9a94588dd45a",
       "version_major": 2,
       "version_minor": 0
      },
      "text/plain": [
       "  0%|          | 0/1 [00:00<?, ?it/s]"
      ]
     },
     "metadata": {},
     "output_type": "display_data"
    },
    {
     "data": {
      "application/vnd.jupyter.widget-view+json": {
       "model_id": "c363357def12423696c5a873e9a70373",
       "version_major": 2,
       "version_minor": 0
      },
      "text/plain": [
       "  0%|          | 0/1 [00:00<?, ?it/s]"
      ]
     },
     "metadata": {},
     "output_type": "display_data"
    },
    {
     "data": {
      "application/vnd.jupyter.widget-view+json": {
       "model_id": "61d31707c7e0483399920c31468f23bd",
       "version_major": 2,
       "version_minor": 0
      },
      "text/plain": [
       "  0%|          | 0/1 [00:00<?, ?it/s]"
      ]
     },
     "metadata": {},
     "output_type": "display_data"
    },
    {
     "data": {
      "application/vnd.jupyter.widget-view+json": {
       "model_id": "1c832eb855f045f1b5343c0826f7cf09",
       "version_major": 2,
       "version_minor": 0
      },
      "text/plain": [
       "  0%|          | 0/1 [00:00<?, ?it/s]"
      ]
     },
     "metadata": {},
     "output_type": "display_data"
    },
    {
     "data": {
      "application/vnd.jupyter.widget-view+json": {
       "model_id": "ccf21b84a1dd4077a147645b6df98358",
       "version_major": 2,
       "version_minor": 0
      },
      "text/plain": [
       "  0%|          | 0/1 [00:00<?, ?it/s]"
      ]
     },
     "metadata": {},
     "output_type": "display_data"
    },
    {
     "data": {
      "application/vnd.jupyter.widget-view+json": {
       "model_id": "9355f865fc2b416281ebac7e635c60a1",
       "version_major": 2,
       "version_minor": 0
      },
      "text/plain": [
       "  0%|          | 0/1 [00:00<?, ?it/s]"
      ]
     },
     "metadata": {},
     "output_type": "display_data"
    },
    {
     "name": "stdout",
     "output_type": "stream",
     "text": [
      "Epoch number:19 Loss: 0.1730\n"
     ]
    },
    {
     "data": {
      "application/vnd.jupyter.widget-view+json": {
       "model_id": "7c4b6b83cd8b4760a4d612ce6d09c4a6",
       "version_major": 2,
       "version_minor": 0
      },
      "text/plain": [
       "  0%|          | 0/1 [00:00<?, ?it/s]"
      ]
     },
     "metadata": {},
     "output_type": "display_data"
    },
    {
     "data": {
      "application/vnd.jupyter.widget-view+json": {
       "model_id": "54ca0b082501425dad6d653a21dcf3cb",
       "version_major": 2,
       "version_minor": 0
      },
      "text/plain": [
       "  0%|          | 0/1 [00:00<?, ?it/s]"
      ]
     },
     "metadata": {},
     "output_type": "display_data"
    },
    {
     "data": {
      "application/vnd.jupyter.widget-view+json": {
       "model_id": "5df143629b1148838da2d437d7a788eb",
       "version_major": 2,
       "version_minor": 0
      },
      "text/plain": [
       "  0%|          | 0/1 [00:00<?, ?it/s]"
      ]
     },
     "metadata": {},
     "output_type": "display_data"
    },
    {
     "data": {
      "application/vnd.jupyter.widget-view+json": {
       "model_id": "8160a0e5ab4d45dca80099d92750887b",
       "version_major": 2,
       "version_minor": 0
      },
      "text/plain": [
       "  0%|          | 0/1 [00:00<?, ?it/s]"
      ]
     },
     "metadata": {},
     "output_type": "display_data"
    },
    {
     "data": {
      "application/vnd.jupyter.widget-view+json": {
       "model_id": "81270cde43c843c88d2b9449ac3b30d4",
       "version_major": 2,
       "version_minor": 0
      },
      "text/plain": [
       "  0%|          | 0/1 [00:00<?, ?it/s]"
      ]
     },
     "metadata": {},
     "output_type": "display_data"
    },
    {
     "data": {
      "application/vnd.jupyter.widget-view+json": {
       "model_id": "901ba02538c14241b031095dc92b4b77",
       "version_major": 2,
       "version_minor": 0
      },
      "text/plain": [
       "  0%|          | 0/1 [00:00<?, ?it/s]"
      ]
     },
     "metadata": {},
     "output_type": "display_data"
    },
    {
     "data": {
      "application/vnd.jupyter.widget-view+json": {
       "model_id": "7a280b2ebc1a4b608e570187dfe76aff",
       "version_major": 2,
       "version_minor": 0
      },
      "text/plain": [
       "  0%|          | 0/1 [00:00<?, ?it/s]"
      ]
     },
     "metadata": {},
     "output_type": "display_data"
    },
    {
     "data": {
      "application/vnd.jupyter.widget-view+json": {
       "model_id": "be5c7f6d64bc4f70aa36f1606cd136d9",
       "version_major": 2,
       "version_minor": 0
      },
      "text/plain": [
       "  0%|          | 0/1 [00:00<?, ?it/s]"
      ]
     },
     "metadata": {},
     "output_type": "display_data"
    },
    {
     "data": {
      "application/vnd.jupyter.widget-view+json": {
       "model_id": "1e74a4e1199b4ac9a5928e396271abd6",
       "version_major": 2,
       "version_minor": 0
      },
      "text/plain": [
       "  0%|          | 0/1 [00:00<?, ?it/s]"
      ]
     },
     "metadata": {},
     "output_type": "display_data"
    },
    {
     "data": {
      "application/vnd.jupyter.widget-view+json": {
       "model_id": "ca04eed7e85d49ffaf08186559150f1b",
       "version_major": 2,
       "version_minor": 0
      },
      "text/plain": [
       "  0%|          | 0/1 [00:00<?, ?it/s]"
      ]
     },
     "metadata": {},
     "output_type": "display_data"
    },
    {
     "name": "stdout",
     "output_type": "stream",
     "text": [
      "Epoch number:29 Loss: 0.1639\n"
     ]
    },
    {
     "data": {
      "application/vnd.jupyter.widget-view+json": {
       "model_id": "8b1cd99020db4847807ef4c9ec16af29",
       "version_major": 2,
       "version_minor": 0
      },
      "text/plain": [
       "  0%|          | 0/1 [00:00<?, ?it/s]"
      ]
     },
     "metadata": {},
     "output_type": "display_data"
    },
    {
     "data": {
      "application/vnd.jupyter.widget-view+json": {
       "model_id": "263d8a9eeb854e6386cac23ae54261e7",
       "version_major": 2,
       "version_minor": 0
      },
      "text/plain": [
       "  0%|          | 0/1 [00:00<?, ?it/s]"
      ]
     },
     "metadata": {},
     "output_type": "display_data"
    },
    {
     "data": {
      "application/vnd.jupyter.widget-view+json": {
       "model_id": "f1d309cbe57145f1a4c0fcea4f30288f",
       "version_major": 2,
       "version_minor": 0
      },
      "text/plain": [
       "  0%|          | 0/1 [00:00<?, ?it/s]"
      ]
     },
     "metadata": {},
     "output_type": "display_data"
    },
    {
     "data": {
      "application/vnd.jupyter.widget-view+json": {
       "model_id": "127b53edc68046f3abe7120e5328e0b6",
       "version_major": 2,
       "version_minor": 0
      },
      "text/plain": [
       "  0%|          | 0/1 [00:00<?, ?it/s]"
      ]
     },
     "metadata": {},
     "output_type": "display_data"
    },
    {
     "data": {
      "application/vnd.jupyter.widget-view+json": {
       "model_id": "cdb4948741554fa2be3d800ceb366d84",
       "version_major": 2,
       "version_minor": 0
      },
      "text/plain": [
       "  0%|          | 0/1 [00:00<?, ?it/s]"
      ]
     },
     "metadata": {},
     "output_type": "display_data"
    },
    {
     "data": {
      "application/vnd.jupyter.widget-view+json": {
       "model_id": "c85242babe3f4885b7be24b75d4a1554",
       "version_major": 2,
       "version_minor": 0
      },
      "text/plain": [
       "  0%|          | 0/1 [00:00<?, ?it/s]"
      ]
     },
     "metadata": {},
     "output_type": "display_data"
    },
    {
     "data": {
      "application/vnd.jupyter.widget-view+json": {
       "model_id": "0e2fbbf188e84610a292814fee855609",
       "version_major": 2,
       "version_minor": 0
      },
      "text/plain": [
       "  0%|          | 0/1 [00:00<?, ?it/s]"
      ]
     },
     "metadata": {},
     "output_type": "display_data"
    },
    {
     "data": {
      "application/vnd.jupyter.widget-view+json": {
       "model_id": "5f00f830e03049638875db287195aa97",
       "version_major": 2,
       "version_minor": 0
      },
      "text/plain": [
       "  0%|          | 0/1 [00:00<?, ?it/s]"
      ]
     },
     "metadata": {},
     "output_type": "display_data"
    },
    {
     "data": {
      "application/vnd.jupyter.widget-view+json": {
       "model_id": "604bfdca4f2a447e8754a0bf37dca4d7",
       "version_major": 2,
       "version_minor": 0
      },
      "text/plain": [
       "  0%|          | 0/1 [00:00<?, ?it/s]"
      ]
     },
     "metadata": {},
     "output_type": "display_data"
    },
    {
     "data": {
      "application/vnd.jupyter.widget-view+json": {
       "model_id": "36d3ac1ed6ca43e2ac5e9eb6d319eb5a",
       "version_major": 2,
       "version_minor": 0
      },
      "text/plain": [
       "  0%|          | 0/1 [00:00<?, ?it/s]"
      ]
     },
     "metadata": {},
     "output_type": "display_data"
    },
    {
     "name": "stdout",
     "output_type": "stream",
     "text": [
      "Epoch number:39 Loss: 0.1556\n"
     ]
    },
    {
     "data": {
      "application/vnd.jupyter.widget-view+json": {
       "model_id": "47a229a9bddb4839aef61c11bfb6485a",
       "version_major": 2,
       "version_minor": 0
      },
      "text/plain": [
       "  0%|          | 0/1 [00:00<?, ?it/s]"
      ]
     },
     "metadata": {},
     "output_type": "display_data"
    },
    {
     "data": {
      "application/vnd.jupyter.widget-view+json": {
       "model_id": "39c84fad091e469ea06193f5438d12ff",
       "version_major": 2,
       "version_minor": 0
      },
      "text/plain": [
       "  0%|          | 0/1 [00:00<?, ?it/s]"
      ]
     },
     "metadata": {},
     "output_type": "display_data"
    },
    {
     "data": {
      "application/vnd.jupyter.widget-view+json": {
       "model_id": "06d6a623be604d76b712608228cc1100",
       "version_major": 2,
       "version_minor": 0
      },
      "text/plain": [
       "  0%|          | 0/1 [00:00<?, ?it/s]"
      ]
     },
     "metadata": {},
     "output_type": "display_data"
    },
    {
     "data": {
      "application/vnd.jupyter.widget-view+json": {
       "model_id": "954540bb2fdd4fab8d0240837ad07423",
       "version_major": 2,
       "version_minor": 0
      },
      "text/plain": [
       "  0%|          | 0/1 [00:00<?, ?it/s]"
      ]
     },
     "metadata": {},
     "output_type": "display_data"
    },
    {
     "data": {
      "application/vnd.jupyter.widget-view+json": {
       "model_id": "d3b17542276f484c8a3e1806d4450883",
       "version_major": 2,
       "version_minor": 0
      },
      "text/plain": [
       "  0%|          | 0/1 [00:00<?, ?it/s]"
      ]
     },
     "metadata": {},
     "output_type": "display_data"
    },
    {
     "data": {
      "application/vnd.jupyter.widget-view+json": {
       "model_id": "dcc4ae98a2b94972bbb628f5b335e887",
       "version_major": 2,
       "version_minor": 0
      },
      "text/plain": [
       "  0%|          | 0/1 [00:00<?, ?it/s]"
      ]
     },
     "metadata": {},
     "output_type": "display_data"
    },
    {
     "data": {
      "application/vnd.jupyter.widget-view+json": {
       "model_id": "d857a25277a54ab5899610f2020b262e",
       "version_major": 2,
       "version_minor": 0
      },
      "text/plain": [
       "  0%|          | 0/1 [00:00<?, ?it/s]"
      ]
     },
     "metadata": {},
     "output_type": "display_data"
    },
    {
     "data": {
      "application/vnd.jupyter.widget-view+json": {
       "model_id": "f5a7a746e3e344889010330050a1330a",
       "version_major": 2,
       "version_minor": 0
      },
      "text/plain": [
       "  0%|          | 0/1 [00:00<?, ?it/s]"
      ]
     },
     "metadata": {},
     "output_type": "display_data"
    },
    {
     "data": {
      "application/vnd.jupyter.widget-view+json": {
       "model_id": "0754913e013748b3b1c35129d735f443",
       "version_major": 2,
       "version_minor": 0
      },
      "text/plain": [
       "  0%|          | 0/1 [00:00<?, ?it/s]"
      ]
     },
     "metadata": {},
     "output_type": "display_data"
    },
    {
     "data": {
      "application/vnd.jupyter.widget-view+json": {
       "model_id": "339f7c19fa244c77ac654171f33603c8",
       "version_major": 2,
       "version_minor": 0
      },
      "text/plain": [
       "  0%|          | 0/1 [00:00<?, ?it/s]"
      ]
     },
     "metadata": {},
     "output_type": "display_data"
    },
    {
     "name": "stdout",
     "output_type": "stream",
     "text": [
      "Epoch number:49 Loss: 0.1516\n"
     ]
    },
    {
     "data": {
      "application/vnd.jupyter.widget-view+json": {
       "model_id": "52a23c98085a4be4bdcd9518f6baf974",
       "version_major": 2,
       "version_minor": 0
      },
      "text/plain": [
       "  0%|          | 0/1 [00:00<?, ?it/s]"
      ]
     },
     "metadata": {},
     "output_type": "display_data"
    },
    {
     "data": {
      "application/vnd.jupyter.widget-view+json": {
       "model_id": "da4ec74b83e34f27b3c82d87b0036524",
       "version_major": 2,
       "version_minor": 0
      },
      "text/plain": [
       "  0%|          | 0/1 [00:00<?, ?it/s]"
      ]
     },
     "metadata": {},
     "output_type": "display_data"
    },
    {
     "data": {
      "application/vnd.jupyter.widget-view+json": {
       "model_id": "aeb7ee606ea7420badd201ed7b811d4e",
       "version_major": 2,
       "version_minor": 0
      },
      "text/plain": [
       "  0%|          | 0/1 [00:00<?, ?it/s]"
      ]
     },
     "metadata": {},
     "output_type": "display_data"
    },
    {
     "data": {
      "application/vnd.jupyter.widget-view+json": {
       "model_id": "3d568047ce0a491aa275dc80c0638647",
       "version_major": 2,
       "version_minor": 0
      },
      "text/plain": [
       "  0%|          | 0/1 [00:00<?, ?it/s]"
      ]
     },
     "metadata": {},
     "output_type": "display_data"
    },
    {
     "data": {
      "application/vnd.jupyter.widget-view+json": {
       "model_id": "928f7b29015e425c8f47b81776e377a5",
       "version_major": 2,
       "version_minor": 0
      },
      "text/plain": [
       "  0%|          | 0/1 [00:00<?, ?it/s]"
      ]
     },
     "metadata": {},
     "output_type": "display_data"
    },
    {
     "data": {
      "application/vnd.jupyter.widget-view+json": {
       "model_id": "0bd0a6ea814f41ffb98ede66938a3f3e",
       "version_major": 2,
       "version_minor": 0
      },
      "text/plain": [
       "  0%|          | 0/1 [00:00<?, ?it/s]"
      ]
     },
     "metadata": {},
     "output_type": "display_data"
    },
    {
     "data": {
      "application/vnd.jupyter.widget-view+json": {
       "model_id": "62ecc832b05c4f1293a5f7ccbbef1b2d",
       "version_major": 2,
       "version_minor": 0
      },
      "text/plain": [
       "  0%|          | 0/1 [00:00<?, ?it/s]"
      ]
     },
     "metadata": {},
     "output_type": "display_data"
    },
    {
     "data": {
      "application/vnd.jupyter.widget-view+json": {
       "model_id": "12be91d72f3d4c088ccfe7b1b52f6b1b",
       "version_major": 2,
       "version_minor": 0
      },
      "text/plain": [
       "  0%|          | 0/1 [00:00<?, ?it/s]"
      ]
     },
     "metadata": {},
     "output_type": "display_data"
    },
    {
     "data": {
      "application/vnd.jupyter.widget-view+json": {
       "model_id": "7bca3028ed454b248e57065ba5c2a99e",
       "version_major": 2,
       "version_minor": 0
      },
      "text/plain": [
       "  0%|          | 0/1 [00:00<?, ?it/s]"
      ]
     },
     "metadata": {},
     "output_type": "display_data"
    },
    {
     "data": {
      "application/vnd.jupyter.widget-view+json": {
       "model_id": "4bde2d42814440de9559fc66ab7b5427",
       "version_major": 2,
       "version_minor": 0
      },
      "text/plain": [
       "  0%|          | 0/1 [00:00<?, ?it/s]"
      ]
     },
     "metadata": {},
     "output_type": "display_data"
    },
    {
     "name": "stdout",
     "output_type": "stream",
     "text": [
      "Epoch number:59 Loss: 0.1473\n"
     ]
    },
    {
     "data": {
      "application/vnd.jupyter.widget-view+json": {
       "model_id": "67c04bc1f3d240c0ae11f7ad6bb9c51c",
       "version_major": 2,
       "version_minor": 0
      },
      "text/plain": [
       "  0%|          | 0/1 [00:00<?, ?it/s]"
      ]
     },
     "metadata": {},
     "output_type": "display_data"
    },
    {
     "data": {
      "application/vnd.jupyter.widget-view+json": {
       "model_id": "b89d7e41ede2478aa7601b763f6b30bc",
       "version_major": 2,
       "version_minor": 0
      },
      "text/plain": [
       "  0%|          | 0/1 [00:00<?, ?it/s]"
      ]
     },
     "metadata": {},
     "output_type": "display_data"
    },
    {
     "data": {
      "application/vnd.jupyter.widget-view+json": {
       "model_id": "b2594cb374d34744945f9ce61c0f06fa",
       "version_major": 2,
       "version_minor": 0
      },
      "text/plain": [
       "  0%|          | 0/1 [00:00<?, ?it/s]"
      ]
     },
     "metadata": {},
     "output_type": "display_data"
    },
    {
     "data": {
      "application/vnd.jupyter.widget-view+json": {
       "model_id": "b434f151f2e64e629020287246ad916a",
       "version_major": 2,
       "version_minor": 0
      },
      "text/plain": [
       "  0%|          | 0/1 [00:00<?, ?it/s]"
      ]
     },
     "metadata": {},
     "output_type": "display_data"
    },
    {
     "data": {
      "application/vnd.jupyter.widget-view+json": {
       "model_id": "880b0eacee654c489ce0575841e223d3",
       "version_major": 2,
       "version_minor": 0
      },
      "text/plain": [
       "  0%|          | 0/1 [00:00<?, ?it/s]"
      ]
     },
     "metadata": {},
     "output_type": "display_data"
    },
    {
     "data": {
      "application/vnd.jupyter.widget-view+json": {
       "model_id": "35b04887975042bb9bbbc0b1265d257f",
       "version_major": 2,
       "version_minor": 0
      },
      "text/plain": [
       "  0%|          | 0/1 [00:00<?, ?it/s]"
      ]
     },
     "metadata": {},
     "output_type": "display_data"
    },
    {
     "data": {
      "application/vnd.jupyter.widget-view+json": {
       "model_id": "f349b86299944b0b96ec16c6cd6d1601",
       "version_major": 2,
       "version_minor": 0
      },
      "text/plain": [
       "  0%|          | 0/1 [00:00<?, ?it/s]"
      ]
     },
     "metadata": {},
     "output_type": "display_data"
    },
    {
     "data": {
      "application/vnd.jupyter.widget-view+json": {
       "model_id": "3a9131cad3a9449184f96d37f9fc81c2",
       "version_major": 2,
       "version_minor": 0
      },
      "text/plain": [
       "  0%|          | 0/1 [00:00<?, ?it/s]"
      ]
     },
     "metadata": {},
     "output_type": "display_data"
    },
    {
     "data": {
      "application/vnd.jupyter.widget-view+json": {
       "model_id": "b6cdab40f30445ef8f7b725fef4d825d",
       "version_major": 2,
       "version_minor": 0
      },
      "text/plain": [
       "  0%|          | 0/1 [00:00<?, ?it/s]"
      ]
     },
     "metadata": {},
     "output_type": "display_data"
    },
    {
     "data": {
      "application/vnd.jupyter.widget-view+json": {
       "model_id": "790f3bb1d89b43bf9c3b2cb742d9f582",
       "version_major": 2,
       "version_minor": 0
      },
      "text/plain": [
       "  0%|          | 0/1 [00:00<?, ?it/s]"
      ]
     },
     "metadata": {},
     "output_type": "display_data"
    },
    {
     "name": "stdout",
     "output_type": "stream",
     "text": [
      "Epoch number:69 Loss: 0.1426\n"
     ]
    },
    {
     "data": {
      "application/vnd.jupyter.widget-view+json": {
       "model_id": "75eff3a9761f41b59eab70d560b2120f",
       "version_major": 2,
       "version_minor": 0
      },
      "text/plain": [
       "  0%|          | 0/1 [00:00<?, ?it/s]"
      ]
     },
     "metadata": {},
     "output_type": "display_data"
    },
    {
     "data": {
      "application/vnd.jupyter.widget-view+json": {
       "model_id": "df6c2030537a46ceb262c5bc8fbf6bbf",
       "version_major": 2,
       "version_minor": 0
      },
      "text/plain": [
       "  0%|          | 0/1 [00:00<?, ?it/s]"
      ]
     },
     "metadata": {},
     "output_type": "display_data"
    },
    {
     "data": {
      "application/vnd.jupyter.widget-view+json": {
       "model_id": "7a8d8ef99c0d482eaa7cd489deef3575",
       "version_major": 2,
       "version_minor": 0
      },
      "text/plain": [
       "  0%|          | 0/1 [00:00<?, ?it/s]"
      ]
     },
     "metadata": {},
     "output_type": "display_data"
    },
    {
     "data": {
      "application/vnd.jupyter.widget-view+json": {
       "model_id": "d498ebdc9f114488b1745514d124d888",
       "version_major": 2,
       "version_minor": 0
      },
      "text/plain": [
       "  0%|          | 0/1 [00:00<?, ?it/s]"
      ]
     },
     "metadata": {},
     "output_type": "display_data"
    },
    {
     "data": {
      "application/vnd.jupyter.widget-view+json": {
       "model_id": "fa651f90ae08479eb21f0cb76038b24d",
       "version_major": 2,
       "version_minor": 0
      },
      "text/plain": [
       "  0%|          | 0/1 [00:00<?, ?it/s]"
      ]
     },
     "metadata": {},
     "output_type": "display_data"
    },
    {
     "data": {
      "application/vnd.jupyter.widget-view+json": {
       "model_id": "6915ff591717474ca96dea29823801f1",
       "version_major": 2,
       "version_minor": 0
      },
      "text/plain": [
       "  0%|          | 0/1 [00:00<?, ?it/s]"
      ]
     },
     "metadata": {},
     "output_type": "display_data"
    },
    {
     "data": {
      "application/vnd.jupyter.widget-view+json": {
       "model_id": "ff840ca812b24395a52a9546a2256097",
       "version_major": 2,
       "version_minor": 0
      },
      "text/plain": [
       "  0%|          | 0/1 [00:00<?, ?it/s]"
      ]
     },
     "metadata": {},
     "output_type": "display_data"
    },
    {
     "data": {
      "application/vnd.jupyter.widget-view+json": {
       "model_id": "60f21fb2bc96407db4927aa8ead7abb4",
       "version_major": 2,
       "version_minor": 0
      },
      "text/plain": [
       "  0%|          | 0/1 [00:00<?, ?it/s]"
      ]
     },
     "metadata": {},
     "output_type": "display_data"
    },
    {
     "data": {
      "application/vnd.jupyter.widget-view+json": {
       "model_id": "1217d4b43ee94b84bd4b4d12500e7088",
       "version_major": 2,
       "version_minor": 0
      },
      "text/plain": [
       "  0%|          | 0/1 [00:00<?, ?it/s]"
      ]
     },
     "metadata": {},
     "output_type": "display_data"
    },
    {
     "data": {
      "application/vnd.jupyter.widget-view+json": {
       "model_id": "9faa84b7b2d144f093372473f7f06ee4",
       "version_major": 2,
       "version_minor": 0
      },
      "text/plain": [
       "  0%|          | 0/1 [00:00<?, ?it/s]"
      ]
     },
     "metadata": {},
     "output_type": "display_data"
    },
    {
     "name": "stdout",
     "output_type": "stream",
     "text": [
      "Epoch number:79 Loss: 0.1387\n"
     ]
    },
    {
     "data": {
      "application/vnd.jupyter.widget-view+json": {
       "model_id": "d254c5a8e8e649a78483778a72da36b7",
       "version_major": 2,
       "version_minor": 0
      },
      "text/plain": [
       "  0%|          | 0/1 [00:00<?, ?it/s]"
      ]
     },
     "metadata": {},
     "output_type": "display_data"
    },
    {
     "data": {
      "application/vnd.jupyter.widget-view+json": {
       "model_id": "b2c2925bcc75486c979dcc408b0351c0",
       "version_major": 2,
       "version_minor": 0
      },
      "text/plain": [
       "  0%|          | 0/1 [00:00<?, ?it/s]"
      ]
     },
     "metadata": {},
     "output_type": "display_data"
    },
    {
     "data": {
      "application/vnd.jupyter.widget-view+json": {
       "model_id": "62943529d94143f2863e7405aa372f1e",
       "version_major": 2,
       "version_minor": 0
      },
      "text/plain": [
       "  0%|          | 0/1 [00:00<?, ?it/s]"
      ]
     },
     "metadata": {},
     "output_type": "display_data"
    },
    {
     "data": {
      "application/vnd.jupyter.widget-view+json": {
       "model_id": "3cf7692b9e334cc69a0123db5a1e2247",
       "version_major": 2,
       "version_minor": 0
      },
      "text/plain": [
       "  0%|          | 0/1 [00:00<?, ?it/s]"
      ]
     },
     "metadata": {},
     "output_type": "display_data"
    },
    {
     "data": {
      "application/vnd.jupyter.widget-view+json": {
       "model_id": "2747b508584e4496b54e509e7de1cb3c",
       "version_major": 2,
       "version_minor": 0
      },
      "text/plain": [
       "  0%|          | 0/1 [00:00<?, ?it/s]"
      ]
     },
     "metadata": {},
     "output_type": "display_data"
    },
    {
     "data": {
      "application/vnd.jupyter.widget-view+json": {
       "model_id": "def15c65e62a401aaf30f50833928706",
       "version_major": 2,
       "version_minor": 0
      },
      "text/plain": [
       "  0%|          | 0/1 [00:00<?, ?it/s]"
      ]
     },
     "metadata": {},
     "output_type": "display_data"
    },
    {
     "data": {
      "application/vnd.jupyter.widget-view+json": {
       "model_id": "c840de0e7a5b4ba497fa2112ca2f9bf9",
       "version_major": 2,
       "version_minor": 0
      },
      "text/plain": [
       "  0%|          | 0/1 [00:00<?, ?it/s]"
      ]
     },
     "metadata": {},
     "output_type": "display_data"
    },
    {
     "data": {
      "application/vnd.jupyter.widget-view+json": {
       "model_id": "114b2059a3764797b7fda59307265146",
       "version_major": 2,
       "version_minor": 0
      },
      "text/plain": [
       "  0%|          | 0/1 [00:00<?, ?it/s]"
      ]
     },
     "metadata": {},
     "output_type": "display_data"
    },
    {
     "data": {
      "application/vnd.jupyter.widget-view+json": {
       "model_id": "3ecdbc4e268343a388c1b7869b47c255",
       "version_major": 2,
       "version_minor": 0
      },
      "text/plain": [
       "  0%|          | 0/1 [00:00<?, ?it/s]"
      ]
     },
     "metadata": {},
     "output_type": "display_data"
    },
    {
     "data": {
      "application/vnd.jupyter.widget-view+json": {
       "model_id": "f4f2c5e8579c4763a77228be15345707",
       "version_major": 2,
       "version_minor": 0
      },
      "text/plain": [
       "  0%|          | 0/1 [00:00<?, ?it/s]"
      ]
     },
     "metadata": {},
     "output_type": "display_data"
    },
    {
     "name": "stdout",
     "output_type": "stream",
     "text": [
      "Epoch number:89 Loss: 0.1349\n"
     ]
    },
    {
     "data": {
      "application/vnd.jupyter.widget-view+json": {
       "model_id": "45db281cd5f543ffb651bc72ea0099b4",
       "version_major": 2,
       "version_minor": 0
      },
      "text/plain": [
       "  0%|          | 0/1 [00:00<?, ?it/s]"
      ]
     },
     "metadata": {},
     "output_type": "display_data"
    },
    {
     "data": {
      "application/vnd.jupyter.widget-view+json": {
       "model_id": "03f5e851078a4f4cb508bc141da7b514",
       "version_major": 2,
       "version_minor": 0
      },
      "text/plain": [
       "  0%|          | 0/1 [00:00<?, ?it/s]"
      ]
     },
     "metadata": {},
     "output_type": "display_data"
    },
    {
     "data": {
      "application/vnd.jupyter.widget-view+json": {
       "model_id": "8a0bc20f5e31439dbc57cb2eba9534b7",
       "version_major": 2,
       "version_minor": 0
      },
      "text/plain": [
       "  0%|          | 0/1 [00:00<?, ?it/s]"
      ]
     },
     "metadata": {},
     "output_type": "display_data"
    },
    {
     "data": {
      "application/vnd.jupyter.widget-view+json": {
       "model_id": "e0bc68131024450c98745433f5e1772b",
       "version_major": 2,
       "version_minor": 0
      },
      "text/plain": [
       "  0%|          | 0/1 [00:00<?, ?it/s]"
      ]
     },
     "metadata": {},
     "output_type": "display_data"
    },
    {
     "data": {
      "application/vnd.jupyter.widget-view+json": {
       "model_id": "ae5be321167443269011bcf7942da522",
       "version_major": 2,
       "version_minor": 0
      },
      "text/plain": [
       "  0%|          | 0/1 [00:00<?, ?it/s]"
      ]
     },
     "metadata": {},
     "output_type": "display_data"
    },
    {
     "data": {
      "application/vnd.jupyter.widget-view+json": {
       "model_id": "4a260abe4b974ddcaed8960da2d4db8e",
       "version_major": 2,
       "version_minor": 0
      },
      "text/plain": [
       "  0%|          | 0/1 [00:00<?, ?it/s]"
      ]
     },
     "metadata": {},
     "output_type": "display_data"
    },
    {
     "data": {
      "application/vnd.jupyter.widget-view+json": {
       "model_id": "ce16585ff1034b7e842c4a8b1f38d721",
       "version_major": 2,
       "version_minor": 0
      },
      "text/plain": [
       "  0%|          | 0/1 [00:00<?, ?it/s]"
      ]
     },
     "metadata": {},
     "output_type": "display_data"
    },
    {
     "data": {
      "application/vnd.jupyter.widget-view+json": {
       "model_id": "c44e694062d94dd1836c550c87b9c376",
       "version_major": 2,
       "version_minor": 0
      },
      "text/plain": [
       "  0%|          | 0/1 [00:00<?, ?it/s]"
      ]
     },
     "metadata": {},
     "output_type": "display_data"
    },
    {
     "data": {
      "application/vnd.jupyter.widget-view+json": {
       "model_id": "5535765136604a21b4ac38a23f99e5aa",
       "version_major": 2,
       "version_minor": 0
      },
      "text/plain": [
       "  0%|          | 0/1 [00:00<?, ?it/s]"
      ]
     },
     "metadata": {},
     "output_type": "display_data"
    },
    {
     "data": {
      "application/vnd.jupyter.widget-view+json": {
       "model_id": "7d1eed04a67b4547aa7cf99c3c0dd3c7",
       "version_major": 2,
       "version_minor": 0
      },
      "text/plain": [
       "  0%|          | 0/1 [00:00<?, ?it/s]"
      ]
     },
     "metadata": {},
     "output_type": "display_data"
    },
    {
     "name": "stdout",
     "output_type": "stream",
     "text": [
      "Epoch number:99 Loss: 0.1330\n"
     ]
    },
    {
     "data": {
      "application/vnd.jupyter.widget-view+json": {
       "model_id": "65b58a95a8f5469397c8123be4baa829",
       "version_major": 2,
       "version_minor": 0
      },
      "text/plain": [
       "  0%|          | 0/1 [00:00<?, ?it/s]"
      ]
     },
     "metadata": {},
     "output_type": "display_data"
    },
    {
     "name": "stdout",
     "output_type": "stream",
     "text": [
      "tensor([nan, nan, nan, nan, nan, nan, nan, nan, nan, nan, nan, nan, nan, nan, nan, nan, nan, nan, nan, nan, nan, nan, nan, nan,\n",
      "        nan, nan, nan, nan, nan, nan, nan, nan, nan, nan, nan, nan, nan, nan, nan, nan, nan, nan, nan, nan, nan, nan, nan, nan,\n",
      "        nan, nan, nan, nan, nan, nan, nan, nan, nan, nan, nan, nan, nan, nan, nan, nan, nan, nan, nan, nan, nan, nan, nan, nan,\n",
      "        nan, nan, nan, nan, nan, nan, nan, nan, nan, nan, nan, nan, nan, nan, nan, nan, nan, nan, nan, nan, nan, nan, nan, nan,\n",
      "        nan, nan, nan, nan, nan, nan, nan, nan, nan, nan, nan, nan, nan, nan, nan, nan, nan, nan, nan, nan, nan, nan, nan, nan,\n",
      "        nan, nan, nan, nan, nan, nan, nan, nan, nan, nan, nan, nan, nan, nan, nan, nan, nan, nan, nan, nan, nan, nan, nan, nan,\n",
      "        nan, nan, nan, nan, nan, nan, nan, nan, nan, nan, nan, nan, nan, nan, nan, nan, nan, nan, nan, nan, nan, nan, nan, nan,\n",
      "        nan, nan, nan, nan, nan, nan, nan, nan, nan, nan, nan, nan, nan, nan, nan, nan, nan, nan, nan, nan, nan, nan, nan, nan,\n",
      "        nan, nan, nan, nan, nan, nan, nan, nan, nan, nan, nan, nan, nan, nan, nan, nan, nan, nan, nan, nan, nan, nan, nan, nan,\n",
      "        nan, nan, nan, nan, nan, nan, nan, nan, nan, nan, nan, nan, nan, nan, nan, nan, nan, nan, nan, nan, nan, nan, nan, nan,\n",
      "        nan, nan, nan])\n",
      "tensor([0.2102, 0.4651, 0.2823, 0.6052, 0.3762, 0.1451, 0.3091, 0.3247, 0.2220,\n",
      "        0.6187, 0.3260, 0.6586, 0.0000, 0.4502, 0.1635, 0.3580, 0.3489, 0.3138,\n",
      "        0.1418, 0.0081, 0.1953, 0.2289, 0.2763, 0.1787, 0.1152, 0.1759, 0.2583,\n",
      "        0.0621, 0.0338, 0.0881, 0.1193, 0.2400, 0.4147, 0.2823, 0.3400, 0.0000,\n",
      "        0.2077, 0.0596, 0.2133, 0.2879, 0.5602, 0.6071, 0.6010, 0.0438, 0.1308,\n",
      "        0.1928, 0.1573, 0.3265, 0.0000, 0.2097, 0.1610, 1.0000, 0.2250, 0.3214,\n",
      "        0.2683, 0.1083, 0.0870, 0.3650, 0.1919, 0.1208, 0.0977, 0.1371, 0.0613,\n",
      "        0.0000, 0.0633, 0.1280, 0.1282, 0.5325, 0.0251, 0.1335, 0.3515, 0.3081,\n",
      "        0.0747, 0.0000, 0.3626, 0.2776, 0.2323, 0.1393, 1.0000, 0.4383, 0.0795,\n",
      "        0.0930, 0.7743, 0.4254, 0.3378, 0.3048, 0.4139, 0.0757, 0.4626, 0.4011,\n",
      "        0.2928, 0.1612, 0.8750, 0.5093, 0.2761, 0.2782, 0.0770, 0.1653, 0.0946,\n",
      "        0.1109, 0.6521, 0.4539, 0.3707, 0.0909, 0.0190, 0.4873, 0.2848, 0.0139,\n",
      "        0.6667, 0.1852, 0.5025, 0.0000, 0.7245, 0.0310, 0.3550, 0.0253, 0.3056,\n",
      "        0.5000, 1.0000, 0.0846, 0.2573, 0.3489, 0.4753, 0.1466, 0.1516, 0.0496,\n",
      "        0.5715, 0.2857, 0.0922, 0.2802, 0.2288, 0.0451, 0.0555, 0.4607, 0.1758,\n",
      "        0.0157, 0.2258, 0.3156, 0.2379, 0.1914, 0.0891, 0.5902, 0.4194, 0.2764,\n",
      "        0.0191, 0.6028, 0.5225, 0.2131, 0.7777, 0.3880, 0.1623, 0.1569, 0.0555,\n",
      "        0.1959, 0.2188, 0.0668, 0.2861, 0.3583, 0.2308, 0.3391, 0.0000, 0.8642,\n",
      "        0.2730, 0.0370, 0.0000, 0.2519, 0.2008, 0.0892, 0.4492, 0.1227, 0.0468,\n",
      "        0.5576, 0.3091, 0.2823, 0.2642, 0.1739, 0.0096, 0.0943, 0.1363, 0.0949,\n",
      "        0.0218, 0.2196, 0.2915, 0.5388, 0.5737, 0.5785, 0.0910, 0.6010, 0.0814,\n",
      "        0.0280, 0.0600, 0.3156, 0.5737, 0.2220, 0.2782, 0.4406, 0.0479, 0.3305,\n",
      "        0.0733, 0.1162, 0.6071, 0.1613, 0.4547, 0.7450, 0.2234, 0.1914, 0.2288,\n",
      "        0.2500, 0.5324, 0.3269, 0.2075, 0.1289, 0.0816,    nan, 0.2552, 0.3762,\n",
      "        0.1785, 0.0825, 0.0972, 0.4743, 0.0846, 0.2148, 0.5213, 0.0789, 0.2425,\n",
      "        0.9350, 0.3250, 0.2130, 0.4139, 0.1432, 0.6326, 0.7897, 0.5017, 0.3551,\n",
      "        0.5046, 0.2455, 0.4616, 0.1482, 0.2933, 0.1618, 0.2379, 0.2876, 0.3762],\n",
      "       dtype=torch.float64)\n"
     ]
    }
   ],
   "source": [
    "trainset = dataset_module.DataSetForImputation(train_df, normalize=True)  #normalize True for [0,1] normalization for dataframe\n",
    "print(len(trainset))\n",
    "testset = dataset_module.DataSetForImputation(test_df, normalize=True)\n",
    "print(len(testset))\n",
    "\n",
    "net = Modelling.DenoisingAutoEncoder(len(trainset.variables()), theta = 7, input_dropout=0.5)\n",
    "criterion = nn.MSELoss()\n",
    "net = net.to(device) \n",
    "\n",
    "train_loader = td.DataLoader(trainset, batch_size=BATCH_SIZE, shuffle=True, **{})\n",
    "val_loader = td.DataLoader(testset, batch_size=BATCH_SIZE, shuffle=True, **{})\n",
    "\n",
    "optimizer = Adam(net.parameters(), lr = LR)\n",
    "\n",
    "LOG_INTERVAL = 10\n",
    "SAVE_INTERVAL = 50\n",
    "torch.set_printoptions(sci_mode=False)\n",
    "\n",
    "\n",
    "train_model(0,101, net, model_name, train_loader=train_loader, val_loader=val_loader)\n",
    "\n",
    "net = net.eval()\n",
    "print((net(trainset[0][0]).detach()))\n",
    "print(trainset[0][0])\n",
    "\n",
    "net = net.eval()\n"
   ]
  },
  {
   "cell_type": "code",
   "execution_count": 41,
   "metadata": {},
   "outputs": [
    {
     "name": "stdout",
     "output_type": "stream",
     "text": [
      "(289, 244)\n",
      "(289, 8)\n"
     ]
    },
    {
     "data": {
      "text/plain": [
       "소요시간                            0\n",
       "RT_A3                           0\n",
       "RT_A4                           0\n",
       "RT_A5                           0\n",
       "RT_A8                           0\n",
       "                               ..\n",
       "AntiSaccade5.Velocity:median    0\n",
       "AntiSaccade5.Velocity:std       0\n",
       "AntiSaccade5.Velocity:min       0\n",
       "AntiSaccade5.Velocity:max       0\n",
       "Key                             0\n",
       "Length: 251, dtype: int64"
      ]
     },
     "execution_count": 41,
     "metadata": {},
     "output_type": "execute_result"
    }
   ],
   "source": [
    "fill_test_df= test_model(net=net, test_df=test_df, trainset=trainset, device=device,logger_level=20)\n",
    "fill_test_df['Key'] = test_df_Key.reset_index(drop=True)\n",
    "train_df['Key'] = train_df_Key\n",
    "\n",
    "m_df = pd.concat([fill_test_df, train_df])\n",
    "print(m_df.shape)\n",
    "\n",
    "ls = ['Key']\n",
    "\n",
    "for i in df1.columns:\n",
    "        if i not in m_df.columns: # SP + Neuropsychology 외의 피처\n",
    "            ls.append(i)\n",
    "\n",
    "the_others = df[ls]\n",
    "print(the_others.shape)\n",
    "\n",
    "df1=pd.merge(m_df,the_others, how='outer',on='Key')\n",
    "df1 = df1[list(df.drop('cutoff',axis=1).columns)]\n",
    "df1.isnull().sum()"
   ]
  },
  {
   "cell_type": "code",
   "execution_count": null,
   "metadata": {},
   "outputs": [],
   "source": [
    "df1 = df1[list(df.drop('cutoff',axis=1).columns)]"
   ]
  },
  {
   "cell_type": "markdown",
   "metadata": {},
   "source": [
    "# Saccade"
   ]
  },
  {
   "cell_type": "code",
   "execution_count": 44,
   "metadata": {},
   "outputs": [
    {
     "name": "stdout",
     "output_type": "stream",
     "text": [
      "(289, 244)\n",
      "(196, 244)\n",
      "(93, 244)\n"
     ]
    }
   ],
   "source": [
    "nonan_merge = df1.dropna(axis=1)\n",
    "ls = []\n",
    "\n",
    "for i in df1.columns:\n",
    "    if 'Saccade' in i:\n",
    "        ls.append(i)\n",
    "        \n",
    "for c in nonan_merge.columns:\n",
    "    ls.append(c)\n",
    "ls=list(set(ls))\n",
    "\n",
    "m_df = df1[ls]\n",
    "\n",
    "drop_list = []\n",
    "for c in m_df.columns:\n",
    "    if m_df[c].isnull().sum() > 100:\n",
    "        drop_list.append(c)\n",
    "drop_list\n",
    "m_df= m_df.drop(drop_list,axis=1)\n",
    "print(m_df.shape)\n",
    "train_df = m_df.dropna(axis=0)\n",
    "print(train_df.shape)\n",
    "\n",
    "loc_list = []\n",
    "for i in range(len(m_df)):\n",
    "    if m_df.loc[i].isnull().any() == True:\n",
    "        loc_list.append(i)\n",
    "test_df = m_df.loc[loc_list]\n",
    "print(test_df.shape)\n",
    "\n",
    "train_df_Key = train_df['Key']\n",
    "test_df_Key = test_df['Key']\n",
    "train_df= train_df.drop('Key',axis=1)\n",
    "test_df= test_df.drop('Key',axis=1)\n"
   ]
  },
  {
   "cell_type": "code",
   "execution_count": 45,
   "metadata": {},
   "outputs": [
    {
     "name": "stdout",
     "output_type": "stream",
     "text": [
      "196\n",
      "93\n"
     ]
    },
    {
     "name": "stderr",
     "output_type": "stream",
     "text": [
      "c:\\Users\\hOMe_pc\\Anaconda3\\envs\\AIS_mrcnn\\lib\\site-packages\\ipykernel_launcher.py:10: TqdmDeprecationWarning: This function will be removed in tqdm==5.0.0\n",
      "Please use `tqdm.notebook.tqdm` instead of `tqdm.tqdm_notebook`\n",
      "  # Remove the CWD from sys.path while we load stuff.\n"
     ]
    },
    {
     "data": {
      "application/vnd.jupyter.widget-view+json": {
       "model_id": "5323fdc579c94f058c179512ec66883c",
       "version_major": 2,
       "version_minor": 0
      },
      "text/plain": [
       "  0%|          | 0/101 [00:00<?, ?it/s]"
      ]
     },
     "metadata": {},
     "output_type": "display_data"
    },
    {
     "name": "stderr",
     "output_type": "stream",
     "text": [
      "c:\\Users\\hOMe_pc\\Anaconda3\\envs\\AIS_mrcnn\\lib\\site-packages\\ipykernel_launcher.py:15: TqdmDeprecationWarning: This function will be removed in tqdm==5.0.0\n",
      "Please use `tqdm.notebook.tqdm` instead of `tqdm.tqdm_notebook`\n",
      "  from ipykernel import kernelapp as app\n"
     ]
    },
    {
     "data": {
      "application/vnd.jupyter.widget-view+json": {
       "model_id": "819e6137c0164309859935296c962610",
       "version_major": 2,
       "version_minor": 0
      },
      "text/plain": [
       "  0%|          | 0/1 [00:00<?, ?it/s]"
      ]
     },
     "metadata": {},
     "output_type": "display_data"
    },
    {
     "data": {
      "application/vnd.jupyter.widget-view+json": {
       "model_id": "0b2077ab7be7465fbd5b93d47a235620",
       "version_major": 2,
       "version_minor": 0
      },
      "text/plain": [
       "  0%|          | 0/1 [00:00<?, ?it/s]"
      ]
     },
     "metadata": {},
     "output_type": "display_data"
    },
    {
     "data": {
      "application/vnd.jupyter.widget-view+json": {
       "model_id": "eba8c3bf6e534d58ba95c0860245535f",
       "version_major": 2,
       "version_minor": 0
      },
      "text/plain": [
       "  0%|          | 0/1 [00:00<?, ?it/s]"
      ]
     },
     "metadata": {},
     "output_type": "display_data"
    },
    {
     "data": {
      "application/vnd.jupyter.widget-view+json": {
       "model_id": "ba56dae7a7884a20a4fe7907637eddc8",
       "version_major": 2,
       "version_minor": 0
      },
      "text/plain": [
       "  0%|          | 0/1 [00:00<?, ?it/s]"
      ]
     },
     "metadata": {},
     "output_type": "display_data"
    },
    {
     "data": {
      "application/vnd.jupyter.widget-view+json": {
       "model_id": "c16b754ac0634c50821d33b163326e21",
       "version_major": 2,
       "version_minor": 0
      },
      "text/plain": [
       "  0%|          | 0/1 [00:00<?, ?it/s]"
      ]
     },
     "metadata": {},
     "output_type": "display_data"
    },
    {
     "data": {
      "application/vnd.jupyter.widget-view+json": {
       "model_id": "29fd3763614643dba86a3cf4b4807bee",
       "version_major": 2,
       "version_minor": 0
      },
      "text/plain": [
       "  0%|          | 0/1 [00:00<?, ?it/s]"
      ]
     },
     "metadata": {},
     "output_type": "display_data"
    },
    {
     "data": {
      "application/vnd.jupyter.widget-view+json": {
       "model_id": "29e0b63797b142e6a4a2b7cda4509001",
       "version_major": 2,
       "version_minor": 0
      },
      "text/plain": [
       "  0%|          | 0/1 [00:00<?, ?it/s]"
      ]
     },
     "metadata": {},
     "output_type": "display_data"
    },
    {
     "data": {
      "application/vnd.jupyter.widget-view+json": {
       "model_id": "c1a0dc927a15490697dad9e91faf35df",
       "version_major": 2,
       "version_minor": 0
      },
      "text/plain": [
       "  0%|          | 0/1 [00:00<?, ?it/s]"
      ]
     },
     "metadata": {},
     "output_type": "display_data"
    },
    {
     "data": {
      "application/vnd.jupyter.widget-view+json": {
       "model_id": "5dc743ed579041e29cf4970edc99b436",
       "version_major": 2,
       "version_minor": 0
      },
      "text/plain": [
       "  0%|          | 0/1 [00:00<?, ?it/s]"
      ]
     },
     "metadata": {},
     "output_type": "display_data"
    },
    {
     "data": {
      "application/vnd.jupyter.widget-view+json": {
       "model_id": "36fdedc768a549f38b9ea083d9e195e7",
       "version_major": 2,
       "version_minor": 0
      },
      "text/plain": [
       "  0%|          | 0/1 [00:00<?, ?it/s]"
      ]
     },
     "metadata": {},
     "output_type": "display_data"
    },
    {
     "name": "stdout",
     "output_type": "stream",
     "text": [
      "Epoch number:9 Loss: 0.1719\n"
     ]
    },
    {
     "data": {
      "application/vnd.jupyter.widget-view+json": {
       "model_id": "4b7068faf89e454b95cf19c66720ec7f",
       "version_major": 2,
       "version_minor": 0
      },
      "text/plain": [
       "  0%|          | 0/1 [00:00<?, ?it/s]"
      ]
     },
     "metadata": {},
     "output_type": "display_data"
    },
    {
     "data": {
      "application/vnd.jupyter.widget-view+json": {
       "model_id": "2e746e4a051b47248f7dcd16358fe0cd",
       "version_major": 2,
       "version_minor": 0
      },
      "text/plain": [
       "  0%|          | 0/1 [00:00<?, ?it/s]"
      ]
     },
     "metadata": {},
     "output_type": "display_data"
    },
    {
     "data": {
      "application/vnd.jupyter.widget-view+json": {
       "model_id": "8019faf2db654b848c0435f3726fff64",
       "version_major": 2,
       "version_minor": 0
      },
      "text/plain": [
       "  0%|          | 0/1 [00:00<?, ?it/s]"
      ]
     },
     "metadata": {},
     "output_type": "display_data"
    },
    {
     "data": {
      "application/vnd.jupyter.widget-view+json": {
       "model_id": "8a475b7db8124fcab44790401432be2f",
       "version_major": 2,
       "version_minor": 0
      },
      "text/plain": [
       "  0%|          | 0/1 [00:00<?, ?it/s]"
      ]
     },
     "metadata": {},
     "output_type": "display_data"
    },
    {
     "data": {
      "application/vnd.jupyter.widget-view+json": {
       "model_id": "67aafed319a8481a849be9fab614c5dc",
       "version_major": 2,
       "version_minor": 0
      },
      "text/plain": [
       "  0%|          | 0/1 [00:00<?, ?it/s]"
      ]
     },
     "metadata": {},
     "output_type": "display_data"
    },
    {
     "data": {
      "application/vnd.jupyter.widget-view+json": {
       "model_id": "25b565cc91bf47c99e7c3a9b0ee53b14",
       "version_major": 2,
       "version_minor": 0
      },
      "text/plain": [
       "  0%|          | 0/1 [00:00<?, ?it/s]"
      ]
     },
     "metadata": {},
     "output_type": "display_data"
    },
    {
     "data": {
      "application/vnd.jupyter.widget-view+json": {
       "model_id": "01d6de5e5d54488e9efb12206ada7f97",
       "version_major": 2,
       "version_minor": 0
      },
      "text/plain": [
       "  0%|          | 0/1 [00:00<?, ?it/s]"
      ]
     },
     "metadata": {},
     "output_type": "display_data"
    },
    {
     "data": {
      "application/vnd.jupyter.widget-view+json": {
       "model_id": "165a1bd8a9f5469fa88aa346dd596e08",
       "version_major": 2,
       "version_minor": 0
      },
      "text/plain": [
       "  0%|          | 0/1 [00:00<?, ?it/s]"
      ]
     },
     "metadata": {},
     "output_type": "display_data"
    },
    {
     "data": {
      "application/vnd.jupyter.widget-view+json": {
       "model_id": "ea239a7afe1943beaec8915cc81cc723",
       "version_major": 2,
       "version_minor": 0
      },
      "text/plain": [
       "  0%|          | 0/1 [00:00<?, ?it/s]"
      ]
     },
     "metadata": {},
     "output_type": "display_data"
    },
    {
     "data": {
      "application/vnd.jupyter.widget-view+json": {
       "model_id": "9ea5644e0cc642ce86ffc950b9cef5d9",
       "version_major": 2,
       "version_minor": 0
      },
      "text/plain": [
       "  0%|          | 0/1 [00:00<?, ?it/s]"
      ]
     },
     "metadata": {},
     "output_type": "display_data"
    },
    {
     "name": "stdout",
     "output_type": "stream",
     "text": [
      "Epoch number:19 Loss: 0.1607\n"
     ]
    },
    {
     "data": {
      "application/vnd.jupyter.widget-view+json": {
       "model_id": "303dd6597f714566b87dbee982ff1a37",
       "version_major": 2,
       "version_minor": 0
      },
      "text/plain": [
       "  0%|          | 0/1 [00:00<?, ?it/s]"
      ]
     },
     "metadata": {},
     "output_type": "display_data"
    },
    {
     "data": {
      "application/vnd.jupyter.widget-view+json": {
       "model_id": "900fedaab3d948a7be7b26f4dcd0299f",
       "version_major": 2,
       "version_minor": 0
      },
      "text/plain": [
       "  0%|          | 0/1 [00:00<?, ?it/s]"
      ]
     },
     "metadata": {},
     "output_type": "display_data"
    },
    {
     "data": {
      "application/vnd.jupyter.widget-view+json": {
       "model_id": "7198caf2cd7742e9af9ff8f3a40d24a4",
       "version_major": 2,
       "version_minor": 0
      },
      "text/plain": [
       "  0%|          | 0/1 [00:00<?, ?it/s]"
      ]
     },
     "metadata": {},
     "output_type": "display_data"
    },
    {
     "data": {
      "application/vnd.jupyter.widget-view+json": {
       "model_id": "2cc02d2d2c454ab8a4c412fa57a6a5ea",
       "version_major": 2,
       "version_minor": 0
      },
      "text/plain": [
       "  0%|          | 0/1 [00:00<?, ?it/s]"
      ]
     },
     "metadata": {},
     "output_type": "display_data"
    },
    {
     "data": {
      "application/vnd.jupyter.widget-view+json": {
       "model_id": "fbeea41073a6492fa695af8d43da8e80",
       "version_major": 2,
       "version_minor": 0
      },
      "text/plain": [
       "  0%|          | 0/1 [00:00<?, ?it/s]"
      ]
     },
     "metadata": {},
     "output_type": "display_data"
    },
    {
     "data": {
      "application/vnd.jupyter.widget-view+json": {
       "model_id": "82774ca0a31443298bafd655ccea4036",
       "version_major": 2,
       "version_minor": 0
      },
      "text/plain": [
       "  0%|          | 0/1 [00:00<?, ?it/s]"
      ]
     },
     "metadata": {},
     "output_type": "display_data"
    },
    {
     "data": {
      "application/vnd.jupyter.widget-view+json": {
       "model_id": "7d259b014b9e459588ea1dfc2ae75aa1",
       "version_major": 2,
       "version_minor": 0
      },
      "text/plain": [
       "  0%|          | 0/1 [00:00<?, ?it/s]"
      ]
     },
     "metadata": {},
     "output_type": "display_data"
    },
    {
     "data": {
      "application/vnd.jupyter.widget-view+json": {
       "model_id": "da9dbfed80044eac8100014644c3a164",
       "version_major": 2,
       "version_minor": 0
      },
      "text/plain": [
       "  0%|          | 0/1 [00:00<?, ?it/s]"
      ]
     },
     "metadata": {},
     "output_type": "display_data"
    },
    {
     "data": {
      "application/vnd.jupyter.widget-view+json": {
       "model_id": "ad090309cf4346ee948c16809fade0fb",
       "version_major": 2,
       "version_minor": 0
      },
      "text/plain": [
       "  0%|          | 0/1 [00:00<?, ?it/s]"
      ]
     },
     "metadata": {},
     "output_type": "display_data"
    },
    {
     "data": {
      "application/vnd.jupyter.widget-view+json": {
       "model_id": "a2bd17cafd094b2a984419abf582995e",
       "version_major": 2,
       "version_minor": 0
      },
      "text/plain": [
       "  0%|          | 0/1 [00:00<?, ?it/s]"
      ]
     },
     "metadata": {},
     "output_type": "display_data"
    },
    {
     "name": "stdout",
     "output_type": "stream",
     "text": [
      "Epoch number:29 Loss: 0.1537\n"
     ]
    },
    {
     "data": {
      "application/vnd.jupyter.widget-view+json": {
       "model_id": "39b825445a2f4e56a3b75631947b133b",
       "version_major": 2,
       "version_minor": 0
      },
      "text/plain": [
       "  0%|          | 0/1 [00:00<?, ?it/s]"
      ]
     },
     "metadata": {},
     "output_type": "display_data"
    },
    {
     "data": {
      "application/vnd.jupyter.widget-view+json": {
       "model_id": "51dad551390546aea9ccb212dcad4ba3",
       "version_major": 2,
       "version_minor": 0
      },
      "text/plain": [
       "  0%|          | 0/1 [00:00<?, ?it/s]"
      ]
     },
     "metadata": {},
     "output_type": "display_data"
    },
    {
     "data": {
      "application/vnd.jupyter.widget-view+json": {
       "model_id": "3184c0c7bf4f41588da31cb9f4366535",
       "version_major": 2,
       "version_minor": 0
      },
      "text/plain": [
       "  0%|          | 0/1 [00:00<?, ?it/s]"
      ]
     },
     "metadata": {},
     "output_type": "display_data"
    },
    {
     "data": {
      "application/vnd.jupyter.widget-view+json": {
       "model_id": "ff38911e9f4e4c4d84fbf7b7f38c02cc",
       "version_major": 2,
       "version_minor": 0
      },
      "text/plain": [
       "  0%|          | 0/1 [00:00<?, ?it/s]"
      ]
     },
     "metadata": {},
     "output_type": "display_data"
    },
    {
     "data": {
      "application/vnd.jupyter.widget-view+json": {
       "model_id": "2021b3053f944fc79d69681b2977a726",
       "version_major": 2,
       "version_minor": 0
      },
      "text/plain": [
       "  0%|          | 0/1 [00:00<?, ?it/s]"
      ]
     },
     "metadata": {},
     "output_type": "display_data"
    },
    {
     "data": {
      "application/vnd.jupyter.widget-view+json": {
       "model_id": "5da76f1cc8104373991d2b7eb6ecc794",
       "version_major": 2,
       "version_minor": 0
      },
      "text/plain": [
       "  0%|          | 0/1 [00:00<?, ?it/s]"
      ]
     },
     "metadata": {},
     "output_type": "display_data"
    },
    {
     "data": {
      "application/vnd.jupyter.widget-view+json": {
       "model_id": "3396689cfd64485881ce7e5b2572fe3a",
       "version_major": 2,
       "version_minor": 0
      },
      "text/plain": [
       "  0%|          | 0/1 [00:00<?, ?it/s]"
      ]
     },
     "metadata": {},
     "output_type": "display_data"
    },
    {
     "data": {
      "application/vnd.jupyter.widget-view+json": {
       "model_id": "ed0a76ed73cf49aaa1ea0c5b9531c16b",
       "version_major": 2,
       "version_minor": 0
      },
      "text/plain": [
       "  0%|          | 0/1 [00:00<?, ?it/s]"
      ]
     },
     "metadata": {},
     "output_type": "display_data"
    },
    {
     "data": {
      "application/vnd.jupyter.widget-view+json": {
       "model_id": "aad9063a9c844f04a10435d92ac7b924",
       "version_major": 2,
       "version_minor": 0
      },
      "text/plain": [
       "  0%|          | 0/1 [00:00<?, ?it/s]"
      ]
     },
     "metadata": {},
     "output_type": "display_data"
    },
    {
     "data": {
      "application/vnd.jupyter.widget-view+json": {
       "model_id": "c1631bcb95544c2fa49d7637d07f5d82",
       "version_major": 2,
       "version_minor": 0
      },
      "text/plain": [
       "  0%|          | 0/1 [00:00<?, ?it/s]"
      ]
     },
     "metadata": {},
     "output_type": "display_data"
    },
    {
     "name": "stdout",
     "output_type": "stream",
     "text": [
      "Epoch number:39 Loss: 0.1479\n"
     ]
    },
    {
     "data": {
      "application/vnd.jupyter.widget-view+json": {
       "model_id": "3ceaaffff3b542c5b785ca71bf4b3c69",
       "version_major": 2,
       "version_minor": 0
      },
      "text/plain": [
       "  0%|          | 0/1 [00:00<?, ?it/s]"
      ]
     },
     "metadata": {},
     "output_type": "display_data"
    },
    {
     "data": {
      "application/vnd.jupyter.widget-view+json": {
       "model_id": "60da885c052b4885b89f4b4a223428b9",
       "version_major": 2,
       "version_minor": 0
      },
      "text/plain": [
       "  0%|          | 0/1 [00:00<?, ?it/s]"
      ]
     },
     "metadata": {},
     "output_type": "display_data"
    },
    {
     "data": {
      "application/vnd.jupyter.widget-view+json": {
       "model_id": "600686d7330c4ce88f5fce51bdf5d815",
       "version_major": 2,
       "version_minor": 0
      },
      "text/plain": [
       "  0%|          | 0/1 [00:00<?, ?it/s]"
      ]
     },
     "metadata": {},
     "output_type": "display_data"
    },
    {
     "data": {
      "application/vnd.jupyter.widget-view+json": {
       "model_id": "79703d1e20fa4a8a9506c9188105b137",
       "version_major": 2,
       "version_minor": 0
      },
      "text/plain": [
       "  0%|          | 0/1 [00:00<?, ?it/s]"
      ]
     },
     "metadata": {},
     "output_type": "display_data"
    },
    {
     "data": {
      "application/vnd.jupyter.widget-view+json": {
       "model_id": "2f636db38e9845bf9b293285aacf3b02",
       "version_major": 2,
       "version_minor": 0
      },
      "text/plain": [
       "  0%|          | 0/1 [00:00<?, ?it/s]"
      ]
     },
     "metadata": {},
     "output_type": "display_data"
    },
    {
     "data": {
      "application/vnd.jupyter.widget-view+json": {
       "model_id": "17c68fec5717445ab8a92a1986916345",
       "version_major": 2,
       "version_minor": 0
      },
      "text/plain": [
       "  0%|          | 0/1 [00:00<?, ?it/s]"
      ]
     },
     "metadata": {},
     "output_type": "display_data"
    },
    {
     "data": {
      "application/vnd.jupyter.widget-view+json": {
       "model_id": "6f24c50ff7c74af2bb31ac906a8f7ad8",
       "version_major": 2,
       "version_minor": 0
      },
      "text/plain": [
       "  0%|          | 0/1 [00:00<?, ?it/s]"
      ]
     },
     "metadata": {},
     "output_type": "display_data"
    },
    {
     "data": {
      "application/vnd.jupyter.widget-view+json": {
       "model_id": "01475a7f11524fd0886779b304cc84c2",
       "version_major": 2,
       "version_minor": 0
      },
      "text/plain": [
       "  0%|          | 0/1 [00:00<?, ?it/s]"
      ]
     },
     "metadata": {},
     "output_type": "display_data"
    },
    {
     "data": {
      "application/vnd.jupyter.widget-view+json": {
       "model_id": "38f334a58a044acf885274d3d7df2c07",
       "version_major": 2,
       "version_minor": 0
      },
      "text/plain": [
       "  0%|          | 0/1 [00:00<?, ?it/s]"
      ]
     },
     "metadata": {},
     "output_type": "display_data"
    },
    {
     "data": {
      "application/vnd.jupyter.widget-view+json": {
       "model_id": "cd241b9b16b44926846e93125f13f79b",
       "version_major": 2,
       "version_minor": 0
      },
      "text/plain": [
       "  0%|          | 0/1 [00:00<?, ?it/s]"
      ]
     },
     "metadata": {},
     "output_type": "display_data"
    },
    {
     "name": "stdout",
     "output_type": "stream",
     "text": [
      "Epoch number:49 Loss: 0.1421\n"
     ]
    },
    {
     "data": {
      "application/vnd.jupyter.widget-view+json": {
       "model_id": "f036c0d6f9f34d05a1286035f63f4828",
       "version_major": 2,
       "version_minor": 0
      },
      "text/plain": [
       "  0%|          | 0/1 [00:00<?, ?it/s]"
      ]
     },
     "metadata": {},
     "output_type": "display_data"
    },
    {
     "data": {
      "application/vnd.jupyter.widget-view+json": {
       "model_id": "3e83879471314a908042a5b7b2e4d23e",
       "version_major": 2,
       "version_minor": 0
      },
      "text/plain": [
       "  0%|          | 0/1 [00:00<?, ?it/s]"
      ]
     },
     "metadata": {},
     "output_type": "display_data"
    },
    {
     "data": {
      "application/vnd.jupyter.widget-view+json": {
       "model_id": "dbde406687ee44dca3cccc4e4ac3c04a",
       "version_major": 2,
       "version_minor": 0
      },
      "text/plain": [
       "  0%|          | 0/1 [00:00<?, ?it/s]"
      ]
     },
     "metadata": {},
     "output_type": "display_data"
    },
    {
     "data": {
      "application/vnd.jupyter.widget-view+json": {
       "model_id": "5e47e6b007d946d8a65255bf17aa02e3",
       "version_major": 2,
       "version_minor": 0
      },
      "text/plain": [
       "  0%|          | 0/1 [00:00<?, ?it/s]"
      ]
     },
     "metadata": {},
     "output_type": "display_data"
    },
    {
     "data": {
      "application/vnd.jupyter.widget-view+json": {
       "model_id": "dbf31039ecb9422ba8dfe61302d60b94",
       "version_major": 2,
       "version_minor": 0
      },
      "text/plain": [
       "  0%|          | 0/1 [00:00<?, ?it/s]"
      ]
     },
     "metadata": {},
     "output_type": "display_data"
    },
    {
     "data": {
      "application/vnd.jupyter.widget-view+json": {
       "model_id": "a456b1bf00854355a567b2cc163715e9",
       "version_major": 2,
       "version_minor": 0
      },
      "text/plain": [
       "  0%|          | 0/1 [00:00<?, ?it/s]"
      ]
     },
     "metadata": {},
     "output_type": "display_data"
    },
    {
     "data": {
      "application/vnd.jupyter.widget-view+json": {
       "model_id": "3cc8a6c1c05d419395a5c11cb7977ab0",
       "version_major": 2,
       "version_minor": 0
      },
      "text/plain": [
       "  0%|          | 0/1 [00:00<?, ?it/s]"
      ]
     },
     "metadata": {},
     "output_type": "display_data"
    },
    {
     "data": {
      "application/vnd.jupyter.widget-view+json": {
       "model_id": "8064d2acb3fa44efa3c6f0358ab5183f",
       "version_major": 2,
       "version_minor": 0
      },
      "text/plain": [
       "  0%|          | 0/1 [00:00<?, ?it/s]"
      ]
     },
     "metadata": {},
     "output_type": "display_data"
    },
    {
     "data": {
      "application/vnd.jupyter.widget-view+json": {
       "model_id": "3b907ad4254f4838b0d4541f012a75da",
       "version_major": 2,
       "version_minor": 0
      },
      "text/plain": [
       "  0%|          | 0/1 [00:00<?, ?it/s]"
      ]
     },
     "metadata": {},
     "output_type": "display_data"
    },
    {
     "data": {
      "application/vnd.jupyter.widget-view+json": {
       "model_id": "54142fe7fe534ffc94c48184e92dfbd2",
       "version_major": 2,
       "version_minor": 0
      },
      "text/plain": [
       "  0%|          | 0/1 [00:00<?, ?it/s]"
      ]
     },
     "metadata": {},
     "output_type": "display_data"
    },
    {
     "name": "stdout",
     "output_type": "stream",
     "text": [
      "Epoch number:59 Loss: 0.1374\n"
     ]
    },
    {
     "data": {
      "application/vnd.jupyter.widget-view+json": {
       "model_id": "2db6a01d2dcd4d37b78f2a26f1696cec",
       "version_major": 2,
       "version_minor": 0
      },
      "text/plain": [
       "  0%|          | 0/1 [00:00<?, ?it/s]"
      ]
     },
     "metadata": {},
     "output_type": "display_data"
    },
    {
     "data": {
      "application/vnd.jupyter.widget-view+json": {
       "model_id": "2ee04b4ee2bd437f8eaf4ff93d878439",
       "version_major": 2,
       "version_minor": 0
      },
      "text/plain": [
       "  0%|          | 0/1 [00:00<?, ?it/s]"
      ]
     },
     "metadata": {},
     "output_type": "display_data"
    },
    {
     "data": {
      "application/vnd.jupyter.widget-view+json": {
       "model_id": "35ca870fd02e4e338b7fbc03dba3fbda",
       "version_major": 2,
       "version_minor": 0
      },
      "text/plain": [
       "  0%|          | 0/1 [00:00<?, ?it/s]"
      ]
     },
     "metadata": {},
     "output_type": "display_data"
    },
    {
     "data": {
      "application/vnd.jupyter.widget-view+json": {
       "model_id": "72b2f8bd4c5e45568caa72304065d801",
       "version_major": 2,
       "version_minor": 0
      },
      "text/plain": [
       "  0%|          | 0/1 [00:00<?, ?it/s]"
      ]
     },
     "metadata": {},
     "output_type": "display_data"
    },
    {
     "data": {
      "application/vnd.jupyter.widget-view+json": {
       "model_id": "6fbf20fab6a74f448b0ef56a00bd8d79",
       "version_major": 2,
       "version_minor": 0
      },
      "text/plain": [
       "  0%|          | 0/1 [00:00<?, ?it/s]"
      ]
     },
     "metadata": {},
     "output_type": "display_data"
    },
    {
     "data": {
      "application/vnd.jupyter.widget-view+json": {
       "model_id": "33b276e980c04f92a5ffdcd5b39caeee",
       "version_major": 2,
       "version_minor": 0
      },
      "text/plain": [
       "  0%|          | 0/1 [00:00<?, ?it/s]"
      ]
     },
     "metadata": {},
     "output_type": "display_data"
    },
    {
     "data": {
      "application/vnd.jupyter.widget-view+json": {
       "model_id": "a772a00a770442ccad211c82ae985d18",
       "version_major": 2,
       "version_minor": 0
      },
      "text/plain": [
       "  0%|          | 0/1 [00:00<?, ?it/s]"
      ]
     },
     "metadata": {},
     "output_type": "display_data"
    },
    {
     "data": {
      "application/vnd.jupyter.widget-view+json": {
       "model_id": "9cf9be7f3c6c40f98d9c8a0e9932d0f4",
       "version_major": 2,
       "version_minor": 0
      },
      "text/plain": [
       "  0%|          | 0/1 [00:00<?, ?it/s]"
      ]
     },
     "metadata": {},
     "output_type": "display_data"
    },
    {
     "data": {
      "application/vnd.jupyter.widget-view+json": {
       "model_id": "037846ae88a04286aa39d3e1e552b40d",
       "version_major": 2,
       "version_minor": 0
      },
      "text/plain": [
       "  0%|          | 0/1 [00:00<?, ?it/s]"
      ]
     },
     "metadata": {},
     "output_type": "display_data"
    },
    {
     "data": {
      "application/vnd.jupyter.widget-view+json": {
       "model_id": "09f8f782379245a48911490d2753c563",
       "version_major": 2,
       "version_minor": 0
      },
      "text/plain": [
       "  0%|          | 0/1 [00:00<?, ?it/s]"
      ]
     },
     "metadata": {},
     "output_type": "display_data"
    },
    {
     "name": "stdout",
     "output_type": "stream",
     "text": [
      "Epoch number:69 Loss: 0.1351\n"
     ]
    },
    {
     "data": {
      "application/vnd.jupyter.widget-view+json": {
       "model_id": "8c3dda1a351c4668a48957f45fbbc8ea",
       "version_major": 2,
       "version_minor": 0
      },
      "text/plain": [
       "  0%|          | 0/1 [00:00<?, ?it/s]"
      ]
     },
     "metadata": {},
     "output_type": "display_data"
    },
    {
     "data": {
      "application/vnd.jupyter.widget-view+json": {
       "model_id": "84f9855794424de2ae68c6299a1faf34",
       "version_major": 2,
       "version_minor": 0
      },
      "text/plain": [
       "  0%|          | 0/1 [00:00<?, ?it/s]"
      ]
     },
     "metadata": {},
     "output_type": "display_data"
    },
    {
     "data": {
      "application/vnd.jupyter.widget-view+json": {
       "model_id": "8acd56ad620e41cb9acf735b666aa80b",
       "version_major": 2,
       "version_minor": 0
      },
      "text/plain": [
       "  0%|          | 0/1 [00:00<?, ?it/s]"
      ]
     },
     "metadata": {},
     "output_type": "display_data"
    },
    {
     "data": {
      "application/vnd.jupyter.widget-view+json": {
       "model_id": "ade013383bc74a1b8b792b3ef619f355",
       "version_major": 2,
       "version_minor": 0
      },
      "text/plain": [
       "  0%|          | 0/1 [00:00<?, ?it/s]"
      ]
     },
     "metadata": {},
     "output_type": "display_data"
    },
    {
     "data": {
      "application/vnd.jupyter.widget-view+json": {
       "model_id": "5176a924e9eb4564be2260ba3e389146",
       "version_major": 2,
       "version_minor": 0
      },
      "text/plain": [
       "  0%|          | 0/1 [00:00<?, ?it/s]"
      ]
     },
     "metadata": {},
     "output_type": "display_data"
    },
    {
     "data": {
      "application/vnd.jupyter.widget-view+json": {
       "model_id": "2c71c822152442ccb6453b3e5f38820a",
       "version_major": 2,
       "version_minor": 0
      },
      "text/plain": [
       "  0%|          | 0/1 [00:00<?, ?it/s]"
      ]
     },
     "metadata": {},
     "output_type": "display_data"
    },
    {
     "data": {
      "application/vnd.jupyter.widget-view+json": {
       "model_id": "48bc6c7f479946d18961961d5683e252",
       "version_major": 2,
       "version_minor": 0
      },
      "text/plain": [
       "  0%|          | 0/1 [00:00<?, ?it/s]"
      ]
     },
     "metadata": {},
     "output_type": "display_data"
    },
    {
     "data": {
      "application/vnd.jupyter.widget-view+json": {
       "model_id": "c3f8662226ac443aabb6a4406d15060d",
       "version_major": 2,
       "version_minor": 0
      },
      "text/plain": [
       "  0%|          | 0/1 [00:00<?, ?it/s]"
      ]
     },
     "metadata": {},
     "output_type": "display_data"
    },
    {
     "data": {
      "application/vnd.jupyter.widget-view+json": {
       "model_id": "d53531f4dc63419d8f571609e6a3612b",
       "version_major": 2,
       "version_minor": 0
      },
      "text/plain": [
       "  0%|          | 0/1 [00:00<?, ?it/s]"
      ]
     },
     "metadata": {},
     "output_type": "display_data"
    },
    {
     "data": {
      "application/vnd.jupyter.widget-view+json": {
       "model_id": "6945e8cf0ed9468b8770197e50433c1a",
       "version_major": 2,
       "version_minor": 0
      },
      "text/plain": [
       "  0%|          | 0/1 [00:00<?, ?it/s]"
      ]
     },
     "metadata": {},
     "output_type": "display_data"
    },
    {
     "name": "stdout",
     "output_type": "stream",
     "text": [
      "Epoch number:79 Loss: 0.1321\n"
     ]
    },
    {
     "data": {
      "application/vnd.jupyter.widget-view+json": {
       "model_id": "b71d3bd650a9495fb597d8b5b75fdc27",
       "version_major": 2,
       "version_minor": 0
      },
      "text/plain": [
       "  0%|          | 0/1 [00:00<?, ?it/s]"
      ]
     },
     "metadata": {},
     "output_type": "display_data"
    },
    {
     "data": {
      "application/vnd.jupyter.widget-view+json": {
       "model_id": "0885adcda8c84cb9aab7a9a70ead2e08",
       "version_major": 2,
       "version_minor": 0
      },
      "text/plain": [
       "  0%|          | 0/1 [00:00<?, ?it/s]"
      ]
     },
     "metadata": {},
     "output_type": "display_data"
    },
    {
     "data": {
      "application/vnd.jupyter.widget-view+json": {
       "model_id": "4caffbf516e84d1280aa4aa498abf7ae",
       "version_major": 2,
       "version_minor": 0
      },
      "text/plain": [
       "  0%|          | 0/1 [00:00<?, ?it/s]"
      ]
     },
     "metadata": {},
     "output_type": "display_data"
    },
    {
     "data": {
      "application/vnd.jupyter.widget-view+json": {
       "model_id": "86e35944faf84f24a5f051dfe92fcdc1",
       "version_major": 2,
       "version_minor": 0
      },
      "text/plain": [
       "  0%|          | 0/1 [00:00<?, ?it/s]"
      ]
     },
     "metadata": {},
     "output_type": "display_data"
    },
    {
     "data": {
      "application/vnd.jupyter.widget-view+json": {
       "model_id": "663b5ea9976a45c485f089e1ef1b1a7a",
       "version_major": 2,
       "version_minor": 0
      },
      "text/plain": [
       "  0%|          | 0/1 [00:00<?, ?it/s]"
      ]
     },
     "metadata": {},
     "output_type": "display_data"
    },
    {
     "data": {
      "application/vnd.jupyter.widget-view+json": {
       "model_id": "955b1d16d73343d08bdc92b519a56424",
       "version_major": 2,
       "version_minor": 0
      },
      "text/plain": [
       "  0%|          | 0/1 [00:00<?, ?it/s]"
      ]
     },
     "metadata": {},
     "output_type": "display_data"
    },
    {
     "data": {
      "application/vnd.jupyter.widget-view+json": {
       "model_id": "2425ab3443244f93b71cc4cadd306cdd",
       "version_major": 2,
       "version_minor": 0
      },
      "text/plain": [
       "  0%|          | 0/1 [00:00<?, ?it/s]"
      ]
     },
     "metadata": {},
     "output_type": "display_data"
    },
    {
     "data": {
      "application/vnd.jupyter.widget-view+json": {
       "model_id": "46cf00318a554c49868348ee0b9c5945",
       "version_major": 2,
       "version_minor": 0
      },
      "text/plain": [
       "  0%|          | 0/1 [00:00<?, ?it/s]"
      ]
     },
     "metadata": {},
     "output_type": "display_data"
    },
    {
     "data": {
      "application/vnd.jupyter.widget-view+json": {
       "model_id": "3f8c6266e2a54b7682b201a67dd7c804",
       "version_major": 2,
       "version_minor": 0
      },
      "text/plain": [
       "  0%|          | 0/1 [00:00<?, ?it/s]"
      ]
     },
     "metadata": {},
     "output_type": "display_data"
    },
    {
     "data": {
      "application/vnd.jupyter.widget-view+json": {
       "model_id": "f013f7db38c84a8cbe60b51751a64228",
       "version_major": 2,
       "version_minor": 0
      },
      "text/plain": [
       "  0%|          | 0/1 [00:00<?, ?it/s]"
      ]
     },
     "metadata": {},
     "output_type": "display_data"
    },
    {
     "name": "stdout",
     "output_type": "stream",
     "text": [
      "Epoch number:89 Loss: 0.1293\n"
     ]
    },
    {
     "data": {
      "application/vnd.jupyter.widget-view+json": {
       "model_id": "575962064337429887981aa4866ca838",
       "version_major": 2,
       "version_minor": 0
      },
      "text/plain": [
       "  0%|          | 0/1 [00:00<?, ?it/s]"
      ]
     },
     "metadata": {},
     "output_type": "display_data"
    },
    {
     "data": {
      "application/vnd.jupyter.widget-view+json": {
       "model_id": "a0edddd4952c4939b89a99a57651ac8c",
       "version_major": 2,
       "version_minor": 0
      },
      "text/plain": [
       "  0%|          | 0/1 [00:00<?, ?it/s]"
      ]
     },
     "metadata": {},
     "output_type": "display_data"
    },
    {
     "data": {
      "application/vnd.jupyter.widget-view+json": {
       "model_id": "07d48abef41045b1967176cb1d6d1dc0",
       "version_major": 2,
       "version_minor": 0
      },
      "text/plain": [
       "  0%|          | 0/1 [00:00<?, ?it/s]"
      ]
     },
     "metadata": {},
     "output_type": "display_data"
    },
    {
     "data": {
      "application/vnd.jupyter.widget-view+json": {
       "model_id": "c09f443ab1e7421fb99e6b1b79815d06",
       "version_major": 2,
       "version_minor": 0
      },
      "text/plain": [
       "  0%|          | 0/1 [00:00<?, ?it/s]"
      ]
     },
     "metadata": {},
     "output_type": "display_data"
    },
    {
     "data": {
      "application/vnd.jupyter.widget-view+json": {
       "model_id": "6361d925c10e4dcdbf536dfa693460cf",
       "version_major": 2,
       "version_minor": 0
      },
      "text/plain": [
       "  0%|          | 0/1 [00:00<?, ?it/s]"
      ]
     },
     "metadata": {},
     "output_type": "display_data"
    },
    {
     "data": {
      "application/vnd.jupyter.widget-view+json": {
       "model_id": "670cd53d20a841bf847da2984ceb3331",
       "version_major": 2,
       "version_minor": 0
      },
      "text/plain": [
       "  0%|          | 0/1 [00:00<?, ?it/s]"
      ]
     },
     "metadata": {},
     "output_type": "display_data"
    },
    {
     "data": {
      "application/vnd.jupyter.widget-view+json": {
       "model_id": "dff207150fff4e38a881f2fc4228ae63",
       "version_major": 2,
       "version_minor": 0
      },
      "text/plain": [
       "  0%|          | 0/1 [00:00<?, ?it/s]"
      ]
     },
     "metadata": {},
     "output_type": "display_data"
    },
    {
     "data": {
      "application/vnd.jupyter.widget-view+json": {
       "model_id": "9b53d541b914417eac09f1459283c6a3",
       "version_major": 2,
       "version_minor": 0
      },
      "text/plain": [
       "  0%|          | 0/1 [00:00<?, ?it/s]"
      ]
     },
     "metadata": {},
     "output_type": "display_data"
    },
    {
     "data": {
      "application/vnd.jupyter.widget-view+json": {
       "model_id": "c9393c9dd2514132b37774af93b7a425",
       "version_major": 2,
       "version_minor": 0
      },
      "text/plain": [
       "  0%|          | 0/1 [00:00<?, ?it/s]"
      ]
     },
     "metadata": {},
     "output_type": "display_data"
    },
    {
     "data": {
      "application/vnd.jupyter.widget-view+json": {
       "model_id": "cb092ba2fff44cba9791667e806999e8",
       "version_major": 2,
       "version_minor": 0
      },
      "text/plain": [
       "  0%|          | 0/1 [00:00<?, ?it/s]"
      ]
     },
     "metadata": {},
     "output_type": "display_data"
    },
    {
     "name": "stdout",
     "output_type": "stream",
     "text": [
      "Epoch number:99 Loss: 0.1256\n"
     ]
    },
    {
     "data": {
      "application/vnd.jupyter.widget-view+json": {
       "model_id": "12824f846dbc43babb84989a06aecaf2",
       "version_major": 2,
       "version_minor": 0
      },
      "text/plain": [
       "  0%|          | 0/1 [00:00<?, ?it/s]"
      ]
     },
     "metadata": {},
     "output_type": "display_data"
    },
    {
     "name": "stdout",
     "output_type": "stream",
     "text": [
      "tensor([ 0.2415,  0.4468,  0.1980,  0.2293,  0.0585,  0.0953,  0.1902,  0.1394,\n",
      "         0.0856,  0.3234,  0.2556,  0.7063,  0.2783,  0.4251,  0.2943,  0.4470,\n",
      "         0.2785,  0.2021,  0.0296,  0.0406,  0.0813,  0.0547,  0.1720,  0.0142,\n",
      "         0.2964,  0.1716,  0.2028,  0.1923,  0.0321,  0.0622,  0.0102,  0.2703,\n",
      "         0.2449,  0.2014,  0.2023,  0.1503,  0.3180,  0.1729,  0.0242,  0.2812,\n",
      "         0.1279,  0.5812,  0.2845,  0.1848,  0.2151,  0.2705,  0.1986,  0.3283,\n",
      "         0.1078,  0.1826,  0.1433,  0.7727,  0.1161,  0.2324,  0.0528,  0.2399,\n",
      "         0.1702,  0.2370,  0.1954,  0.1470,  0.0225,  0.0865,  0.0057,  0.1000,\n",
      "         0.0658,  0.1664,  0.0376,  0.2037,  0.0271,  0.1349,  0.2883,  0.1926,\n",
      "         0.2472,  0.0361,  0.1383,  0.2907,  0.1576,  0.1829,  0.8345,  0.1221,\n",
      "         0.1648,  0.0869,  0.0241,  0.1167,  0.0703,  0.3078,  0.1081,  0.0116,\n",
      "         0.1269,  0.2253,  0.1092,  0.1592,  0.7437,  0.3255,  0.3108,  0.2855,\n",
      "        -0.0040,  0.1832,  0.0862,  0.2489,  0.1700,  0.2073,  0.1530,  0.6351,\n",
      "         0.2358,  0.2742,  0.2728,  0.0881,  0.5620,  0.0125,  0.2146, -0.0147,\n",
      "         0.2287,  0.0559,  0.4659,  0.0324,  0.1406,  0.7338,  0.7140,  0.0555,\n",
      "         0.1063,  0.3521,  0.2330,  0.1301,  0.0233,  0.0289,  0.1386,  0.3892,\n",
      "         0.0535,  0.1165,  0.3073,  0.0287,  0.0365,  0.0616,  0.3712,  0.0954,\n",
      "         0.3265,  0.1216,  0.1874,  0.1917,  0.1333,  0.5088,  0.2592,  0.0913,\n",
      "         0.2700,  0.1375,  0.1463,  0.2189,  0.8133,  0.1822,  0.0465,  0.3529,\n",
      "         0.0382,  0.1005,  0.1450,  0.0147,  0.2009,  0.1122,  0.0790,  0.2479,\n",
      "         0.1799,  0.7989,  0.1982,  0.2567,  0.0189,  0.1710,  0.0478,  0.0678,\n",
      "         0.0751,  0.2346,  0.0750,  0.0828,  0.1566,  0.2270,  0.2118,  0.4373,\n",
      "         0.0170,  0.0701,  0.1810,  0.0720,  0.1040,  0.3187,  0.2917,  0.2083,\n",
      "         0.2014,  0.2813,  0.2079,  0.2468,  0.0305, -0.0141,  0.0720,  0.1268,\n",
      "         0.2288,  0.0373,  0.2381,  0.1031,  0.1191,  0.2747,  0.0151,  0.1374,\n",
      "         0.4485,  0.1384,  0.4374,  0.0209,  0.2742,  0.2082,  0.2693,  0.2565,\n",
      "         0.6911,  0.1273,  0.0759,  0.1473, -0.0051,  0.6267,  0.2917,  0.0474,\n",
      "         0.1494,  0.0388,  0.2473,  0.1326,  0.0973,  0.0300,  0.1475,  0.0606,\n",
      "         0.2407,  0.3088,  0.1073,  0.2454,  0.1063,  0.1065,  0.2845,  0.3067,\n",
      "         0.1083,  0.3440,  0.3543,  0.2496,  0.3654,  0.2116,  0.3496,  0.2193,\n",
      "         0.2076,  0.1802,  0.0489])\n",
      "tensor([0.2276, 0.5148, 0.2749, 0.2017, 0.0000, 0.0456, 0.1496, 0.0627, 0.1430,\n",
      "        0.2251, 0.1524, 0.8449, 0.6157, 0.4827, 0.6773, 0.4344, 0.1307, 0.0903,\n",
      "        0.0389, 0.0377, 0.0720, 0.0240, 0.1099, 0.0068, 0.3477, 0.1786, 0.1611,\n",
      "        0.2060, 0.0681, 0.0496, 0.0305, 0.3000, 0.1849, 0.2297, 0.2221, 0.1098,\n",
      "        0.1385, 0.1347, 0.0000, 0.2699, 0.0374, 0.4643, 0.2264, 0.0000, 0.1093,\n",
      "        0.2457, 0.1318, 0.2857, 0.0000, 0.1942, 0.1844, 0.7273, 0.1286, 0.1235,\n",
      "        0.0258, 0.0000, 0.0954, 0.1962, 0.1312, 0.0462, 0.0000, 0.0852, 0.0244,\n",
      "        0.1260, 0.0313, 0.0808, 0.0190, 0.1366, 0.0241, 0.0783, 0.1304, 0.1051,\n",
      "        0.3056, 0.0000, 0.1507, 0.3481, 0.2777, 0.1943, 1.0000, 0.0624, 0.2722,\n",
      "        0.0234, 0.0136, 0.1129, 0.0706, 0.3135, 0.0624, 0.0140, 0.0270, 0.1573,\n",
      "        0.0910, 0.1871, 0.8889, 0.3464, 0.2496, 0.2235, 0.0154, 0.3701, 0.0572,\n",
      "        0.0973, 0.1402, 0.0847, 0.1086, 0.9091, 0.0000, 0.0186, 0.2339, 0.1586,\n",
      "        0.5000, 0.0047, 0.2514, 0.0206, 0.3198, 0.0364, 0.5076, 0.0260, 0.2394,\n",
      "        0.9091, 0.8571, 0.0503, 0.0236, 0.3142, 0.0304, 0.0910, 0.0336, 0.0547,\n",
      "        0.1129, 0.5714, 0.0713, 0.1637, 0.3431, 0.0870, 0.0308, 0.0192, 0.3516,\n",
      "        0.0485, 0.3480, 0.0477, 0.1725, 0.2289, 0.0945, 0.5775, 0.4408, 0.1139,\n",
      "        0.3401, 0.1385, 0.1897, 0.3401, 0.8496, 0.1113, 0.0334, 0.5926, 0.0308,\n",
      "        0.0000, 0.0000, 0.0211, 0.1703, 0.0987, 0.0911, 0.1774, 0.0000, 0.9877,\n",
      "        0.1496, 0.3401, 0.0584, 0.1415, 0.0971, 0.0660, 0.0845, 0.1259, 0.0547,\n",
      "        0.0472, 0.1496, 0.2749, 0.1454, 0.4115, 0.0338, 0.1049, 0.1795, 0.0513,\n",
      "        0.0594, 0.0986, 0.1802, 0.1430, 0.1550, 0.2272, 0.1011, 0.1466, 0.0568,\n",
      "        0.0067, 0.1200, 0.0477, 0.1929, 0.0478, 0.2235, 0.1286, 0.2218, 0.1644,\n",
      "        0.0234, 0.0401, 0.4643, 0.1833, 0.3695, 0.0242, 0.2316, 0.2289, 0.2337,\n",
      "        0.2538, 0.6887, 0.0595, 0.0637, 0.2114, 0.0000, 0.0000, 0.2471, 0.0000,\n",
      "        0.1080, 0.0066, 0.2098, 0.1294, 0.6351, 0.0000, 0.1769, 0.0442, 0.1470,\n",
      "        0.2443, 0.0372, 0.1428, 0.0624, 0.0604, 0.2005, 0.3023, 0.0295, 0.2778,\n",
      "        0.4257, 0.1696, 0.3489, 0.2543, 0.1969, 0.2533, 0.1725, 0.1679, 0.0000],\n",
      "       dtype=torch.float64)\n",
      "   Saccade5.Latency1  SP2.InitAccel:median  AntiSaccade3.Velocity:mean  \\\n",
      "0           0.459492             -0.003157                    0.923952   \n",
      "\n",
      "   SP3.InitAccel:median  RT_sa_sum  PD1.Phonation:sum  SP3.Velocity:median  \\\n",
      "0              0.000377  25.140965           8.240059             1.139214   \n",
      "\n",
      "   RT_A_median  SP1.InitAccel:max  Saccade4.Latency:max  ...  RT_B_min  \\\n",
      "0     1.478173           0.008328               0.61551  ...  1.267272   \n",
      "\n",
      "   SP1.InitAccel:median  Saccade4.Latency1  RT_A_min  PD1.Phonation:median  \\\n",
      "0              -0.00531            0.47481  1.182561              3.828943   \n",
      "\n",
      "   AntiSaccade2.Velocity:max  PD1.Phonation:mean  \\\n",
      "0                   1.249992            3.951301   \n",
      "\n",
      "   AntiSaccade5.Velocity:median  Saccade5.Velocity2    소요시간.2  \n",
      "0                      1.020223            0.708495  24.18357  \n",
      "\n",
      "[1 rows x 243 columns]\n",
      "   Saccade5.Latency1  SP2.InitAccel:median  AntiSaccade3.Velocity:mean  \\\n",
      "0           0.433124              0.002727                    1.282929   \n",
      "\n",
      "   SP3.InitAccel:median  RT_sa_sum  PD1.Phonation:sum  SP3.Velocity:median  \\\n",
      "0             -0.009541     19.331               4.42             0.913461   \n",
      "\n",
      "   RT_A_median  SP1.InitAccel:max  Saccade4.Latency:max  ...  RT_B_min  \\\n",
      "0         1.31            0.02844              0.428413  ...     1.108   \n",
      "\n",
      "   SP1.InitAccel:median  Saccade4.Latency1  RT_A_min  PD1.Phonation:median  \\\n",
      "0              0.000437           0.322587     1.149                  4.42   \n",
      "\n",
      "   AntiSaccade2.Velocity:max  PD1.Phonation:mean  \\\n",
      "0                   0.704059                4.42   \n",
      "\n",
      "   AntiSaccade5.Velocity:median  Saccade5.Velocity2  소요시간.2  \n",
      "0                      0.862755             0.66043  19.331  \n",
      "\n",
      "[1 rows x 243 columns]\n",
      "(289, 244)\n",
      "(289, 8)\n"
     ]
    },
    {
     "data": {
      "text/plain": [
       "(289, 251)"
      ]
     },
     "execution_count": 45,
     "metadata": {},
     "output_type": "execute_result"
    }
   ],
   "source": [
    "trainset = dataset_module.DataSetForImputation(train_df, normalize=True)  #normalize True for [0,1] normalization for dataframe\n",
    "print(len(trainset))\n",
    "testset = dataset_module.DataSetForImputation(test_df, normalize=True)\n",
    "print(len(testset))\n",
    "\n",
    "net = Modelling.DenoisingAutoEncoder(len(trainset.variables()), theta = 7, input_dropout=0.5)\n",
    "criterion = nn.MSELoss()\n",
    "net = net.to(device) \n",
    "\n",
    "train_loader = td.DataLoader(trainset, batch_size=BATCH_SIZE, shuffle=True, **{})\n",
    "val_loader = td.DataLoader(testset, batch_size=BATCH_SIZE, shuffle=True, **{})\n",
    "\n",
    "optimizer = Adam(net.parameters(), lr = LR)\n",
    "\n",
    "LOG_INTERVAL = 10\n",
    "SAVE_INTERVAL = 50\n",
    "torch.set_printoptions(sci_mode=False)\n",
    "\n",
    "\n",
    "train_model(0,101, net, model_name, train_loader=train_loader, val_loader=val_loader)\n",
    "\n",
    "net = net.eval()\n",
    "print((net(trainset[0][0]).detach()))\n",
    "print(trainset[0][0])\n",
    "\n",
    "net = net.eval()\n",
    "print(trainset.get_denormalized_data((net(trainset[0][0].detach()))))\n",
    "print(trainset.get_denormalized_data(trainset[0][0]))\n",
    "\n",
    "fill_test_df= test_model(net=net, test_df=test_df, trainset=trainset, device=device,logger_level=20)\n",
    "fill_test_df['Key'] = test_df_Key.reset_index(drop=True)\n",
    "train_df['Key'] = train_df_Key\n",
    "\n",
    "m_df = pd.concat([fill_test_df, train_df])\n",
    "print(m_df.shape)\n",
    "\n",
    "ls = ['Key']\n",
    "\n",
    "for i in df1.columns:\n",
    "        if i not in m_df.columns: # SP + Neuropsychology 외의 피처\n",
    "            ls.append(i)\n",
    "\n",
    "the_others = df[ls]\n",
    "print(the_others.shape)\n",
    "\n",
    "df1=pd.merge(m_df,the_others, how='outer',on='Key')\n",
    "df1.shape"
   ]
  },
  {
   "cell_type": "code",
   "execution_count": 46,
   "metadata": {},
   "outputs": [
    {
     "data": {
      "text/plain": [
       "소요시간                            0\n",
       "RT_A3                           0\n",
       "RT_A4                           0\n",
       "RT_A5                           0\n",
       "RT_A8                           0\n",
       "                               ..\n",
       "AntiSaccade5.Velocity:median    0\n",
       "AntiSaccade5.Velocity:std       0\n",
       "AntiSaccade5.Velocity:min       0\n",
       "AntiSaccade5.Velocity:max       0\n",
       "Key                             0\n",
       "Length: 251, dtype: int64"
      ]
     },
     "execution_count": 46,
     "metadata": {},
     "output_type": "execute_result"
    }
   ],
   "source": [
    "df1 = df1[list(df.drop('cutoff',axis=1).columns)]\n",
    "df1.isnull().sum()"
   ]
  },
  {
   "cell_type": "markdown",
   "metadata": {},
   "source": [
    "# 150 이하"
   ]
  },
  {
   "cell_type": "code",
   "execution_count": 47,
   "metadata": {},
   "outputs": [
    {
     "name": "stdout",
     "output_type": "stream",
     "text": [
      "(289, 249)\n",
      "(109, 249)\n",
      "(180, 249)\n"
     ]
    }
   ],
   "source": [
    "nonan_merge = df1.dropna(axis=1)\n",
    "ls = []\n",
    "\n",
    "for i in df1.columns:\n",
    "    if 'Saccade' in i:\n",
    "        ls.append(i)\n",
    "        \n",
    "for c in nonan_merge.columns:\n",
    "    ls.append(c)\n",
    "ls=list(set(ls))\n",
    "\n",
    "m_df = df1[ls]\n",
    "\n",
    "drop_list = []\n",
    "for c in m_df.columns:\n",
    "    if m_df[c].isnull().sum() > 150:\n",
    "        drop_list.append(c)\n",
    "drop_list\n",
    "m_df= m_df.drop(drop_list,axis=1)\n",
    "print(m_df.shape)\n",
    "train_df = m_df.dropna(axis=0)\n",
    "print(train_df.shape)\n",
    "\n",
    "loc_list = []\n",
    "for i in range(len(m_df)):\n",
    "    if m_df.loc[i].isnull().any() == True:\n",
    "        loc_list.append(i)\n",
    "test_df = m_df.loc[loc_list]\n",
    "print(test_df.shape)\n",
    "\n",
    "train_df_Key = train_df['Key']\n",
    "test_df_Key = test_df['Key']\n",
    "train_df= train_df.drop('Key',axis=1)\n",
    "test_df= test_df.drop('Key',axis=1)\n"
   ]
  },
  {
   "cell_type": "code",
   "execution_count": 48,
   "metadata": {},
   "outputs": [
    {
     "name": "stdout",
     "output_type": "stream",
     "text": [
      "109\n",
      "180\n"
     ]
    },
    {
     "name": "stderr",
     "output_type": "stream",
     "text": [
      "c:\\Users\\hOMe_pc\\Anaconda3\\envs\\AIS_mrcnn\\lib\\site-packages\\ipykernel_launcher.py:10: TqdmDeprecationWarning: This function will be removed in tqdm==5.0.0\n",
      "Please use `tqdm.notebook.tqdm` instead of `tqdm.tqdm_notebook`\n",
      "  # Remove the CWD from sys.path while we load stuff.\n"
     ]
    },
    {
     "data": {
      "application/vnd.jupyter.widget-view+json": {
       "model_id": "53234573b69e47f594ea34d7c05b4927",
       "version_major": 2,
       "version_minor": 0
      },
      "text/plain": [
       "  0%|          | 0/101 [00:00<?, ?it/s]"
      ]
     },
     "metadata": {},
     "output_type": "display_data"
    },
    {
     "name": "stderr",
     "output_type": "stream",
     "text": [
      "c:\\Users\\hOMe_pc\\Anaconda3\\envs\\AIS_mrcnn\\lib\\site-packages\\ipykernel_launcher.py:15: TqdmDeprecationWarning: This function will be removed in tqdm==5.0.0\n",
      "Please use `tqdm.notebook.tqdm` instead of `tqdm.tqdm_notebook`\n",
      "  from ipykernel import kernelapp as app\n"
     ]
    },
    {
     "data": {
      "application/vnd.jupyter.widget-view+json": {
       "model_id": "1c0d74e93ca54f899d304b5dd6988297",
       "version_major": 2,
       "version_minor": 0
      },
      "text/plain": [
       "  0%|          | 0/1 [00:00<?, ?it/s]"
      ]
     },
     "metadata": {},
     "output_type": "display_data"
    },
    {
     "data": {
      "application/vnd.jupyter.widget-view+json": {
       "model_id": "10c912304ec34a66af486c1e8183da22",
       "version_major": 2,
       "version_minor": 0
      },
      "text/plain": [
       "  0%|          | 0/1 [00:00<?, ?it/s]"
      ]
     },
     "metadata": {},
     "output_type": "display_data"
    },
    {
     "data": {
      "application/vnd.jupyter.widget-view+json": {
       "model_id": "a0eb57f215414986bc75056fb05f4110",
       "version_major": 2,
       "version_minor": 0
      },
      "text/plain": [
       "  0%|          | 0/1 [00:00<?, ?it/s]"
      ]
     },
     "metadata": {},
     "output_type": "display_data"
    },
    {
     "data": {
      "application/vnd.jupyter.widget-view+json": {
       "model_id": "1f979fff350149b2b251a9e6bc981e8d",
       "version_major": 2,
       "version_minor": 0
      },
      "text/plain": [
       "  0%|          | 0/1 [00:00<?, ?it/s]"
      ]
     },
     "metadata": {},
     "output_type": "display_data"
    },
    {
     "data": {
      "application/vnd.jupyter.widget-view+json": {
       "model_id": "a8a37c91b985495ba87282e5e042b0a5",
       "version_major": 2,
       "version_minor": 0
      },
      "text/plain": [
       "  0%|          | 0/1 [00:00<?, ?it/s]"
      ]
     },
     "metadata": {},
     "output_type": "display_data"
    },
    {
     "data": {
      "application/vnd.jupyter.widget-view+json": {
       "model_id": "d8a42acae2154f3b9213f5d175306c13",
       "version_major": 2,
       "version_minor": 0
      },
      "text/plain": [
       "  0%|          | 0/1 [00:00<?, ?it/s]"
      ]
     },
     "metadata": {},
     "output_type": "display_data"
    },
    {
     "data": {
      "application/vnd.jupyter.widget-view+json": {
       "model_id": "322610de24bd45aeb3ffbe4986ad0b1b",
       "version_major": 2,
       "version_minor": 0
      },
      "text/plain": [
       "  0%|          | 0/1 [00:00<?, ?it/s]"
      ]
     },
     "metadata": {},
     "output_type": "display_data"
    },
    {
     "data": {
      "application/vnd.jupyter.widget-view+json": {
       "model_id": "c8ba46a66e884d7da506382017411593",
       "version_major": 2,
       "version_minor": 0
      },
      "text/plain": [
       "  0%|          | 0/1 [00:00<?, ?it/s]"
      ]
     },
     "metadata": {},
     "output_type": "display_data"
    },
    {
     "data": {
      "application/vnd.jupyter.widget-view+json": {
       "model_id": "bcd16ee4378c45d2a9a8fe9f295e4ef1",
       "version_major": 2,
       "version_minor": 0
      },
      "text/plain": [
       "  0%|          | 0/1 [00:00<?, ?it/s]"
      ]
     },
     "metadata": {},
     "output_type": "display_data"
    },
    {
     "data": {
      "application/vnd.jupyter.widget-view+json": {
       "model_id": "b49e1f44944449d18a3995a36627912b",
       "version_major": 2,
       "version_minor": 0
      },
      "text/plain": [
       "  0%|          | 0/1 [00:00<?, ?it/s]"
      ]
     },
     "metadata": {},
     "output_type": "display_data"
    },
    {
     "name": "stdout",
     "output_type": "stream",
     "text": [
      "Epoch number:9 Loss: 0.1943\n"
     ]
    },
    {
     "data": {
      "application/vnd.jupyter.widget-view+json": {
       "model_id": "50e2963ed31440e9a82b0afd1f2821fe",
       "version_major": 2,
       "version_minor": 0
      },
      "text/plain": [
       "  0%|          | 0/1 [00:00<?, ?it/s]"
      ]
     },
     "metadata": {},
     "output_type": "display_data"
    },
    {
     "data": {
      "application/vnd.jupyter.widget-view+json": {
       "model_id": "8631f78aedc148d0b7b84d6b5ac5abc3",
       "version_major": 2,
       "version_minor": 0
      },
      "text/plain": [
       "  0%|          | 0/1 [00:00<?, ?it/s]"
      ]
     },
     "metadata": {},
     "output_type": "display_data"
    },
    {
     "data": {
      "application/vnd.jupyter.widget-view+json": {
       "model_id": "55f6e4da70f2479ca8b36018965edf87",
       "version_major": 2,
       "version_minor": 0
      },
      "text/plain": [
       "  0%|          | 0/1 [00:00<?, ?it/s]"
      ]
     },
     "metadata": {},
     "output_type": "display_data"
    },
    {
     "data": {
      "application/vnd.jupyter.widget-view+json": {
       "model_id": "d8c4fd870a1f4b3db1d4cb1806d78f3e",
       "version_major": 2,
       "version_minor": 0
      },
      "text/plain": [
       "  0%|          | 0/1 [00:00<?, ?it/s]"
      ]
     },
     "metadata": {},
     "output_type": "display_data"
    },
    {
     "data": {
      "application/vnd.jupyter.widget-view+json": {
       "model_id": "e22a0c71ac3d4cbe89bf4909ce6bbb1f",
       "version_major": 2,
       "version_minor": 0
      },
      "text/plain": [
       "  0%|          | 0/1 [00:00<?, ?it/s]"
      ]
     },
     "metadata": {},
     "output_type": "display_data"
    },
    {
     "data": {
      "application/vnd.jupyter.widget-view+json": {
       "model_id": "6a4f6bf073174c9d9ce239719384b3f7",
       "version_major": 2,
       "version_minor": 0
      },
      "text/plain": [
       "  0%|          | 0/1 [00:00<?, ?it/s]"
      ]
     },
     "metadata": {},
     "output_type": "display_data"
    },
    {
     "data": {
      "application/vnd.jupyter.widget-view+json": {
       "model_id": "daa9241bb382451e9214d04a3bb262e9",
       "version_major": 2,
       "version_minor": 0
      },
      "text/plain": [
       "  0%|          | 0/1 [00:00<?, ?it/s]"
      ]
     },
     "metadata": {},
     "output_type": "display_data"
    },
    {
     "data": {
      "application/vnd.jupyter.widget-view+json": {
       "model_id": "c52efa785fde42fc9e4bb4677d330d0c",
       "version_major": 2,
       "version_minor": 0
      },
      "text/plain": [
       "  0%|          | 0/1 [00:00<?, ?it/s]"
      ]
     },
     "metadata": {},
     "output_type": "display_data"
    },
    {
     "data": {
      "application/vnd.jupyter.widget-view+json": {
       "model_id": "7b84f65f2b2347e49508ef3da9288ac6",
       "version_major": 2,
       "version_minor": 0
      },
      "text/plain": [
       "  0%|          | 0/1 [00:00<?, ?it/s]"
      ]
     },
     "metadata": {},
     "output_type": "display_data"
    },
    {
     "data": {
      "application/vnd.jupyter.widget-view+json": {
       "model_id": "de195863e1484c88adcfee03ca956c45",
       "version_major": 2,
       "version_minor": 0
      },
      "text/plain": [
       "  0%|          | 0/1 [00:00<?, ?it/s]"
      ]
     },
     "metadata": {},
     "output_type": "display_data"
    },
    {
     "name": "stdout",
     "output_type": "stream",
     "text": [
      "Epoch number:19 Loss: 0.1812\n"
     ]
    },
    {
     "data": {
      "application/vnd.jupyter.widget-view+json": {
       "model_id": "c771409181b34c6c99e65787bc29e0d3",
       "version_major": 2,
       "version_minor": 0
      },
      "text/plain": [
       "  0%|          | 0/1 [00:00<?, ?it/s]"
      ]
     },
     "metadata": {},
     "output_type": "display_data"
    },
    {
     "data": {
      "application/vnd.jupyter.widget-view+json": {
       "model_id": "d620b310a4f843c793062089b91a0e66",
       "version_major": 2,
       "version_minor": 0
      },
      "text/plain": [
       "  0%|          | 0/1 [00:00<?, ?it/s]"
      ]
     },
     "metadata": {},
     "output_type": "display_data"
    },
    {
     "data": {
      "application/vnd.jupyter.widget-view+json": {
       "model_id": "dd2d68a8b53d422586eaf1c9f4ffa656",
       "version_major": 2,
       "version_minor": 0
      },
      "text/plain": [
       "  0%|          | 0/1 [00:00<?, ?it/s]"
      ]
     },
     "metadata": {},
     "output_type": "display_data"
    },
    {
     "data": {
      "application/vnd.jupyter.widget-view+json": {
       "model_id": "ab06efb84c9c486e9b178d4d1c9aee30",
       "version_major": 2,
       "version_minor": 0
      },
      "text/plain": [
       "  0%|          | 0/1 [00:00<?, ?it/s]"
      ]
     },
     "metadata": {},
     "output_type": "display_data"
    },
    {
     "data": {
      "application/vnd.jupyter.widget-view+json": {
       "model_id": "d3206ff1f01849f5a09b392d6afcb0f5",
       "version_major": 2,
       "version_minor": 0
      },
      "text/plain": [
       "  0%|          | 0/1 [00:00<?, ?it/s]"
      ]
     },
     "metadata": {},
     "output_type": "display_data"
    },
    {
     "data": {
      "application/vnd.jupyter.widget-view+json": {
       "model_id": "bbfb0059ce694e449376f90c78e3eed2",
       "version_major": 2,
       "version_minor": 0
      },
      "text/plain": [
       "  0%|          | 0/1 [00:00<?, ?it/s]"
      ]
     },
     "metadata": {},
     "output_type": "display_data"
    },
    {
     "data": {
      "application/vnd.jupyter.widget-view+json": {
       "model_id": "0e2c8ac69c7d42fda030db3e46cffa0b",
       "version_major": 2,
       "version_minor": 0
      },
      "text/plain": [
       "  0%|          | 0/1 [00:00<?, ?it/s]"
      ]
     },
     "metadata": {},
     "output_type": "display_data"
    },
    {
     "data": {
      "application/vnd.jupyter.widget-view+json": {
       "model_id": "0490c9afade349a099075a75d2882172",
       "version_major": 2,
       "version_minor": 0
      },
      "text/plain": [
       "  0%|          | 0/1 [00:00<?, ?it/s]"
      ]
     },
     "metadata": {},
     "output_type": "display_data"
    },
    {
     "data": {
      "application/vnd.jupyter.widget-view+json": {
       "model_id": "dcfe303c63a34407945a385a11f28ae1",
       "version_major": 2,
       "version_minor": 0
      },
      "text/plain": [
       "  0%|          | 0/1 [00:00<?, ?it/s]"
      ]
     },
     "metadata": {},
     "output_type": "display_data"
    },
    {
     "data": {
      "application/vnd.jupyter.widget-view+json": {
       "model_id": "a70416efaffc44828fb708cd2ea44779",
       "version_major": 2,
       "version_minor": 0
      },
      "text/plain": [
       "  0%|          | 0/1 [00:00<?, ?it/s]"
      ]
     },
     "metadata": {},
     "output_type": "display_data"
    },
    {
     "name": "stdout",
     "output_type": "stream",
     "text": [
      "Epoch number:29 Loss: 0.1741\n"
     ]
    },
    {
     "data": {
      "application/vnd.jupyter.widget-view+json": {
       "model_id": "d8ed3325cad74633bd39acb99cd8cdb6",
       "version_major": 2,
       "version_minor": 0
      },
      "text/plain": [
       "  0%|          | 0/1 [00:00<?, ?it/s]"
      ]
     },
     "metadata": {},
     "output_type": "display_data"
    },
    {
     "data": {
      "application/vnd.jupyter.widget-view+json": {
       "model_id": "e7797be383db4092a5e7d713ab3b9836",
       "version_major": 2,
       "version_minor": 0
      },
      "text/plain": [
       "  0%|          | 0/1 [00:00<?, ?it/s]"
      ]
     },
     "metadata": {},
     "output_type": "display_data"
    },
    {
     "data": {
      "application/vnd.jupyter.widget-view+json": {
       "model_id": "4743edd4a5aa4a5fb4e09ff4eaaa05e6",
       "version_major": 2,
       "version_minor": 0
      },
      "text/plain": [
       "  0%|          | 0/1 [00:00<?, ?it/s]"
      ]
     },
     "metadata": {},
     "output_type": "display_data"
    },
    {
     "data": {
      "application/vnd.jupyter.widget-view+json": {
       "model_id": "32f04944277b43c687ac0154dad3dfcf",
       "version_major": 2,
       "version_minor": 0
      },
      "text/plain": [
       "  0%|          | 0/1 [00:00<?, ?it/s]"
      ]
     },
     "metadata": {},
     "output_type": "display_data"
    },
    {
     "data": {
      "application/vnd.jupyter.widget-view+json": {
       "model_id": "7ef4b8fc96fc4d30b3435d84fe2c3a06",
       "version_major": 2,
       "version_minor": 0
      },
      "text/plain": [
       "  0%|          | 0/1 [00:00<?, ?it/s]"
      ]
     },
     "metadata": {},
     "output_type": "display_data"
    },
    {
     "data": {
      "application/vnd.jupyter.widget-view+json": {
       "model_id": "37cb1436bbfa4d03bba3d478b610317a",
       "version_major": 2,
       "version_minor": 0
      },
      "text/plain": [
       "  0%|          | 0/1 [00:00<?, ?it/s]"
      ]
     },
     "metadata": {},
     "output_type": "display_data"
    },
    {
     "data": {
      "application/vnd.jupyter.widget-view+json": {
       "model_id": "1ddeaa5a2c77445ca8a3b9167e65063f",
       "version_major": 2,
       "version_minor": 0
      },
      "text/plain": [
       "  0%|          | 0/1 [00:00<?, ?it/s]"
      ]
     },
     "metadata": {},
     "output_type": "display_data"
    },
    {
     "data": {
      "application/vnd.jupyter.widget-view+json": {
       "model_id": "122acf1776b448e2b014d19a773275e4",
       "version_major": 2,
       "version_minor": 0
      },
      "text/plain": [
       "  0%|          | 0/1 [00:00<?, ?it/s]"
      ]
     },
     "metadata": {},
     "output_type": "display_data"
    },
    {
     "data": {
      "application/vnd.jupyter.widget-view+json": {
       "model_id": "ff8d0520c8a9470ea497745db389fa0c",
       "version_major": 2,
       "version_minor": 0
      },
      "text/plain": [
       "  0%|          | 0/1 [00:00<?, ?it/s]"
      ]
     },
     "metadata": {},
     "output_type": "display_data"
    },
    {
     "data": {
      "application/vnd.jupyter.widget-view+json": {
       "model_id": "e7eaa62a853343bd8b00a0c0245c1b6b",
       "version_major": 2,
       "version_minor": 0
      },
      "text/plain": [
       "  0%|          | 0/1 [00:00<?, ?it/s]"
      ]
     },
     "metadata": {},
     "output_type": "display_data"
    },
    {
     "name": "stdout",
     "output_type": "stream",
     "text": [
      "Epoch number:39 Loss: 0.1643\n"
     ]
    },
    {
     "data": {
      "application/vnd.jupyter.widget-view+json": {
       "model_id": "682d039a260c49bfaf238df19ed27969",
       "version_major": 2,
       "version_minor": 0
      },
      "text/plain": [
       "  0%|          | 0/1 [00:00<?, ?it/s]"
      ]
     },
     "metadata": {},
     "output_type": "display_data"
    },
    {
     "data": {
      "application/vnd.jupyter.widget-view+json": {
       "model_id": "2b22f601e82946ecbdb49569ccf99085",
       "version_major": 2,
       "version_minor": 0
      },
      "text/plain": [
       "  0%|          | 0/1 [00:00<?, ?it/s]"
      ]
     },
     "metadata": {},
     "output_type": "display_data"
    },
    {
     "data": {
      "application/vnd.jupyter.widget-view+json": {
       "model_id": "593a6efa6775476f9db6874834865c7e",
       "version_major": 2,
       "version_minor": 0
      },
      "text/plain": [
       "  0%|          | 0/1 [00:00<?, ?it/s]"
      ]
     },
     "metadata": {},
     "output_type": "display_data"
    },
    {
     "data": {
      "application/vnd.jupyter.widget-view+json": {
       "model_id": "1dbb8639ecd54f3bbf8f5f053e8426d5",
       "version_major": 2,
       "version_minor": 0
      },
      "text/plain": [
       "  0%|          | 0/1 [00:00<?, ?it/s]"
      ]
     },
     "metadata": {},
     "output_type": "display_data"
    },
    {
     "data": {
      "application/vnd.jupyter.widget-view+json": {
       "model_id": "05b4f7856df84575913d276a86b820c6",
       "version_major": 2,
       "version_minor": 0
      },
      "text/plain": [
       "  0%|          | 0/1 [00:00<?, ?it/s]"
      ]
     },
     "metadata": {},
     "output_type": "display_data"
    },
    {
     "data": {
      "application/vnd.jupyter.widget-view+json": {
       "model_id": "8ab12b2935a345a4a01d2f34bb2873db",
       "version_major": 2,
       "version_minor": 0
      },
      "text/plain": [
       "  0%|          | 0/1 [00:00<?, ?it/s]"
      ]
     },
     "metadata": {},
     "output_type": "display_data"
    },
    {
     "data": {
      "application/vnd.jupyter.widget-view+json": {
       "model_id": "5a75c77cec6e44058a6d32571c6cc5e4",
       "version_major": 2,
       "version_minor": 0
      },
      "text/plain": [
       "  0%|          | 0/1 [00:00<?, ?it/s]"
      ]
     },
     "metadata": {},
     "output_type": "display_data"
    },
    {
     "data": {
      "application/vnd.jupyter.widget-view+json": {
       "model_id": "4759e5b97f914956a9aec5548310dfbb",
       "version_major": 2,
       "version_minor": 0
      },
      "text/plain": [
       "  0%|          | 0/1 [00:00<?, ?it/s]"
      ]
     },
     "metadata": {},
     "output_type": "display_data"
    },
    {
     "data": {
      "application/vnd.jupyter.widget-view+json": {
       "model_id": "8b5f7413f7a54628bf88690dda508cb9",
       "version_major": 2,
       "version_minor": 0
      },
      "text/plain": [
       "  0%|          | 0/1 [00:00<?, ?it/s]"
      ]
     },
     "metadata": {},
     "output_type": "display_data"
    },
    {
     "data": {
      "application/vnd.jupyter.widget-view+json": {
       "model_id": "e9a56c7c82114fefb227e07f8dcde9b7",
       "version_major": 2,
       "version_minor": 0
      },
      "text/plain": [
       "  0%|          | 0/1 [00:00<?, ?it/s]"
      ]
     },
     "metadata": {},
     "output_type": "display_data"
    },
    {
     "name": "stdout",
     "output_type": "stream",
     "text": [
      "Epoch number:49 Loss: 0.1565\n"
     ]
    },
    {
     "data": {
      "application/vnd.jupyter.widget-view+json": {
       "model_id": "18d2c463b8ae4d7b9e2feb09fe344df0",
       "version_major": 2,
       "version_minor": 0
      },
      "text/plain": [
       "  0%|          | 0/1 [00:00<?, ?it/s]"
      ]
     },
     "metadata": {},
     "output_type": "display_data"
    },
    {
     "data": {
      "application/vnd.jupyter.widget-view+json": {
       "model_id": "f2ad05a7f439416d97b4ae1a1b260d98",
       "version_major": 2,
       "version_minor": 0
      },
      "text/plain": [
       "  0%|          | 0/1 [00:00<?, ?it/s]"
      ]
     },
     "metadata": {},
     "output_type": "display_data"
    },
    {
     "data": {
      "application/vnd.jupyter.widget-view+json": {
       "model_id": "5c286d0ec07345cc91594072237cc191",
       "version_major": 2,
       "version_minor": 0
      },
      "text/plain": [
       "  0%|          | 0/1 [00:00<?, ?it/s]"
      ]
     },
     "metadata": {},
     "output_type": "display_data"
    },
    {
     "data": {
      "application/vnd.jupyter.widget-view+json": {
       "model_id": "7f71a0ea53744c62b5e853ad8feaa192",
       "version_major": 2,
       "version_minor": 0
      },
      "text/plain": [
       "  0%|          | 0/1 [00:00<?, ?it/s]"
      ]
     },
     "metadata": {},
     "output_type": "display_data"
    },
    {
     "data": {
      "application/vnd.jupyter.widget-view+json": {
       "model_id": "650a617f8ef7479aae8a3e79d5c46c4a",
       "version_major": 2,
       "version_minor": 0
      },
      "text/plain": [
       "  0%|          | 0/1 [00:00<?, ?it/s]"
      ]
     },
     "metadata": {},
     "output_type": "display_data"
    },
    {
     "data": {
      "application/vnd.jupyter.widget-view+json": {
       "model_id": "73017f82d3304350983d6dd6ecebb149",
       "version_major": 2,
       "version_minor": 0
      },
      "text/plain": [
       "  0%|          | 0/1 [00:00<?, ?it/s]"
      ]
     },
     "metadata": {},
     "output_type": "display_data"
    },
    {
     "data": {
      "application/vnd.jupyter.widget-view+json": {
       "model_id": "459fe6486f87441e8839ed880c751ee1",
       "version_major": 2,
       "version_minor": 0
      },
      "text/plain": [
       "  0%|          | 0/1 [00:00<?, ?it/s]"
      ]
     },
     "metadata": {},
     "output_type": "display_data"
    },
    {
     "data": {
      "application/vnd.jupyter.widget-view+json": {
       "model_id": "fe9b3c046f574808a93baf3e3fb59ce6",
       "version_major": 2,
       "version_minor": 0
      },
      "text/plain": [
       "  0%|          | 0/1 [00:00<?, ?it/s]"
      ]
     },
     "metadata": {},
     "output_type": "display_data"
    },
    {
     "data": {
      "application/vnd.jupyter.widget-view+json": {
       "model_id": "658dbe190c2a461999046de9669c2500",
       "version_major": 2,
       "version_minor": 0
      },
      "text/plain": [
       "  0%|          | 0/1 [00:00<?, ?it/s]"
      ]
     },
     "metadata": {},
     "output_type": "display_data"
    },
    {
     "data": {
      "application/vnd.jupyter.widget-view+json": {
       "model_id": "f7cd470e0ad74ae2979bd313ca0f3fc7",
       "version_major": 2,
       "version_minor": 0
      },
      "text/plain": [
       "  0%|          | 0/1 [00:00<?, ?it/s]"
      ]
     },
     "metadata": {},
     "output_type": "display_data"
    },
    {
     "name": "stdout",
     "output_type": "stream",
     "text": [
      "Epoch number:59 Loss: 0.1515\n"
     ]
    },
    {
     "data": {
      "application/vnd.jupyter.widget-view+json": {
       "model_id": "7414caa6096e4ee59e7635e728db418f",
       "version_major": 2,
       "version_minor": 0
      },
      "text/plain": [
       "  0%|          | 0/1 [00:00<?, ?it/s]"
      ]
     },
     "metadata": {},
     "output_type": "display_data"
    },
    {
     "data": {
      "application/vnd.jupyter.widget-view+json": {
       "model_id": "6008ea909dcf47b6a73bca641a3b2860",
       "version_major": 2,
       "version_minor": 0
      },
      "text/plain": [
       "  0%|          | 0/1 [00:00<?, ?it/s]"
      ]
     },
     "metadata": {},
     "output_type": "display_data"
    },
    {
     "data": {
      "application/vnd.jupyter.widget-view+json": {
       "model_id": "26f99772c7aa448c8617b56fe140a52c",
       "version_major": 2,
       "version_minor": 0
      },
      "text/plain": [
       "  0%|          | 0/1 [00:00<?, ?it/s]"
      ]
     },
     "metadata": {},
     "output_type": "display_data"
    },
    {
     "data": {
      "application/vnd.jupyter.widget-view+json": {
       "model_id": "ae8a9d6c21ab437d9c3a609d6d7c6ea4",
       "version_major": 2,
       "version_minor": 0
      },
      "text/plain": [
       "  0%|          | 0/1 [00:00<?, ?it/s]"
      ]
     },
     "metadata": {},
     "output_type": "display_data"
    },
    {
     "data": {
      "application/vnd.jupyter.widget-view+json": {
       "model_id": "b25ea882c7ba4801a54467d26c66e416",
       "version_major": 2,
       "version_minor": 0
      },
      "text/plain": [
       "  0%|          | 0/1 [00:00<?, ?it/s]"
      ]
     },
     "metadata": {},
     "output_type": "display_data"
    },
    {
     "data": {
      "application/vnd.jupyter.widget-view+json": {
       "model_id": "f7ab626d6d844dc5b80d2583351d99d6",
       "version_major": 2,
       "version_minor": 0
      },
      "text/plain": [
       "  0%|          | 0/1 [00:00<?, ?it/s]"
      ]
     },
     "metadata": {},
     "output_type": "display_data"
    },
    {
     "data": {
      "application/vnd.jupyter.widget-view+json": {
       "model_id": "807422cb3b4c440d8b9bb6eb2a67bbe0",
       "version_major": 2,
       "version_minor": 0
      },
      "text/plain": [
       "  0%|          | 0/1 [00:00<?, ?it/s]"
      ]
     },
     "metadata": {},
     "output_type": "display_data"
    },
    {
     "data": {
      "application/vnd.jupyter.widget-view+json": {
       "model_id": "8ebc52c44dd54eba9f2a6c94cf1a1c9d",
       "version_major": 2,
       "version_minor": 0
      },
      "text/plain": [
       "  0%|          | 0/1 [00:00<?, ?it/s]"
      ]
     },
     "metadata": {},
     "output_type": "display_data"
    },
    {
     "data": {
      "application/vnd.jupyter.widget-view+json": {
       "model_id": "5cdb99834c0140178c8d2f7d616e12b4",
       "version_major": 2,
       "version_minor": 0
      },
      "text/plain": [
       "  0%|          | 0/1 [00:00<?, ?it/s]"
      ]
     },
     "metadata": {},
     "output_type": "display_data"
    },
    {
     "data": {
      "application/vnd.jupyter.widget-view+json": {
       "model_id": "7021b2e06115496181a76ee8f2202bd4",
       "version_major": 2,
       "version_minor": 0
      },
      "text/plain": [
       "  0%|          | 0/1 [00:00<?, ?it/s]"
      ]
     },
     "metadata": {},
     "output_type": "display_data"
    },
    {
     "name": "stdout",
     "output_type": "stream",
     "text": [
      "Epoch number:69 Loss: 0.1464\n"
     ]
    },
    {
     "data": {
      "application/vnd.jupyter.widget-view+json": {
       "model_id": "8ef804fd4c884b9db427620256bbabc9",
       "version_major": 2,
       "version_minor": 0
      },
      "text/plain": [
       "  0%|          | 0/1 [00:00<?, ?it/s]"
      ]
     },
     "metadata": {},
     "output_type": "display_data"
    },
    {
     "data": {
      "application/vnd.jupyter.widget-view+json": {
       "model_id": "dc76f4142e954646b468133b42d3ac7e",
       "version_major": 2,
       "version_minor": 0
      },
      "text/plain": [
       "  0%|          | 0/1 [00:00<?, ?it/s]"
      ]
     },
     "metadata": {},
     "output_type": "display_data"
    },
    {
     "data": {
      "application/vnd.jupyter.widget-view+json": {
       "model_id": "ca2d62c6126247a1a148aa1e0922e5d7",
       "version_major": 2,
       "version_minor": 0
      },
      "text/plain": [
       "  0%|          | 0/1 [00:00<?, ?it/s]"
      ]
     },
     "metadata": {},
     "output_type": "display_data"
    },
    {
     "data": {
      "application/vnd.jupyter.widget-view+json": {
       "model_id": "92561f23bce64e659693768258954d9b",
       "version_major": 2,
       "version_minor": 0
      },
      "text/plain": [
       "  0%|          | 0/1 [00:00<?, ?it/s]"
      ]
     },
     "metadata": {},
     "output_type": "display_data"
    },
    {
     "data": {
      "application/vnd.jupyter.widget-view+json": {
       "model_id": "224b9382803c4801907e44f787bc2b79",
       "version_major": 2,
       "version_minor": 0
      },
      "text/plain": [
       "  0%|          | 0/1 [00:00<?, ?it/s]"
      ]
     },
     "metadata": {},
     "output_type": "display_data"
    },
    {
     "data": {
      "application/vnd.jupyter.widget-view+json": {
       "model_id": "4069aacd37e345f2a945c9a2ac46e54e",
       "version_major": 2,
       "version_minor": 0
      },
      "text/plain": [
       "  0%|          | 0/1 [00:00<?, ?it/s]"
      ]
     },
     "metadata": {},
     "output_type": "display_data"
    },
    {
     "data": {
      "application/vnd.jupyter.widget-view+json": {
       "model_id": "4c55d94d143e48eeb794fa79602d8da9",
       "version_major": 2,
       "version_minor": 0
      },
      "text/plain": [
       "  0%|          | 0/1 [00:00<?, ?it/s]"
      ]
     },
     "metadata": {},
     "output_type": "display_data"
    },
    {
     "data": {
      "application/vnd.jupyter.widget-view+json": {
       "model_id": "2754dc922b3d45cbb9e39bcd29b5492c",
       "version_major": 2,
       "version_minor": 0
      },
      "text/plain": [
       "  0%|          | 0/1 [00:00<?, ?it/s]"
      ]
     },
     "metadata": {},
     "output_type": "display_data"
    },
    {
     "data": {
      "application/vnd.jupyter.widget-view+json": {
       "model_id": "a8d1eb1de2cf4111beb9ba4fbd42760b",
       "version_major": 2,
       "version_minor": 0
      },
      "text/plain": [
       "  0%|          | 0/1 [00:00<?, ?it/s]"
      ]
     },
     "metadata": {},
     "output_type": "display_data"
    },
    {
     "data": {
      "application/vnd.jupyter.widget-view+json": {
       "model_id": "3850a79473224de281e52116ef7a99ba",
       "version_major": 2,
       "version_minor": 0
      },
      "text/plain": [
       "  0%|          | 0/1 [00:00<?, ?it/s]"
      ]
     },
     "metadata": {},
     "output_type": "display_data"
    },
    {
     "name": "stdout",
     "output_type": "stream",
     "text": [
      "Epoch number:79 Loss: 0.1435\n"
     ]
    },
    {
     "data": {
      "application/vnd.jupyter.widget-view+json": {
       "model_id": "8fd6e45538524312a7d8a05b2ac2cb47",
       "version_major": 2,
       "version_minor": 0
      },
      "text/plain": [
       "  0%|          | 0/1 [00:00<?, ?it/s]"
      ]
     },
     "metadata": {},
     "output_type": "display_data"
    },
    {
     "data": {
      "application/vnd.jupyter.widget-view+json": {
       "model_id": "906b8669faa64e09806c1e49615a9093",
       "version_major": 2,
       "version_minor": 0
      },
      "text/plain": [
       "  0%|          | 0/1 [00:00<?, ?it/s]"
      ]
     },
     "metadata": {},
     "output_type": "display_data"
    },
    {
     "data": {
      "application/vnd.jupyter.widget-view+json": {
       "model_id": "2e15dbb1c8af45608655e524a9b928b6",
       "version_major": 2,
       "version_minor": 0
      },
      "text/plain": [
       "  0%|          | 0/1 [00:00<?, ?it/s]"
      ]
     },
     "metadata": {},
     "output_type": "display_data"
    },
    {
     "data": {
      "application/vnd.jupyter.widget-view+json": {
       "model_id": "56921e145e234c05911caaa01c7ea652",
       "version_major": 2,
       "version_minor": 0
      },
      "text/plain": [
       "  0%|          | 0/1 [00:00<?, ?it/s]"
      ]
     },
     "metadata": {},
     "output_type": "display_data"
    },
    {
     "data": {
      "application/vnd.jupyter.widget-view+json": {
       "model_id": "0140c1f9d05a493587c3090dabd7235b",
       "version_major": 2,
       "version_minor": 0
      },
      "text/plain": [
       "  0%|          | 0/1 [00:00<?, ?it/s]"
      ]
     },
     "metadata": {},
     "output_type": "display_data"
    },
    {
     "data": {
      "application/vnd.jupyter.widget-view+json": {
       "model_id": "f43e054ed55c49d8b04ba74b6139bd0e",
       "version_major": 2,
       "version_minor": 0
      },
      "text/plain": [
       "  0%|          | 0/1 [00:00<?, ?it/s]"
      ]
     },
     "metadata": {},
     "output_type": "display_data"
    },
    {
     "data": {
      "application/vnd.jupyter.widget-view+json": {
       "model_id": "4985d609e5114e719fd774a2bd0adceb",
       "version_major": 2,
       "version_minor": 0
      },
      "text/plain": [
       "  0%|          | 0/1 [00:00<?, ?it/s]"
      ]
     },
     "metadata": {},
     "output_type": "display_data"
    },
    {
     "data": {
      "application/vnd.jupyter.widget-view+json": {
       "model_id": "afb1cff3f2004336bee77cc3ea69f4b0",
       "version_major": 2,
       "version_minor": 0
      },
      "text/plain": [
       "  0%|          | 0/1 [00:00<?, ?it/s]"
      ]
     },
     "metadata": {},
     "output_type": "display_data"
    },
    {
     "data": {
      "application/vnd.jupyter.widget-view+json": {
       "model_id": "c48cc88e8ac549bfbeac017446dfa285",
       "version_major": 2,
       "version_minor": 0
      },
      "text/plain": [
       "  0%|          | 0/1 [00:00<?, ?it/s]"
      ]
     },
     "metadata": {},
     "output_type": "display_data"
    },
    {
     "data": {
      "application/vnd.jupyter.widget-view+json": {
       "model_id": "0d532088ac2c41d4992d57223309eab4",
       "version_major": 2,
       "version_minor": 0
      },
      "text/plain": [
       "  0%|          | 0/1 [00:00<?, ?it/s]"
      ]
     },
     "metadata": {},
     "output_type": "display_data"
    },
    {
     "name": "stdout",
     "output_type": "stream",
     "text": [
      "Epoch number:89 Loss: 0.1411\n"
     ]
    },
    {
     "data": {
      "application/vnd.jupyter.widget-view+json": {
       "model_id": "1e2432e6257643ecbddc7abb763afede",
       "version_major": 2,
       "version_minor": 0
      },
      "text/plain": [
       "  0%|          | 0/1 [00:00<?, ?it/s]"
      ]
     },
     "metadata": {},
     "output_type": "display_data"
    },
    {
     "data": {
      "application/vnd.jupyter.widget-view+json": {
       "model_id": "fc2604691ce54816834483c57416162b",
       "version_major": 2,
       "version_minor": 0
      },
      "text/plain": [
       "  0%|          | 0/1 [00:00<?, ?it/s]"
      ]
     },
     "metadata": {},
     "output_type": "display_data"
    },
    {
     "data": {
      "application/vnd.jupyter.widget-view+json": {
       "model_id": "d7b4d5f698fb479aa66a0e561145770f",
       "version_major": 2,
       "version_minor": 0
      },
      "text/plain": [
       "  0%|          | 0/1 [00:00<?, ?it/s]"
      ]
     },
     "metadata": {},
     "output_type": "display_data"
    },
    {
     "data": {
      "application/vnd.jupyter.widget-view+json": {
       "model_id": "dd2d0bac5b9a4c4e816a372add1cffaa",
       "version_major": 2,
       "version_minor": 0
      },
      "text/plain": [
       "  0%|          | 0/1 [00:00<?, ?it/s]"
      ]
     },
     "metadata": {},
     "output_type": "display_data"
    },
    {
     "data": {
      "application/vnd.jupyter.widget-view+json": {
       "model_id": "3e00da5b629d4e8ebc56ca7d5ee97a81",
       "version_major": 2,
       "version_minor": 0
      },
      "text/plain": [
       "  0%|          | 0/1 [00:00<?, ?it/s]"
      ]
     },
     "metadata": {},
     "output_type": "display_data"
    },
    {
     "data": {
      "application/vnd.jupyter.widget-view+json": {
       "model_id": "9929d1497a184f03859ecdfd66624860",
       "version_major": 2,
       "version_minor": 0
      },
      "text/plain": [
       "  0%|          | 0/1 [00:00<?, ?it/s]"
      ]
     },
     "metadata": {},
     "output_type": "display_data"
    },
    {
     "data": {
      "application/vnd.jupyter.widget-view+json": {
       "model_id": "f4ef11cc3ec44c868f745558d1f29713",
       "version_major": 2,
       "version_minor": 0
      },
      "text/plain": [
       "  0%|          | 0/1 [00:00<?, ?it/s]"
      ]
     },
     "metadata": {},
     "output_type": "display_data"
    },
    {
     "data": {
      "application/vnd.jupyter.widget-view+json": {
       "model_id": "636a2510c18d43b0a3cfa5518de6948a",
       "version_major": 2,
       "version_minor": 0
      },
      "text/plain": [
       "  0%|          | 0/1 [00:00<?, ?it/s]"
      ]
     },
     "metadata": {},
     "output_type": "display_data"
    },
    {
     "data": {
      "application/vnd.jupyter.widget-view+json": {
       "model_id": "2f583a00e21242978d6582832810a0ba",
       "version_major": 2,
       "version_minor": 0
      },
      "text/plain": [
       "  0%|          | 0/1 [00:00<?, ?it/s]"
      ]
     },
     "metadata": {},
     "output_type": "display_data"
    },
    {
     "data": {
      "application/vnd.jupyter.widget-view+json": {
       "model_id": "21778477833e4f36b47096c66d7b8ab6",
       "version_major": 2,
       "version_minor": 0
      },
      "text/plain": [
       "  0%|          | 0/1 [00:00<?, ?it/s]"
      ]
     },
     "metadata": {},
     "output_type": "display_data"
    },
    {
     "name": "stdout",
     "output_type": "stream",
     "text": [
      "Epoch number:99 Loss: 0.1380\n"
     ]
    },
    {
     "data": {
      "application/vnd.jupyter.widget-view+json": {
       "model_id": "4eabac5859ad47e5b35a48da4865cc52",
       "version_major": 2,
       "version_minor": 0
      },
      "text/plain": [
       "  0%|          | 0/1 [00:00<?, ?it/s]"
      ]
     },
     "metadata": {},
     "output_type": "display_data"
    },
    {
     "name": "stdout",
     "output_type": "stream",
     "text": [
      "tensor([nan, nan, nan, nan, nan, nan, nan, nan, nan, nan, nan, nan, nan, nan, nan, nan, nan, nan, nan, nan, nan, nan, nan, nan,\n",
      "        nan, nan, nan, nan, nan, nan, nan, nan, nan, nan, nan, nan, nan, nan, nan, nan, nan, nan, nan, nan, nan, nan, nan, nan,\n",
      "        nan, nan, nan, nan, nan, nan, nan, nan, nan, nan, nan, nan, nan, nan, nan, nan, nan, nan, nan, nan, nan, nan, nan, nan,\n",
      "        nan, nan, nan, nan, nan, nan, nan, nan, nan, nan, nan, nan, nan, nan, nan, nan, nan, nan, nan, nan, nan, nan, nan, nan,\n",
      "        nan, nan, nan, nan, nan, nan, nan, nan, nan, nan, nan, nan, nan, nan, nan, nan, nan, nan, nan, nan, nan, nan, nan, nan,\n",
      "        nan, nan, nan, nan, nan, nan, nan, nan, nan, nan, nan, nan, nan, nan, nan, nan, nan, nan, nan, nan, nan, nan, nan, nan,\n",
      "        nan, nan, nan, nan, nan, nan, nan, nan, nan, nan, nan, nan, nan, nan, nan, nan, nan, nan, nan, nan, nan, nan, nan, nan,\n",
      "        nan, nan, nan, nan, nan, nan, nan, nan, nan, nan, nan, nan, nan, nan, nan, nan, nan, nan, nan, nan, nan, nan, nan, nan,\n",
      "        nan, nan, nan, nan, nan, nan, nan, nan, nan, nan, nan, nan, nan, nan, nan, nan, nan, nan, nan, nan, nan, nan, nan, nan,\n",
      "        nan, nan, nan, nan, nan, nan, nan, nan, nan, nan, nan, nan, nan, nan, nan, nan, nan, nan, nan, nan, nan, nan, nan, nan,\n",
      "        nan, nan, nan, nan, nan, nan, nan, nan])\n",
      "tensor([    0.1929,     0.4118,     0.2643,     0.5600,     0.6874,     0.0250,\n",
      "            0.2621,     0.1807,     0.2533,     0.2518,     0.9820,     0.4732,\n",
      "            0.6766,     0.1135,     0.4890,     0.1267,     1.0000,     0.4333,\n",
      "            0.7115,     0.0429,     0.0411,     0.0799,     0.3924,     0.3970,\n",
      "            0.0000,     0.1559,     0.1322,     0.2219,     0.0648,     0.0703,\n",
      "            0.3586,     0.0323,     0.0231,     0.1538,     0.2766,     0.1959,\n",
      "            0.7658,     0.1500,     0.0862,     0.4193,     0.1841,     1.0000,\n",
      "            0.0562,     1.0000,     0.5586,     0.4645,     0.3058,     0.2138,\n",
      "            0.2857,     0.1757,     0.3108,     0.1518,     0.3542,     0.5000,\n",
      "            0.1602,     0.2857,     0.5251,     0.7066,     0.6768,     0.1747,\n",
      "            0.3106,     0.1072,     0.1279,     0.2039,     0.2011,     0.0324,\n",
      "            0.2677,     0.1482,     0.1162,     1.0000,     0.0444,     0.8528,\n",
      "            0.6773,     0.6358,     0.6922,     0.5000,     0.2899,     0.2945,\n",
      "            0.3102,     0.0720,     0.0000,     0.3367,     0.1713,     0.0383,\n",
      "            0.0618,     0.4366,     0.1298,     0.4397,     0.3690,     0.0061,\n",
      "            0.6817,     0.5675,     0.2146,     0.1031,     0.5000,     0.4781,\n",
      "            0.1373,     0.1771,     0.0571,     0.1444,     0.0683,     0.4877,\n",
      "            0.3541,     0.3014,     0.2740,     0.9167,     0.2425,     0.0760,\n",
      "            0.2091,     0.2960,     0.1667,     0.0005,     0.2650,     0.0206,\n",
      "            0.4869,     0.0791,     0.3186,     0.0698,     0.1341,     0.5000,\n",
      "            0.6457,     0.2149,     0.1300,     0.2828,     0.4613,     0.1283,\n",
      "            0.0887,     0.0919,     0.2651,     0.0000,     0.1038,     0.4452,\n",
      "            0.3279,     0.0193,     0.0467,     0.2152,     0.1472,     0.0000,\n",
      "            0.0524,     0.0861,     0.6685,     0.1836,     0.1601,     0.0574,\n",
      "            0.5041,     0.1502,     0.1230,     0.5758,     0.4416,     0.8423,\n",
      "            0.4293,     0.8045,     0.4395,     0.0134,     0.0000,     0.2152,\n",
      "            0.0000,     0.0000,     0.2062,     0.3322,     0.1541,     0.4017,\n",
      "            0.1702,     0.2403,     1.0000,     0.2527,     0.5181,     0.0047,\n",
      "            0.3632,     0.1017,     0.0442,     0.3239,     0.4665,     0.0860,\n",
      "            0.8849,     0.2621,     0.2643,     0.2271,     1.0000,     0.0675,\n",
      "            0.0941,     0.1495,     0.1078,     0.0437,     1.0000,     0.8601,\n",
      "            1.0000,     0.2840,     0.3829,     0.2059,     1.0000,     0.2067,\n",
      "            0.0054,     0.0363,     0.6685,     0.2840,     0.0561,     0.1771,\n",
      "            0.3131,     0.2866,     0.4963,     0.2233,     0.0773,     0.0370,\n",
      "            0.2462,     0.4249,     0.0557,     0.2725,     0.1601,     0.3279,\n",
      "            0.3042,     0.6410,     0.1303,     0.0632,     0.1405,     0.0000,\n",
      "               nan,     0.2618,     0.6874,     0.1434,     0.2420,     0.4200,\n",
      "            0.0656,     0.0786,     0.4200,     0.8418,     0.0688,     0.1801,\n",
      "            0.1696,     0.1750,     0.5809,     0.3690,     0.1856,     1.0000,\n",
      "            0.7380,     0.1795,     0.3875,     0.6309,     0.2282,     0.4080,\n",
      "            0.1544,     0.4680,     0.1505,     0.4010,     0.9152,     0.1836,\n",
      "            0.3894,     0.6874], dtype=torch.float64)\n",
      "   Saccade5.Latency1  SP2.InitAccel:median  AntiSaccade3.Velocity:mean  \\\n",
      "0                NaN                   NaN                         NaN   \n",
      "\n",
      "   SP3.InitAccel:median  RT_sa_sum  PD1.Phonation:sum  SP3.Velocity:median  \\\n",
      "0                   NaN        NaN                NaN                  NaN   \n",
      "\n",
      "   Saccade5.Latency:std  RT_A_median  SP1.InitAccel:max  ...  \\\n",
      "0                   NaN          NaN                NaN  ...   \n",
      "\n",
      "   Saccade4.Latency1  RT_A_min  PD1.Phonation:median  \\\n",
      "0                NaN       NaN                   NaN   \n",
      "\n",
      "   AntiSaccade2.Velocity:max  PD1.Phonation:mean  Saccade5.Latency2  \\\n",
      "0                        NaN                 NaN                NaN   \n",
      "\n",
      "   Saccade4.Latency:std  AntiSaccade5.Velocity:median  Saccade5.Velocity2  \\\n",
      "0                   NaN                           NaN                 NaN   \n",
      "\n",
      "   소요시간.2  \n",
      "0     NaN  \n",
      "\n",
      "[1 rows x 248 columns]\n",
      "   Saccade5.Latency1  SP2.InitAccel:median  AntiSaccade3.Velocity:mean  \\\n",
      "0              0.367             -0.010259                    1.130131   \n",
      "\n",
      "   SP3.InitAccel:median  RT_sa_sum  PD1.Phonation:sum  SP3.Velocity:median  \\\n",
      "0              0.002916     88.194               2.88              0.81824   \n",
      "\n",
      "   Saccade5.Latency:std  RT_A_median  SP1.InitAccel:max  ...  \\\n",
      "0              0.212839        1.728           0.026293  ...   \n",
      "\n",
      "   Saccade4.Latency1  RT_A_min  PD1.Phonation:median  \\\n",
      "0              0.434     1.269                  2.88   \n",
      "\n",
      "   AntiSaccade2.Velocity:max  PD1.Phonation:mean  Saccade5.Latency2  \\\n",
      "0                   1.827728                2.88              0.668   \n",
      "\n",
      "   Saccade4.Latency:std  AntiSaccade5.Velocity:median  Saccade5.Velocity2  \\\n",
      "0              1.014698                      1.054202            1.077312   \n",
      "\n",
      "   소요시간.2  \n",
      "0  88.194  \n",
      "\n",
      "[1 rows x 248 columns]\n",
      "(289, 249)\n",
      "(289, 3)\n"
     ]
    },
    {
     "data": {
      "text/plain": [
       "소요시간                            0\n",
       "RT_A3                           0\n",
       "RT_A4                           0\n",
       "RT_A5                           0\n",
       "RT_A8                           0\n",
       "                               ..\n",
       "AntiSaccade5.Velocity:median    0\n",
       "AntiSaccade5.Velocity:std       0\n",
       "AntiSaccade5.Velocity:min       0\n",
       "AntiSaccade5.Velocity:max       0\n",
       "Key                             0\n",
       "Length: 251, dtype: int64"
      ]
     },
     "execution_count": 48,
     "metadata": {},
     "output_type": "execute_result"
    }
   ],
   "source": [
    "trainset = dataset_module.DataSetForImputation(train_df, normalize=True)  #normalize True for [0,1] normalization for dataframe\n",
    "print(len(trainset))\n",
    "testset = dataset_module.DataSetForImputation(test_df, normalize=True)\n",
    "print(len(testset))\n",
    "\n",
    "net = Modelling.DenoisingAutoEncoder(len(trainset.variables()), theta = 7, input_dropout=0.5)\n",
    "criterion = nn.MSELoss()\n",
    "net = net.to(device) \n",
    "\n",
    "train_loader = td.DataLoader(trainset, batch_size=BATCH_SIZE, shuffle=True, **{})\n",
    "val_loader = td.DataLoader(testset, batch_size=BATCH_SIZE, shuffle=True, **{})\n",
    "\n",
    "optimizer = Adam(net.parameters(), lr = LR)\n",
    "\n",
    "LOG_INTERVAL = 10\n",
    "SAVE_INTERVAL = 50\n",
    "torch.set_printoptions(sci_mode=False)\n",
    "\n",
    "\n",
    "train_model(0,101, net, model_name, train_loader=train_loader, val_loader=val_loader)\n",
    "\n",
    "net = net.eval()\n",
    "print((net(trainset[0][0]).detach()))\n",
    "print(trainset[0][0])\n",
    "\n",
    "net = net.eval()\n",
    "print(trainset.get_denormalized_data((net(trainset[0][0].detach()))))\n",
    "print(trainset.get_denormalized_data(trainset[0][0]))\n",
    "\n",
    "fill_test_df= test_model(net=net, test_df=test_df, trainset=trainset, device=device,logger_level=20)\n",
    "fill_test_df['Key'] = test_df_Key.reset_index(drop=True)\n",
    "train_df['Key'] = train_df_Key\n",
    "\n",
    "m_df = pd.concat([fill_test_df, train_df])\n",
    "print(m_df.shape)\n",
    "\n",
    "ls = ['Key']\n",
    "\n",
    "for i in df1.columns:\n",
    "        if i not in m_df.columns: # SP + Neuropsychology 외의 피처\n",
    "            ls.append(i)\n",
    "\n",
    "the_others = df[ls]\n",
    "print(the_others.shape)\n",
    "\n",
    "df1=pd.merge(m_df,the_others, how='outer',on='Key')\n",
    "\n",
    "df1 = df1[list(df.drop('cutoff',axis=1).columns)]\n",
    "df1.isnull().sum()"
   ]
  },
  {
   "cell_type": "code",
   "execution_count": 49,
   "metadata": {},
   "outputs": [
    {
     "name": "stdout",
     "output_type": "stream",
     "text": [
      "(289, 249)"
     ]
    },
    {
     "name": "stdout",
     "output_type": "stream",
     "text": [
      "\n",
      "(164, 249)\n",
      "(125, 249)\n"
     ]
    }
   ],
   "source": [
    "nonan_merge = df1.dropna(axis=1)\n",
    "ls = []\n",
    "\n",
    "for i in df1.columns:\n",
    "    if 'Saccade' in i:\n",
    "        ls.append(i)\n",
    "        \n",
    "for c in nonan_merge.columns:\n",
    "    ls.append(c)\n",
    "ls=list(set(ls))\n",
    "\n",
    "m_df = df1[ls]\n",
    "\n",
    "drop_list = []\n",
    "for c in m_df.columns:\n",
    "    if m_df[c].isnull().sum() > 150:\n",
    "        drop_list.append(c)\n",
    "drop_list\n",
    "m_df= m_df.drop(drop_list,axis=1)\n",
    "print(m_df.shape)\n",
    "train_df = m_df.dropna(axis=0)\n",
    "print(train_df.shape)\n",
    "\n",
    "loc_list = []\n",
    "for i in range(len(m_df)):\n",
    "    if m_df.loc[i].isnull().any() == True:\n",
    "        loc_list.append(i)\n",
    "test_df = m_df.loc[loc_list]\n",
    "print(test_df.shape)\n",
    "\n",
    "train_df_Key = train_df['Key']\n",
    "test_df_Key = test_df['Key']\n",
    "train_df= train_df.drop('Key',axis=1)\n",
    "test_df= test_df.drop('Key',axis=1)\n"
   ]
  },
  {
   "cell_type": "code",
   "execution_count": 50,
   "metadata": {},
   "outputs": [
    {
     "name": "stderr",
     "output_type": "stream",
     "text": [
      "INFO:root: Returning new dataframe with missingness(MCAR) induced\n",
      "INFO:root: Percentage of NaNs in returned dataframe : 4.10\n"
     ]
    },
    {
     "name": "stdout",
     "output_type": "stream",
     "text": [
      "164\n",
      "125\n"
     ]
    },
    {
     "name": "stderr",
     "output_type": "stream",
     "text": [
      "c:\\Users\\hOMe_pc\\Anaconda3\\envs\\AIS_mrcnn\\lib\\site-packages\\ipykernel_launcher.py:10: TqdmDeprecationWarning: This function will be removed in tqdm==5.0.0\n",
      "Please use `tqdm.notebook.tqdm` instead of `tqdm.tqdm_notebook`\n",
      "  # Remove the CWD from sys.path while we load stuff.\n"
     ]
    },
    {
     "data": {
      "application/vnd.jupyter.widget-view+json": {
       "model_id": "5180eb7d39964587a85c70c39500bafd",
       "version_major": 2,
       "version_minor": 0
      },
      "text/plain": [
       "  0%|          | 0/101 [00:00<?, ?it/s]"
      ]
     },
     "metadata": {},
     "output_type": "display_data"
    },
    {
     "name": "stderr",
     "output_type": "stream",
     "text": [
      "c:\\Users\\hOMe_pc\\Anaconda3\\envs\\AIS_mrcnn\\lib\\site-packages\\ipykernel_launcher.py:15: TqdmDeprecationWarning: This function will be removed in tqdm==5.0.0\n",
      "Please use `tqdm.notebook.tqdm` instead of `tqdm.tqdm_notebook`\n",
      "  from ipykernel import kernelapp as app\n"
     ]
    },
    {
     "data": {
      "application/vnd.jupyter.widget-view+json": {
       "model_id": "c7994c444e0448e2bed67a977767e534",
       "version_major": 2,
       "version_minor": 0
      },
      "text/plain": [
       "  0%|          | 0/1 [00:00<?, ?it/s]"
      ]
     },
     "metadata": {},
     "output_type": "display_data"
    },
    {
     "data": {
      "application/vnd.jupyter.widget-view+json": {
       "model_id": "29842c6be7e348068c90008d7eebad9a",
       "version_major": 2,
       "version_minor": 0
      },
      "text/plain": [
       "  0%|          | 0/1 [00:00<?, ?it/s]"
      ]
     },
     "metadata": {},
     "output_type": "display_data"
    },
    {
     "data": {
      "application/vnd.jupyter.widget-view+json": {
       "model_id": "119f0305084a4beda925dbadfca4df7a",
       "version_major": 2,
       "version_minor": 0
      },
      "text/plain": [
       "  0%|          | 0/1 [00:00<?, ?it/s]"
      ]
     },
     "metadata": {},
     "output_type": "display_data"
    },
    {
     "data": {
      "application/vnd.jupyter.widget-view+json": {
       "model_id": "cec8fbed42da4ad5acb4564b1637f9e8",
       "version_major": 2,
       "version_minor": 0
      },
      "text/plain": [
       "  0%|          | 0/1 [00:00<?, ?it/s]"
      ]
     },
     "metadata": {},
     "output_type": "display_data"
    },
    {
     "data": {
      "application/vnd.jupyter.widget-view+json": {
       "model_id": "65286116b24248858937ed0188a9fceb",
       "version_major": 2,
       "version_minor": 0
      },
      "text/plain": [
       "  0%|          | 0/1 [00:00<?, ?it/s]"
      ]
     },
     "metadata": {},
     "output_type": "display_data"
    },
    {
     "data": {
      "application/vnd.jupyter.widget-view+json": {
       "model_id": "05932ce8a41e4cc790a642a91f1bbd44",
       "version_major": 2,
       "version_minor": 0
      },
      "text/plain": [
       "  0%|          | 0/1 [00:00<?, ?it/s]"
      ]
     },
     "metadata": {},
     "output_type": "display_data"
    },
    {
     "data": {
      "application/vnd.jupyter.widget-view+json": {
       "model_id": "63e9a9497ab54697b2be5c5a97831421",
       "version_major": 2,
       "version_minor": 0
      },
      "text/plain": [
       "  0%|          | 0/1 [00:00<?, ?it/s]"
      ]
     },
     "metadata": {},
     "output_type": "display_data"
    },
    {
     "data": {
      "application/vnd.jupyter.widget-view+json": {
       "model_id": "e142aa045f2a4d4fa089d658c6d570f2",
       "version_major": 2,
       "version_minor": 0
      },
      "text/plain": [
       "  0%|          | 0/1 [00:00<?, ?it/s]"
      ]
     },
     "metadata": {},
     "output_type": "display_data"
    },
    {
     "data": {
      "application/vnd.jupyter.widget-view+json": {
       "model_id": "2469552e7ad7462daa5836c55ff535dc",
       "version_major": 2,
       "version_minor": 0
      },
      "text/plain": [
       "  0%|          | 0/1 [00:00<?, ?it/s]"
      ]
     },
     "metadata": {},
     "output_type": "display_data"
    },
    {
     "data": {
      "application/vnd.jupyter.widget-view+json": {
       "model_id": "8a54a37d289c43148980acf28beff4f0",
       "version_major": 2,
       "version_minor": 0
      },
      "text/plain": [
       "  0%|          | 0/1 [00:00<?, ?it/s]"
      ]
     },
     "metadata": {},
     "output_type": "display_data"
    },
    {
     "name": "stdout",
     "output_type": "stream",
     "text": [
      "Epoch number:9 Loss: 0.1778\n"
     ]
    },
    {
     "data": {
      "application/vnd.jupyter.widget-view+json": {
       "model_id": "dff53d463dcc4488aa530e8daf1b2dc5",
       "version_major": 2,
       "version_minor": 0
      },
      "text/plain": [
       "  0%|          | 0/1 [00:00<?, ?it/s]"
      ]
     },
     "metadata": {},
     "output_type": "display_data"
    },
    {
     "data": {
      "application/vnd.jupyter.widget-view+json": {
       "model_id": "492c843a5ca24a7d80bbcf311a7bcfbc",
       "version_major": 2,
       "version_minor": 0
      },
      "text/plain": [
       "  0%|          | 0/1 [00:00<?, ?it/s]"
      ]
     },
     "metadata": {},
     "output_type": "display_data"
    },
    {
     "data": {
      "application/vnd.jupyter.widget-view+json": {
       "model_id": "24b6a17f05cd4163bba04687b1765419",
       "version_major": 2,
       "version_minor": 0
      },
      "text/plain": [
       "  0%|          | 0/1 [00:00<?, ?it/s]"
      ]
     },
     "metadata": {},
     "output_type": "display_data"
    },
    {
     "data": {
      "application/vnd.jupyter.widget-view+json": {
       "model_id": "deda8c407f0d403da061bb1639f3d5dd",
       "version_major": 2,
       "version_minor": 0
      },
      "text/plain": [
       "  0%|          | 0/1 [00:00<?, ?it/s]"
      ]
     },
     "metadata": {},
     "output_type": "display_data"
    },
    {
     "data": {
      "application/vnd.jupyter.widget-view+json": {
       "model_id": "eb95183afde641808d4aa88c826289c8",
       "version_major": 2,
       "version_minor": 0
      },
      "text/plain": [
       "  0%|          | 0/1 [00:00<?, ?it/s]"
      ]
     },
     "metadata": {},
     "output_type": "display_data"
    },
    {
     "data": {
      "application/vnd.jupyter.widget-view+json": {
       "model_id": "f019f4f0bb3c4d6e95b39006178e591a",
       "version_major": 2,
       "version_minor": 0
      },
      "text/plain": [
       "  0%|          | 0/1 [00:00<?, ?it/s]"
      ]
     },
     "metadata": {},
     "output_type": "display_data"
    },
    {
     "data": {
      "application/vnd.jupyter.widget-view+json": {
       "model_id": "525f5d6e7ad643159813f96cc1a08132",
       "version_major": 2,
       "version_minor": 0
      },
      "text/plain": [
       "  0%|          | 0/1 [00:00<?, ?it/s]"
      ]
     },
     "metadata": {},
     "output_type": "display_data"
    },
    {
     "data": {
      "application/vnd.jupyter.widget-view+json": {
       "model_id": "f38a0c2e41d244c18325016bbbaecd3f",
       "version_major": 2,
       "version_minor": 0
      },
      "text/plain": [
       "  0%|          | 0/1 [00:00<?, ?it/s]"
      ]
     },
     "metadata": {},
     "output_type": "display_data"
    },
    {
     "data": {
      "application/vnd.jupyter.widget-view+json": {
       "model_id": "e7a8caf97aaf48d8b5ef56ee81d59ca7",
       "version_major": 2,
       "version_minor": 0
      },
      "text/plain": [
       "  0%|          | 0/1 [00:00<?, ?it/s]"
      ]
     },
     "metadata": {},
     "output_type": "display_data"
    },
    {
     "data": {
      "application/vnd.jupyter.widget-view+json": {
       "model_id": "cf7cffe4a83a42a8bbc301d066fd18dd",
       "version_major": 2,
       "version_minor": 0
      },
      "text/plain": [
       "  0%|          | 0/1 [00:00<?, ?it/s]"
      ]
     },
     "metadata": {},
     "output_type": "display_data"
    },
    {
     "name": "stdout",
     "output_type": "stream",
     "text": [
      "Epoch number:19 Loss: 0.1648\n"
     ]
    },
    {
     "data": {
      "application/vnd.jupyter.widget-view+json": {
       "model_id": "ae2aa573a2a64f4682e6d4344ebb3723",
       "version_major": 2,
       "version_minor": 0
      },
      "text/plain": [
       "  0%|          | 0/1 [00:00<?, ?it/s]"
      ]
     },
     "metadata": {},
     "output_type": "display_data"
    },
    {
     "data": {
      "application/vnd.jupyter.widget-view+json": {
       "model_id": "151960d211bc496aae590b346522a70d",
       "version_major": 2,
       "version_minor": 0
      },
      "text/plain": [
       "  0%|          | 0/1 [00:00<?, ?it/s]"
      ]
     },
     "metadata": {},
     "output_type": "display_data"
    },
    {
     "data": {
      "application/vnd.jupyter.widget-view+json": {
       "model_id": "41a2c2f7f1704cbc97d1333e4e399c44",
       "version_major": 2,
       "version_minor": 0
      },
      "text/plain": [
       "  0%|          | 0/1 [00:00<?, ?it/s]"
      ]
     },
     "metadata": {},
     "output_type": "display_data"
    },
    {
     "data": {
      "application/vnd.jupyter.widget-view+json": {
       "model_id": "c2c22390ec7242bf9c07c790cd45aba8",
       "version_major": 2,
       "version_minor": 0
      },
      "text/plain": [
       "  0%|          | 0/1 [00:00<?, ?it/s]"
      ]
     },
     "metadata": {},
     "output_type": "display_data"
    },
    {
     "data": {
      "application/vnd.jupyter.widget-view+json": {
       "model_id": "9ed7e8fc8f144815ab3f22ebf1874c7f",
       "version_major": 2,
       "version_minor": 0
      },
      "text/plain": [
       "  0%|          | 0/1 [00:00<?, ?it/s]"
      ]
     },
     "metadata": {},
     "output_type": "display_data"
    },
    {
     "data": {
      "application/vnd.jupyter.widget-view+json": {
       "model_id": "1883b54e15274df8b663a7a3030249a5",
       "version_major": 2,
       "version_minor": 0
      },
      "text/plain": [
       "  0%|          | 0/1 [00:00<?, ?it/s]"
      ]
     },
     "metadata": {},
     "output_type": "display_data"
    },
    {
     "data": {
      "application/vnd.jupyter.widget-view+json": {
       "model_id": "a84c7a8f66314c4b9ee2c72a2db83449",
       "version_major": 2,
       "version_minor": 0
      },
      "text/plain": [
       "  0%|          | 0/1 [00:00<?, ?it/s]"
      ]
     },
     "metadata": {},
     "output_type": "display_data"
    },
    {
     "data": {
      "application/vnd.jupyter.widget-view+json": {
       "model_id": "96c2de9751a24387b2d6a9c2deca1f6e",
       "version_major": 2,
       "version_minor": 0
      },
      "text/plain": [
       "  0%|          | 0/1 [00:00<?, ?it/s]"
      ]
     },
     "metadata": {},
     "output_type": "display_data"
    },
    {
     "data": {
      "application/vnd.jupyter.widget-view+json": {
       "model_id": "250b4a25a3384549936bdb4e2792dbab",
       "version_major": 2,
       "version_minor": 0
      },
      "text/plain": [
       "  0%|          | 0/1 [00:00<?, ?it/s]"
      ]
     },
     "metadata": {},
     "output_type": "display_data"
    },
    {
     "data": {
      "application/vnd.jupyter.widget-view+json": {
       "model_id": "6db5188161e54289a7970318f189f21b",
       "version_major": 2,
       "version_minor": 0
      },
      "text/plain": [
       "  0%|          | 0/1 [00:00<?, ?it/s]"
      ]
     },
     "metadata": {},
     "output_type": "display_data"
    },
    {
     "name": "stdout",
     "output_type": "stream",
     "text": [
      "Epoch number:29 Loss: 0.1578\n"
     ]
    },
    {
     "data": {
      "application/vnd.jupyter.widget-view+json": {
       "model_id": "42283ca91d6840038a847cdc717b5f22",
       "version_major": 2,
       "version_minor": 0
      },
      "text/plain": [
       "  0%|          | 0/1 [00:00<?, ?it/s]"
      ]
     },
     "metadata": {},
     "output_type": "display_data"
    },
    {
     "data": {
      "application/vnd.jupyter.widget-view+json": {
       "model_id": "c4f93b9f68ba4bc88c1b1d95b9ba2f95",
       "version_major": 2,
       "version_minor": 0
      },
      "text/plain": [
       "  0%|          | 0/1 [00:00<?, ?it/s]"
      ]
     },
     "metadata": {},
     "output_type": "display_data"
    },
    {
     "data": {
      "application/vnd.jupyter.widget-view+json": {
       "model_id": "71683312ff7d4595aa6e86b630a5af28",
       "version_major": 2,
       "version_minor": 0
      },
      "text/plain": [
       "  0%|          | 0/1 [00:00<?, ?it/s]"
      ]
     },
     "metadata": {},
     "output_type": "display_data"
    },
    {
     "data": {
      "application/vnd.jupyter.widget-view+json": {
       "model_id": "3ce13a2f8e764dd7ae8c9b899283ad81",
       "version_major": 2,
       "version_minor": 0
      },
      "text/plain": [
       "  0%|          | 0/1 [00:00<?, ?it/s]"
      ]
     },
     "metadata": {},
     "output_type": "display_data"
    },
    {
     "data": {
      "application/vnd.jupyter.widget-view+json": {
       "model_id": "880afba1d54a4c42ad0174e36d50058a",
       "version_major": 2,
       "version_minor": 0
      },
      "text/plain": [
       "  0%|          | 0/1 [00:00<?, ?it/s]"
      ]
     },
     "metadata": {},
     "output_type": "display_data"
    },
    {
     "data": {
      "application/vnd.jupyter.widget-view+json": {
       "model_id": "9ffa83e5d11747e7a027f0e70499d7a6",
       "version_major": 2,
       "version_minor": 0
      },
      "text/plain": [
       "  0%|          | 0/1 [00:00<?, ?it/s]"
      ]
     },
     "metadata": {},
     "output_type": "display_data"
    },
    {
     "data": {
      "application/vnd.jupyter.widget-view+json": {
       "model_id": "04562ad94c8b4dd397b6db04a73f11bf",
       "version_major": 2,
       "version_minor": 0
      },
      "text/plain": [
       "  0%|          | 0/1 [00:00<?, ?it/s]"
      ]
     },
     "metadata": {},
     "output_type": "display_data"
    },
    {
     "data": {
      "application/vnd.jupyter.widget-view+json": {
       "model_id": "fdff574841ae403c8c16ceb3ff999503",
       "version_major": 2,
       "version_minor": 0
      },
      "text/plain": [
       "  0%|          | 0/1 [00:00<?, ?it/s]"
      ]
     },
     "metadata": {},
     "output_type": "display_data"
    },
    {
     "data": {
      "application/vnd.jupyter.widget-view+json": {
       "model_id": "753a2d4bac5240a39fdcde160cd240b9",
       "version_major": 2,
       "version_minor": 0
      },
      "text/plain": [
       "  0%|          | 0/1 [00:00<?, ?it/s]"
      ]
     },
     "metadata": {},
     "output_type": "display_data"
    },
    {
     "data": {
      "application/vnd.jupyter.widget-view+json": {
       "model_id": "3764beeccab146e1af3e2c10e985f194",
       "version_major": 2,
       "version_minor": 0
      },
      "text/plain": [
       "  0%|          | 0/1 [00:00<?, ?it/s]"
      ]
     },
     "metadata": {},
     "output_type": "display_data"
    },
    {
     "name": "stdout",
     "output_type": "stream",
     "text": [
      "Epoch number:39 Loss: 0.1502\n"
     ]
    },
    {
     "data": {
      "application/vnd.jupyter.widget-view+json": {
       "model_id": "4b49e4f2ce404d74a02d2e940c69a46f",
       "version_major": 2,
       "version_minor": 0
      },
      "text/plain": [
       "  0%|          | 0/1 [00:00<?, ?it/s]"
      ]
     },
     "metadata": {},
     "output_type": "display_data"
    },
    {
     "data": {
      "application/vnd.jupyter.widget-view+json": {
       "model_id": "faab0faec3e641b9b8fe600fa46e1006",
       "version_major": 2,
       "version_minor": 0
      },
      "text/plain": [
       "  0%|          | 0/1 [00:00<?, ?it/s]"
      ]
     },
     "metadata": {},
     "output_type": "display_data"
    },
    {
     "data": {
      "application/vnd.jupyter.widget-view+json": {
       "model_id": "dbcd306c9b804f8da066156238f8cda3",
       "version_major": 2,
       "version_minor": 0
      },
      "text/plain": [
       "  0%|          | 0/1 [00:00<?, ?it/s]"
      ]
     },
     "metadata": {},
     "output_type": "display_data"
    },
    {
     "data": {
      "application/vnd.jupyter.widget-view+json": {
       "model_id": "a10763e58275400088154bc80f07a206",
       "version_major": 2,
       "version_minor": 0
      },
      "text/plain": [
       "  0%|          | 0/1 [00:00<?, ?it/s]"
      ]
     },
     "metadata": {},
     "output_type": "display_data"
    },
    {
     "data": {
      "application/vnd.jupyter.widget-view+json": {
       "model_id": "f1a96abca13f4e7da0999bc673e1f29a",
       "version_major": 2,
       "version_minor": 0
      },
      "text/plain": [
       "  0%|          | 0/1 [00:00<?, ?it/s]"
      ]
     },
     "metadata": {},
     "output_type": "display_data"
    },
    {
     "data": {
      "application/vnd.jupyter.widget-view+json": {
       "model_id": "db828219d533406bb3db7014e007f9a7",
       "version_major": 2,
       "version_minor": 0
      },
      "text/plain": [
       "  0%|          | 0/1 [00:00<?, ?it/s]"
      ]
     },
     "metadata": {},
     "output_type": "display_data"
    },
    {
     "data": {
      "application/vnd.jupyter.widget-view+json": {
       "model_id": "a229823eb09b461baecaf1f83d17c62e",
       "version_major": 2,
       "version_minor": 0
      },
      "text/plain": [
       "  0%|          | 0/1 [00:00<?, ?it/s]"
      ]
     },
     "metadata": {},
     "output_type": "display_data"
    },
    {
     "data": {
      "application/vnd.jupyter.widget-view+json": {
       "model_id": "c91c73e38e97476a867da97ad231d9d9",
       "version_major": 2,
       "version_minor": 0
      },
      "text/plain": [
       "  0%|          | 0/1 [00:00<?, ?it/s]"
      ]
     },
     "metadata": {},
     "output_type": "display_data"
    },
    {
     "data": {
      "application/vnd.jupyter.widget-view+json": {
       "model_id": "3ad80a47b00143fb89bc399232628a42",
       "version_major": 2,
       "version_minor": 0
      },
      "text/plain": [
       "  0%|          | 0/1 [00:00<?, ?it/s]"
      ]
     },
     "metadata": {},
     "output_type": "display_data"
    },
    {
     "data": {
      "application/vnd.jupyter.widget-view+json": {
       "model_id": "c9a1c260a5bb42458b429513e86e7ff3",
       "version_major": 2,
       "version_minor": 0
      },
      "text/plain": [
       "  0%|          | 0/1 [00:00<?, ?it/s]"
      ]
     },
     "metadata": {},
     "output_type": "display_data"
    },
    {
     "name": "stdout",
     "output_type": "stream",
     "text": [
      "Epoch number:49 Loss: 0.1464\n"
     ]
    },
    {
     "data": {
      "application/vnd.jupyter.widget-view+json": {
       "model_id": "bb818fe7d6b24267b691b42f11de05f1",
       "version_major": 2,
       "version_minor": 0
      },
      "text/plain": [
       "  0%|          | 0/1 [00:00<?, ?it/s]"
      ]
     },
     "metadata": {},
     "output_type": "display_data"
    },
    {
     "data": {
      "application/vnd.jupyter.widget-view+json": {
       "model_id": "ba4fc61e574b4077ab9136546258c86e",
       "version_major": 2,
       "version_minor": 0
      },
      "text/plain": [
       "  0%|          | 0/1 [00:00<?, ?it/s]"
      ]
     },
     "metadata": {},
     "output_type": "display_data"
    },
    {
     "data": {
      "application/vnd.jupyter.widget-view+json": {
       "model_id": "6014c1025d28466a8e10d0f4f7d5add7",
       "version_major": 2,
       "version_minor": 0
      },
      "text/plain": [
       "  0%|          | 0/1 [00:00<?, ?it/s]"
      ]
     },
     "metadata": {},
     "output_type": "display_data"
    },
    {
     "data": {
      "application/vnd.jupyter.widget-view+json": {
       "model_id": "c2ad776f3b33427ead5f6fcaafdedd60",
       "version_major": 2,
       "version_minor": 0
      },
      "text/plain": [
       "  0%|          | 0/1 [00:00<?, ?it/s]"
      ]
     },
     "metadata": {},
     "output_type": "display_data"
    },
    {
     "data": {
      "application/vnd.jupyter.widget-view+json": {
       "model_id": "9b14a6e3342a435787fb14739721f140",
       "version_major": 2,
       "version_minor": 0
      },
      "text/plain": [
       "  0%|          | 0/1 [00:00<?, ?it/s]"
      ]
     },
     "metadata": {},
     "output_type": "display_data"
    },
    {
     "data": {
      "application/vnd.jupyter.widget-view+json": {
       "model_id": "f1198ec8e58b4f7aa51063cad874015d",
       "version_major": 2,
       "version_minor": 0
      },
      "text/plain": [
       "  0%|          | 0/1 [00:00<?, ?it/s]"
      ]
     },
     "metadata": {},
     "output_type": "display_data"
    },
    {
     "data": {
      "application/vnd.jupyter.widget-view+json": {
       "model_id": "08ee439f0e44429dada3d152c7fd2d26",
       "version_major": 2,
       "version_minor": 0
      },
      "text/plain": [
       "  0%|          | 0/1 [00:00<?, ?it/s]"
      ]
     },
     "metadata": {},
     "output_type": "display_data"
    },
    {
     "data": {
      "application/vnd.jupyter.widget-view+json": {
       "model_id": "f0b7b10f36e64faca8299de1d6c90008",
       "version_major": 2,
       "version_minor": 0
      },
      "text/plain": [
       "  0%|          | 0/1 [00:00<?, ?it/s]"
      ]
     },
     "metadata": {},
     "output_type": "display_data"
    },
    {
     "data": {
      "application/vnd.jupyter.widget-view+json": {
       "model_id": "004d559bc37347c6bcfe69a25a8d147b",
       "version_major": 2,
       "version_minor": 0
      },
      "text/plain": [
       "  0%|          | 0/1 [00:00<?, ?it/s]"
      ]
     },
     "metadata": {},
     "output_type": "display_data"
    },
    {
     "data": {
      "application/vnd.jupyter.widget-view+json": {
       "model_id": "c75c935c4a15424fb68d332f79b61cd4",
       "version_major": 2,
       "version_minor": 0
      },
      "text/plain": [
       "  0%|          | 0/1 [00:00<?, ?it/s]"
      ]
     },
     "metadata": {},
     "output_type": "display_data"
    },
    {
     "name": "stdout",
     "output_type": "stream",
     "text": [
      "Epoch number:59 Loss: 0.1425\n"
     ]
    },
    {
     "data": {
      "application/vnd.jupyter.widget-view+json": {
       "model_id": "77ba926f78c2403d9308df90276f07ab",
       "version_major": 2,
       "version_minor": 0
      },
      "text/plain": [
       "  0%|          | 0/1 [00:00<?, ?it/s]"
      ]
     },
     "metadata": {},
     "output_type": "display_data"
    },
    {
     "data": {
      "application/vnd.jupyter.widget-view+json": {
       "model_id": "45a59bded8d8416d96b58fd10dd751ef",
       "version_major": 2,
       "version_minor": 0
      },
      "text/plain": [
       "  0%|          | 0/1 [00:00<?, ?it/s]"
      ]
     },
     "metadata": {},
     "output_type": "display_data"
    },
    {
     "data": {
      "application/vnd.jupyter.widget-view+json": {
       "model_id": "b2507d97a5854c4dbdfda2a07fc95474",
       "version_major": 2,
       "version_minor": 0
      },
      "text/plain": [
       "  0%|          | 0/1 [00:00<?, ?it/s]"
      ]
     },
     "metadata": {},
     "output_type": "display_data"
    },
    {
     "data": {
      "application/vnd.jupyter.widget-view+json": {
       "model_id": "72f59f0ab60a45c7a04a9fabdbd81b80",
       "version_major": 2,
       "version_minor": 0
      },
      "text/plain": [
       "  0%|          | 0/1 [00:00<?, ?it/s]"
      ]
     },
     "metadata": {},
     "output_type": "display_data"
    },
    {
     "data": {
      "application/vnd.jupyter.widget-view+json": {
       "model_id": "798632ef68054717a9fa7f4e55005969",
       "version_major": 2,
       "version_minor": 0
      },
      "text/plain": [
       "  0%|          | 0/1 [00:00<?, ?it/s]"
      ]
     },
     "metadata": {},
     "output_type": "display_data"
    },
    {
     "data": {
      "application/vnd.jupyter.widget-view+json": {
       "model_id": "675acb4ffa9b4611af0896d8cf8f0112",
       "version_major": 2,
       "version_minor": 0
      },
      "text/plain": [
       "  0%|          | 0/1 [00:00<?, ?it/s]"
      ]
     },
     "metadata": {},
     "output_type": "display_data"
    },
    {
     "data": {
      "application/vnd.jupyter.widget-view+json": {
       "model_id": "23e20eaeae1c4a4291ff08da85c737fb",
       "version_major": 2,
       "version_minor": 0
      },
      "text/plain": [
       "  0%|          | 0/1 [00:00<?, ?it/s]"
      ]
     },
     "metadata": {},
     "output_type": "display_data"
    },
    {
     "data": {
      "application/vnd.jupyter.widget-view+json": {
       "model_id": "2e43e093b99646258b7aca05db0a655e",
       "version_major": 2,
       "version_minor": 0
      },
      "text/plain": [
       "  0%|          | 0/1 [00:00<?, ?it/s]"
      ]
     },
     "metadata": {},
     "output_type": "display_data"
    },
    {
     "data": {
      "application/vnd.jupyter.widget-view+json": {
       "model_id": "9c9f995bd4e24f4da7309ea721655700",
       "version_major": 2,
       "version_minor": 0
      },
      "text/plain": [
       "  0%|          | 0/1 [00:00<?, ?it/s]"
      ]
     },
     "metadata": {},
     "output_type": "display_data"
    },
    {
     "data": {
      "application/vnd.jupyter.widget-view+json": {
       "model_id": "19acf8f83e3a4db8864cf093609b0e27",
       "version_major": 2,
       "version_minor": 0
      },
      "text/plain": [
       "  0%|          | 0/1 [00:00<?, ?it/s]"
      ]
     },
     "metadata": {},
     "output_type": "display_data"
    },
    {
     "name": "stdout",
     "output_type": "stream",
     "text": [
      "Epoch number:69 Loss: 0.1382\n"
     ]
    },
    {
     "data": {
      "application/vnd.jupyter.widget-view+json": {
       "model_id": "347eac7c57a6460982c18039a48e3ca3",
       "version_major": 2,
       "version_minor": 0
      },
      "text/plain": [
       "  0%|          | 0/1 [00:00<?, ?it/s]"
      ]
     },
     "metadata": {},
     "output_type": "display_data"
    },
    {
     "data": {
      "application/vnd.jupyter.widget-view+json": {
       "model_id": "ecbde61b33ad4a0c8509e71f59bd4bd8",
       "version_major": 2,
       "version_minor": 0
      },
      "text/plain": [
       "  0%|          | 0/1 [00:00<?, ?it/s]"
      ]
     },
     "metadata": {},
     "output_type": "display_data"
    },
    {
     "data": {
      "application/vnd.jupyter.widget-view+json": {
       "model_id": "82db93055c724413b178c649711e7712",
       "version_major": 2,
       "version_minor": 0
      },
      "text/plain": [
       "  0%|          | 0/1 [00:00<?, ?it/s]"
      ]
     },
     "metadata": {},
     "output_type": "display_data"
    },
    {
     "data": {
      "application/vnd.jupyter.widget-view+json": {
       "model_id": "bdeedfa4e74848719f2b977aa266b5fd",
       "version_major": 2,
       "version_minor": 0
      },
      "text/plain": [
       "  0%|          | 0/1 [00:00<?, ?it/s]"
      ]
     },
     "metadata": {},
     "output_type": "display_data"
    },
    {
     "data": {
      "application/vnd.jupyter.widget-view+json": {
       "model_id": "a5ac61835f1f4fc3bd239dee9296f2a0",
       "version_major": 2,
       "version_minor": 0
      },
      "text/plain": [
       "  0%|          | 0/1 [00:00<?, ?it/s]"
      ]
     },
     "metadata": {},
     "output_type": "display_data"
    },
    {
     "data": {
      "application/vnd.jupyter.widget-view+json": {
       "model_id": "d51853ebd5164093b4fe876c2ea88f70",
       "version_major": 2,
       "version_minor": 0
      },
      "text/plain": [
       "  0%|          | 0/1 [00:00<?, ?it/s]"
      ]
     },
     "metadata": {},
     "output_type": "display_data"
    },
    {
     "data": {
      "application/vnd.jupyter.widget-view+json": {
       "model_id": "cbcf0794f48c4101b582b25b0f8a73ff",
       "version_major": 2,
       "version_minor": 0
      },
      "text/plain": [
       "  0%|          | 0/1 [00:00<?, ?it/s]"
      ]
     },
     "metadata": {},
     "output_type": "display_data"
    },
    {
     "data": {
      "application/vnd.jupyter.widget-view+json": {
       "model_id": "4da134009d9b4770aeddaa5164b68fca",
       "version_major": 2,
       "version_minor": 0
      },
      "text/plain": [
       "  0%|          | 0/1 [00:00<?, ?it/s]"
      ]
     },
     "metadata": {},
     "output_type": "display_data"
    },
    {
     "data": {
      "application/vnd.jupyter.widget-view+json": {
       "model_id": "b8a3b17da6bf4dd38d7a8c1248a0542a",
       "version_major": 2,
       "version_minor": 0
      },
      "text/plain": [
       "  0%|          | 0/1 [00:00<?, ?it/s]"
      ]
     },
     "metadata": {},
     "output_type": "display_data"
    },
    {
     "data": {
      "application/vnd.jupyter.widget-view+json": {
       "model_id": "f3576bffd1314542a79589cc1d974450",
       "version_major": 2,
       "version_minor": 0
      },
      "text/plain": [
       "  0%|          | 0/1 [00:00<?, ?it/s]"
      ]
     },
     "metadata": {},
     "output_type": "display_data"
    },
    {
     "name": "stdout",
     "output_type": "stream",
     "text": [
      "Epoch number:79 Loss: 0.1354\n"
     ]
    },
    {
     "data": {
      "application/vnd.jupyter.widget-view+json": {
       "model_id": "b5bbe08813c343ae8a3314ae161f727c",
       "version_major": 2,
       "version_minor": 0
      },
      "text/plain": [
       "  0%|          | 0/1 [00:00<?, ?it/s]"
      ]
     },
     "metadata": {},
     "output_type": "display_data"
    },
    {
     "data": {
      "application/vnd.jupyter.widget-view+json": {
       "model_id": "12e72c51c61241a4964409f3a456ed7a",
       "version_major": 2,
       "version_minor": 0
      },
      "text/plain": [
       "  0%|          | 0/1 [00:00<?, ?it/s]"
      ]
     },
     "metadata": {},
     "output_type": "display_data"
    },
    {
     "data": {
      "application/vnd.jupyter.widget-view+json": {
       "model_id": "d71988f5d4504ab4a75f3608ce921478",
       "version_major": 2,
       "version_minor": 0
      },
      "text/plain": [
       "  0%|          | 0/1 [00:00<?, ?it/s]"
      ]
     },
     "metadata": {},
     "output_type": "display_data"
    },
    {
     "data": {
      "application/vnd.jupyter.widget-view+json": {
       "model_id": "b7f6bcd5c32945d1b95517985d2121b2",
       "version_major": 2,
       "version_minor": 0
      },
      "text/plain": [
       "  0%|          | 0/1 [00:00<?, ?it/s]"
      ]
     },
     "metadata": {},
     "output_type": "display_data"
    },
    {
     "data": {
      "application/vnd.jupyter.widget-view+json": {
       "model_id": "47783d0b70fc4589a9b3515dd80b37f5",
       "version_major": 2,
       "version_minor": 0
      },
      "text/plain": [
       "  0%|          | 0/1 [00:00<?, ?it/s]"
      ]
     },
     "metadata": {},
     "output_type": "display_data"
    },
    {
     "data": {
      "application/vnd.jupyter.widget-view+json": {
       "model_id": "77e0cdf9a35044e1865b90cb6b49abcf",
       "version_major": 2,
       "version_minor": 0
      },
      "text/plain": [
       "  0%|          | 0/1 [00:00<?, ?it/s]"
      ]
     },
     "metadata": {},
     "output_type": "display_data"
    },
    {
     "data": {
      "application/vnd.jupyter.widget-view+json": {
       "model_id": "2504cecda40146238481ba1cd5cadf68",
       "version_major": 2,
       "version_minor": 0
      },
      "text/plain": [
       "  0%|          | 0/1 [00:00<?, ?it/s]"
      ]
     },
     "metadata": {},
     "output_type": "display_data"
    },
    {
     "data": {
      "application/vnd.jupyter.widget-view+json": {
       "model_id": "1ea48dffbb1640d7880133ebcf8f2bb1",
       "version_major": 2,
       "version_minor": 0
      },
      "text/plain": [
       "  0%|          | 0/1 [00:00<?, ?it/s]"
      ]
     },
     "metadata": {},
     "output_type": "display_data"
    },
    {
     "data": {
      "application/vnd.jupyter.widget-view+json": {
       "model_id": "671ef4dd90594c0b88620c2528dd177f",
       "version_major": 2,
       "version_minor": 0
      },
      "text/plain": [
       "  0%|          | 0/1 [00:00<?, ?it/s]"
      ]
     },
     "metadata": {},
     "output_type": "display_data"
    },
    {
     "data": {
      "application/vnd.jupyter.widget-view+json": {
       "model_id": "ae8ce75851f849cbbd5a1c592322fbba",
       "version_major": 2,
       "version_minor": 0
      },
      "text/plain": [
       "  0%|          | 0/1 [00:00<?, ?it/s]"
      ]
     },
     "metadata": {},
     "output_type": "display_data"
    },
    {
     "name": "stdout",
     "output_type": "stream",
     "text": [
      "Epoch number:89 Loss: 0.1317\n"
     ]
    },
    {
     "data": {
      "application/vnd.jupyter.widget-view+json": {
       "model_id": "82690fd80b69473fa8ce9a03ec69250e",
       "version_major": 2,
       "version_minor": 0
      },
      "text/plain": [
       "  0%|          | 0/1 [00:00<?, ?it/s]"
      ]
     },
     "metadata": {},
     "output_type": "display_data"
    },
    {
     "data": {
      "application/vnd.jupyter.widget-view+json": {
       "model_id": "eb74c02d04ac4bfbbb4e1615642a5411",
       "version_major": 2,
       "version_minor": 0
      },
      "text/plain": [
       "  0%|          | 0/1 [00:00<?, ?it/s]"
      ]
     },
     "metadata": {},
     "output_type": "display_data"
    },
    {
     "data": {
      "application/vnd.jupyter.widget-view+json": {
       "model_id": "b47fe49ac009421d9a334505d5de6826",
       "version_major": 2,
       "version_minor": 0
      },
      "text/plain": [
       "  0%|          | 0/1 [00:00<?, ?it/s]"
      ]
     },
     "metadata": {},
     "output_type": "display_data"
    },
    {
     "data": {
      "application/vnd.jupyter.widget-view+json": {
       "model_id": "fac0c6fa128b4abfa92469a2b2a75353",
       "version_major": 2,
       "version_minor": 0
      },
      "text/plain": [
       "  0%|          | 0/1 [00:00<?, ?it/s]"
      ]
     },
     "metadata": {},
     "output_type": "display_data"
    },
    {
     "data": {
      "application/vnd.jupyter.widget-view+json": {
       "model_id": "c13181e41c6c46419a9c27d3d0ba66a0",
       "version_major": 2,
       "version_minor": 0
      },
      "text/plain": [
       "  0%|          | 0/1 [00:00<?, ?it/s]"
      ]
     },
     "metadata": {},
     "output_type": "display_data"
    },
    {
     "data": {
      "application/vnd.jupyter.widget-view+json": {
       "model_id": "b0764690cabb49c6858464a40b39ca4a",
       "version_major": 2,
       "version_minor": 0
      },
      "text/plain": [
       "  0%|          | 0/1 [00:00<?, ?it/s]"
      ]
     },
     "metadata": {},
     "output_type": "display_data"
    },
    {
     "data": {
      "application/vnd.jupyter.widget-view+json": {
       "model_id": "ca4d81ab4ec84e65a087617365f7029a",
       "version_major": 2,
       "version_minor": 0
      },
      "text/plain": [
       "  0%|          | 0/1 [00:00<?, ?it/s]"
      ]
     },
     "metadata": {},
     "output_type": "display_data"
    },
    {
     "data": {
      "application/vnd.jupyter.widget-view+json": {
       "model_id": "462bbf541e464737a1d7ac3902f595bd",
       "version_major": 2,
       "version_minor": 0
      },
      "text/plain": [
       "  0%|          | 0/1 [00:00<?, ?it/s]"
      ]
     },
     "metadata": {},
     "output_type": "display_data"
    },
    {
     "data": {
      "application/vnd.jupyter.widget-view+json": {
       "model_id": "7f13e548985f4854a11e2368bf745bb9",
       "version_major": 2,
       "version_minor": 0
      },
      "text/plain": [
       "  0%|          | 0/1 [00:00<?, ?it/s]"
      ]
     },
     "metadata": {},
     "output_type": "display_data"
    },
    {
     "data": {
      "application/vnd.jupyter.widget-view+json": {
       "model_id": "a6226d9a3ca44859bc32317db36376cc",
       "version_major": 2,
       "version_minor": 0
      },
      "text/plain": [
       "  0%|          | 0/1 [00:00<?, ?it/s]"
      ]
     },
     "metadata": {},
     "output_type": "display_data"
    },
    {
     "name": "stdout",
     "output_type": "stream",
     "text": [
      "Epoch number:99 Loss: 0.1306\n"
     ]
    },
    {
     "data": {
      "application/vnd.jupyter.widget-view+json": {
       "model_id": "522171a4d55a4b56bdb5a813007a5832",
       "version_major": 2,
       "version_minor": 0
      },
      "text/plain": [
       "  0%|          | 0/1 [00:00<?, ?it/s]"
      ]
     },
     "metadata": {},
     "output_type": "display_data"
    },
    {
     "name": "stdout",
     "output_type": "stream",
     "text": [
      "tensor([ 0.2874,  0.4918,  0.2458,  0.4263,  0.0351,  0.0783,  0.2704,  0.2335,\n",
      "         0.0990,  0.1037,  0.2770,  0.2244,  0.7590,  0.2404,  0.2183,  0.2789,\n",
      "         0.4627,  0.2855,  0.2346,  0.0091,  0.0524,  0.1219,  0.0192,  0.1403,\n",
      "         0.0961,  0.2701,  0.1857,  0.1887,  0.1906,  0.0504,  0.0393,  0.0473,\n",
      "         0.2500,  0.1374,  0.1902,  0.2518,  0.1335,  0.3185,  0.1999,  0.0349,\n",
      "         0.2360,  0.2229,  0.6102,  0.2186,  0.2223,  0.2276,  0.1990,  0.2068,\n",
      "         0.3054,  0.0879,  0.1543,  0.2145,  0.1363,  0.7445,  0.2832,  0.2257,\n",
      "         0.0376,  0.2383,  0.1715,  0.2680,  0.2135,  0.1467,  0.0345,  0.1819,\n",
      "         0.0280,  0.0787,  0.0032,  0.1342,  0.0455,  0.2559,  0.0013,  0.1384,\n",
      "         0.2974,  0.2594,  0.3417,  0.0357,  0.1138,  0.2822,  0.2056,  0.1844,\n",
      "         0.7792,  0.1384,  0.1635,  0.0983, -0.0259,  0.1197,  0.0917,  0.2756,\n",
      "         0.1237, -0.0056,  0.1361,  0.1927,  0.1125,  0.1298,  0.7993,  0.4202,\n",
      "         0.2728,  0.1716,  0.2094,  0.2455,  0.0558,  0.2148,  0.1539,  0.1811,\n",
      "         0.1585,  0.6161,  0.2523,  0.2753,  0.2079,  0.1486,  0.6334,  0.0772,\n",
      "         0.2160, -0.0332,  0.1517,  0.0390,  0.5578,  0.0521,  0.1644,  0.7953,\n",
      "         0.7345,  0.2068,  0.1195,  0.3618,  0.1958,  0.1122,  0.0632,  0.0287,\n",
      "         0.1798,  0.4192,  0.1445,  0.1034,  0.3361,  0.0796,  0.0133,  0.0127,\n",
      "         0.0367,  0.3652,  0.0866,  0.3070,  0.1251,  0.1720,  0.2863,  0.1423,\n",
      "         0.5364,  0.2795,  0.1146,  0.3039,  0.1671,  0.2144,  0.2482,  0.5356,\n",
      "         0.2045,  0.0942,  0.4075,  0.0063,  0.2249,  0.1600,  0.0038,  0.2119,\n",
      "         0.0739,  0.1060,  0.1677,  0.1810,  0.7853,  0.1971,  0.3002,  0.0240,\n",
      "         0.1571,  0.0767,  0.1932,  0.3815,  0.2450,  0.0765,  0.0302,  0.2618,\n",
      "         0.2126,  0.2417,  0.4379, -0.0373,  0.1678,  0.1646,  0.0667,  0.1133,\n",
      "         0.2938,  0.2867,  0.2132,  0.2407,  0.2416,  0.2546,  0.2108,  0.2280,\n",
      "         0.0301,  0.0826,  0.1510,  0.2542,  0.0915,  0.1726,  0.3311,  0.1711,\n",
      "         0.1833,  0.0192,  0.1532,  0.4971,  0.2849,  0.4153, -0.0166,  0.1935,\n",
      "         0.2920,  0.3197,  0.2203,  0.4837,  0.1591,  0.0603,  0.1743,  0.0104,\n",
      "         0.4566,  0.2774,  0.0300,  0.1233,  0.0248,  0.2164,  0.1518,  0.0890,\n",
      "         0.0020,  0.1837,  0.0747,  0.2417,  0.2858,  0.1658,  0.2314,  0.1309,\n",
      "         0.1826,  0.1911,  0.5148,  0.0993,  0.3362,  0.3833,  0.4271,  0.3707,\n",
      "         0.2152,  0.3071,  0.2025,  0.3104,  0.1290,  0.1690,  0.1895,  0.0141])\n",
      "tensor([0.2276, 0.5442, 0.3063, 0.3998, 0.0000, 0.0456, 0.2191, 0.2011, 0.0627,\n",
      "        0.1430, 0.2251, 0.1524, 0.9161, 0.7055, 0.2657, 0.7603, 0.4344, 0.1307,\n",
      "        0.1036, 0.0389, 0.0377, 0.0720, 0.0240, 0.1099, 0.0353, 0.3477, 0.1633,\n",
      "        0.1647, 0.2060, 0.0681, 0.0496, 0.0305, 0.3000, 0.1270, 0.2297, 0.2221,\n",
      "        0.1098, 0.1385, 0.1347, 0.0000, 0.2699, 0.0374, 0.4815, 0.2264, 0.0000,\n",
      "        0.1093, 0.2281, 0.1318, 0.2857, 0.0000, 0.1942, 0.1844, 0.0917, 0.7000,\n",
      "        0.2997, 0.1235, 0.0258, 0.0000, 0.0954, 0.1962, 0.1396, 0.0462, 0.0000,\n",
      "        0.1574, 0.0265, 0.1260, 0.0192, 0.0808, 0.0190, 0.1363, 0.0241, 0.0783,\n",
      "        0.1304, 0.1206, 0.3790, 0.0000, 0.1507, 0.4057, 0.2777, 0.1943, 1.0000,\n",
      "        0.0624, 0.2933, 0.0234, 0.0122, 0.1099, 0.0706, 0.3135, 0.0624, 0.0140,\n",
      "        0.0270, 0.1573, 0.0910, 0.1871, 0.8889, 0.4445, 0.2496, 0.1577, 0.0594,\n",
      "        0.3827, 0.0572, 0.0974, 0.1279, 0.0847, 0.1086, 0.9091, 0.0000, 0.0186,\n",
      "        0.2339, 0.1586, 0.5000, 0.0245, 0.1889, 0.0206, 0.2185, 0.0364, 0.6281,\n",
      "        0.0251, 0.2394, 0.9091, 0.8571, 0.1472, 0.0236, 0.3142, 0.0304, 0.0910,\n",
      "        0.0336, 0.0547, 0.1129, 0.5714, 0.1294, 0.1637, 0.3431, 0.0870, 0.0613,\n",
      "        0.0233, 0.0177, 0.3516, 0.0485, 0.3480, 0.0477, 0.1725, 0.2925, 0.0945,\n",
      "        0.5775, 0.4408, 0.1139, 0.3401, 0.1311, 0.1821, 0.3693, 0.5871, 0.1113,\n",
      "        0.0674, 0.5926, 0.0233, 0.0000, 0.0000, 0.0205, 0.1938, 0.0987, 0.0999,\n",
      "        0.1270, 0.0000, 0.9877, 0.1453, 0.3401, 0.0584, 0.1415, 0.0971, 0.1949,\n",
      "        0.3187, 0.1259, 0.0547, 0.0472, 0.2191, 0.3063, 0.1454, 0.4399, 0.0083,\n",
      "        0.1911, 0.1580, 0.0513, 0.0594, 0.0978, 0.1802, 0.1430, 0.1550, 0.2092,\n",
      "        0.1043, 0.1466, 0.1549, 0.0067, 0.1200, 0.0477, 0.1929, 0.0478, 0.1577,\n",
      "        0.3974, 0.2218, 0.1202, 0.0234, 0.0480, 0.4815, 0.3254, 0.3695, 0.0224,\n",
      "        0.2316, 0.2925, 0.2337, 0.2538, 0.4703, 0.0621, 0.0550, 0.2106, 0.0000,\n",
      "        0.0000, 0.2471, 0.0000, 0.1080, 0.0066, 0.2098, 0.1294, 0.7674, 0.0000,\n",
      "        0.1769, 0.0442, 0.1470, 0.2443, 0.0428, 0.1428, 0.0624, 0.1000, 0.2005,\n",
      "        0.5449, 0.0295, 0.2778, 0.4257, 0.3081, 0.3489, 0.2746, 0.1988, 0.2734,\n",
      "        0.2938, 0.1458, 0.1725, 0.1679, 0.0000], dtype=torch.float64)\n",
      "   Saccade5.Latency1  SP2.InitAccel:median  AntiSaccade3.Velocity:mean  \\\n",
      "0           0.546827             -0.001131                    1.029383   \n",
      "\n",
      "   SP3.InitAccel:median  RT_sa_sum  PD1.Phonation:sum  SP3.Velocity:median  \\\n",
      "0             -0.004725  22.817529           6.935488             1.108324   \n",
      "\n",
      "   Saccade5.Latency:std  RT_A_median  SP1.InitAccel:max  ...  \\\n",
      "0              0.275117     1.389522           0.014671  ...   \n",
      "\n",
      "   Saccade4.Latency1  RT_A_min  PD1.Phonation:median  \\\n",
      "0           0.447204   1.19336              3.659137   \n",
      "\n",
      "   AntiSaccade2.Velocity:max  PD1.Phonation:mean  Saccade5.Latency2  \\\n",
      "0                   1.087428            3.511893           0.517095   \n",
      "\n",
      "   Saccade4.Latency:std  AntiSaccade5.Velocity:median  Saccade5.Velocity2  \\\n",
      "0              0.143061                      0.847235            0.745186   \n",
      "\n",
      "      소요시간.2  \n",
      "0  20.726585  \n",
      "\n",
      "[1 rows x 248 columns]\n",
      "   Saccade5.Latency1  SP2.InitAccel:median  AntiSaccade3.Velocity:mean  \\\n",
      "0           0.433124              0.002727                    1.282929   \n",
      "\n",
      "   SP3.InitAccel:median  RT_sa_sum  PD1.Phonation:sum  SP3.Velocity:median  \\\n",
      "0             -0.009541     19.331               4.42             0.913461   \n",
      "\n",
      "   Saccade5.Latency:std  RT_A_median  SP1.InitAccel:max  ...  \\\n",
      "0              0.236943         1.31            0.02844  ...   \n",
      "\n",
      "   Saccade4.Latency1  RT_A_min  PD1.Phonation:median  \\\n",
      "0           0.322587     1.149                  4.42   \n",
      "\n",
      "   AntiSaccade2.Velocity:max  PD1.Phonation:mean  Saccade5.Latency2  \\\n",
      "0                   0.704059                4.42           0.489503   \n",
      "\n",
      "   Saccade4.Latency:std  AntiSaccade5.Velocity:median  Saccade5.Velocity2  \\\n",
      "0              0.161632                      0.862755             0.66043   \n",
      "\n",
      "   소요시간.2  \n",
      "0  19.331  \n",
      "\n",
      "[1 rows x 248 columns]\n",
      "(289, 249)\n",
      "(289, 3)\n"
     ]
    },
    {
     "data": {
      "text/plain": [
       "소요시간                            0\n",
       "RT_A3                           0\n",
       "RT_A4                           0\n",
       "RT_A5                           0\n",
       "RT_A8                           0\n",
       "                               ..\n",
       "AntiSaccade5.Velocity:median    0\n",
       "AntiSaccade5.Velocity:std       0\n",
       "AntiSaccade5.Velocity:min       0\n",
       "AntiSaccade5.Velocity:max       0\n",
       "Key                             0\n",
       "Length: 251, dtype: int64"
      ]
     },
     "execution_count": 50,
     "metadata": {},
     "output_type": "execute_result"
    }
   ],
   "source": [
    "train_df_ori = train_df.copy()\n",
    "train_df = utils.induce_missingness(train_df,logger_level=20)\n",
    "trainset = dataset_module.DataSetForImputation(train_df, normalize=True)  #normalize True for [0,1] normalization for dataframe\n",
    "print(len(trainset))\n",
    "testset = dataset_module.DataSetForImputation(test_df, normalize=True)\n",
    "print(len(testset))\n",
    "\n",
    "net = Modelling.DenoisingAutoEncoder(len(trainset.variables()), theta = 7, input_dropout=0.5)\n",
    "criterion = nn.MSELoss()\n",
    "net = net.to(device) \n",
    "\n",
    "train_loader = td.DataLoader(trainset, batch_size=BATCH_SIZE, shuffle=True, **{})\n",
    "val_loader = td.DataLoader(testset, batch_size=BATCH_SIZE, shuffle=True, **{})\n",
    "\n",
    "optimizer = Adam(net.parameters(), lr = LR)\n",
    "\n",
    "LOG_INTERVAL = 10\n",
    "SAVE_INTERVAL = 50\n",
    "torch.set_printoptions(sci_mode=False)\n",
    "\n",
    "\n",
    "train_model(0,101, net, model_name, train_loader=train_loader, val_loader=val_loader)\n",
    "\n",
    "net = net.eval()\n",
    "print((net(trainset[0][0]).detach()))\n",
    "print(trainset[0][0])\n",
    "\n",
    "net = net.eval()\n",
    "print(trainset.get_denormalized_data((net(trainset[0][0].detach()))))\n",
    "print(trainset.get_denormalized_data(trainset[0][0]))\n",
    "\n",
    "fill_test_df= test_model(net=net, test_df=test_df, trainset=trainset, device=device,logger_level=20)\n",
    "train_df = train_df_ori.copy()\n",
    "fill_test_df['Key'] = test_df_Key.reset_index(drop=True)\n",
    "train_df['Key'] = train_df_Key\n",
    "\n",
    "m_df = pd.concat([fill_test_df, train_df])\n",
    "print(m_df.shape)\n",
    "\n",
    "ls = ['Key']\n",
    "\n",
    "for i in df1.columns:\n",
    "        if i not in m_df.columns: # SP + Neuropsychology 외의 피처\n",
    "            ls.append(i)\n",
    "\n",
    "the_others = df[ls]\n",
    "print(the_others.shape)\n",
    "\n",
    "df1=pd.merge(m_df,the_others, how='outer',on='Key')\n",
    "\n",
    "df1 = df1[list(df.drop('cutoff',axis=1).columns)]\n",
    "df1.isnull().sum()"
   ]
  },
  {
   "cell_type": "markdown",
   "metadata": {},
   "source": [
    "# 나머지"
   ]
  },
  {
   "cell_type": "code",
   "execution_count": 51,
   "metadata": {},
   "outputs": [
    {
     "name": "stdout",
     "output_type": "stream",
     "text": [
      "(91, 251)\n",
      "(198, 251)\n"
     ]
    }
   ],
   "source": [
    "train_df = df1.dropna(axis=0)\n",
    "print(train_df.shape)\n",
    "\n",
    "loc_list = []\n",
    "for i in range(len(df1)):\n",
    "    if df1.loc[i].isnull().any() == True:\n",
    "        loc_list.append(i)\n",
    "test_df = df1.loc[loc_list]\n",
    "print(test_df.shape)\n",
    "\n",
    "train_df_Key = train_df['Key']\n",
    "test_df_Key = test_df['Key']\n",
    "train_df= train_df.drop('Key',axis=1)\n",
    "test_df= test_df.drop('Key',axis=1)\n"
   ]
  },
  {
   "cell_type": "code",
   "execution_count": 52,
   "metadata": {},
   "outputs": [
    {
     "name": "stdout",
     "output_type": "stream",
     "text": [
      "91\n",
      "198\n"
     ]
    },
    {
     "name": "stderr",
     "output_type": "stream",
     "text": [
      "c:\\Users\\hOMe_pc\\Anaconda3\\envs\\AIS_mrcnn\\lib\\site-packages\\ipykernel_launcher.py:10: TqdmDeprecationWarning: This function will be removed in tqdm==5.0.0\n",
      "Please use `tqdm.notebook.tqdm` instead of `tqdm.tqdm_notebook`\n",
      "  # Remove the CWD from sys.path while we load stuff.\n"
     ]
    },
    {
     "data": {
      "application/vnd.jupyter.widget-view+json": {
       "model_id": "8882b40ff3164d1198741dbf81a2770a",
       "version_major": 2,
       "version_minor": 0
      },
      "text/plain": [
       "  0%|          | 0/101 [00:00<?, ?it/s]"
      ]
     },
     "metadata": {},
     "output_type": "display_data"
    },
    {
     "name": "stderr",
     "output_type": "stream",
     "text": [
      "c:\\Users\\hOMe_pc\\Anaconda3\\envs\\AIS_mrcnn\\lib\\site-packages\\ipykernel_launcher.py:15: TqdmDeprecationWarning: This function will be removed in tqdm==5.0.0\n",
      "Please use `tqdm.notebook.tqdm` instead of `tqdm.tqdm_notebook`\n",
      "  from ipykernel import kernelapp as app\n"
     ]
    },
    {
     "data": {
      "application/vnd.jupyter.widget-view+json": {
       "model_id": "9f2ef9c17a184f8bb9eb2ebca370fef0",
       "version_major": 2,
       "version_minor": 0
      },
      "text/plain": [
       "  0%|          | 0/1 [00:00<?, ?it/s]"
      ]
     },
     "metadata": {},
     "output_type": "display_data"
    },
    {
     "data": {
      "application/vnd.jupyter.widget-view+json": {
       "model_id": "a39f3bb750544eb6960d63166e63c192",
       "version_major": 2,
       "version_minor": 0
      },
      "text/plain": [
       "  0%|          | 0/1 [00:00<?, ?it/s]"
      ]
     },
     "metadata": {},
     "output_type": "display_data"
    },
    {
     "data": {
      "application/vnd.jupyter.widget-view+json": {
       "model_id": "93fa4858a0c44062824a959a303ef054",
       "version_major": 2,
       "version_minor": 0
      },
      "text/plain": [
       "  0%|          | 0/1 [00:00<?, ?it/s]"
      ]
     },
     "metadata": {},
     "output_type": "display_data"
    },
    {
     "data": {
      "application/vnd.jupyter.widget-view+json": {
       "model_id": "ab06671a6f6041f58d030037f9cb1ed7",
       "version_major": 2,
       "version_minor": 0
      },
      "text/plain": [
       "  0%|          | 0/1 [00:00<?, ?it/s]"
      ]
     },
     "metadata": {},
     "output_type": "display_data"
    },
    {
     "data": {
      "application/vnd.jupyter.widget-view+json": {
       "model_id": "9528a94d853e4aedb42d14e8e0c42091",
       "version_major": 2,
       "version_minor": 0
      },
      "text/plain": [
       "  0%|          | 0/1 [00:00<?, ?it/s]"
      ]
     },
     "metadata": {},
     "output_type": "display_data"
    },
    {
     "data": {
      "application/vnd.jupyter.widget-view+json": {
       "model_id": "2d105310e77e49a5a21064ac33735b32",
       "version_major": 2,
       "version_minor": 0
      },
      "text/plain": [
       "  0%|          | 0/1 [00:00<?, ?it/s]"
      ]
     },
     "metadata": {},
     "output_type": "display_data"
    },
    {
     "data": {
      "application/vnd.jupyter.widget-view+json": {
       "model_id": "96d99f53e69f42aeabad4e38037f5905",
       "version_major": 2,
       "version_minor": 0
      },
      "text/plain": [
       "  0%|          | 0/1 [00:00<?, ?it/s]"
      ]
     },
     "metadata": {},
     "output_type": "display_data"
    },
    {
     "data": {
      "application/vnd.jupyter.widget-view+json": {
       "model_id": "b051aa1111da4bbc8ee3b1f1407e6e9a",
       "version_major": 2,
       "version_minor": 0
      },
      "text/plain": [
       "  0%|          | 0/1 [00:00<?, ?it/s]"
      ]
     },
     "metadata": {},
     "output_type": "display_data"
    },
    {
     "data": {
      "application/vnd.jupyter.widget-view+json": {
       "model_id": "0ef4d1fb91d843758add4a9fcdcca617",
       "version_major": 2,
       "version_minor": 0
      },
      "text/plain": [
       "  0%|          | 0/1 [00:00<?, ?it/s]"
      ]
     },
     "metadata": {},
     "output_type": "display_data"
    },
    {
     "data": {
      "application/vnd.jupyter.widget-view+json": {
       "model_id": "9c53f6a281604bad973eb49f48bc13ae",
       "version_major": 2,
       "version_minor": 0
      },
      "text/plain": [
       "  0%|          | 0/1 [00:00<?, ?it/s]"
      ]
     },
     "metadata": {},
     "output_type": "display_data"
    },
    {
     "name": "stdout",
     "output_type": "stream",
     "text": [
      "Epoch number:9 Loss: 0.1913\n"
     ]
    },
    {
     "data": {
      "application/vnd.jupyter.widget-view+json": {
       "model_id": "3383ecf9e73b4706912f8eb56206ddd8",
       "version_major": 2,
       "version_minor": 0
      },
      "text/plain": [
       "  0%|          | 0/1 [00:00<?, ?it/s]"
      ]
     },
     "metadata": {},
     "output_type": "display_data"
    },
    {
     "data": {
      "application/vnd.jupyter.widget-view+json": {
       "model_id": "238925b335f145e0b4de1fbc69224d47",
       "version_major": 2,
       "version_minor": 0
      },
      "text/plain": [
       "  0%|          | 0/1 [00:00<?, ?it/s]"
      ]
     },
     "metadata": {},
     "output_type": "display_data"
    },
    {
     "data": {
      "application/vnd.jupyter.widget-view+json": {
       "model_id": "96504bee027e483b9886cf885ff118c4",
       "version_major": 2,
       "version_minor": 0
      },
      "text/plain": [
       "  0%|          | 0/1 [00:00<?, ?it/s]"
      ]
     },
     "metadata": {},
     "output_type": "display_data"
    },
    {
     "data": {
      "application/vnd.jupyter.widget-view+json": {
       "model_id": "0c6c091fdf5e4009a61cc0326c919caa",
       "version_major": 2,
       "version_minor": 0
      },
      "text/plain": [
       "  0%|          | 0/1 [00:00<?, ?it/s]"
      ]
     },
     "metadata": {},
     "output_type": "display_data"
    },
    {
     "data": {
      "application/vnd.jupyter.widget-view+json": {
       "model_id": "e1be8c505df54819a8adc1032f224727",
       "version_major": 2,
       "version_minor": 0
      },
      "text/plain": [
       "  0%|          | 0/1 [00:00<?, ?it/s]"
      ]
     },
     "metadata": {},
     "output_type": "display_data"
    },
    {
     "data": {
      "application/vnd.jupyter.widget-view+json": {
       "model_id": "f769967d7a4f4bed82af2ec34b6f05c5",
       "version_major": 2,
       "version_minor": 0
      },
      "text/plain": [
       "  0%|          | 0/1 [00:00<?, ?it/s]"
      ]
     },
     "metadata": {},
     "output_type": "display_data"
    },
    {
     "data": {
      "application/vnd.jupyter.widget-view+json": {
       "model_id": "ee734e991db742e2ae27abbd82f3377a",
       "version_major": 2,
       "version_minor": 0
      },
      "text/plain": [
       "  0%|          | 0/1 [00:00<?, ?it/s]"
      ]
     },
     "metadata": {},
     "output_type": "display_data"
    },
    {
     "data": {
      "application/vnd.jupyter.widget-view+json": {
       "model_id": "ed6653b93e0c4bf8bcc388f1e9cbc597",
       "version_major": 2,
       "version_minor": 0
      },
      "text/plain": [
       "  0%|          | 0/1 [00:00<?, ?it/s]"
      ]
     },
     "metadata": {},
     "output_type": "display_data"
    },
    {
     "data": {
      "application/vnd.jupyter.widget-view+json": {
       "model_id": "a49ae6a31c7d4ea1863948bca82e1325",
       "version_major": 2,
       "version_minor": 0
      },
      "text/plain": [
       "  0%|          | 0/1 [00:00<?, ?it/s]"
      ]
     },
     "metadata": {},
     "output_type": "display_data"
    },
    {
     "data": {
      "application/vnd.jupyter.widget-view+json": {
       "model_id": "2660aec625414896b5e660b2f35f742e",
       "version_major": 2,
       "version_minor": 0
      },
      "text/plain": [
       "  0%|          | 0/1 [00:00<?, ?it/s]"
      ]
     },
     "metadata": {},
     "output_type": "display_data"
    },
    {
     "name": "stdout",
     "output_type": "stream",
     "text": [
      "Epoch number:19 Loss: 0.1768\n"
     ]
    },
    {
     "data": {
      "application/vnd.jupyter.widget-view+json": {
       "model_id": "f9dffd537b2443f9986c585595d533d7",
       "version_major": 2,
       "version_minor": 0
      },
      "text/plain": [
       "  0%|          | 0/1 [00:00<?, ?it/s]"
      ]
     },
     "metadata": {},
     "output_type": "display_data"
    },
    {
     "data": {
      "application/vnd.jupyter.widget-view+json": {
       "model_id": "57dee3cb009440c19814ff895d5c6629",
       "version_major": 2,
       "version_minor": 0
      },
      "text/plain": [
       "  0%|          | 0/1 [00:00<?, ?it/s]"
      ]
     },
     "metadata": {},
     "output_type": "display_data"
    },
    {
     "data": {
      "application/vnd.jupyter.widget-view+json": {
       "model_id": "c59705a9209e4d96906a1dfde43a6cbd",
       "version_major": 2,
       "version_minor": 0
      },
      "text/plain": [
       "  0%|          | 0/1 [00:00<?, ?it/s]"
      ]
     },
     "metadata": {},
     "output_type": "display_data"
    },
    {
     "data": {
      "application/vnd.jupyter.widget-view+json": {
       "model_id": "db302e1ad3104a899f932d30c75c34d9",
       "version_major": 2,
       "version_minor": 0
      },
      "text/plain": [
       "  0%|          | 0/1 [00:00<?, ?it/s]"
      ]
     },
     "metadata": {},
     "output_type": "display_data"
    },
    {
     "data": {
      "application/vnd.jupyter.widget-view+json": {
       "model_id": "366538d1384543ab8f3951311cba2c9a",
       "version_major": 2,
       "version_minor": 0
      },
      "text/plain": [
       "  0%|          | 0/1 [00:00<?, ?it/s]"
      ]
     },
     "metadata": {},
     "output_type": "display_data"
    },
    {
     "data": {
      "application/vnd.jupyter.widget-view+json": {
       "model_id": "a08551465e0044adb1f2c51902c2047c",
       "version_major": 2,
       "version_minor": 0
      },
      "text/plain": [
       "  0%|          | 0/1 [00:00<?, ?it/s]"
      ]
     },
     "metadata": {},
     "output_type": "display_data"
    },
    {
     "data": {
      "application/vnd.jupyter.widget-view+json": {
       "model_id": "0ecb32bf6341475299a679255ec50ea8",
       "version_major": 2,
       "version_minor": 0
      },
      "text/plain": [
       "  0%|          | 0/1 [00:00<?, ?it/s]"
      ]
     },
     "metadata": {},
     "output_type": "display_data"
    },
    {
     "data": {
      "application/vnd.jupyter.widget-view+json": {
       "model_id": "fbe10d03fec4446bb43d8fa7258feee1",
       "version_major": 2,
       "version_minor": 0
      },
      "text/plain": [
       "  0%|          | 0/1 [00:00<?, ?it/s]"
      ]
     },
     "metadata": {},
     "output_type": "display_data"
    },
    {
     "data": {
      "application/vnd.jupyter.widget-view+json": {
       "model_id": "ef68bcbda9e14e35ae3fc04c274ac827",
       "version_major": 2,
       "version_minor": 0
      },
      "text/plain": [
       "  0%|          | 0/1 [00:00<?, ?it/s]"
      ]
     },
     "metadata": {},
     "output_type": "display_data"
    },
    {
     "data": {
      "application/vnd.jupyter.widget-view+json": {
       "model_id": "1804ef792d10409a85b9ec7b267543e8",
       "version_major": 2,
       "version_minor": 0
      },
      "text/plain": [
       "  0%|          | 0/1 [00:00<?, ?it/s]"
      ]
     },
     "metadata": {},
     "output_type": "display_data"
    },
    {
     "name": "stdout",
     "output_type": "stream",
     "text": [
      "Epoch number:29 Loss: 0.1681\n"
     ]
    },
    {
     "data": {
      "application/vnd.jupyter.widget-view+json": {
       "model_id": "7b443b1480d8480d866290d6b9d4e40a",
       "version_major": 2,
       "version_minor": 0
      },
      "text/plain": [
       "  0%|          | 0/1 [00:00<?, ?it/s]"
      ]
     },
     "metadata": {},
     "output_type": "display_data"
    },
    {
     "data": {
      "application/vnd.jupyter.widget-view+json": {
       "model_id": "8f7c038cd67e4f2aa593f7bb5084ad68",
       "version_major": 2,
       "version_minor": 0
      },
      "text/plain": [
       "  0%|          | 0/1 [00:00<?, ?it/s]"
      ]
     },
     "metadata": {},
     "output_type": "display_data"
    },
    {
     "data": {
      "application/vnd.jupyter.widget-view+json": {
       "model_id": "5be8d4b1a95440a9ad1eed8a8ce4f9e0",
       "version_major": 2,
       "version_minor": 0
      },
      "text/plain": [
       "  0%|          | 0/1 [00:00<?, ?it/s]"
      ]
     },
     "metadata": {},
     "output_type": "display_data"
    },
    {
     "data": {
      "application/vnd.jupyter.widget-view+json": {
       "model_id": "4602af8ade604ae9b6c6adc5b0044bfd",
       "version_major": 2,
       "version_minor": 0
      },
      "text/plain": [
       "  0%|          | 0/1 [00:00<?, ?it/s]"
      ]
     },
     "metadata": {},
     "output_type": "display_data"
    },
    {
     "data": {
      "application/vnd.jupyter.widget-view+json": {
       "model_id": "70788cbdbcd1451195e388788976c48a",
       "version_major": 2,
       "version_minor": 0
      },
      "text/plain": [
       "  0%|          | 0/1 [00:00<?, ?it/s]"
      ]
     },
     "metadata": {},
     "output_type": "display_data"
    },
    {
     "data": {
      "application/vnd.jupyter.widget-view+json": {
       "model_id": "951f3ca52cc7420ea3c7a46ae1250440",
       "version_major": 2,
       "version_minor": 0
      },
      "text/plain": [
       "  0%|          | 0/1 [00:00<?, ?it/s]"
      ]
     },
     "metadata": {},
     "output_type": "display_data"
    },
    {
     "data": {
      "application/vnd.jupyter.widget-view+json": {
       "model_id": "f0822c8aab694676a3316a11c58f3b96",
       "version_major": 2,
       "version_minor": 0
      },
      "text/plain": [
       "  0%|          | 0/1 [00:00<?, ?it/s]"
      ]
     },
     "metadata": {},
     "output_type": "display_data"
    },
    {
     "data": {
      "application/vnd.jupyter.widget-view+json": {
       "model_id": "6f79c95821d14c59808ab37ca6a5fbb0",
       "version_major": 2,
       "version_minor": 0
      },
      "text/plain": [
       "  0%|          | 0/1 [00:00<?, ?it/s]"
      ]
     },
     "metadata": {},
     "output_type": "display_data"
    },
    {
     "data": {
      "application/vnd.jupyter.widget-view+json": {
       "model_id": "bb0792b322c34c69807f03a6a5bc75b3",
       "version_major": 2,
       "version_minor": 0
      },
      "text/plain": [
       "  0%|          | 0/1 [00:00<?, ?it/s]"
      ]
     },
     "metadata": {},
     "output_type": "display_data"
    },
    {
     "data": {
      "application/vnd.jupyter.widget-view+json": {
       "model_id": "06ca007dfc284ea58f6dc736b1065d65",
       "version_major": 2,
       "version_minor": 0
      },
      "text/plain": [
       "  0%|          | 0/1 [00:00<?, ?it/s]"
      ]
     },
     "metadata": {},
     "output_type": "display_data"
    },
    {
     "name": "stdout",
     "output_type": "stream",
     "text": [
      "Epoch number:39 Loss: 0.1597\n"
     ]
    },
    {
     "data": {
      "application/vnd.jupyter.widget-view+json": {
       "model_id": "c8f2acb9fce14ffaacccc88db776de62",
       "version_major": 2,
       "version_minor": 0
      },
      "text/plain": [
       "  0%|          | 0/1 [00:00<?, ?it/s]"
      ]
     },
     "metadata": {},
     "output_type": "display_data"
    },
    {
     "data": {
      "application/vnd.jupyter.widget-view+json": {
       "model_id": "66fe1cbc0a19453ba63f5806b3837b84",
       "version_major": 2,
       "version_minor": 0
      },
      "text/plain": [
       "  0%|          | 0/1 [00:00<?, ?it/s]"
      ]
     },
     "metadata": {},
     "output_type": "display_data"
    },
    {
     "data": {
      "application/vnd.jupyter.widget-view+json": {
       "model_id": "ac2bc04f4a61404fb52115b60d93a60b",
       "version_major": 2,
       "version_minor": 0
      },
      "text/plain": [
       "  0%|          | 0/1 [00:00<?, ?it/s]"
      ]
     },
     "metadata": {},
     "output_type": "display_data"
    },
    {
     "data": {
      "application/vnd.jupyter.widget-view+json": {
       "model_id": "b64a7952c66344aca315f7f4ecbc8ffa",
       "version_major": 2,
       "version_minor": 0
      },
      "text/plain": [
       "  0%|          | 0/1 [00:00<?, ?it/s]"
      ]
     },
     "metadata": {},
     "output_type": "display_data"
    },
    {
     "data": {
      "application/vnd.jupyter.widget-view+json": {
       "model_id": "3590f97e4c3d4df4bffa263a00faeaf2",
       "version_major": 2,
       "version_minor": 0
      },
      "text/plain": [
       "  0%|          | 0/1 [00:00<?, ?it/s]"
      ]
     },
     "metadata": {},
     "output_type": "display_data"
    },
    {
     "data": {
      "application/vnd.jupyter.widget-view+json": {
       "model_id": "d7a64d18ed4448c28cce7fdb8045b379",
       "version_major": 2,
       "version_minor": 0
      },
      "text/plain": [
       "  0%|          | 0/1 [00:00<?, ?it/s]"
      ]
     },
     "metadata": {},
     "output_type": "display_data"
    },
    {
     "data": {
      "application/vnd.jupyter.widget-view+json": {
       "model_id": "163f004600664235bfbdf7a8f07bdc37",
       "version_major": 2,
       "version_minor": 0
      },
      "text/plain": [
       "  0%|          | 0/1 [00:00<?, ?it/s]"
      ]
     },
     "metadata": {},
     "output_type": "display_data"
    },
    {
     "data": {
      "application/vnd.jupyter.widget-view+json": {
       "model_id": "dde633bcc1514c9abdea1c3b295d24b1",
       "version_major": 2,
       "version_minor": 0
      },
      "text/plain": [
       "  0%|          | 0/1 [00:00<?, ?it/s]"
      ]
     },
     "metadata": {},
     "output_type": "display_data"
    },
    {
     "data": {
      "application/vnd.jupyter.widget-view+json": {
       "model_id": "7b4f41dc335e44c5b621affef6eaa1af",
       "version_major": 2,
       "version_minor": 0
      },
      "text/plain": [
       "  0%|          | 0/1 [00:00<?, ?it/s]"
      ]
     },
     "metadata": {},
     "output_type": "display_data"
    },
    {
     "data": {
      "application/vnd.jupyter.widget-view+json": {
       "model_id": "635ddce4b0494089b520d27a1500745f",
       "version_major": 2,
       "version_minor": 0
      },
      "text/plain": [
       "  0%|          | 0/1 [00:00<?, ?it/s]"
      ]
     },
     "metadata": {},
     "output_type": "display_data"
    },
    {
     "name": "stdout",
     "output_type": "stream",
     "text": [
      "Epoch number:49 Loss: 0.1528\n"
     ]
    },
    {
     "data": {
      "application/vnd.jupyter.widget-view+json": {
       "model_id": "a72920c41e8b4fb1bdf1803052b05ff7",
       "version_major": 2,
       "version_minor": 0
      },
      "text/plain": [
       "  0%|          | 0/1 [00:00<?, ?it/s]"
      ]
     },
     "metadata": {},
     "output_type": "display_data"
    },
    {
     "data": {
      "application/vnd.jupyter.widget-view+json": {
       "model_id": "998cb2e34b3a4f40bbf6faff9540ad9f",
       "version_major": 2,
       "version_minor": 0
      },
      "text/plain": [
       "  0%|          | 0/1 [00:00<?, ?it/s]"
      ]
     },
     "metadata": {},
     "output_type": "display_data"
    },
    {
     "data": {
      "application/vnd.jupyter.widget-view+json": {
       "model_id": "3f98a6b6d92e4b5ba73044efc0ec3822",
       "version_major": 2,
       "version_minor": 0
      },
      "text/plain": [
       "  0%|          | 0/1 [00:00<?, ?it/s]"
      ]
     },
     "metadata": {},
     "output_type": "display_data"
    },
    {
     "data": {
      "application/vnd.jupyter.widget-view+json": {
       "model_id": "b99188f4c7d645b58a5e7bb07c207169",
       "version_major": 2,
       "version_minor": 0
      },
      "text/plain": [
       "  0%|          | 0/1 [00:00<?, ?it/s]"
      ]
     },
     "metadata": {},
     "output_type": "display_data"
    },
    {
     "data": {
      "application/vnd.jupyter.widget-view+json": {
       "model_id": "3e486914d7eb4913987c4901820b001f",
       "version_major": 2,
       "version_minor": 0
      },
      "text/plain": [
       "  0%|          | 0/1 [00:00<?, ?it/s]"
      ]
     },
     "metadata": {},
     "output_type": "display_data"
    },
    {
     "data": {
      "application/vnd.jupyter.widget-view+json": {
       "model_id": "04685f13b7b04165a1df231e3c323fe1",
       "version_major": 2,
       "version_minor": 0
      },
      "text/plain": [
       "  0%|          | 0/1 [00:00<?, ?it/s]"
      ]
     },
     "metadata": {},
     "output_type": "display_data"
    },
    {
     "data": {
      "application/vnd.jupyter.widget-view+json": {
       "model_id": "9ae3bd9875fe473091be0d562d767ddc",
       "version_major": 2,
       "version_minor": 0
      },
      "text/plain": [
       "  0%|          | 0/1 [00:00<?, ?it/s]"
      ]
     },
     "metadata": {},
     "output_type": "display_data"
    },
    {
     "data": {
      "application/vnd.jupyter.widget-view+json": {
       "model_id": "75385926734344baa9020a74e3f4f856",
       "version_major": 2,
       "version_minor": 0
      },
      "text/plain": [
       "  0%|          | 0/1 [00:00<?, ?it/s]"
      ]
     },
     "metadata": {},
     "output_type": "display_data"
    },
    {
     "data": {
      "application/vnd.jupyter.widget-view+json": {
       "model_id": "db5ec8381887424fa7e11fa708eb1b46",
       "version_major": 2,
       "version_minor": 0
      },
      "text/plain": [
       "  0%|          | 0/1 [00:00<?, ?it/s]"
      ]
     },
     "metadata": {},
     "output_type": "display_data"
    },
    {
     "data": {
      "application/vnd.jupyter.widget-view+json": {
       "model_id": "fa28acfb867847b180033296ce1942d2",
       "version_major": 2,
       "version_minor": 0
      },
      "text/plain": [
       "  0%|          | 0/1 [00:00<?, ?it/s]"
      ]
     },
     "metadata": {},
     "output_type": "display_data"
    },
    {
     "name": "stdout",
     "output_type": "stream",
     "text": [
      "Epoch number:59 Loss: 0.1473\n"
     ]
    },
    {
     "data": {
      "application/vnd.jupyter.widget-view+json": {
       "model_id": "32baad698cd640bca3f0c86830f4ef6d",
       "version_major": 2,
       "version_minor": 0
      },
      "text/plain": [
       "  0%|          | 0/1 [00:00<?, ?it/s]"
      ]
     },
     "metadata": {},
     "output_type": "display_data"
    },
    {
     "data": {
      "application/vnd.jupyter.widget-view+json": {
       "model_id": "15ce084e115f421b8ea9a48910991fb0",
       "version_major": 2,
       "version_minor": 0
      },
      "text/plain": [
       "  0%|          | 0/1 [00:00<?, ?it/s]"
      ]
     },
     "metadata": {},
     "output_type": "display_data"
    },
    {
     "data": {
      "application/vnd.jupyter.widget-view+json": {
       "model_id": "125a80d487314930aa89b249ac637d69",
       "version_major": 2,
       "version_minor": 0
      },
      "text/plain": [
       "  0%|          | 0/1 [00:00<?, ?it/s]"
      ]
     },
     "metadata": {},
     "output_type": "display_data"
    },
    {
     "data": {
      "application/vnd.jupyter.widget-view+json": {
       "model_id": "68275c6d23e9436d8d5bc1dd2da29413",
       "version_major": 2,
       "version_minor": 0
      },
      "text/plain": [
       "  0%|          | 0/1 [00:00<?, ?it/s]"
      ]
     },
     "metadata": {},
     "output_type": "display_data"
    },
    {
     "data": {
      "application/vnd.jupyter.widget-view+json": {
       "model_id": "a8b14e0f68004ddbb4308298381d06c2",
       "version_major": 2,
       "version_minor": 0
      },
      "text/plain": [
       "  0%|          | 0/1 [00:00<?, ?it/s]"
      ]
     },
     "metadata": {},
     "output_type": "display_data"
    },
    {
     "data": {
      "application/vnd.jupyter.widget-view+json": {
       "model_id": "dacea7bfb5254ed6aca7b59c736d1399",
       "version_major": 2,
       "version_minor": 0
      },
      "text/plain": [
       "  0%|          | 0/1 [00:00<?, ?it/s]"
      ]
     },
     "metadata": {},
     "output_type": "display_data"
    },
    {
     "data": {
      "application/vnd.jupyter.widget-view+json": {
       "model_id": "b72c64c7165a40399c4230fbb64f5900",
       "version_major": 2,
       "version_minor": 0
      },
      "text/plain": [
       "  0%|          | 0/1 [00:00<?, ?it/s]"
      ]
     },
     "metadata": {},
     "output_type": "display_data"
    },
    {
     "data": {
      "application/vnd.jupyter.widget-view+json": {
       "model_id": "6e77c9171adf48228971022e7be3e410",
       "version_major": 2,
       "version_minor": 0
      },
      "text/plain": [
       "  0%|          | 0/1 [00:00<?, ?it/s]"
      ]
     },
     "metadata": {},
     "output_type": "display_data"
    },
    {
     "data": {
      "application/vnd.jupyter.widget-view+json": {
       "model_id": "cac2293db3aa4b079f5e0be5a9adc56b",
       "version_major": 2,
       "version_minor": 0
      },
      "text/plain": [
       "  0%|          | 0/1 [00:00<?, ?it/s]"
      ]
     },
     "metadata": {},
     "output_type": "display_data"
    },
    {
     "data": {
      "application/vnd.jupyter.widget-view+json": {
       "model_id": "2b6a1f16c1b948ce82b94c0c2eb94d4e",
       "version_major": 2,
       "version_minor": 0
      },
      "text/plain": [
       "  0%|          | 0/1 [00:00<?, ?it/s]"
      ]
     },
     "metadata": {},
     "output_type": "display_data"
    },
    {
     "name": "stdout",
     "output_type": "stream",
     "text": [
      "Epoch number:69 Loss: 0.1408\n"
     ]
    },
    {
     "data": {
      "application/vnd.jupyter.widget-view+json": {
       "model_id": "9822109e40644deda823cde37622b058",
       "version_major": 2,
       "version_minor": 0
      },
      "text/plain": [
       "  0%|          | 0/1 [00:00<?, ?it/s]"
      ]
     },
     "metadata": {},
     "output_type": "display_data"
    },
    {
     "data": {
      "application/vnd.jupyter.widget-view+json": {
       "model_id": "2acdd5f396174a8fbf5184b4eea7e1a3",
       "version_major": 2,
       "version_minor": 0
      },
      "text/plain": [
       "  0%|          | 0/1 [00:00<?, ?it/s]"
      ]
     },
     "metadata": {},
     "output_type": "display_data"
    },
    {
     "data": {
      "application/vnd.jupyter.widget-view+json": {
       "model_id": "b72a640a46d34669bfa0e51c379ef313",
       "version_major": 2,
       "version_minor": 0
      },
      "text/plain": [
       "  0%|          | 0/1 [00:00<?, ?it/s]"
      ]
     },
     "metadata": {},
     "output_type": "display_data"
    },
    {
     "data": {
      "application/vnd.jupyter.widget-view+json": {
       "model_id": "17cd7853c3fa4933885b97fc03052c33",
       "version_major": 2,
       "version_minor": 0
      },
      "text/plain": [
       "  0%|          | 0/1 [00:00<?, ?it/s]"
      ]
     },
     "metadata": {},
     "output_type": "display_data"
    },
    {
     "data": {
      "application/vnd.jupyter.widget-view+json": {
       "model_id": "1e3e2dbd75164d38bb60cf77dfdc015b",
       "version_major": 2,
       "version_minor": 0
      },
      "text/plain": [
       "  0%|          | 0/1 [00:00<?, ?it/s]"
      ]
     },
     "metadata": {},
     "output_type": "display_data"
    },
    {
     "data": {
      "application/vnd.jupyter.widget-view+json": {
       "model_id": "5b7f1fac363849bbb48a6e060e6bdb7c",
       "version_major": 2,
       "version_minor": 0
      },
      "text/plain": [
       "  0%|          | 0/1 [00:00<?, ?it/s]"
      ]
     },
     "metadata": {},
     "output_type": "display_data"
    },
    {
     "data": {
      "application/vnd.jupyter.widget-view+json": {
       "model_id": "19fe776ff0084bf28f59ed6b867db166",
       "version_major": 2,
       "version_minor": 0
      },
      "text/plain": [
       "  0%|          | 0/1 [00:00<?, ?it/s]"
      ]
     },
     "metadata": {},
     "output_type": "display_data"
    },
    {
     "data": {
      "application/vnd.jupyter.widget-view+json": {
       "model_id": "b29352f138d44f2d8e3edd038395bd99",
       "version_major": 2,
       "version_minor": 0
      },
      "text/plain": [
       "  0%|          | 0/1 [00:00<?, ?it/s]"
      ]
     },
     "metadata": {},
     "output_type": "display_data"
    },
    {
     "data": {
      "application/vnd.jupyter.widget-view+json": {
       "model_id": "182be5175127422090f9e74147f86054",
       "version_major": 2,
       "version_minor": 0
      },
      "text/plain": [
       "  0%|          | 0/1 [00:00<?, ?it/s]"
      ]
     },
     "metadata": {},
     "output_type": "display_data"
    },
    {
     "data": {
      "application/vnd.jupyter.widget-view+json": {
       "model_id": "bc213cd52cf243e5a57b4a8115b68695",
       "version_major": 2,
       "version_minor": 0
      },
      "text/plain": [
       "  0%|          | 0/1 [00:00<?, ?it/s]"
      ]
     },
     "metadata": {},
     "output_type": "display_data"
    },
    {
     "name": "stdout",
     "output_type": "stream",
     "text": [
      "Epoch number:79 Loss: 0.1370\n"
     ]
    },
    {
     "data": {
      "application/vnd.jupyter.widget-view+json": {
       "model_id": "5dec11769dec4974b63cc8b7f0ca494a",
       "version_major": 2,
       "version_minor": 0
      },
      "text/plain": [
       "  0%|          | 0/1 [00:00<?, ?it/s]"
      ]
     },
     "metadata": {},
     "output_type": "display_data"
    },
    {
     "data": {
      "application/vnd.jupyter.widget-view+json": {
       "model_id": "83d1111c42eb4fd181ec0709951529bd",
       "version_major": 2,
       "version_minor": 0
      },
      "text/plain": [
       "  0%|          | 0/1 [00:00<?, ?it/s]"
      ]
     },
     "metadata": {},
     "output_type": "display_data"
    },
    {
     "data": {
      "application/vnd.jupyter.widget-view+json": {
       "model_id": "aa7fbd5d25d54a3cada2c33ad3df996b",
       "version_major": 2,
       "version_minor": 0
      },
      "text/plain": [
       "  0%|          | 0/1 [00:00<?, ?it/s]"
      ]
     },
     "metadata": {},
     "output_type": "display_data"
    },
    {
     "data": {
      "application/vnd.jupyter.widget-view+json": {
       "model_id": "3efe50f22e84462195af945c52ebf1cc",
       "version_major": 2,
       "version_minor": 0
      },
      "text/plain": [
       "  0%|          | 0/1 [00:00<?, ?it/s]"
      ]
     },
     "metadata": {},
     "output_type": "display_data"
    },
    {
     "data": {
      "application/vnd.jupyter.widget-view+json": {
       "model_id": "a38c6fd81e8a402d9b5d328debfbba5f",
       "version_major": 2,
       "version_minor": 0
      },
      "text/plain": [
       "  0%|          | 0/1 [00:00<?, ?it/s]"
      ]
     },
     "metadata": {},
     "output_type": "display_data"
    },
    {
     "data": {
      "application/vnd.jupyter.widget-view+json": {
       "model_id": "c2358ed005d14e3a8536f46d4c56938b",
       "version_major": 2,
       "version_minor": 0
      },
      "text/plain": [
       "  0%|          | 0/1 [00:00<?, ?it/s]"
      ]
     },
     "metadata": {},
     "output_type": "display_data"
    },
    {
     "data": {
      "application/vnd.jupyter.widget-view+json": {
       "model_id": "5b71da6273e94b91b0763fb7aff6ca85",
       "version_major": 2,
       "version_minor": 0
      },
      "text/plain": [
       "  0%|          | 0/1 [00:00<?, ?it/s]"
      ]
     },
     "metadata": {},
     "output_type": "display_data"
    },
    {
     "data": {
      "application/vnd.jupyter.widget-view+json": {
       "model_id": "042bc074df244c23a5707f41c32a0954",
       "version_major": 2,
       "version_minor": 0
      },
      "text/plain": [
       "  0%|          | 0/1 [00:00<?, ?it/s]"
      ]
     },
     "metadata": {},
     "output_type": "display_data"
    },
    {
     "data": {
      "application/vnd.jupyter.widget-view+json": {
       "model_id": "bc96192f17614ed6a76b9b04c7d6f419",
       "version_major": 2,
       "version_minor": 0
      },
      "text/plain": [
       "  0%|          | 0/1 [00:00<?, ?it/s]"
      ]
     },
     "metadata": {},
     "output_type": "display_data"
    },
    {
     "data": {
      "application/vnd.jupyter.widget-view+json": {
       "model_id": "f2362bc468cb4ed9a509561e1f855899",
       "version_major": 2,
       "version_minor": 0
      },
      "text/plain": [
       "  0%|          | 0/1 [00:00<?, ?it/s]"
      ]
     },
     "metadata": {},
     "output_type": "display_data"
    },
    {
     "name": "stdout",
     "output_type": "stream",
     "text": [
      "Epoch number:89 Loss: 0.1356\n"
     ]
    },
    {
     "data": {
      "application/vnd.jupyter.widget-view+json": {
       "model_id": "3ef34d58b4fa44e18398c6e3118f1326",
       "version_major": 2,
       "version_minor": 0
      },
      "text/plain": [
       "  0%|          | 0/1 [00:00<?, ?it/s]"
      ]
     },
     "metadata": {},
     "output_type": "display_data"
    },
    {
     "data": {
      "application/vnd.jupyter.widget-view+json": {
       "model_id": "9ef0bfc8b82e49518e7203f9807ac57f",
       "version_major": 2,
       "version_minor": 0
      },
      "text/plain": [
       "  0%|          | 0/1 [00:00<?, ?it/s]"
      ]
     },
     "metadata": {},
     "output_type": "display_data"
    },
    {
     "data": {
      "application/vnd.jupyter.widget-view+json": {
       "model_id": "451424dd706c4e5f970dead4554c327d",
       "version_major": 2,
       "version_minor": 0
      },
      "text/plain": [
       "  0%|          | 0/1 [00:00<?, ?it/s]"
      ]
     },
     "metadata": {},
     "output_type": "display_data"
    },
    {
     "data": {
      "application/vnd.jupyter.widget-view+json": {
       "model_id": "8653d27233134e5885eb65960eebd13e",
       "version_major": 2,
       "version_minor": 0
      },
      "text/plain": [
       "  0%|          | 0/1 [00:00<?, ?it/s]"
      ]
     },
     "metadata": {},
     "output_type": "display_data"
    },
    {
     "data": {
      "application/vnd.jupyter.widget-view+json": {
       "model_id": "c71cb040ffe6442ba1c19805fc5c4a7e",
       "version_major": 2,
       "version_minor": 0
      },
      "text/plain": [
       "  0%|          | 0/1 [00:00<?, ?it/s]"
      ]
     },
     "metadata": {},
     "output_type": "display_data"
    },
    {
     "data": {
      "application/vnd.jupyter.widget-view+json": {
       "model_id": "938f81b374d345bbaae2a7b9dcccaead",
       "version_major": 2,
       "version_minor": 0
      },
      "text/plain": [
       "  0%|          | 0/1 [00:00<?, ?it/s]"
      ]
     },
     "metadata": {},
     "output_type": "display_data"
    },
    {
     "data": {
      "application/vnd.jupyter.widget-view+json": {
       "model_id": "43db7e752789400799a3088e12ebe19e",
       "version_major": 2,
       "version_minor": 0
      },
      "text/plain": [
       "  0%|          | 0/1 [00:00<?, ?it/s]"
      ]
     },
     "metadata": {},
     "output_type": "display_data"
    },
    {
     "data": {
      "application/vnd.jupyter.widget-view+json": {
       "model_id": "7b52dc3bfa5e4cd680bc8c863ec3e60c",
       "version_major": 2,
       "version_minor": 0
      },
      "text/plain": [
       "  0%|          | 0/1 [00:00<?, ?it/s]"
      ]
     },
     "metadata": {},
     "output_type": "display_data"
    },
    {
     "data": {
      "application/vnd.jupyter.widget-view+json": {
       "model_id": "80dc679963ed48f4a2ec7be5f3085bfe",
       "version_major": 2,
       "version_minor": 0
      },
      "text/plain": [
       "  0%|          | 0/1 [00:00<?, ?it/s]"
      ]
     },
     "metadata": {},
     "output_type": "display_data"
    },
    {
     "data": {
      "application/vnd.jupyter.widget-view+json": {
       "model_id": "f0509b4ca7f24c7b889b3ef2a03993d3",
       "version_major": 2,
       "version_minor": 0
      },
      "text/plain": [
       "  0%|          | 0/1 [00:00<?, ?it/s]"
      ]
     },
     "metadata": {},
     "output_type": "display_data"
    },
    {
     "name": "stdout",
     "output_type": "stream",
     "text": [
      "Epoch number:99 Loss: 0.1300\n"
     ]
    },
    {
     "data": {
      "application/vnd.jupyter.widget-view+json": {
       "model_id": "6954130d48994442bd1ba2169be118a4",
       "version_major": 2,
       "version_minor": 0
      },
      "text/plain": [
       "  0%|          | 0/1 [00:00<?, ?it/s]"
      ]
     },
     "metadata": {},
     "output_type": "display_data"
    },
    {
     "name": "stdout",
     "output_type": "stream",
     "text": [
      "tensor([     0.0823,     -0.0076,      0.0005,     -0.0103,      0.1723,\n",
      "             0.3875,      0.1277,      0.0270,      0.0887,      0.1032,\n",
      "             0.0353,      0.0393,      0.0601,     -0.0263,      0.5327,\n",
      "             0.0227,      0.1158,      0.1104,      0.1031,      0.3014,\n",
      "             0.0508,      0.6257,      0.9579,      0.2450,      0.1723,\n",
      "             0.0984,      0.0852,      0.1544,      0.1269,      0.0651,\n",
      "             0.2246,      0.1501,      0.4209,      0.1517,      0.3644,\n",
      "             0.0985,      0.6295,      0.1227,      0.1015,      0.0676,\n",
      "             0.2073,      0.0847,      0.2155,      0.1020,      0.0906,\n",
      "             0.1328,      0.1643,      0.1224,      0.0837,      0.2451,\n",
      "             0.2209,      0.0688,      0.1232,      0.1365,      0.1878,\n",
      "             0.0755,      0.1751,      0.0582,      0.0539,      0.0559,\n",
      "             0.0906,      0.0252,      0.1943,      0.4442,      0.2634,\n",
      "             0.2342,      0.0873,      0.3439,      0.0692,      0.0510,\n",
      "             0.0463,      0.0764,      0.1025,      0.1901,      0.1693,\n",
      "             0.2497,      0.2396,      0.2056,      0.1289,      0.3673,\n",
      "             0.1631,      0.1488,      0.0076,      0.1414,      0.0961,\n",
      "             0.1749,      0.1688,      0.3015,      0.2950,      0.2532,\n",
      "             0.0488,      0.1545,      0.1822,      0.1767,      0.1566,\n",
      "             0.4191,      0.0463,      0.0930,      0.1109,      0.0519,\n",
      "             0.1427,      0.2823,      0.3458,      0.3331,      0.2144,\n",
      "             0.3574,      0.1045,      0.1810,      0.7496,      0.2726,\n",
      "             0.1159,      0.1484,      0.3063,      0.3145,      0.7742,\n",
      "             0.6995,      0.3933,      0.1750,      0.1393,      0.2426,\n",
      "             0.3742,      0.5912,      0.4300,      0.5629,      0.3314,\n",
      "             0.3136,      0.2141,      0.4106,      0.3350,      0.2605,\n",
      "             0.2240,      0.1959,      0.6054,      0.1925,      0.3272,\n",
      "             0.3773,      0.4136,      0.3884,      0.5512,      0.5878,\n",
      "             0.0573,      0.4043,      0.5200,      0.5337,      0.2630,\n",
      "             0.7991,      0.3218,      0.4060,      0.0723,      0.3995,\n",
      "             0.2096,      0.3315,      0.3318,      0.3033,      0.2340,\n",
      "             0.5586,      0.2812,      0.2949,      0.1690,      0.2835,\n",
      "             0.4177,      0.3140,      0.5230,      0.3247,      0.2680,\n",
      "             0.3033,      0.1906,      0.2663,      0.4011,      0.2299,\n",
      "             0.2365,      0.3579,      0.3566,      0.0667,      0.3971,\n",
      "             0.2271,      0.1040,      0.2906,      0.3477,      0.2039,\n",
      "             0.3721,      0.3763,      0.2109,      0.3393,      0.1799,\n",
      "             0.1422,      0.1769,      0.2309,      0.0935,      0.0576,\n",
      "             0.1003,      0.0745,      0.5248,      0.3746,      0.1232,\n",
      "             0.2637,      0.2819,      0.3540,      0.3473,      0.1492,\n",
      "             0.3594,      0.3361,      0.0903,      0.0941,      0.1360,\n",
      "             0.0908,     -0.0490,      0.3545,      0.2836,      0.4180,\n",
      "             0.3034,      0.3851,      0.2254,      0.3368,      0.3907,\n",
      "             0.2145,      0.2470,      0.1541,      0.1956,      0.3122,\n",
      "             0.2529,      0.2684,      0.3269,      0.3306,      0.1382,\n",
      "             0.2852,      0.2509,      0.0857,      0.3677,      0.0635,\n",
      "             0.2992,      0.0968,      0.1557,      0.2827,      0.2676,\n",
      "             0.1403,      0.2553,      0.2990,      0.2649,      0.2792,\n",
      "             0.2135,      0.3738,      0.2398,      0.1343,      0.2811,\n",
      "             0.2392,      0.2166,      0.0597,      0.3985,      0.1513])\n",
      "tensor([    0.0341,     0.0000,     0.0226,     0.0055,     0.0000,     0.1973,\n",
      "            0.0865,     0.0857,     0.0853,     0.0341,     0.0335,     0.0101,\n",
      "            0.0079,     0.0322,     0.2723,     0.0281,     0.0865,     0.0735,\n",
      "            0.0739,     0.3059,     0.0734,     0.8571,     1.0000,     0.2105,\n",
      "            0.2207,     0.0149,     0.0803,     0.0851,     0.0581,     0.0270,\n",
      "            0.0283,     0.0237,     0.2208,     0.0559,     0.1191,     0.0890,\n",
      "            0.8333,     0.0855,     0.0689,     0.0362,     0.2677,     0.0506,\n",
      "            0.3415,     0.0890,     0.0890,     0.1081,     0.1657,     0.0935,\n",
      "            0.0528,     0.0783,     0.1856,     0.1066,     0.0912,     0.1092,\n",
      "            0.1120,     0.0558,     0.1252,     0.0498,     0.0229,     0.0058,\n",
      "            0.0548,     0.0275,     0.1462,     0.1667,     0.1429,     0.1296,\n",
      "            0.0347,     0.2080,     0.0455,     0.0555,     0.0671,     0.0590,\n",
      "            0.0000,     0.4000,     0.0940,     0.3454,     0.3454,     0.0000,\n",
      "            0.3454,     0.2909,     0.1984,     0.1736,     0.0000,     0.1384,\n",
      "            0.1207,     0.0000,     0.0000,     0.4423,     0.4423,     0.4423,\n",
      "            0.0659,     0.2381,     0.3000,     0.2225,     0.1220,     0.7674,\n",
      "            0.0000,     0.0525,     0.0419,     0.0271,     0.0471,     0.1842,\n",
      "            0.2158,     0.5000,     0.1156,     0.3233,     0.0000,     0.0000,\n",
      "            1.0000,     0.2500,     0.1387,     0.1617,     0.2311,     0.3896,\n",
      "            1.0000,     0.9859,     0.2668,     0.1311,     0.1413,     0.1142,\n",
      "            0.7324,     0.5000,     0.3636,     0.8208,     0.5737,     0.2622,\n",
      "            0.0764,     0.4439,     0.4842,     0.2189,     0.1829,     0.1797,\n",
      "            0.5278,     0.1738,     0.4894,     0.3577,     0.3907,     0.3931,\n",
      "            0.5915,     0.5681,     0.0484,     0.3709,     0.5016,     0.5730,\n",
      "            0.1023,     0.8184,     0.1773,     0.4051,     0.0430,     0.4128,\n",
      "            0.2023,     0.2704,     0.0567,     0.2827,     0.1850,     0.6292,\n",
      "            0.2337,     0.2337,     0.0434,     0.2053,     0.3250,     0.4105,\n",
      "            0.4245,     0.2750,     0.2560,     0.2560,     0.0520,     0.2851,\n",
      "            0.3527,     0.5005,     0.1703,     0.2574,     0.2294,     0.0494,\n",
      "            0.2749,     0.1572,     0.1054,     0.5005,     0.3623,     0.2378,\n",
      "            0.3207,     0.3207,     0.0440,     0.3075,     0.0000,     0.0000,\n",
      "            0.1192,     0.2310,     0.0000,     0.0695,     0.0000,     0.0000,\n",
      "            1.0000,     0.2062,     0.0000,     0.1595,     0.3796,     0.1801,\n",
      "            0.1801,     0.0499,     0.2314,     0.1723,     0.0000,     0.0000,\n",
      "            0.1691,     0.0000,     0.0000,     0.2176,     0.2114,     0.2523,\n",
      "            0.3115,     0.2383,     0.0257,     0.2275,     0.2176,     0.1741,\n",
      "            0.1741,     0.2265,     0.1741,     0.5000,     0.2324,     0.3524,\n",
      "            0.3768,     0.3768,     0.0355,     0.3629,     0.2623,     0.0561,\n",
      "            0.3325,     0.0056,     0.3383,     0.0890,     0.1614,     0.3054,\n",
      "            0.3054,     0.0060,     0.2307,     0.2555,     0.1119,     0.0387,\n",
      "            0.2318,     0.1601,     0.0301,     0.0567,     0.0872,     0.1056,\n",
      "            0.1056,     0.0006,     0.2233,     0.0567], dtype=torch.float64)\n",
      "        소요시간     RT_A3     RT_A4     RT_A5     RT_A8    RT_A10     소요시간.1  \\\n",
      "0  16.235148  1.105896  0.975727  1.116513  1.443679  1.818778  19.184863   \n",
      "\n",
      "      RT_B1     RT_B2    RT_B3  ...  AntiSaccade4.Velocity:std  \\\n",
      "0  1.932159  1.958784  2.21478  ...                   0.270363   \n",
      "\n",
      "   AntiSaccade4.Velocity:min  AntiSaccade4.Velocity:max  \\\n",
      "0                   0.990158                   1.201723   \n",
      "\n",
      "   AntiSaccade5.Velocity1  AntiSaccade5.Velocity2  AntiSaccade5.Velocity:mean  \\\n",
      "0                1.230606                1.166704                    1.162228   \n",
      "\n",
      "   AntiSaccade5.Velocity:median  AntiSaccade5.Velocity:std  \\\n",
      "0                      1.060476                   0.347212   \n",
      "\n",
      "   AntiSaccade5.Velocity:min  AntiSaccade5.Velocity:max  \n",
      "0                   0.919086                   1.375314  \n",
      "\n",
      "[1 rows x 250 columns]\n",
      "     소요시간  RT_A3  RT_A4  RT_A5  RT_A8  RT_A10  소요시간.1  RT_B1  RT_B2  RT_B3  \\\n",
      "0  14.009  1.176  1.246  1.334  1.028   1.191  17.192  3.234  1.929  1.533   \n",
      "\n",
      "   ...  AntiSaccade4.Velocity:std  AntiSaccade4.Velocity:min  \\\n",
      "0  ...                   0.293463                   0.439837   \n",
      "\n",
      "   AntiSaccade4.Velocity:max  AntiSaccade5.Velocity1  AntiSaccade5.Velocity2  \\\n",
      "0                   0.439837                0.571058                0.554049   \n",
      "\n",
      "   AntiSaccade5.Velocity:mean  AntiSaccade5.Velocity:median  \\\n",
      "0                    0.562554                      0.562554   \n",
      "\n",
      "   AntiSaccade5.Velocity:std  AntiSaccade5.Velocity:min  \\\n",
      "0                   0.012027                   0.554049   \n",
      "\n",
      "   AntiSaccade5.Velocity:max  \n",
      "0                   0.571058  \n",
      "\n",
      "[1 rows x 250 columns]\n"
     ]
    }
   ],
   "source": [
    "trainset = dataset_module.DataSetForImputation(train_df, normalize=True)  #normalize True for [0,1] normalization for dataframe\n",
    "print(len(trainset))\n",
    "testset = dataset_module.DataSetForImputation(test_df, normalize=True)\n",
    "print(len(testset))\n",
    "\n",
    "net = Modelling.DenoisingAutoEncoder(len(trainset.variables()), theta = 7, input_dropout=0.5)\n",
    "criterion = nn.MSELoss()\n",
    "net = net.to(device) \n",
    "\n",
    "train_loader = td.DataLoader(trainset, batch_size=BATCH_SIZE, shuffle=True, **{})\n",
    "val_loader = td.DataLoader(testset, batch_size=BATCH_SIZE, shuffle=True, **{})\n",
    "\n",
    "optimizer = Adam(net.parameters(), lr = LR)\n",
    "\n",
    "LOG_INTERVAL = 10\n",
    "SAVE_INTERVAL = 50\n",
    "torch.set_printoptions(sci_mode=False)\n",
    "\n",
    "\n",
    "train_model(0,101, net, model_name, train_loader=train_loader, val_loader=val_loader)\n",
    "\n",
    "net = net.eval()\n",
    "print((net(trainset[0][0]).detach()))\n",
    "print(trainset[0][0])\n",
    "\n",
    "net = net.eval()\n",
    "print(trainset.get_denormalized_data((net(trainset[0][0].detach()))))\n",
    "print(trainset.get_denormalized_data(trainset[0][0]))\n"
   ]
  },
  {
   "cell_type": "code",
   "execution_count": 53,
   "metadata": {},
   "outputs": [
    {
     "name": "stdout",
     "output_type": "stream",
     "text": [
      "(289, 251)\n",
      "(289, 1)\n"
     ]
    },
    {
     "data": {
      "text/plain": [
       "소요시간                            0\n",
       "RT_A3                           0\n",
       "RT_A4                           0\n",
       "RT_A5                           0\n",
       "RT_A8                           0\n",
       "                               ..\n",
       "AntiSaccade5.Velocity:median    0\n",
       "AntiSaccade5.Velocity:std       0\n",
       "AntiSaccade5.Velocity:min       0\n",
       "AntiSaccade5.Velocity:max       0\n",
       "Key                             0\n",
       "Length: 251, dtype: int64"
      ]
     },
     "execution_count": 53,
     "metadata": {},
     "output_type": "execute_result"
    }
   ],
   "source": [
    "fill_test_df= test_model(net=net, test_df=test_df, trainset=trainset, device=device,logger_level=20)\n",
    "fill_test_df['Key'] = test_df_Key.reset_index(drop=True)\n",
    "train_df['Key'] = train_df_Key\n",
    "\n",
    "m_df = pd.concat([fill_test_df, train_df])\n",
    "print(m_df.shape)\n",
    "\n",
    "ls = ['Key']\n",
    "\n",
    "for i in df1.columns:\n",
    "        if i not in m_df.columns: # SP + Neuropsychology 외의 피처\n",
    "            ls.append(i)\n",
    "\n",
    "the_others = df[ls]\n",
    "print(the_others.shape)\n",
    "\n",
    "df1=pd.merge(m_df,the_others, how='outer',on='Key')\n",
    "df1 = df1[list(df.drop('cutoff',axis=1).columns)]\n",
    "df1.isnull().sum()"
   ]
  },
  {
   "cell_type": "code",
   "execution_count": 55,
   "metadata": {},
   "outputs": [],
   "source": [
    "merge_df = pd.read_csv('merge_df.csv')\n",
    "key_cutoff=merge_df[['Key','cutoff']]"
   ]
  },
  {
   "cell_type": "code",
   "execution_count": null,
   "metadata": {},
   "outputs": [],
   "source": [
    "final_df=pd.merge(key_cutoff,df1, how='outer',on='Key')\n",
    "final_df=final_df[list(merge_df.columns)]"
   ]
  },
  {
   "cell_type": "code",
   "execution_count": 57,
   "metadata": {},
   "outputs": [
    {
     "data": {
      "text/plain": [
       "소요시간                         0\n",
       "RT_A3                        0\n",
       "RT_A4                        0\n",
       "RT_A5                        0\n",
       "RT_A8                        0\n",
       "                            ..\n",
       "AntiSaccade5.Velocity:std    0\n",
       "AntiSaccade5.Velocity:min    0\n",
       "AntiSaccade5.Velocity:max    0\n",
       "Key                          0\n",
       "cutoff                       0\n",
       "Length: 252, dtype: int64"
      ]
     },
     "execution_count": 57,
     "metadata": {},
     "output_type": "execute_result"
    }
   ],
   "source": [
    "final_df.isnull().sum()"
   ]
  },
  {
   "cell_type": "code",
   "execution_count": 58,
   "metadata": {},
   "outputs": [],
   "source": [
    "final_df.to_csv('MIDA_imputation2.csv',index=False)"
   ]
  },
  {
   "cell_type": "code",
   "execution_count": 59,
   "metadata": {},
   "outputs": [],
   "source": [
    "merge_df = final_df.copy()"
   ]
  },
  {
   "cell_type": "code",
   "execution_count": 68,
   "metadata": {},
   "outputs": [],
   "source": [
    "from sklearn.metrics import roc_auc_score, accuracy_score, precision_recall_curve,confusion_matrix, auc,roc_curve\n",
    "from sklearn.model_selection import train_test_split, RepeatedStratifiedKFold\n",
    "from sklearn.preprocessing import StandardScaler\n",
    "from datetime import datetime, date, time\n",
    "from functools import reduce\n",
    "import catboost\n",
    "import pandas as pd\n",
    "import numpy as np\n",
    "import warnings\n",
    "\n",
    "warnings.simplefilter(action='ignore', category=FutureWarning)\n",
    "\n",
    "pd.set_option('mode.chained_assignment',  None)\n",
    "pd.set_option('display.max_columns',500)\n",
    "pd.set_option('display.max_rows',None)"
   ]
  },
  {
   "cell_type": "code",
   "execution_count": 61,
   "metadata": {},
   "outputs": [
    {
     "name": "stdout",
     "output_type": "stream",
     "text": [
      " 변화된 값의 분포 :\n",
      " 0    154\n",
      "1    154\n",
      "Name: cutoff, dtype: int64\n",
      "0 번째\n",
      "Youden index threshold :  0.12793812662179846\n",
      "roc_auc_score :  0.7375\n",
      "acc :  0.6896551724137931\n",
      "sensitivity :  0.7\n",
      "specificity :  0.6875\n",
      "pr_auc :  0.33481394275469173 \n",
      "\n",
      "[[33 15]\n",
      " [ 3  7]]\n",
      " 변화된 값의 분포 :\n",
      " 0    154\n",
      "1    154\n",
      "Name: cutoff, dtype: int64\n",
      "1 번째\n",
      "Youden index threshold :  0.46433353225883645\n",
      "roc_auc_score :  0.81875\n",
      "acc :  0.7068965517241379\n",
      "sensitivity :  0.9\n",
      "specificity :  0.6666666666666666\n",
      "pr_auc :  0.4124392985680507 \n",
      "\n",
      "[[32 16]\n",
      " [ 1  9]]\n",
      " 변화된 값의 분포 :\n",
      " 0    154\n",
      "1    154\n",
      "Name: cutoff, dtype: int64\n",
      "2 번째\n",
      "Youden index threshold :  0.4867152543624132\n",
      "roc_auc_score :  0.64375\n",
      "acc :  0.7241379310344828\n",
      "sensitivity :  0.7\n",
      "specificity :  0.7291666666666666\n",
      "pr_auc :  0.2647448828034417 \n",
      "\n",
      "[[35 13]\n",
      " [ 3  7]]\n",
      " 변화된 값의 분포 :\n",
      " 0    153\n",
      "1    153\n",
      "Name: cutoff, dtype: int64\n",
      "3 번째\n",
      "Youden index threshold :  0.15456707691584365\n",
      "roc_auc_score :  0.6848072562358276\n",
      "acc :  0.5517241379310345\n",
      "sensitivity :  0.8888888888888888\n",
      "specificity :  0.4897959183673469\n",
      "pr_auc :  0.24457003984730583 \n",
      "\n",
      "[[24 25]\n",
      " [ 1  8]]\n",
      " 변화된 값의 분포 :\n",
      " 0    154\n",
      "1    154\n",
      "Name: cutoff, dtype: int64\n",
      "4 번째\n",
      "Youden index threshold :  0.02339238656118901\n",
      "roc_auc_score :  0.6689814814814815\n",
      "acc :  0.45614035087719296\n",
      "sensitivity :  1.0\n",
      "specificity :  0.3541666666666667\n",
      "pr_auc :  0.25429015672315075 \n",
      "\n",
      "[[17 31]\n",
      " [ 0  9]]\n",
      " 변화된 값의 분포 :\n",
      " 0    154\n",
      "1    154\n",
      "Name: cutoff, dtype: int64\n",
      "5 번째\n",
      "Youden index threshold :  0.4298298090146545\n",
      "roc_auc_score :  0.7020833333333334\n",
      "acc :  0.6896551724137931\n",
      "sensitivity :  0.8\n",
      "specificity :  0.6666666666666666\n",
      "pr_auc :  0.3056899840635875 \n",
      "\n",
      "[[32 16]\n",
      " [ 2  8]]\n",
      " 변화된 값의 분포 :\n",
      " 0    154\n",
      "1    154\n",
      "Name: cutoff, dtype: int64\n",
      "6 번째\n",
      "Youden index threshold :  0.19703628825611286\n",
      "roc_auc_score :  0.7749999999999999\n",
      "acc :  0.8448275862068966\n",
      "sensitivity :  0.7\n",
      "specificity :  0.875\n",
      "pr_auc :  0.5545563589947319 \n",
      "\n",
      "[[42  6]\n",
      " [ 3  7]]\n",
      " 변화된 값의 분포 :\n",
      " 0    154\n",
      "1    154\n",
      "Name: cutoff, dtype: int64\n",
      "7 번째\n",
      "Youden index threshold :  0.49119127498307624\n",
      "roc_auc_score :  0.7583333333333333\n",
      "acc :  0.5689655172413793\n",
      "sensitivity :  1.0\n",
      "specificity :  0.4791666666666667\n",
      "pr_auc :  0.2969866348606674 \n",
      "\n",
      "[[23 25]\n",
      " [ 0 10]]\n",
      " 변화된 값의 분포 :\n",
      " 0    153\n",
      "1    153\n",
      "Name: cutoff, dtype: int64\n",
      "8 번째\n",
      "Youden index threshold :  0.39165268729452013\n",
      "roc_auc_score :  0.6485260770975056\n",
      "acc :  0.7931034482758621\n",
      "sensitivity :  0.4444444444444444\n",
      "specificity :  0.8571428571428571\n",
      "pr_auc :  0.2966976586948237 \n",
      "\n",
      "[[42  7]\n",
      " [ 5  4]]\n",
      " 변화된 값의 분포 :\n",
      " 0    154\n",
      "1    154\n",
      "Name: cutoff, dtype: int64\n",
      "9 번째\n",
      "Youden index threshold :  0.31111149912300085\n",
      "roc_auc_score :  0.7083333333333333\n",
      "acc :  0.631578947368421\n",
      "sensitivity :  0.7777777777777778\n",
      "specificity :  0.6041666666666666\n",
      "pr_auc :  0.4505699946592619 \n",
      "\n",
      "[[29 19]\n",
      " [ 2  7]]\n",
      " 변화된 값의 분포 :\n",
      " 0    154\n",
      "1    154\n",
      "Name: cutoff, dtype: int64\n",
      "10 번째\n",
      "Youden index threshold :  0.4934355641557924\n",
      "roc_auc_score :  0.7979166666666666\n",
      "acc :  0.7931034482758621\n",
      "sensitivity :  0.7\n",
      "specificity :  0.8125\n",
      "pr_auc :  0.43177538668791204 \n",
      "\n",
      "[[39  9]\n",
      " [ 3  7]]\n",
      " 변화된 값의 분포 :\n",
      " 0    154\n",
      "1    154\n",
      "Name: cutoff, dtype: int64\n",
      "11 번째\n",
      "Youden index threshold :  0.4749545572345219\n",
      "roc_auc_score :  0.6208333333333333\n",
      "acc :  0.5\n",
      "sensitivity :  0.8\n",
      "specificity :  0.4375\n",
      "pr_auc :  0.3411066841245052 \n",
      "\n",
      "[[21 27]\n",
      " [ 2  8]]\n",
      " 변화된 값의 분포 :\n",
      " 0    154\n",
      "1    154\n",
      "Name: cutoff, dtype: int64\n",
      "12 번째\n",
      "Youden index threshold :  0.4721514254013147\n",
      "roc_auc_score :  0.63125\n",
      "acc :  0.5344827586206896\n",
      "sensitivity :  0.8\n",
      "specificity :  0.4791666666666667\n",
      "pr_auc :  0.26711246052542514 \n",
      "\n",
      "[[23 25]\n",
      " [ 2  8]]\n",
      " 변화된 값의 분포 :\n",
      " 0    153\n",
      "1    153\n",
      "Name: cutoff, dtype: int64\n",
      "13 번째\n",
      "Youden index threshold :  0.44073978790513874\n",
      "roc_auc_score :  0.6122448979591837\n",
      "acc :  0.7586206896551724\n",
      "sensitivity :  0.4444444444444444\n",
      "specificity :  0.8163265306122449\n",
      "pr_auc :  0.23345552066471054 \n",
      "\n",
      "[[40  9]\n",
      " [ 5  4]]\n",
      " 변화된 값의 분포 :\n",
      " 0    154\n",
      "1    154\n",
      "Name: cutoff, dtype: int64\n",
      "14 번째\n",
      "Youden index threshold :  0.2626181946067445\n",
      "roc_auc_score :  0.7962962962962963\n",
      "acc :  0.5789473684210527\n",
      "sensitivity :  1.0\n",
      "specificity :  0.5\n",
      "pr_auc :  0.4581560924613663 \n",
      "\n",
      "[[24 24]\n",
      " [ 0  9]]\n",
      " 변화된 값의 분포 :\n",
      " 0    154\n",
      "1    154\n",
      "Name: cutoff, dtype: int64\n",
      "15 번째\n",
      "Youden index threshold :  0.47520052576111843\n",
      "roc_auc_score :  0.7291666666666666\n",
      "acc :  0.8793103448275862\n",
      "sensitivity :  0.5\n",
      "specificity :  0.9583333333333334\n",
      "pr_auc :  0.5140109358967646 \n",
      "\n",
      "[[46  2]\n",
      " [ 5  5]]\n",
      " 변화된 값의 분포 :\n",
      " 0    154\n",
      "1    154\n",
      "Name: cutoff, dtype: int64\n",
      "16 번째\n",
      "Youden index threshold :  0.3018141551251705\n",
      "roc_auc_score :  0.7875000000000001\n",
      "acc :  0.8448275862068966\n",
      "sensitivity :  0.8\n",
      "specificity :  0.8541666666666666\n",
      "pr_auc :  0.37776086368191636 \n",
      "\n",
      "[[41  7]\n",
      " [ 2  8]]\n",
      " 변화된 값의 분포 :\n",
      " 0    154\n",
      "1    154\n",
      "Name: cutoff, dtype: int64\n",
      "17 번째\n",
      "Youden index threshold :  0.020541490476800588\n",
      "roc_auc_score :  0.56875\n",
      "acc :  0.4827586206896552\n",
      "sensitivity :  0.9\n",
      "specificity :  0.3958333333333333\n",
      "pr_auc :  0.18514901310549536 \n",
      "\n",
      "[[19 29]\n",
      " [ 1  9]]\n",
      " 변화된 값의 분포 :\n",
      " 0    153\n",
      "1    153\n",
      "Name: cutoff, dtype: int64\n",
      "18 번째\n",
      "Youden index threshold :  0.19724292229969792\n",
      "roc_auc_score :  0.6643990929705215\n",
      "acc :  0.6724137931034483\n",
      "sensitivity :  0.6666666666666666\n",
      "specificity :  0.673469387755102\n",
      "pr_auc :  0.22179497825996794 \n",
      "\n",
      "[[33 16]\n",
      " [ 3  6]]\n",
      " 변화된 값의 분포 :\n",
      " 0    154\n",
      "1    154\n",
      "Name: cutoff, dtype: int64\n",
      "19 번째\n",
      "Youden index threshold :  0.4604321076138593\n",
      "roc_auc_score :  0.798611111111111\n",
      "acc :  0.7192982456140351\n",
      "sensitivity :  0.8888888888888888\n",
      "specificity :  0.6875\n",
      "pr_auc :  0.3931158079708804 \n",
      "\n",
      "[[33 15]\n",
      " [ 1  8]]\n"
     ]
    }
   ],
   "source": [
    "# n_splits=5, n_repeats=4 smote\n",
    "from imblearn.over_sampling import ADASYN\n",
    "from imblearn.over_sampling import SMOTE\n",
    "seed = 7\n",
    "skfold = RepeatedStratifiedKFold(n_splits=5,random_state=seed,n_repeats=4)\n",
    "\n",
    "proba_score = []\n",
    "predict_score = []\n",
    "acc_score = []\n",
    "re_score = []\n",
    "prauc_score = []\n",
    "specifi_score = []\n",
    "cm1_score = []\n",
    "\n",
    "curve_fprs = []\n",
    "curve_tprs = []\n",
    "curve_tprs = []\n",
    "curve_thresholds = []\n",
    "\n",
    "curve_pre = []\n",
    "curve_rec = []\n",
    "curve_thr = []\n",
    "\n",
    "tprs_ls = []\n",
    "mean_fpr = np.linspace(0,1,100)\n",
    "\n",
    "x_df = merge_df.drop(['Key','cutoff'],axis=1)\n",
    "y_df = merge_df['cutoff']\n",
    "\n",
    "sc = StandardScaler()\n",
    "x_df = pd.DataFrame(sc.fit_transform(x_df), columns=x_df.columns)\n",
    "\n",
    "for j, (train_idx, val_idx) in enumerate(skfold.split(x_df,y_df)):\n",
    "\n",
    "    x_train, y_train = x_df.iloc[train_idx], y_df.iloc[train_idx]\n",
    "    x_test, y_test = x_df.iloc[val_idx], y_df.iloc[val_idx]\n",
    "\n",
    "    x_train_sk, x_val_sk, y_train_sk, y_val_sk = train_test_split(x_train,y_train,stratify=y_train, random_state=seed, test_size=0.2)\n",
    "\n",
    "    #SMOTE로 타겟의 분포를 균등하게 조절\n",
    "    smote = SMOTE(random_state=42)\n",
    "    x_train_sk, y_train_sk = smote.fit_resample(x_train_sk, y_train_sk)\n",
    "    print(' 변화된 값의 분포 :\\n',pd.Series(y_train_sk).value_counts() )\n",
    "    \n",
    "    \n",
    "    model = catboost.CatBoostClassifier(\n",
    "                                    use_best_model=True,\n",
    "                                    eval_metric='AUC',\n",
    "                                    verbose=False,\n",
    "                                    random_state=seed\n",
    "                                    )\n",
    "    D_train = catboost.Pool(x_train_sk, y_train_sk)\n",
    "    D_test = catboost.Pool(x_val_sk, y_val_sk)\n",
    "\n",
    "    model.fit(D_train, eval_set=D_test, verbose=False)\n",
    "\n",
    "    pred = model.predict_proba(x_test)[:,1]\n",
    "    fprs, tprs, thresholds = roc_curve(y_test, pred)\n",
    "\n",
    "    tprs_ls.append(np.interp(mean_fpr, fprs, tprs))\n",
    "\n",
    "    curve_tprs.append(tprs)\n",
    "    curve_fprs.append(fprs)\n",
    "    curve_thresholds.append(thresholds)\n",
    "\n",
    "    J = tprs - fprs\n",
    "    ix = np.argmax(J)\n",
    "    best_thresh = thresholds[ix]\n",
    "\n",
    "    precision, recall, th = precision_recall_curve(y_test, pred)\n",
    "    prauc = auc(recall, precision)\n",
    "\n",
    "    curve_pre.append(precision)\n",
    "    curve_rec.append(recall)\n",
    "    curve_thr.append(th)\n",
    "        \n",
    "    cm1 = confusion_matrix(y_test, np.where(model.predict_proba(x_test)[:,1] >= best_thresh , 1, 0))\n",
    "\n",
    "    Specificity = cm1[0,0]/(cm1[0,0]+cm1[0,1])\n",
    "    Sensitivity = cm1[1,1]/(cm1[1,0]+cm1[1,1])\n",
    "    print(j,'번째')\n",
    "    print('Youden index threshold : ',best_thresh)\n",
    "\n",
    "    print('roc_auc_score : ',roc_auc_score(y_test,model.predict_proba(x_test)[:,1]))\n",
    "    print('acc : ',accuracy_score(y_test,np.where(model.predict_proba(x_test)[:,1] >= best_thresh , 1, 0)))\n",
    "    print('sensitivity : ',Sensitivity)\n",
    "    print('specificity : ',Specificity)\n",
    "    print('pr_auc : ',prauc,'\\n')\n",
    "    print(cm1)\n",
    "\n",
    "    proba_score.append(roc_auc_score(y_test,model.predict_proba(x_test)[:,1]))\n",
    "    acc_score.append(accuracy_score(y_test,np.where(model.predict_proba(x_test)[:,1] >= best_thresh , 1, 0)))\n",
    "    re_score.append(Sensitivity)\n",
    "    specifi_score.append(Specificity)\n",
    "    prauc_score.append(prauc)\n",
    "    cm1_score.append(cm1)"
   ]
  },
  {
   "cell_type": "code",
   "execution_count": 62,
   "metadata": {},
   "outputs": [
    {
     "name": "stdout",
     "output_type": "stream",
     "text": [
      "proba_score 0.7076516439909296\n",
      "re_score 0.7705555555555555\n",
      "specifi_score 0.6512117346938775\n"
     ]
    },
    {
     "data": {
      "text/plain": [
       "[0.7375,\n",
       " 0.81875,\n",
       " 0.64375,\n",
       " 0.6848072562358276,\n",
       " 0.6689814814814815,\n",
       " 0.7020833333333334,\n",
       " 0.7749999999999999,\n",
       " 0.7583333333333333,\n",
       " 0.6485260770975056,\n",
       " 0.7083333333333333,\n",
       " 0.7979166666666666,\n",
       " 0.6208333333333333,\n",
       " 0.63125,\n",
       " 0.6122448979591837,\n",
       " 0.7962962962962963,\n",
       " 0.7291666666666666,\n",
       " 0.7875000000000001,\n",
       " 0.56875,\n",
       " 0.6643990929705215,\n",
       " 0.798611111111111]"
      ]
     },
     "execution_count": 62,
     "metadata": {},
     "output_type": "execute_result"
    }
   ],
   "source": [
    "print('proba_score',np.mean(proba_score))\n",
    "print('re_score',np.mean(re_score))\n",
    "print('specifi_score',np.mean(specifi_score))\n",
    "proba_score"
   ]
  },
  {
   "cell_type": "code",
   "execution_count": 63,
   "metadata": {},
   "outputs": [
    {
     "data": {
      "image/png": "[encoded data removed]",
      "text/plain": [
       "<Figure size 600x500 with 1 Axes>"
      ]
     },
     "metadata": {},
     "output_type": "display_data"
    }
   ],
   "source": [
    "import matplotlib.pyplot as plt\n",
    "\n",
    "plt.figure(figsize=(6,5))\n",
    "\n",
    "plt.plot([0,1],[0,1],'--',color='black')\n",
    "\n",
    "plt.xlabel('False Positive Rate')\n",
    "plt.ylabel('True Positive Rate')\n",
    "\n",
    "mean_tpr = np.mean(tprs_ls, axis=0)\n",
    "plt.plot(mean_fpr, mean_tpr, color='red')\n",
    "\n",
    "for i,j in zip(curve_fprs, curve_tprs):\n",
    "    plt.plot(i, j, color='green', linewidth=1, alpha=0.6, label=None)"
   ]
  },
  {
   "cell_type": "code",
   "execution_count": 64,
   "metadata": {},
   "outputs": [
    {
     "data": {
      "image/png": "[encoded data removed]",
      "text/plain": [
       "<Figure size 600x500 with 1 Axes>"
      ]
     },
     "metadata": {},
     "output_type": "display_data"
    }
   ],
   "source": [
    "import matplotlib.pyplot as plt\n",
    "\n",
    "plt.figure(figsize=(6,5))\n",
    "\n",
    "plt.plot([0,1],[0,1],'--',color='black')\n",
    "\n",
    "plt.xlabel('False Positive Rate')\n",
    "plt.ylabel('True Positive Rate')\n",
    "\n",
    "for i,j in zip(curve_rec, curve_pre):\n",
    "    plt.plot(i, j, color='green', linewidth=1, alpha=0.3, label=None)"
   ]
  },
  {
   "cell_type": "markdown",
   "metadata": {},
   "source": [
    "# 1010"
   ]
  },
  {
   "cell_type": "code",
   "execution_count": 70,
   "metadata": {},
   "outputs": [
    {
     "name": "stdout",
     "output_type": "stream",
     "text": [
      " 변화된 값의 분포 :\n",
      " 0    174\n",
      "1    174\n",
      "Name: cutoff, dtype: int64\n",
      "0 번째\n",
      "Youden index threshold :  0.21776949738598336\n",
      "roc_auc_score :  0.6166666666666667\n",
      "acc :  0.5862068965517241\n",
      "sensitivity :  0.8\n",
      "specificity :  0.5416666666666666\n",
      "pr_auc :  0.2217063492063492 \n",
      "\n",
      "[[13 11]\n",
      " [ 1  4]]\n",
      " 변화된 값의 분포 :\n",
      " 0    174\n",
      "1    174\n",
      "Name: cutoff, dtype: int64\n",
      "1 번째\n",
      "Youden index threshold :  0.5027262962895995\n",
      "roc_auc_score :  0.8416666666666666\n",
      "acc :  0.7586206896551724\n",
      "sensitivity :  1.0\n",
      "specificity :  0.7083333333333334\n",
      "pr_auc :  0.610465367965368 \n",
      "\n",
      "[[17  7]\n",
      " [ 0  5]]\n",
      " 변화된 값의 분포 :\n",
      " 0    174\n",
      "1    174\n",
      "Name: cutoff, dtype: int64\n",
      "2 번째\n",
      "Youden index threshold :  0.29237244415687313\n",
      "roc_auc_score :  0.9333333333333333\n",
      "acc :  0.896551724137931\n",
      "sensitivity :  1.0\n",
      "specificity :  0.875\n",
      "pr_auc :  0.6729761904761904 \n",
      "\n",
      "[[21  3]\n",
      " [ 0  5]]\n",
      " 변화된 값의 분포 :\n",
      " 0    174\n",
      "1    174\n",
      "Name: cutoff, dtype: int64\n",
      "3 번째\n",
      "Youden index threshold :  0.34461812442293654\n",
      "roc_auc_score :  0.875\n",
      "acc :  0.896551724137931\n",
      "sensitivity :  0.8\n",
      "specificity :  0.9166666666666666\n",
      "pr_auc :  0.49690476190476185 \n",
      "\n",
      "[[22  2]\n",
      " [ 1  4]]\n",
      " 변화된 값의 분포 :\n",
      " 0    174\n",
      "1    174\n",
      "Name: cutoff, dtype: int64\n",
      "4 번째\n",
      "Youden index threshold :  0.211207949262277\n",
      "roc_auc_score :  0.8583333333333334\n",
      "acc :  0.9310344827586207\n",
      "sensitivity :  0.8\n",
      "specificity :  0.9583333333333334\n",
      "pr_auc :  0.514640522875817 \n",
      "\n",
      "[[23  1]\n",
      " [ 1  4]]\n",
      " 변화된 값의 분포 :\n",
      " 0    174\n",
      "1    174\n",
      "Name: cutoff, dtype: int64\n",
      "5 번째\n",
      "Youden index threshold :  0.4522314657487331\n",
      "roc_auc_score :  0.49166666666666664\n",
      "acc :  0.3793103448275862\n",
      "sensitivity :  1.0\n",
      "specificity :  0.25\n",
      "pr_auc :  0.15272063259275537 \n",
      "\n",
      "[[ 6 18]\n",
      " [ 0  5]]\n",
      " 변화된 값의 분포 :\n",
      " 0    174\n",
      "1    174\n",
      "Name: cutoff, dtype: int64\n",
      "6 번째\n",
      "Youden index threshold :  0.4219278845181312\n",
      "roc_auc_score :  0.775\n",
      "acc :  0.6896551724137931\n",
      "sensitivity :  1.0\n",
      "specificity :  0.625\n",
      "pr_auc :  0.48619214119214116 \n",
      "\n",
      "[[15  9]\n",
      " [ 0  5]]\n",
      " 변화된 값의 분포 :\n",
      " 0    174\n",
      "1    174\n",
      "Name: cutoff, dtype: int64\n",
      "7 번째\n",
      "Youden index threshold :  0.1463263634987833\n",
      "roc_auc_score :  0.5833333333333333\n",
      "acc :  0.6896551724137931\n",
      "sensitivity :  0.6\n",
      "specificity :  0.7083333333333334\n",
      "pr_auc :  0.21817460317460316 \n",
      "\n",
      "[[17  7]\n",
      " [ 2  3]]\n",
      " 변화된 값의 분포 :\n",
      " 0    173\n",
      "1    173\n",
      "Name: cutoff, dtype: int64\n",
      "8 번째\n",
      "Youden index threshold :  0.2698677651048285\n",
      "roc_auc_score :  0.8200000000000001\n",
      "acc :  0.6551724137931034\n",
      "sensitivity :  1.0\n",
      "specificity :  0.6\n",
      "pr_auc :  0.47839972527472524 \n",
      "\n",
      "[[15 10]\n",
      " [ 0  4]]\n",
      " 변화된 값의 분포 :\n",
      " 0    173\n",
      "1    173\n",
      "Name: cutoff, dtype: int64\n",
      "9 번째\n",
      "Youden index threshold :  0.09634627170051449\n",
      "roc_auc_score :  0.5208333333333334\n",
      "acc :  0.32142857142857145\n",
      "sensitivity :  1.0\n",
      "specificity :  0.20833333333333334\n",
      "pr_auc :  0.1705306167262689 \n",
      "\n",
      "[[ 5 19]\n",
      " [ 0  4]]\n",
      " 변화된 값의 분포 :\n",
      " 0    174\n",
      "1    174\n",
      "Name: cutoff, dtype: int64\n",
      "10 번째\n",
      "Youden index threshold :  0.13923087246040325\n",
      "roc_auc_score :  0.5\n",
      "acc :  0.3793103448275862\n",
      "sensitivity :  1.0\n",
      "specificity :  0.25\n",
      "pr_auc :  0.15434109546321823 \n",
      "\n",
      "[[ 6 18]\n",
      " [ 0  5]]\n",
      " 변화된 값의 분포 :\n",
      " 0    174\n",
      "1    174\n",
      "Name: cutoff, dtype: int64\n",
      "11 번째\n",
      "Youden index threshold :  0.422063649022724\n",
      "roc_auc_score :  0.7583333333333334\n",
      "acc :  0.7931034482758621\n",
      "sensitivity :  0.8\n",
      "specificity :  0.7916666666666666\n",
      "pr_auc :  0.48138920258485474 \n",
      "\n",
      "[[19  5]\n",
      " [ 1  4]]\n",
      " 변화된 값의 분포 :\n",
      " 0    174\n",
      "1    174\n",
      "Name: cutoff, dtype: int64\n",
      "12 번째\n",
      "Youden index threshold :  0.12466390743551045\n",
      "roc_auc_score :  0.7333333333333333\n",
      "acc :  0.5862068965517241\n",
      "sensitivity :  1.0\n",
      "specificity :  0.5\n",
      "pr_auc :  0.4156238859180036 \n",
      "\n",
      "[[12 12]\n",
      " [ 0  5]]\n",
      " 변화된 값의 분포 :\n",
      " 0    174\n",
      "1    174\n",
      "Name: cutoff, dtype: int64\n",
      "13 번째\n",
      "Youden index threshold :  0.47508053254651683\n",
      "roc_auc_score :  0.7583333333333333\n",
      "acc :  0.9310344827586207\n",
      "sensitivity :  0.6\n",
      "specificity :  1.0\n",
      "pr_auc :  0.7134715380405035 \n",
      "\n",
      "[[24  0]\n",
      " [ 2  3]]\n",
      " 변화된 값의 분포 :\n",
      " 0    174\n",
      "1    174\n",
      "Name: cutoff, dtype: int64\n",
      "14 번째\n",
      "Youden index threshold :  0.24541320815670267\n",
      "roc_auc_score :  0.7916666666666667\n",
      "acc :  0.7931034482758621\n",
      "sensitivity :  0.8\n",
      "specificity :  0.7916666666666666\n",
      "pr_auc :  0.3713304093567251 \n",
      "\n",
      "[[19  5]\n",
      " [ 1  4]]\n",
      " 변화된 값의 분포 :\n",
      " 0    174\n",
      "1    174\n",
      "Name: cutoff, dtype: int64\n",
      "15 번째\n",
      "Youden index threshold :  0.49251839999738545\n",
      "roc_auc_score :  0.7833333333333333\n",
      "acc :  0.7931034482758621\n",
      "sensitivity :  0.8\n",
      "specificity :  0.7916666666666666\n",
      "pr_auc :  0.31742763772175536 \n",
      "\n",
      "[[19  5]\n",
      " [ 1  4]]\n",
      " 변화된 값의 분포 :\n",
      " 0    174\n",
      "1    174\n",
      "Name: cutoff, dtype: int64\n",
      "16 번째\n",
      "Youden index threshold :  0.12504059368900647\n",
      "roc_auc_score :  0.8\n",
      "acc :  0.6896551724137931\n",
      "sensitivity :  1.0\n",
      "specificity :  0.625\n",
      "pr_auc :  0.3489194139194139 \n",
      "\n",
      "[[15  9]\n",
      " [ 0  5]]\n",
      " 변화된 값의 분포 :\n",
      " 0    174\n",
      "1    174\n",
      "Name: cutoff, dtype: int64\n",
      "17 번째\n",
      "Youden index threshold :  0.08927169802324801\n",
      "roc_auc_score :  0.625\n",
      "acc :  0.41379310344827586\n",
      "sensitivity :  1.0\n",
      "specificity :  0.2916666666666667\n",
      "pr_auc :  0.38423777976409557 \n",
      "\n",
      "[[ 7 17]\n",
      " [ 0  5]]\n",
      " 변화된 값의 분포 :\n",
      " 0    173\n",
      "1    173\n",
      "Name: cutoff, dtype: int64\n",
      "18 번째\n",
      "Youden index threshold :  0.44547019776689045\n",
      "roc_auc_score :  0.87\n",
      "acc :  0.8620689655172413\n",
      "sensitivity :  0.75\n",
      "specificity :  0.88\n",
      "pr_auc :  0.6770604395604396 \n",
      "\n",
      "[[22  3]\n",
      " [ 1  3]]\n",
      " 변화된 값의 분포 :\n",
      " 0    173\n",
      "1    173\n",
      "Name: cutoff, dtype: int64\n",
      "19 번째\n",
      "Youden index threshold :  0.28075853210527607\n",
      "roc_auc_score :  0.7708333333333333\n",
      "acc :  0.5714285714285714\n",
      "sensitivity :  1.0\n",
      "specificity :  0.5\n",
      "pr_auc :  0.3236742424242424 \n",
      "\n",
      "[[12 12]\n",
      " [ 0  4]]\n",
      " 변화된 값의 분포 :\n",
      " 0    174\n",
      "1    174\n",
      "Name: cutoff, dtype: int64\n",
      "20 번째\n",
      "Youden index threshold :  0.30589616154621535\n",
      "roc_auc_score :  0.5916666666666667\n",
      "acc :  0.5517241379310345\n",
      "sensitivity :  0.8\n",
      "specificity :  0.5\n",
      "pr_auc :  0.20174592074592076 \n",
      "\n",
      "[[12 12]\n",
      " [ 1  4]]\n",
      " 변화된 값의 분포 :\n",
      " 0    174\n",
      "1    174\n",
      "Name: cutoff, dtype: int64\n",
      "21 번째\n",
      "Youden index threshold :  0.25154821160458074\n",
      "roc_auc_score :  0.7666666666666667\n",
      "acc :  0.7586206896551724\n",
      "sensitivity :  0.8\n",
      "specificity :  0.75\n",
      "pr_auc :  0.47214285714285714 \n",
      "\n",
      "[[18  6]\n",
      " [ 1  4]]\n",
      " 변화된 값의 분포 :\n",
      " 0    174\n",
      "1    174\n",
      "Name: cutoff, dtype: int64\n",
      "22 번째\n",
      "Youden index threshold :  0.47709648557974066\n",
      "roc_auc_score :  0.525\n",
      "acc :  0.5172413793103449\n",
      "sensitivity :  0.8\n",
      "specificity :  0.4583333333333333\n",
      "pr_auc :  0.1917319132861729 \n",
      "\n",
      "[[11 13]\n",
      " [ 1  4]]\n",
      " 변화된 값의 분포 :\n",
      " 0    174\n",
      "1    174\n",
      "Name: cutoff, dtype: int64\n",
      "23 번째\n",
      "Youden index threshold :  0.22535065169231758\n",
      "roc_auc_score :  0.4916666666666667\n",
      "acc :  0.4827586206896552\n",
      "sensitivity :  0.8\n",
      "specificity :  0.4166666666666667\n",
      "pr_auc :  0.15514334031981092 \n",
      "\n",
      "[[10 14]\n",
      " [ 1  4]]\n",
      " 변화된 값의 분포 :\n",
      " 0    174\n",
      "1    174\n",
      "Name: cutoff, dtype: int64\n",
      "24 번째\n",
      "Youden index threshold :  0.4347695410671414\n",
      "roc_auc_score :  0.4083333333333333\n",
      "acc :  0.27586206896551724\n",
      "sensitivity :  1.0\n",
      "specificity :  0.125\n",
      "pr_auc :  0.1373101952040571 \n",
      "\n",
      "[[ 3 21]\n",
      " [ 0  5]]\n",
      " 변화된 값의 분포 :\n",
      " 0    174\n",
      "1    174\n",
      "Name: cutoff, dtype: int64\n",
      "25 번째\n",
      "Youden index threshold :  0.5020104331629437\n",
      "roc_auc_score :  0.8083333333333333\n",
      "acc :  0.8620689655172413\n",
      "sensitivity :  0.6\n",
      "specificity :  0.9166666666666666\n",
      "pr_auc :  0.5416844919786096 \n",
      "\n",
      "[[22  2]\n",
      " [ 2  3]]\n",
      " 변화된 값의 분포 :\n",
      " 0    174\n",
      "1    174\n",
      "Name: cutoff, dtype: int64\n",
      "26 번째\n",
      "Youden index threshold :  0.4949018802781231\n",
      "roc_auc_score :  0.7583333333333334\n",
      "acc :  0.8620689655172413\n",
      "sensitivity :  0.8\n",
      "specificity :  0.875\n",
      "pr_auc :  0.49880952380952387 \n",
      "\n",
      "[[21  3]\n",
      " [ 1  4]]\n",
      " 변화된 값의 분포 :\n",
      " 0    174\n",
      "1    174\n",
      "Name: cutoff, dtype: int64\n",
      "27 번째\n",
      "Youden index threshold :  0.26997104631339613\n",
      "roc_auc_score :  0.6416666666666666\n",
      "acc :  0.7586206896551724\n",
      "sensitivity :  0.6\n",
      "specificity :  0.7916666666666666\n",
      "pr_auc :  0.3065105101869807 \n",
      "\n",
      "[[19  5]\n",
      " [ 2  3]]\n",
      " 변화된 값의 분포 :\n",
      " 0    173\n",
      "1    173\n",
      "Name: cutoff, dtype: int64\n",
      "28 번째\n",
      "Youden index threshold :  0.5345290347507566\n",
      "roc_auc_score :  0.75\n",
      "acc :  0.9310344827586207\n",
      "sensitivity :  0.5\n",
      "specificity :  1.0\n",
      "pr_auc :  0.5968286099865048 \n",
      "\n",
      "[[25  0]\n",
      " [ 2  2]]\n",
      " 변화된 값의 분포 :\n",
      " 0    173\n",
      "1    173\n",
      "Name: cutoff, dtype: int64\n",
      "29 번째\n",
      "Youden index threshold :  0.4751940496159809\n",
      "roc_auc_score :  0.8645833333333334\n",
      "acc :  0.8571428571428571\n",
      "sensitivity :  1.0\n",
      "specificity :  0.8333333333333334\n",
      "pr_auc :  0.3342261904761905 \n",
      "\n",
      "[[20  4]\n",
      " [ 0  4]]\n",
      " 변화된 값의 분포 :\n",
      " 0    174\n",
      "1    174\n",
      "Name: cutoff, dtype: int64\n",
      "30 번째\n",
      "Youden index threshold :  0.23023093334846623\n",
      "roc_auc_score :  0.7583333333333333\n",
      "acc :  0.5862068965517241\n",
      "sensitivity :  1.0\n",
      "specificity :  0.5\n",
      "pr_auc :  0.3351809954751131 \n",
      "\n",
      "[[12 12]\n",
      " [ 0  5]]\n",
      " 변화된 값의 분포 :\n",
      " 0    174\n",
      "1    174\n",
      "Name: cutoff, dtype: int64\n",
      "31 번째\n",
      "Youden index threshold :  0.4522706579889443\n",
      "roc_auc_score :  0.6833333333333333\n",
      "acc :  0.5172413793103449\n",
      "sensitivity :  1.0\n",
      "specificity :  0.4166666666666667\n",
      "pr_auc :  0.27396284829721357 \n",
      "\n",
      "[[10 14]\n",
      " [ 0  5]]\n",
      " 변화된 값의 분포 :\n",
      " 0    174\n",
      "1    174\n",
      "Name: cutoff, dtype: int64\n",
      "32 번째\n",
      "Youden index threshold :  0.08727504535718862\n",
      "roc_auc_score :  0.6583333333333333\n",
      "acc :  0.4827586206896552\n",
      "sensitivity :  1.0\n",
      "specificity :  0.375\n",
      "pr_auc :  0.22722093223254214 \n",
      "\n",
      "[[ 9 15]\n",
      " [ 0  5]]\n",
      " 변화된 값의 분포 :\n",
      " 0    174\n",
      "1    174\n",
      "Name: cutoff, dtype: int64\n",
      "33 번째\n",
      "Youden index threshold :  0.16611461802739527\n",
      "roc_auc_score :  0.9083333333333333\n",
      "acc :  0.7931034482758621\n",
      "sensitivity :  1.0\n",
      "specificity :  0.75\n",
      "pr_auc :  0.6387878787878788 \n",
      "\n",
      "[[18  6]\n",
      " [ 0  5]]\n",
      " 변화된 값의 분포 :\n",
      " 0    174\n",
      "1    174\n",
      "Name: cutoff, dtype: int64\n",
      "34 번째\n",
      "Youden index threshold :  0.09359765476392498\n",
      "roc_auc_score :  0.75\n",
      "acc :  0.6551724137931034\n",
      "sensitivity :  1.0\n",
      "specificity :  0.5833333333333334\n",
      "pr_auc :  0.2764102564102564 \n",
      "\n",
      "[[14 10]\n",
      " [ 0  5]]\n",
      " 변화된 값의 분포 :\n",
      " 0    174\n",
      "1    174\n",
      "Name: cutoff, dtype: int64\n",
      "35 번째\n",
      "Youden index threshold :  0.2391347973664885\n",
      "roc_auc_score :  0.5916666666666668\n",
      "acc :  0.8275862068965517\n",
      "sensitivity :  0.4\n",
      "specificity :  0.9166666666666666\n",
      "pr_auc :  0.2443627450980392 \n",
      "\n",
      "[[22  2]\n",
      " [ 3  2]]\n",
      " 변화된 값의 분포 :\n",
      " 0    174\n",
      "1    174\n",
      "Name: cutoff, dtype: int64\n",
      "36 번째\n",
      "Youden index threshold :  0.21282030082713363\n",
      "roc_auc_score :  0.625\n",
      "acc :  0.6896551724137931\n",
      "sensitivity :  0.6\n",
      "specificity :  0.7083333333333334\n",
      "pr_auc :  0.2065146209999151 \n",
      "\n",
      "[[17  7]\n",
      " [ 2  3]]\n",
      " 변화된 값의 분포 :\n",
      " 0    174\n",
      "1    174\n",
      "Name: cutoff, dtype: int64\n",
      "37 번째\n",
      "Youden index threshold :  0.4439681242218442\n",
      "roc_auc_score :  0.5666666666666667\n",
      "acc :  0.6896551724137931\n",
      "sensitivity :  0.6\n",
      "specificity :  0.7083333333333334\n",
      "pr_auc :  0.19980786122090471 \n",
      "\n",
      "[[17  7]\n",
      " [ 2  3]]\n",
      " 변화된 값의 분포 :\n",
      " 0    173\n",
      "1    173\n",
      "Name: cutoff, dtype: int64\n",
      "38 번째\n",
      "Youden index threshold :  0.3722475256932528\n",
      "roc_auc_score :  0.9000000000000001\n",
      "acc :  0.8275862068965517\n",
      "sensitivity :  1.0\n",
      "specificity :  0.8\n",
      "pr_auc :  0.5690972222222223 \n",
      "\n",
      "[[20  5]\n",
      " [ 0  4]]\n",
      " 변화된 값의 분포 :\n",
      " 0    173\n",
      "1    173\n",
      "Name: cutoff, dtype: int64\n",
      "39 번째\n",
      "Youden index threshold :  0.44984240185943564\n",
      "roc_auc_score :  0.7395833333333334\n",
      "acc :  0.6071428571428571\n",
      "sensitivity :  1.0\n",
      "specificity :  0.5416666666666666\n",
      "pr_auc :  0.2728021978021978 \n",
      "\n",
      "[[13 11]\n",
      " [ 0  4]]\n",
      " 변화된 값의 분포 :\n",
      " 0    174\n",
      "1    174\n",
      "Name: cutoff, dtype: int64\n",
      "40 번째\n",
      "Youden index threshold :  0.03222160258033896\n",
      "roc_auc_score :  0.5333333333333334\n",
      "acc :  0.3793103448275862\n",
      "sensitivity :  1.0\n",
      "specificity :  0.25\n",
      "pr_auc :  0.18906660687990612 \n",
      "\n",
      "[[ 6 18]\n",
      " [ 0  5]]\n",
      " 변화된 값의 분포 :\n",
      " 0    174\n",
      "1    174\n",
      "Name: cutoff, dtype: int64\n",
      "41 번째\n",
      "Youden index threshold :  0.04890552392644741\n",
      "roc_auc_score :  0.6000000000000001\n",
      "acc :  0.4482758620689655\n",
      "sensitivity :  1.0\n",
      "specificity :  0.3333333333333333\n",
      "pr_auc :  0.21159394698868378 \n",
      "\n",
      "[[ 8 16]\n",
      " [ 0  5]]\n",
      " 변화된 값의 분포 :\n",
      " 0    174\n",
      "1    174\n",
      "Name: cutoff, dtype: int64\n",
      "42 번째\n",
      "Youden index threshold :  0.47871010249803153\n",
      "roc_auc_score :  0.8416666666666667\n",
      "acc :  0.7931034482758621\n",
      "sensitivity :  1.0\n",
      "specificity :  0.75\n",
      "pr_auc :  0.499978354978355 \n",
      "\n",
      "[[18  6]\n",
      " [ 0  5]]\n",
      " 변화된 값의 분포 :\n",
      " 0    174\n",
      "1    174\n",
      "Name: cutoff, dtype: int64\n",
      "43 번째\n",
      "Youden index threshold :  0.08088466168858696\n",
      "roc_auc_score :  0.8166666666666667\n",
      "acc :  0.6551724137931034\n",
      "sensitivity :  1.0\n",
      "specificity :  0.5833333333333334\n",
      "pr_auc :  0.6076739926739927 \n",
      "\n",
      "[[14 10]\n",
      " [ 0  5]]\n",
      " 변화된 값의 분포 :\n",
      " 0    174\n",
      "1    174\n",
      "Name: cutoff, dtype: int64\n",
      "44 번째\n",
      "Youden index threshold :  0.21599070575405102\n",
      "roc_auc_score :  0.8083333333333333\n",
      "acc :  0.896551724137931\n",
      "sensitivity :  0.8\n",
      "specificity :  0.9166666666666666\n",
      "pr_auc :  0.6232246376811594 \n",
      "\n",
      "[[22  2]\n",
      " [ 1  4]]\n",
      " 변화된 값의 분포 :\n",
      " 0    174\n",
      "1    174\n",
      "Name: cutoff, dtype: int64\n",
      "45 번째\n",
      "Youden index threshold :  0.4987634940851401\n",
      "roc_auc_score :  0.7833333333333334\n",
      "acc :  0.8275862068965517\n",
      "sensitivity :  0.8\n",
      "specificity :  0.8333333333333334\n",
      "pr_auc :  0.6395238095238096 \n",
      "\n",
      "[[20  4]\n",
      " [ 1  4]]\n",
      " 변화된 값의 분포 :\n",
      " 0    174\n",
      "1    174\n",
      "Name: cutoff, dtype: int64\n",
      "46 번째\n",
      "Youden index threshold :  0.47075164784967516\n",
      "roc_auc_score :  0.6583333333333334\n",
      "acc :  0.7931034482758621\n",
      "sensitivity :  0.6\n",
      "specificity :  0.8333333333333334\n",
      "pr_auc :  0.2692843949173872 \n",
      "\n",
      "[[20  4]\n",
      " [ 2  3]]\n",
      " 변화된 값의 분포 :\n",
      " 0    174\n",
      "1    174\n",
      "Name: cutoff, dtype: int64\n",
      "47 번째\n",
      "Youden index threshold :  0.41584887674911636\n",
      "roc_auc_score :  0.725\n",
      "acc :  0.6551724137931034\n",
      "sensitivity :  0.8\n",
      "specificity :  0.625\n",
      "pr_auc :  0.42122662425294005 \n",
      "\n",
      "[[15  9]\n",
      " [ 1  4]]\n",
      " 변화된 값의 분포 :\n",
      " 0    173\n",
      "1    173\n",
      "Name: cutoff, dtype: int64\n",
      "48 번째\n",
      "Youden index threshold :  0.04099741863292689\n",
      "roc_auc_score :  0.81\n",
      "acc :  0.6206896551724138\n",
      "sensitivity :  1.0\n",
      "specificity :  0.56\n",
      "pr_auc :  0.34136904761904757 \n",
      "\n",
      "[[14 11]\n",
      " [ 0  4]]\n",
      " 변화된 값의 분포 :\n",
      " 0    173\n",
      "1    173\n",
      "Name: cutoff, dtype: int64\n",
      "49 번째\n",
      "Youden index threshold :  0.3096510402777147\n",
      "roc_auc_score :  0.5208333333333334\n",
      "acc :  0.7857142857142857\n",
      "sensitivity :  0.5\n",
      "specificity :  0.8333333333333334\n",
      "pr_auc :  0.19245965085639 \n",
      "\n",
      "[[20  4]\n",
      " [ 2  2]]\n",
      " 변화된 값의 분포 :\n",
      " 0    174\n",
      "1    174\n",
      "Name: cutoff, dtype: int64\n",
      "50 번째\n",
      "Youden index threshold :  0.5064171163054698\n",
      "roc_auc_score :  0.75\n",
      "acc :  0.8275862068965517\n",
      "sensitivity :  0.6\n",
      "specificity :  0.875\n",
      "pr_auc :  0.3093072424651372 \n",
      "\n",
      "[[21  3]\n",
      " [ 2  3]]\n",
      " 변화된 값의 분포 :\n",
      " 0    174\n",
      "1    174\n",
      "Name: cutoff, dtype: int64\n",
      "51 번째\n",
      "Youden index threshold :  0.21877241033899913\n",
      "roc_auc_score :  0.4833333333333333\n",
      "acc :  0.7241379310344828\n",
      "sensitivity :  0.4\n",
      "specificity :  0.7916666666666666\n",
      "pr_auc :  0.18908477971777204 \n",
      "\n",
      "[[19  5]\n",
      " [ 3  2]]\n",
      " 변화된 값의 분포 :\n",
      " 0    174\n",
      "1    174\n",
      "Name: cutoff, dtype: int64\n",
      "52 번째\n",
      "Youden index threshold :  0.49644102799458883\n",
      "roc_auc_score :  0.675\n",
      "acc :  0.7241379310344828\n",
      "sensitivity :  0.8\n",
      "specificity :  0.7083333333333334\n",
      "pr_auc :  0.23369408369408368 \n",
      "\n",
      "[[17  7]\n",
      " [ 1  4]]\n",
      " 변화된 값의 분포 :\n",
      " 0    174\n",
      "1    174\n",
      "Name: cutoff, dtype: int64\n",
      "53 번째\n",
      "Youden index threshold :  0.08336899379092097\n",
      "roc_auc_score :  0.75\n",
      "acc :  0.7931034482758621\n",
      "sensitivity :  0.8\n",
      "specificity :  0.7916666666666666\n",
      "pr_auc :  0.30527777777777776 \n",
      "\n",
      "[[19  5]\n",
      " [ 1  4]]\n",
      " 변화된 값의 분포 :\n",
      " 0    174\n",
      "1    174\n",
      "Name: cutoff, dtype: int64\n",
      "54 번째\n",
      "Youden index threshold :  0.4461911820491803\n",
      "roc_auc_score :  0.675\n",
      "acc :  0.8620689655172413\n",
      "sensitivity :  0.4\n",
      "specificity :  0.9583333333333334\n",
      "pr_auc :  0.3066441728206434 \n",
      "\n",
      "[[23  1]\n",
      " [ 3  2]]\n",
      " 변화된 값의 분포 :\n",
      " 0    174\n",
      "1    174\n",
      "Name: cutoff, dtype: int64\n",
      "55 번째\n",
      "Youden index threshold :  0.2153968312811682\n",
      "roc_auc_score :  0.7833333333333334\n",
      "acc :  0.8275862068965517\n",
      "sensitivity :  0.8\n",
      "specificity :  0.8333333333333334\n",
      "pr_auc :  0.31012605042016805 \n",
      "\n",
      "[[20  4]\n",
      " [ 1  4]]\n",
      " 변화된 값의 분포 :\n",
      " 0    174\n",
      "1    174\n",
      "Name: cutoff, dtype: int64\n",
      "56 번째\n",
      "Youden index threshold :  0.12541658972075662\n",
      "roc_auc_score :  0.5666666666666667\n",
      "acc :  0.6551724137931034\n",
      "sensitivity :  0.8\n",
      "specificity :  0.625\n",
      "pr_auc :  0.18424307174307175 \n",
      "\n",
      "[[15  9]\n",
      " [ 1  4]]\n",
      " 변화된 값의 분포 :\n",
      " 0    174\n",
      "1    174\n",
      "Name: cutoff, dtype: int64\n",
      "57 번째\n",
      "Youden index threshold :  0.2554354934626681\n",
      "roc_auc_score :  0.8583333333333334\n",
      "acc :  0.896551724137931\n",
      "sensitivity :  0.8\n",
      "specificity :  0.9166666666666666\n",
      "pr_auc :  0.6363071895424837 \n",
      "\n",
      "[[22  2]\n",
      " [ 1  4]]\n",
      " 변화된 값의 분포 :\n",
      " 0    173\n",
      "1    173\n",
      "Name: cutoff, dtype: int64\n",
      "58 번째\n",
      "Youden index threshold :  0.42256217026318016\n",
      "roc_auc_score :  0.9700000000000001\n",
      "acc :  0.9310344827586207\n",
      "sensitivity :  1.0\n",
      "specificity :  0.92\n",
      "pr_auc :  0.8354166666666667 \n",
      "\n",
      "[[23  2]\n",
      " [ 0  4]]\n",
      " 변화된 값의 분포 :\n",
      " 0    173\n",
      "1    173\n",
      "Name: cutoff, dtype: int64\n",
      "59 번째\n",
      "Youden index threshold :  0.3131388381243824\n",
      "roc_auc_score :  0.7500000000000001\n",
      "acc :  0.8214285714285714\n",
      "sensitivity :  0.75\n",
      "specificity :  0.8333333333333334\n",
      "pr_auc :  0.2534080298786181 \n",
      "\n",
      "[[20  4]\n",
      " [ 1  3]]\n",
      " 변화된 값의 분포 :\n",
      " 0    174\n",
      "1    174\n",
      "Name: cutoff, dtype: int64\n",
      "60 번째\n",
      "Youden index threshold :  0.278234253801711\n",
      "roc_auc_score :  1.0\n",
      "acc :  1.0\n",
      "sensitivity :  1.0\n",
      "specificity :  1.0\n",
      "pr_auc :  1.0 \n",
      "\n",
      "[[24  0]\n",
      " [ 0  5]]\n",
      " 변화된 값의 분포 :\n",
      " 0    174\n",
      "1    174\n",
      "Name: cutoff, dtype: int64\n",
      "61 번째\n",
      "Youden index threshold :  0.2800222773812682\n",
      "roc_auc_score :  0.7\n",
      "acc :  0.6896551724137931\n",
      "sensitivity :  1.0\n",
      "specificity :  0.625\n",
      "pr_auc :  0.23415750915750916 \n",
      "\n",
      "[[15  9]\n",
      " [ 0  5]]\n",
      " 변화된 값의 분포 :\n",
      " 0    174\n",
      "1    174\n",
      "Name: cutoff, dtype: int64\n",
      "62 번째\n",
      "Youden index threshold :  0.49292900299597253\n",
      "roc_auc_score :  0.8250000000000001\n",
      "acc :  0.8275862068965517\n",
      "sensitivity :  0.8\n",
      "specificity :  0.8333333333333334\n",
      "pr_auc :  0.5401260504201681 \n",
      "\n",
      "[[20  4]\n",
      " [ 1  4]]\n",
      " 변화된 값의 분포 :\n",
      " 0    174\n",
      "1    174\n",
      "Name: cutoff, dtype: int64\n",
      "63 번째\n",
      "Youden index threshold :  0.24913594119546584\n",
      "roc_auc_score :  0.5166666666666667\n",
      "acc :  0.4827586206896552\n",
      "sensitivity :  0.8\n",
      "specificity :  0.4166666666666667\n",
      "pr_auc :  0.1838952007781931 \n",
      "\n",
      "[[10 14]\n",
      " [ 1  4]]\n",
      " 변화된 값의 분포 :\n",
      " 0    174\n",
      "1    174\n",
      "Name: cutoff, dtype: int64\n",
      "64 번째\n",
      "Youden index threshold :  0.36004165800725874\n",
      "roc_auc_score :  0.7416666666666668\n",
      "acc :  0.8620689655172413\n",
      "sensitivity :  0.8\n",
      "specificity :  0.875\n",
      "pr_auc :  0.34904029304029305 \n",
      "\n",
      "[[21  3]\n",
      " [ 1  4]]\n",
      " 변화된 값의 분포 :\n",
      " 0    174\n",
      "1    174\n",
      "Name: cutoff, dtype: int64\n",
      "65 번째\n",
      "Youden index threshold :  0.2407080030592144\n",
      "roc_auc_score :  0.5\n",
      "acc :  0.7931034482758621\n",
      "sensitivity :  0.4\n",
      "specificity :  0.875\n",
      "pr_auc :  0.18789899311638442 \n",
      "\n",
      "[[21  3]\n",
      " [ 3  2]]\n",
      " 변화된 값의 분포 :\n",
      " 0    174\n",
      "1    174\n",
      "Name: cutoff, dtype: int64\n",
      "66 번째\n",
      "Youden index threshold :  0.1496203316223209\n",
      "roc_auc_score :  0.625\n",
      "acc :  0.4482758620689655\n",
      "sensitivity :  1.0\n",
      "specificity :  0.3333333333333333\n",
      "pr_auc :  0.3649084249084249 \n",
      "\n",
      "[[ 8 16]\n",
      " [ 0  5]]\n",
      " 변화된 값의 분포 :\n",
      " 0    174\n",
      "1    174\n",
      "Name: cutoff, dtype: int64\n",
      "67 번째\n",
      "Youden index threshold :  0.5068116668085968\n",
      "roc_auc_score :  0.7999999999999999\n",
      "acc :  0.7586206896551724\n",
      "sensitivity :  0.8\n",
      "specificity :  0.75\n",
      "pr_auc :  0.3929166666666667 \n",
      "\n",
      "[[18  6]\n",
      " [ 1  4]]\n",
      " 변화된 값의 분포 :\n",
      " 0    173\n",
      "1    173\n",
      "Name: cutoff, dtype: int64\n",
      "68 번째\n",
      "Youden index threshold :  1.5309048673884678\n",
      "roc_auc_score :  0.31999999999999995\n",
      "acc :  0.8620689655172413\n",
      "sensitivity :  0.0\n",
      "specificity :  1.0\n",
      "pr_auc :  0.09471517185766679 \n",
      "\n",
      "[[25  0]\n",
      " [ 4  0]]\n",
      " 변화된 값의 분포 :\n",
      " 0    173\n",
      "1    173\n",
      "Name: cutoff, dtype: int64\n",
      "69 번째\n",
      "Youden index threshold :  0.07862059202222287\n",
      "roc_auc_score :  0.71875\n",
      "acc :  0.5357142857142857\n",
      "sensitivity :  1.0\n",
      "specificity :  0.4583333333333333\n",
      "pr_auc :  0.26553241488903256 \n",
      "\n",
      "[[11 13]\n",
      " [ 0  4]]\n",
      " 변화된 값의 분포 :\n",
      " 0    174\n",
      "1    174\n",
      "Name: cutoff, dtype: int64\n",
      "70 번째\n",
      "Youden index threshold :  0.3795295493282645\n",
      "roc_auc_score :  0.5833333333333334\n",
      "acc :  0.7241379310344828\n",
      "sensitivity :  0.6\n",
      "specificity :  0.75\n",
      "pr_auc :  0.22436496836496833 \n",
      "\n",
      "[[18  6]\n",
      " [ 2  3]]\n",
      " 변화된 값의 분포 :\n",
      " 0    174\n",
      "1    174\n",
      "Name: cutoff, dtype: int64\n",
      "71 번째\n",
      "Youden index threshold :  0.07679918675124567\n",
      "roc_auc_score :  0.8416666666666666\n",
      "acc :  0.7586206896551724\n",
      "sensitivity :  1.0\n",
      "specificity :  0.7083333333333334\n",
      "pr_auc :  0.5093795093795094 \n",
      "\n",
      "[[17  7]\n",
      " [ 0  5]]\n",
      " 변화된 값의 분포 :\n",
      " 0    174\n",
      "1    174\n",
      "Name: cutoff, dtype: int64\n",
      "72 번째\n",
      "Youden index threshold :  0.5712543382552786\n",
      "roc_auc_score :  0.6833333333333333\n",
      "acc :  0.896551724137931\n",
      "sensitivity :  0.6\n",
      "specificity :  0.9583333333333334\n",
      "pr_auc :  0.38451587900117307 \n",
      "\n",
      "[[23  1]\n",
      " [ 2  3]]\n",
      " 변화된 값의 분포 :\n",
      " 0    174\n",
      "1    174\n",
      "Name: cutoff, dtype: int64\n",
      "73 번째\n",
      "Youden index threshold :  0.2826527131598248\n",
      "roc_auc_score :  0.6083333333333333\n",
      "acc :  0.6896551724137931\n",
      "sensitivity :  0.6\n",
      "specificity :  0.7083333333333334\n",
      "pr_auc :  0.22328282828282825 \n",
      "\n",
      "[[17  7]\n",
      " [ 2  3]]\n",
      " 변화된 값의 분포 :\n",
      " 0    174\n",
      "1    174\n",
      "Name: cutoff, dtype: int64\n",
      "74 번째\n",
      "Youden index threshold :  0.4821849012988714\n",
      "roc_auc_score :  0.6\n",
      "acc :  0.5172413793103449\n",
      "sensitivity :  1.0\n",
      "specificity :  0.4166666666666667\n",
      "pr_auc :  0.18455754771544247 \n",
      "\n",
      "[[10 14]\n",
      " [ 0  5]]\n",
      " 변화된 값의 분포 :\n",
      " 0    174\n",
      "1    174\n",
      "Name: cutoff, dtype: int64\n",
      "75 번째\n",
      "Youden index threshold :  0.49527187444235415\n",
      "roc_auc_score :  0.8416666666666667\n",
      "acc :  0.7931034482758621\n",
      "sensitivity :  1.0\n",
      "specificity :  0.75\n",
      "pr_auc :  0.391525974025974 \n",
      "\n",
      "[[18  6]\n",
      " [ 0  5]]\n",
      " 변화된 값의 분포 :\n",
      " 0    174\n",
      "1    174\n",
      "Name: cutoff, dtype: int64\n",
      "76 번째\n",
      "Youden index threshold :  0.31610042888705814\n",
      "roc_auc_score :  0.49166666666666664\n",
      "acc :  0.41379310344827586\n",
      "sensitivity :  1.0\n",
      "specificity :  0.2916666666666667\n",
      "pr_auc :  0.1779475916240622 \n",
      "\n",
      "[[ 7 17]\n",
      " [ 0  5]]\n",
      " 변화된 값의 분포 :\n",
      " 0    174\n",
      "1    174\n",
      "Name: cutoff, dtype: int64\n",
      "77 번째\n",
      "Youden index threshold :  0.2382012919237409\n",
      "roc_auc_score :  0.7250000000000001\n",
      "acc :  0.7241379310344828\n",
      "sensitivity :  0.8\n",
      "specificity :  0.7083333333333334\n",
      "pr_auc :  0.4479512516469038 \n",
      "\n",
      "[[17  7]\n",
      " [ 1  4]]\n",
      " 변화된 값의 분포 :\n",
      " 0    173\n",
      "1    173\n",
      "Name: cutoff, dtype: int64\n",
      "78 번째\n",
      "Youden index threshold :  0.002742380515646499\n",
      "roc_auc_score :  0.52\n",
      "acc :  0.3103448275862069\n",
      "sensitivity :  1.0\n",
      "specificity :  0.2\n",
      "pr_auc :  0.13918446478515129 \n",
      "\n",
      "[[ 5 20]\n",
      " [ 0  4]]\n",
      " 변화된 값의 분포 :\n",
      " 0    173\n",
      "1    173\n",
      "Name: cutoff, dtype: int64\n",
      "79 번째\n",
      "Youden index threshold :  0.49099859793249456\n",
      "roc_auc_score :  0.7916666666666666\n",
      "acc :  0.8571428571428571\n",
      "sensitivity :  0.75\n",
      "specificity :  0.875\n",
      "pr_auc :  0.3290032679738562 \n",
      "\n",
      "[[21  3]\n",
      " [ 1  3]]\n",
      " 변화된 값의 분포 :\n",
      " 0    174\n",
      "1    174\n",
      "Name: cutoff, dtype: int64\n",
      "80 번째\n",
      "Youden index threshold :  0.40307582004129316\n",
      "roc_auc_score :  0.7083333333333334\n",
      "acc :  0.896551724137931\n",
      "sensitivity :  0.4\n",
      "specificity :  1.0\n",
      "pr_auc :  0.5444222689075631 \n",
      "\n",
      "[[24  0]\n",
      " [ 3  2]]\n",
      " 변화된 값의 분포 :\n",
      " 0    174\n",
      "1    174\n",
      "Name: cutoff, dtype: int64\n",
      "81 번째\n",
      "Youden index threshold :  0.19944518523647917\n",
      "roc_auc_score :  0.9083333333333333\n",
      "acc :  0.8620689655172413\n",
      "sensitivity :  1.0\n",
      "specificity :  0.8333333333333334\n",
      "pr_auc :  0.606031746031746 \n",
      "\n",
      "[[20  4]\n",
      " [ 0  5]]\n",
      " 변화된 값의 분포 :\n",
      " 0    174\n",
      "1    174\n",
      "Name: cutoff, dtype: int64\n",
      "82 번째\n",
      "Youden index threshold :  0.2895786646403302\n",
      "roc_auc_score :  0.6000000000000001\n",
      "acc :  0.5517241379310345\n",
      "sensitivity :  0.8\n",
      "specificity :  0.5\n",
      "pr_auc :  0.36005050505050507 \n",
      "\n",
      "[[12 12]\n",
      " [ 1  4]]\n",
      " 변화된 값의 분포 :\n",
      " 0    174\n",
      "1    174\n",
      "Name: cutoff, dtype: int64\n",
      "83 번째\n",
      "Youden index threshold :  0.4301149862000324\n",
      "roc_auc_score :  0.8\n",
      "acc :  0.7931034482758621\n",
      "sensitivity :  0.8\n",
      "specificity :  0.7916666666666666\n",
      "pr_auc :  0.32819444444444446 \n",
      "\n",
      "[[19  5]\n",
      " [ 1  4]]\n",
      " 변화된 값의 분포 :\n",
      " 0    174\n",
      "1    174\n",
      "Name: cutoff, dtype: int64\n",
      "84 번째\n",
      "Youden index threshold :  0.25344730852009545\n",
      "roc_auc_score :  0.6666666666666666\n",
      "acc :  0.8620689655172413\n",
      "sensitivity :  0.6\n",
      "specificity :  0.9166666666666666\n",
      "pr_auc :  0.4982890988154146 \n",
      "\n",
      "[[22  2]\n",
      " [ 2  3]]\n",
      " 변화된 값의 분포 :\n",
      " 0    174\n",
      "1    174\n",
      "Name: cutoff, dtype: int64\n",
      "85 번째\n",
      "Youden index threshold :  0.44738854828570135\n",
      "roc_auc_score :  0.7916666666666666\n",
      "acc :  0.7586206896551724\n",
      "sensitivity :  0.8\n",
      "specificity :  0.75\n",
      "pr_auc :  0.5027450980392156 \n",
      "\n",
      "[[18  6]\n",
      " [ 1  4]]\n",
      " 변화된 값의 분포 :\n",
      " 0    174\n",
      "1    174\n",
      "Name: cutoff, dtype: int64\n",
      "86 번째\n",
      "Youden index threshold :  0.12920430706681355\n",
      "roc_auc_score :  0.7833333333333333\n",
      "acc :  0.5862068965517241\n",
      "sensitivity :  1.0\n",
      "specificity :  0.5\n",
      "pr_auc :  0.5127267830209007 \n",
      "\n",
      "[[12 12]\n",
      " [ 0  5]]\n",
      " 변화된 값의 분포 :\n",
      " 0    174\n",
      "1    174\n",
      "Name: cutoff, dtype: int64\n",
      "87 번째\n",
      "Youden index threshold :  0.5391053277678631\n",
      "roc_auc_score :  0.6333333333333334\n",
      "acc :  0.8620689655172413\n",
      "sensitivity :  0.4\n",
      "specificity :  0.9583333333333334\n",
      "pr_auc :  0.4401219396072337 \n",
      "\n",
      "[[23  1]\n",
      " [ 3  2]]\n",
      " 변화된 값의 분포 :\n",
      " 0    173\n",
      "1    173\n",
      "Name: cutoff, dtype: int64\n",
      "88 번째\n",
      "Youden index threshold :  0.4632896168768971\n",
      "roc_auc_score :  0.81\n",
      "acc :  0.8620689655172413\n",
      "sensitivity :  0.75\n",
      "specificity :  0.88\n",
      "pr_auc :  0.49659926470588234 \n",
      "\n",
      "[[22  3]\n",
      " [ 1  3]]\n",
      " 변화된 값의 분포 :\n",
      " 0    173\n",
      "1    173\n",
      "Name: cutoff, dtype: int64\n",
      "89 번째\n",
      "Youden index threshold :  0.3044155131115962\n",
      "roc_auc_score :  0.5625\n",
      "acc :  0.6071428571428571\n",
      "sensitivity :  0.75\n",
      "specificity :  0.5833333333333334\n",
      "pr_auc :  0.15191104185669402 \n",
      "\n",
      "[[14 10]\n",
      " [ 1  3]]\n",
      " 변화된 값의 분포 :\n",
      " 0    174\n",
      "1    174\n",
      "Name: cutoff, dtype: int64\n",
      "90 번째\n",
      "Youden index threshold :  0.5955090113383585\n",
      "roc_auc_score :  0.4666666666666667\n",
      "acc :  0.8620689655172413\n",
      "sensitivity :  0.2\n",
      "specificity :  1.0\n",
      "pr_auc :  0.32742404262600044 \n",
      "\n",
      "[[24  0]\n",
      " [ 4  1]]\n",
      " 변화된 값의 분포 :\n",
      " 0    174\n",
      "1    174\n",
      "Name: cutoff, dtype: int64\n",
      "91 번째\n",
      "Youden index threshold :  0.5069573377429164\n",
      "roc_auc_score :  0.8916666666666667\n",
      "acc :  0.8620689655172413\n",
      "sensitivity :  0.8\n",
      "specificity :  0.875\n",
      "pr_auc :  0.6372710622710622 \n",
      "\n",
      "[[21  3]\n",
      " [ 1  4]]\n",
      " 변화된 값의 분포 :\n",
      " 0    174\n",
      "1    174\n",
      "Name: cutoff, dtype: int64\n",
      "92 번째\n",
      "Youden index threshold :  0.5058407128102579\n",
      "roc_auc_score :  0.6166666666666667\n",
      "acc :  0.8275862068965517\n",
      "sensitivity :  0.4\n",
      "specificity :  0.9166666666666666\n",
      "pr_auc :  0.24964071016702594 \n",
      "\n",
      "[[22  2]\n",
      " [ 3  2]]\n",
      " 변화된 값의 분포 :\n",
      " 0    174\n",
      "1    174\n",
      "Name: cutoff, dtype: int64\n",
      "93 번째\n",
      "Youden index threshold :  0.48890563448491525\n",
      "roc_auc_score :  0.8333333333333333\n",
      "acc :  0.7586206896551724\n",
      "sensitivity :  1.0\n",
      "specificity :  0.7083333333333334\n",
      "pr_auc :  0.37106060606060604 \n",
      "\n",
      "[[17  7]\n",
      " [ 0  5]]\n",
      " 변화된 값의 분포 :\n",
      " 0    174\n",
      "1    174\n",
      "Name: cutoff, dtype: int64\n",
      "94 번째\n",
      "Youden index threshold :  0.10945008887439281\n",
      "roc_auc_score :  0.525\n",
      "acc :  0.5862068965517241\n",
      "sensitivity :  0.6\n",
      "specificity :  0.5833333333333334\n",
      "pr_auc :  0.1924165649165649 \n",
      "\n",
      "[[14 10]\n",
      " [ 2  3]]\n",
      " 변화된 값의 분포 :\n",
      " 0    174\n",
      "1    174\n",
      "Name: cutoff, dtype: int64\n",
      "95 번째\n",
      "Youden index threshold :  0.28619695050018906\n",
      "roc_auc_score :  0.75\n",
      "acc :  0.7241379310344828\n",
      "sensitivity :  0.8\n",
      "specificity :  0.7083333333333334\n",
      "pr_auc :  0.45408293460925037 \n",
      "\n",
      "[[17  7]\n",
      " [ 1  4]]\n",
      " 변화된 값의 분포 :\n",
      " 0    174\n",
      "1    174\n",
      "Name: cutoff, dtype: int64\n",
      "96 번째\n",
      "Youden index threshold :  0.45069532736184653\n",
      "roc_auc_score :  0.6083333333333334\n",
      "acc :  0.896551724137931\n",
      "sensitivity :  0.4\n",
      "specificity :  1.0\n",
      "pr_auc :  0.5092016678973201 \n",
      "\n",
      "[[24  0]\n",
      " [ 3  2]]\n",
      " 변화된 값의 분포 :\n",
      " 0    174\n",
      "1    174\n",
      "Name: cutoff, dtype: int64\n",
      "97 번째\n",
      "Youden index threshold :  0.08486622955717006\n",
      "roc_auc_score :  0.675\n",
      "acc :  0.6206896551724138\n",
      "sensitivity :  0.8\n",
      "specificity :  0.5833333333333334\n",
      "pr_auc :  0.23212454212454212 \n",
      "\n",
      "[[14 10]\n",
      " [ 1  4]]\n",
      " 변화된 값의 분포 :\n",
      " 0    173\n",
      "1    173\n",
      "Name: cutoff, dtype: int64\n",
      "98 번째\n",
      "Youden index threshold :  0.27712600058158665\n",
      "roc_auc_score :  0.65\n",
      "acc :  0.6551724137931034\n",
      "sensitivity :  0.75\n",
      "specificity :  0.64\n",
      "pr_auc :  0.20361495388669304 \n",
      "\n",
      "[[16  9]\n",
      " [ 1  3]]\n",
      " 변화된 값의 분포 :\n",
      " 0    173\n",
      "1    173\n",
      "Name: cutoff, dtype: int64\n",
      "99 번째\n",
      "Youden index threshold :  0.06348464102450514\n",
      "roc_auc_score :  0.7708333333333333\n",
      "acc :  0.6428571428571429\n",
      "sensitivity :  1.0\n",
      "specificity :  0.5833333333333334\n",
      "pr_auc :  0.252754884004884 \n",
      "\n",
      "[[14 10]\n",
      " [ 0  4]]\n"
     ]
    }
   ],
   "source": [
    "from imblearn.over_sampling import ADASYN\n",
    "from imblearn.over_sampling import SMOTE\n",
    "seed = 7\n",
    "skfold = RepeatedStratifiedKFold(n_splits=10,random_state=seed,n_repeats=10)\n",
    "\n",
    "proba_score = []\n",
    "predict_score = []\n",
    "acc_score = []\n",
    "re_score = []\n",
    "prauc_score = []\n",
    "specifi_score = []\n",
    "cm1_score = []\n",
    "\n",
    "curve_fprs = []\n",
    "curve_tprs = []\n",
    "curve_thresholds = []\n",
    "\n",
    "curve_pre = []\n",
    "curve_rec = []\n",
    "curve_thr = []\n",
    "\n",
    "tprs_ls = []\n",
    "mean_fpr = np.linspace(0,1,100)\n",
    "\n",
    "x_df = merge_df.drop(['Key','cutoff'],axis=1)\n",
    "y_df = merge_df['cutoff']\n",
    "\n",
    "sc = StandardScaler()\n",
    "x_df = pd.DataFrame(sc.fit_transform(x_df), columns=x_df.columns)\n",
    "\n",
    "for j, (train_idx, val_idx) in enumerate(skfold.split(x_df,y_df)):\n",
    "\n",
    "    x_train, y_train = x_df.iloc[train_idx], y_df.iloc[train_idx]\n",
    "    x_test, y_test = x_df.iloc[val_idx], y_df.iloc[val_idx]\n",
    "\n",
    "    x_train_sk, x_val_sk, y_train_sk, y_val_sk = train_test_split(x_train,y_train,stratify=y_train, random_state=seed, test_size=0.2)\n",
    "\n",
    "    #SMOTE로 타겟의 분포를 균등하게 조절\n",
    "    smote = SMOTE(random_state=42)\n",
    "    x_train_sk, y_train_sk = smote.fit_resample(x_train_sk, y_train_sk)\n",
    "    print(' 변화된 값의 분포 :\\n',pd.Series(y_train_sk).value_counts() )\n",
    "    \n",
    "    \n",
    "    model = catboost.CatBoostClassifier(\n",
    "                                    use_best_model=True,\n",
    "                                    eval_metric='AUC',\n",
    "                                    verbose=False,\n",
    "                                    random_state=seed\n",
    "                                    )\n",
    "    D_train = catboost.Pool(x_train_sk, y_train_sk)\n",
    "    D_test = catboost.Pool(x_val_sk, y_val_sk)\n",
    "\n",
    "    model.fit(D_train, eval_set=D_test, verbose=False)\n",
    "\n",
    "    pred = model.predict_proba(x_test)[:,1]\n",
    "    fprs, tprs, thresholds = roc_curve(y_test, pred)\n",
    "\n",
    "    tprs_ls.append(np.interp(mean_fpr, fprs, tprs))\n",
    "\n",
    "    curve_tprs.append(tprs)\n",
    "    curve_fprs.append(fprs)\n",
    "    curve_thresholds.append(thresholds)\n",
    "\n",
    "    J = tprs - fprs\n",
    "    ix = np.argmax(J)\n",
    "    best_thresh = thresholds[ix]\n",
    "\n",
    "    precision, recall, th = precision_recall_curve(y_test, pred)\n",
    "    prauc = auc(recall, precision)\n",
    "\n",
    "    curve_pre.append(precision)\n",
    "    curve_rec.append(recall)\n",
    "    curve_thr.append(th)\n",
    "        \n",
    "    cm1 = confusion_matrix(y_test, np.where(model.predict_proba(x_test)[:,1] >= best_thresh , 1, 0))\n",
    "\n",
    "    Specificity = cm1[0,0]/(cm1[0,0]+cm1[0,1])\n",
    "    Sensitivity = cm1[1,1]/(cm1[1,0]+cm1[1,1])\n",
    "    print(j,'번째')\n",
    "    print('Youden index threshold : ',best_thresh)\n",
    "\n",
    "    print('roc_auc_score : ',roc_auc_score(y_test,model.predict_proba(x_test)[:,1]))\n",
    "    print('acc : ',accuracy_score(y_test,np.where(model.predict_proba(x_test)[:,1] >= best_thresh , 1, 0)))\n",
    "    print('sensitivity : ',Sensitivity)\n",
    "    print('specificity : ',Specificity)\n",
    "    print('pr_auc : ',prauc,'\\n')\n",
    "    print(cm1)\n",
    "\n",
    "    proba_score.append(roc_auc_score(y_test,model.predict_proba(x_test)[:,1]))\n",
    "    acc_score.append(accuracy_score(y_test,np.where(model.predict_proba(x_test)[:,1] >= best_thresh , 1, 0)))\n",
    "    re_score.append(Sensitivity)\n",
    "    specifi_score.append(Specificity)\n",
    "    prauc_score.append(prauc)\n",
    "    cm1_score.append(cm1)"
   ]
  },
  {
   "cell_type": "code",
   "execution_count": 71,
   "metadata": {},
   "outputs": [
    {
     "name": "stdout",
     "output_type": "stream",
     "text": [
      "proba_score 0.7033875\n",
      "re_score 0.797\n",
      "specifi_score 0.6939666666666666\n"
     ]
    },
    {
     "data": {
      "text/plain": [
       "[0.6166666666666667,\n",
       " 0.8416666666666666,\n",
       " 0.9333333333333333,\n",
       " 0.875,\n",
       " 0.8583333333333334,\n",
       " 0.49166666666666664,\n",
       " 0.775,\n",
       " 0.5833333333333333,\n",
       " 0.8200000000000001,\n",
       " 0.5208333333333334,\n",
       " 0.5,\n",
       " 0.7583333333333334,\n",
       " 0.7333333333333333,\n",
       " 0.7583333333333333,\n",
       " 0.7916666666666667,\n",
       " 0.7833333333333333,\n",
       " 0.8,\n",
       " 0.625,\n",
       " 0.87,\n",
       " 0.7708333333333333,\n",
       " 0.5916666666666667,\n",
       " 0.7666666666666667,\n",
       " 0.525,\n",
       " 0.4916666666666667,\n",
       " 0.4083333333333333,\n",
       " 0.8083333333333333,\n",
       " 0.7583333333333334,\n",
       " 0.6416666666666666,\n",
       " 0.75,\n",
       " 0.8645833333333334,\n",
       " 0.7583333333333333,\n",
       " 0.6833333333333333,\n",
       " 0.6583333333333333,\n",
       " 0.9083333333333333,\n",
       " 0.75,\n",
       " 0.5916666666666668,\n",
       " 0.625,\n",
       " 0.5666666666666667,\n",
       " 0.9000000000000001,\n",
       " 0.7395833333333334,\n",
       " 0.5333333333333334,\n",
       " 0.6000000000000001,\n",
       " 0.8416666666666667,\n",
       " 0.8166666666666667,\n",
       " 0.8083333333333333,\n",
       " 0.7833333333333334,\n",
       " 0.6583333333333334,\n",
       " 0.725,\n",
       " 0.81,\n",
       " 0.5208333333333334,\n",
       " 0.75,\n",
       " 0.4833333333333333,\n",
       " 0.675,\n",
       " 0.75,\n",
       " 0.675,\n",
       " 0.7833333333333334,\n",
       " 0.5666666666666667,\n",
       " 0.8583333333333334,\n",
       " 0.9700000000000001,\n",
       " 0.7500000000000001,\n",
       " 1.0,\n",
       " 0.7,\n",
       " 0.8250000000000001,\n",
       " 0.5166666666666667,\n",
       " 0.7416666666666668,\n",
       " 0.5,\n",
       " 0.625,\n",
       " 0.7999999999999999,\n",
       " 0.31999999999999995,\n",
       " 0.71875,\n",
       " 0.5833333333333334,\n",
       " 0.8416666666666666,\n",
       " 0.6833333333333333,\n",
       " 0.6083333333333333,\n",
       " 0.6,\n",
       " 0.8416666666666667,\n",
       " 0.49166666666666664,\n",
       " 0.7250000000000001,\n",
       " 0.52,\n",
       " 0.7916666666666666,\n",
       " 0.7083333333333334,\n",
       " 0.9083333333333333,\n",
       " 0.6000000000000001,\n",
       " 0.8,\n",
       " 0.6666666666666666,\n",
       " 0.7916666666666666,\n",
       " 0.7833333333333333,\n",
       " 0.6333333333333334,\n",
       " 0.81,\n",
       " 0.5625,\n",
       " 0.4666666666666667,\n",
       " 0.8916666666666667,\n",
       " 0.6166666666666667,\n",
       " 0.8333333333333333,\n",
       " 0.525,\n",
       " 0.75,\n",
       " 0.6083333333333334,\n",
       " 0.675,\n",
       " 0.65,\n",
       " 0.7708333333333333]"
      ]
     },
     "execution_count": 71,
     "metadata": {},
     "output_type": "execute_result"
    }
   ],
   "source": [
    "print('proba_score',np.mean(proba_score))\n",
    "print('re_score',np.mean(re_score))\n",
    "print('specifi_score',np.mean(specifi_score))\n",
    "proba_score"
   ]
  },
  {
   "cell_type": "code",
   "execution_count": 72,
   "metadata": {},
   "outputs": [],
   "source": [
    "TN_ls = []\n",
    "FP_ls = []\n",
    "FN_ls = []\n",
    "TP_ls = []\n",
    "\n",
    "for i in range(20):\n",
    "    TN_ls.append(cm1_score[i][0][0]) # TN\n",
    "    FP_ls.append(cm1_score[i][0][1]) # FP\n",
    "    FN_ls.append(cm1_score[i][1][0]) # FN\n",
    "    TP_ls.append(cm1_score[i][1][1]) # TP\n"
   ]
  },
  {
   "cell_type": "code",
   "execution_count": 76,
   "metadata": {},
   "outputs": [
    {
     "data": {
      "image/png": "[encoded data removed]",
      "text/plain": [
       "<Figure size 600x500 with 1 Axes>"
      ]
     },
     "metadata": {},
     "output_type": "display_data"
    }
   ],
   "source": [
    "import matplotlib.pyplot as plt\n",
    "\n",
    "plt.figure(figsize=(6,5))\n",
    "\n",
    "plt.plot([0,1],[0,1],'--',color='black')\n",
    "\n",
    "plt.xlabel('False Positive Rate')\n",
    "plt.ylabel('True Positive Rate')\n",
    "\n",
    "mean_tpr = np.mean(tprs_ls, axis=0)\n",
    "plt.plot(mean_fpr, mean_tpr, color='red')\n",
    "\n",
    "for i,j in zip(curve_fprs, curve_tprs):\n",
    "    plt.plot(i, j, color='green', linewidth=1, alpha=0.6, label=None)"
   ]
  },
  {
   "cell_type": "code",
   "execution_count": 77,
   "metadata": {},
   "outputs": [
    {
     "data": {
      "image/png": "[encoded data removed]",
      "text/plain": [
       "<Figure size 600x500 with 1 Axes>"
      ]
     },
     "metadata": {},
     "output_type": "display_data"
    }
   ],
   "source": [
    "import matplotlib.pyplot as plt\n",
    "\n",
    "plt.figure(figsize=(6,5))\n",
    "\n",
    "plt.plot([0,1],[0,1],'--',color='black')\n",
    "\n",
    "plt.xlabel('False Positive Rate')\n",
    "plt.ylabel('True Positive Rate')\n",
    "\n",
    "for i,j in zip(curve_rec, curve_pre):\n",
    "    plt.plot(i, j, color='green', linewidth=1, alpha=0.3, label=None)"
   ]
  },
  {
   "cell_type": "code",
   "execution_count": 75,
   "metadata": {},
   "outputs": [],
   "source": [
    "CF_item = pd.DataFrame()\n",
    "CF_item['proba_score'] = proba_score\n",
    "CF_item['re_score'] = re_score\n",
    "CF_item['specifi_score'] = specifi_score \n",
    "CF_item.to_csv('Autoencoder_최종_SMOTE1010.csv',index=False)"
   ]
  }
 ],
 "metadata": {
  "kernelspec": {
   "display_name": "ais_mrcnn",
   "language": "python",
   "name": "ais_mrcnn"
  },
  "language_info": {
   "codemirror_mode": {
    "name": "ipython",
    "version": 3
   },
   "file_extension": ".py",
   "mimetype": "text/x-python",
   "name": "python",
   "nbconvert_exporter": "python",
   "pygments_lexer": "ipython3",
   "version": "3.7.16"
  }
 },
 "nbformat": 4,
 "nbformat_minor": 4
}
