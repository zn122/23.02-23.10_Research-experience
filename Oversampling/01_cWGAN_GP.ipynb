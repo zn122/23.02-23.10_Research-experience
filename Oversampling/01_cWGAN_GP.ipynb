{
 "cells": [
  {
   "cell_type": "markdown",
   "metadata": {},
   "source": [
    "# Source code : https://github.com/justinengelmann/GANbasedOversampling\n"
   ]
  },
  {
   "cell_type": "code",
   "execution_count": 1,
   "metadata": {},
   "outputs": [],
   "source": [
    "from sklearn.metrics import roc_auc_score, accuracy_score, precision_recall_curve,confusion_matrix, auc,roc_curve\n",
    "from sklearn.model_selection import train_test_split, RepeatedStratifiedKFold\n",
    "from sklearn.preprocessing import StandardScaler\n",
    "from datetime import datetime, date, time\n",
    "from functools import reduce\n",
    "import catboost\n",
    "import pandas as pd\n",
    "import numpy as np\n",
    "import warnings\n",
    "from sklearn.impute import SimpleImputer\n",
    "from sklearn.pipeline import make_pipeline\n",
    "from sklearn.preprocessing import MinMaxScaler, OneHotEncoder\n",
    "from sklearn.compose import ColumnTransformer\n",
    "from sklearn.ensemble import RandomForestClassifier\n",
    "from dataloader import load_data\n",
    "from helpers import get_cat_dims\n",
    "from models import WGANGP\n",
    "import logging\n",
    "logging.getLogger().setLevel(logging.INFO)\n",
    "warnings.simplefilter(action='ignore', category=FutureWarning)\n",
    "# 원래\n",
    "from models_copy import WGANGP\n",
    "from imblearn.over_sampling import ADASYN\n",
    "from imblearn.over_sampling import SMOTE\n",
    "seed = 7\n",
    "skfold = RepeatedStratifiedKFold(n_splits=5,random_state=seed,n_repeats=4)\n",
    "pd.set_option('mode.chained_assignment',  None)\n",
    "pd.set_option('display.max_columns',500)\n",
    "\n",
    "pd.set_option('display.max_rows',500)\n",
    "merge_df = pd.read_csv('merge_df.csv')\n",
    "merge_df = merge_df.fillna(merge_df.mean())\n",
    "\n"
   ]
  },
  {
   "cell_type": "code",
   "execution_count": null,
   "metadata": {},
   "outputs": [],
   "source": []
  },
  {
   "cell_type": "code",
   "execution_count": 2,
   "metadata": {},
   "outputs": [
    {
     "name": "stderr",
     "output_type": "stream",
     "text": [
      "INFO:root:Finished training auxiliary classifier. ACC: 1.0000 AUC: 1.0000 BCE: 0.0632\n",
      "INFO:root:Pretrained the aux classifier. Proceeding to training GAN or aux teacher if used.\n",
      "INFO:root:Starting training. Expecting to train for 300 epochs at 3 iters per epoch to reach target of 900.\n"
     ]
    },
    {
     "name": "stdout",
     "output_type": "stream",
     "text": [
      "[  895/900] LG:12.940 LD:16.246 D:20.351 GP:0.274 AC: 0.301 RMSEAVG:0.121 NUM:0.121 SynTraiAuc:0.417 RFAcc:1.000  \r"
     ]
    },
    {
     "name": "stderr",
     "output_type": "stream",
     "text": [
      "INFO:root:Finished training after 900/900.\n"
     ]
    },
    {
     "name": "stdout",
     "output_type": "stream",
     "text": [
      "[  900/900] LG:12.536 LD:15.056 D:18.399 GP:0.223 AC: 0.300 RMSEAVG:0.121 NUM:0.121 SynTraiAuc:0.417 RFAcc:1.000  \n",
      " 변화된 값의 분포 :\n",
      " 0.0    154\n",
      "1.0    154\n",
      "dtype: int64\n",
      "Youden index threshold :  0.059804131831393846\n",
      "roc_auc_score :  0.7833333333333333\n",
      "acc :  0.7241379310344828\n",
      "sensitivity :  0.8\n",
      "specificity :  0.7083333333333334\n",
      "pr_auc :  0.5031632782540041 \n",
      "\n",
      "[[34 14]\n",
      " [ 2  8]]\n"
     ]
    },
    {
     "name": "stderr",
     "output_type": "stream",
     "text": [
      "INFO:root:Finished training auxiliary classifier. ACC: 1.0000 AUC: 1.0000 BCE: 0.0635\n",
      "INFO:root:Pretrained the aux classifier. Proceeding to training GAN or aux teacher if used.\n",
      "INFO:root:Starting training. Expecting to train for 300 epochs at 3 iters per epoch to reach target of 900.\n"
     ]
    },
    {
     "name": "stdout",
     "output_type": "stream",
     "text": [
      "[  895/900] LG:11.552 LD:13.289 D:14.515 GP:0.082 AC: 0.341 RMSEAVG:0.117 NUM:0.117 SynTraiAuc:0.792 RFAcc:1.000     \r"
     ]
    },
    {
     "name": "stderr",
     "output_type": "stream",
     "text": [
      "INFO:root:Finished training after 900/900.\n"
     ]
    },
    {
     "name": "stdout",
     "output_type": "stream",
     "text": [
      "[  900/900] LG:11.689 LD:12.737 D:13.064 GP:0.022 AC: 0.325 RMSEAVG:0.117 NUM:0.117 SynTraiAuc:0.792 RFAcc:1.000  \n",
      " 변화된 값의 분포 :\n",
      " 0.0    154\n",
      "1.0    154\n",
      "dtype: int64\n",
      "Youden index threshold :  0.36711566036385274\n",
      "roc_auc_score :  0.7875\n",
      "acc :  0.7068965517241379\n",
      "sensitivity :  0.9\n",
      "specificity :  0.6666666666666666\n",
      "pr_auc :  0.5232490337005741 \n",
      "\n",
      "[[32 16]\n",
      " [ 1  9]]\n"
     ]
    },
    {
     "name": "stderr",
     "output_type": "stream",
     "text": [
      "INFO:root:Finished training auxiliary classifier. ACC: 1.0000 AUC: 1.0000 BCE: 0.0556\n",
      "INFO:root:Pretrained the aux classifier. Proceeding to training GAN or aux teacher if used.\n",
      "INFO:root:Starting training. Expecting to train for 300 epochs at 3 iters per epoch to reach target of 900.\n"
     ]
    },
    {
     "name": "stdout",
     "output_type": "stream",
     "text": [
      "[  895/900] LG:9.999 LD:13.471 D:17.077 GP:0.240 AC: 0.320 RMSEAVG:0.127 NUM:0.127 SynTraiAuc:0.625 RFAcc:1.000   \r"
     ]
    },
    {
     "name": "stderr",
     "output_type": "stream",
     "text": [
      "INFO:root:Finished training after 900/900.\n"
     ]
    },
    {
     "name": "stdout",
     "output_type": "stream",
     "text": [
      "[  900/900] LG:9.952 LD:13.887 D:18.456 GP:0.305 AC: 0.328 RMSEAVG:0.127 NUM:0.127 SynTraiAuc:0.625 RFAcc:1.000  \n",
      " 변화된 값의 분포 :\n",
      " 0.0    154\n",
      "1.0    154\n",
      "dtype: int64\n",
      "Youden index threshold :  0.27224772306689154\n",
      "roc_auc_score :  0.8020833333333334\n",
      "acc :  0.896551724137931\n",
      "sensitivity :  0.7\n",
      "specificity :  0.9375\n",
      "pr_auc :  0.43123323149796455 \n",
      "\n",
      "[[45  3]\n",
      " [ 3  7]]\n"
     ]
    },
    {
     "name": "stderr",
     "output_type": "stream",
     "text": [
      "INFO:root:Finished training auxiliary classifier. ACC: 1.0000 AUC: 1.0000 BCE: 0.0484\n",
      "INFO:root:Pretrained the aux classifier. Proceeding to training GAN or aux teacher if used.\n",
      "INFO:root:Starting training. Expecting to train for 300 epochs at 3 iters per epoch to reach target of 900.\n"
     ]
    },
    {
     "name": "stdout",
     "output_type": "stream",
     "text": [
      "[  895/900] LG:10.623 LD:13.770 D:15.472 GP:0.113 AC: 0.302 RMSEAVG:0.123 NUM:0.123 SynTraiAuc:0.604 RFAcc:1.000    \r"
     ]
    },
    {
     "name": "stderr",
     "output_type": "stream",
     "text": [
      "INFO:root:Finished training after 900/900.\n"
     ]
    },
    {
     "name": "stdout",
     "output_type": "stream",
     "text": [
      "[  900/900] LG:10.888 LD:13.732 D:14.752 GP:0.068 AC: 0.303 RMSEAVG:0.123 NUM:0.123 SynTraiAuc:0.604 RFAcc:1.000  \n",
      " 변화된 값의 분포 :\n",
      " 0.0    153\n",
      "1.0    153\n",
      "dtype: int64\n",
      "Youden index threshold :  0.32074098224675374\n",
      "roc_auc_score :  0.6757369614512472\n",
      "acc :  0.8793103448275862\n",
      "sensitivity :  0.4444444444444444\n",
      "specificity :  0.9591836734693877\n",
      "pr_auc :  0.42982195434255815 \n",
      "\n",
      "[[47  2]\n",
      " [ 5  4]]\n"
     ]
    },
    {
     "name": "stderr",
     "output_type": "stream",
     "text": [
      "INFO:root:Finished training auxiliary classifier. ACC: 1.0000 AUC: 1.0000 BCE: 0.0631\n",
      "INFO:root:Pretrained the aux classifier. Proceeding to training GAN or aux teacher if used.\n",
      "INFO:root:Starting training. Expecting to train for 300 epochs at 3 iters per epoch to reach target of 900.\n"
     ]
    },
    {
     "name": "stdout",
     "output_type": "stream",
     "text": [
      "[  895/900] LG:11.824 LD:14.477 D:15.583 GP:0.074 AC: 0.301 RMSEAVG:0.115 NUM:0.115 SynTraiAuc:0.479 RFAcc:1.000  \r"
     ]
    },
    {
     "name": "stderr",
     "output_type": "stream",
     "text": [
      "INFO:root:Finished training after 900/900.\n"
     ]
    },
    {
     "name": "stdout",
     "output_type": "stream",
     "text": [
      "[  900/900] LG:11.757 LD:14.501 D:15.596 GP:0.073 AC: 0.304 RMSEAVG:0.115 NUM:0.115 SynTraiAuc:0.479 RFAcc:1.000  \n",
      " 변화된 값의 분포 :\n",
      " 0.0    154\n",
      "1.0    154\n",
      "dtype: int64\n",
      "Youden index threshold :  0.13225772094768065\n",
      "roc_auc_score :  0.599537037037037\n",
      "acc :  0.7543859649122807\n",
      "sensitivity :  0.4444444444444444\n",
      "specificity :  0.8125\n",
      "pr_auc :  0.19757832213173993 \n",
      "\n",
      "[[39  9]\n",
      " [ 5  4]]\n"
     ]
    },
    {
     "name": "stderr",
     "output_type": "stream",
     "text": [
      "INFO:root:Finished training auxiliary classifier. ACC: 1.0000 AUC: 1.0000 BCE: 0.0577\n",
      "INFO:root:Pretrained the aux classifier. Proceeding to training GAN or aux teacher if used.\n",
      "INFO:root:Starting training. Expecting to train for 300 epochs at 3 iters per epoch to reach target of 900.\n"
     ]
    },
    {
     "name": "stdout",
     "output_type": "stream",
     "text": [
      "[  895/900] LG:11.477 LD:14.334 D:17.725 GP:0.226 AC: 0.305 RMSEAVG:0.136 NUM:0.136 SynTraiAuc:0.354 RFAcc:1.000  \r"
     ]
    },
    {
     "name": "stderr",
     "output_type": "stream",
     "text": [
      "INFO:root:Finished training after 900/900.\n"
     ]
    },
    {
     "name": "stdout",
     "output_type": "stream",
     "text": [
      "[  900/900] LG:11.893 LD:14.126 D:16.576 GP:0.163 AC: 0.317 RMSEAVG:0.136 NUM:0.136 SynTraiAuc:0.354 RFAcc:1.000  \n",
      " 변화된 값의 분포 :\n",
      " 0.0    154\n",
      "1.0    154\n",
      "dtype: int64\n",
      "Youden index threshold :  0.058712676774011825\n",
      "roc_auc_score :  0.59375\n",
      "acc :  0.41379310344827586\n",
      "sensitivity :  1.0\n",
      "specificity :  0.2916666666666667\n",
      "pr_auc :  0.23940338490815133 \n",
      "\n",
      "[[14 34]\n",
      " [ 0 10]]\n"
     ]
    },
    {
     "name": "stderr",
     "output_type": "stream",
     "text": [
      "INFO:root:Finished training auxiliary classifier. ACC: 0.9946 AUC: 0.9667 BCE: 0.2404\n",
      "INFO:root:Pretrained the aux classifier. Proceeding to training GAN or aux teacher if used.\n",
      "INFO:root:Starting training. Expecting to train for 300 epochs at 3 iters per epoch to reach target of 900.\n"
     ]
    },
    {
     "name": "stdout",
     "output_type": "stream",
     "text": [
      "[  895/900] LG:12.819 LD:14.814 D:19.342 GP:0.302 AC: 0.303 RMSEAVG:0.113 NUM:0.113 SynTraiAuc:0.688 RFAcc:1.000  \r"
     ]
    },
    {
     "name": "stderr",
     "output_type": "stream",
     "text": [
      "INFO:root:Finished training after 900/900.\n"
     ]
    },
    {
     "name": "stdout",
     "output_type": "stream",
     "text": [
      "[  900/900] LG:11.798 LD:16.422 D:19.889 GP:0.231 AC: 0.300 RMSEAVG:0.113 NUM:0.113 SynTraiAuc:0.688 RFAcc:1.000  \n",
      " 변화된 값의 분포 :\n",
      " 0.0    154\n",
      "1.0    154\n",
      "dtype: int64\n",
      "Youden index threshold :  0.24449423908399417\n",
      "roc_auc_score :  0.5916666666666667\n",
      "acc :  0.7931034482758621\n",
      "sensitivity :  0.5\n",
      "specificity :  0.8541666666666666\n",
      "pr_auc :  0.25076721468622554 \n",
      "\n",
      "[[41  7]\n",
      " [ 5  5]]\n"
     ]
    },
    {
     "name": "stderr",
     "output_type": "stream",
     "text": [
      "INFO:root:Finished training auxiliary classifier. ACC: 1.0000 AUC: 1.0000 BCE: 0.0627\n",
      "INFO:root:Pretrained the aux classifier. Proceeding to training GAN or aux teacher if used.\n",
      "INFO:root:Starting training. Expecting to train for 300 epochs at 3 iters per epoch to reach target of 900.\n"
     ]
    },
    {
     "name": "stdout",
     "output_type": "stream",
     "text": [
      "[  895/900] LG:10.994 LD:14.081 D:17.053 GP:0.198 AC: 0.337 RMSEAVG:0.119 NUM:0.119 SynTraiAuc:0.750 RFAcc:1.000       \r"
     ]
    },
    {
     "name": "stderr",
     "output_type": "stream",
     "text": [
      "INFO:root:Finished training after 900/900.\n"
     ]
    },
    {
     "name": "stdout",
     "output_type": "stream",
     "text": [
      "[  900/900] LG:10.639 LD:14.046 D:17.367 GP:0.221 AC: 0.364 RMSEAVG:0.119 NUM:0.119 SynTraiAuc:0.750 RFAcc:1.000  \n",
      " 변화된 값의 분포 :\n",
      " 0.0    154\n",
      "1.0    154\n",
      "dtype: int64\n",
      "Youden index threshold :  0.043673446536449216\n",
      "roc_auc_score :  0.6895833333333333\n",
      "acc :  0.5172413793103449\n",
      "sensitivity :  1.0\n",
      "specificity :  0.4166666666666667\n",
      "pr_auc :  0.3643870631162559 \n",
      "\n",
      "[[20 28]\n",
      " [ 0 10]]\n"
     ]
    },
    {
     "name": "stderr",
     "output_type": "stream",
     "text": [
      "INFO:root:Finished training auxiliary classifier. ACC: 1.0000 AUC: 1.0000 BCE: 0.0593\n",
      "INFO:root:Pretrained the aux classifier. Proceeding to training GAN or aux teacher if used.\n",
      "INFO:root:Starting training. Expecting to train for 300 epochs at 3 iters per epoch to reach target of 900.\n"
     ]
    },
    {
     "name": "stdout",
     "output_type": "stream",
     "text": [
      "[  895/900] LG:1.744 LD:12.663 D:16.608 GP:0.263 AC: 0.557 RMSEAVG:0.114 NUM:0.114 SynTraiAuc:0.208 RFAcc:1.000    0   \r"
     ]
    },
    {
     "name": "stderr",
     "output_type": "stream",
     "text": [
      "INFO:root:Finished training after 900/900.\n"
     ]
    },
    {
     "name": "stdout",
     "output_type": "stream",
     "text": [
      "[  900/900] LG:-0.619 LD:14.829 D:17.453 GP:0.175 AC: 0.373 RMSEAVG:0.114 NUM:0.114 SynTraiAuc:0.208 RFAcc:1.000  \n",
      " 변화된 값의 분포 :\n",
      " 0.0    153\n",
      "1.0    153\n",
      "dtype: int64\n",
      "Youden index threshold :  0.46983523952252965\n",
      "roc_auc_score :  0.5192743764172336\n",
      "acc :  0.8448275862068966\n",
      "sensitivity :  0.2222222222222222\n",
      "specificity :  0.9591836734693877\n",
      "pr_auc :  0.19582670584918188 \n",
      "\n",
      "[[47  2]\n",
      " [ 7  2]]\n"
     ]
    },
    {
     "name": "stderr",
     "output_type": "stream",
     "text": [
      "INFO:root:Finished training auxiliary classifier. ACC: 1.0000 AUC: 1.0000 BCE: 0.0560\n",
      "INFO:root:Pretrained the aux classifier. Proceeding to training GAN or aux teacher if used.\n",
      "INFO:root:Starting training. Expecting to train for 300 epochs at 3 iters per epoch to reach target of 900.\n"
     ]
    },
    {
     "name": "stdout",
     "output_type": "stream",
     "text": [
      "[  895/900] LG:11.577 LD:14.389 D:19.012 GP:0.308 AC: 0.309 RMSEAVG:0.112 NUM:0.112 SynTraiAuc:0.479 RFAcc:1.000  \r"
     ]
    },
    {
     "name": "stderr",
     "output_type": "stream",
     "text": [
      "INFO:root:Finished training after 900/900.\n"
     ]
    },
    {
     "name": "stdout",
     "output_type": "stream",
     "text": [
      "[  900/900] LG:11.292 LD:15.101 D:19.110 GP:0.267 AC: 0.307 RMSEAVG:0.112 NUM:0.112 SynTraiAuc:0.479 RFAcc:1.000  \n",
      " 변화된 값의 분포 :\n",
      " 0.0    154\n",
      "1.0    154\n",
      "dtype: int64\n",
      "Youden index threshold :  0.05650692914456145\n",
      "roc_auc_score :  0.7731481481481481\n",
      "acc :  0.5964912280701754\n",
      "sensitivity :  1.0\n",
      "specificity :  0.5208333333333334\n",
      "pr_auc :  0.32270626411426007 \n",
      "\n",
      "[[25 23]\n",
      " [ 0  9]]\n"
     ]
    },
    {
     "name": "stderr",
     "output_type": "stream",
     "text": [
      "INFO:root:Finished training auxiliary classifier. ACC: 1.0000 AUC: 1.0000 BCE: 0.0626\n",
      "INFO:root:Pretrained the aux classifier. Proceeding to training GAN or aux teacher if used.\n",
      "INFO:root:Starting training. Expecting to train for 300 epochs at 3 iters per epoch to reach target of 900.\n"
     ]
    },
    {
     "name": "stdout",
     "output_type": "stream",
     "text": [
      "[  895/900] LG:11.758 LD:14.686 D:18.882 GP:0.280 AC: 0.305 RMSEAVG:0.119 NUM:0.119 SynTraiAuc:0.188 RFAcc:1.000   \r"
     ]
    },
    {
     "name": "stderr",
     "output_type": "stream",
     "text": [
      "INFO:root:Finished training after 900/900.\n"
     ]
    },
    {
     "name": "stdout",
     "output_type": "stream",
     "text": [
      "[  900/900] LG:11.632 LD:14.326 D:18.602 GP:0.285 AC: 0.306 RMSEAVG:0.119 NUM:0.119 SynTraiAuc:0.188 RFAcc:1.000  \n",
      " 변화된 값의 분포 :\n",
      " 0.0    154\n",
      "1.0    154\n",
      "dtype: int64\n",
      "Youden index threshold :  0.07758624519267249\n",
      "roc_auc_score :  0.5833333333333333\n",
      "acc :  0.6551724137931034\n",
      "sensitivity :  0.6\n",
      "specificity :  0.6666666666666666\n",
      "pr_auc :  0.2859860590341857 \n",
      "\n",
      "[[32 16]\n",
      " [ 4  6]]\n"
     ]
    },
    {
     "name": "stderr",
     "output_type": "stream",
     "text": [
      "INFO:root:Finished training auxiliary classifier. ACC: 1.0000 AUC: 1.0000 BCE: 0.0560\n",
      "INFO:root:Pretrained the aux classifier. Proceeding to training GAN or aux teacher if used.\n",
      "INFO:root:Starting training. Expecting to train for 300 epochs at 3 iters per epoch to reach target of 900.\n"
     ]
    },
    {
     "name": "stdout",
     "output_type": "stream",
     "text": [
      "[  895/900] LG:3.990 LD:12.383 D:12.912 GP:0.035 AC: 0.422 RMSEAVG:0.124 NUM:0.124 SynTraiAuc:0.625 RFAcc:1.000    0   \r"
     ]
    },
    {
     "name": "stderr",
     "output_type": "stream",
     "text": [
      "INFO:root:Finished training after 900/900.\n"
     ]
    },
    {
     "name": "stdout",
     "output_type": "stream",
     "text": [
      "[  900/900] LG:4.540 LD:13.053 D:14.401 GP:0.090 AC: 0.391 RMSEAVG:0.124 NUM:0.124 SynTraiAuc:0.625 RFAcc:1.000  \n",
      " 변화된 값의 분포 :\n",
      " 0.0    154\n",
      "1.0    154\n",
      "dtype: int64\n",
      "Youden index threshold :  0.35878061063835465\n",
      "roc_auc_score :  0.6708333333333334\n",
      "acc :  0.5517241379310345\n",
      "sensitivity :  0.9\n",
      "specificity :  0.4791666666666667\n",
      "pr_auc :  0.35464453961567044 \n",
      "\n",
      "[[23 25]\n",
      " [ 1  9]]\n"
     ]
    },
    {
     "name": "stderr",
     "output_type": "stream",
     "text": [
      "INFO:root:Finished training auxiliary classifier. ACC: 1.0000 AUC: 1.0000 BCE: 0.0605\n",
      "INFO:root:Pretrained the aux classifier. Proceeding to training GAN or aux teacher if used.\n",
      "INFO:root:Starting training. Expecting to train for 300 epochs at 3 iters per epoch to reach target of 900.\n"
     ]
    },
    {
     "name": "stdout",
     "output_type": "stream",
     "text": [
      "[  895/900] LG:10.599 LD:14.867 D:17.595 GP:0.182 AC: 0.304 RMSEAVG:0.113 NUM:0.113 SynTraiAuc:0.312 RFAcc:1.000    \r"
     ]
    },
    {
     "name": "stderr",
     "output_type": "stream",
     "text": [
      "INFO:root:Finished training after 900/900.\n"
     ]
    },
    {
     "name": "stdout",
     "output_type": "stream",
     "text": [
      "[  900/900] LG:10.201 LD:13.346 D:13.960 GP:0.041 AC: 0.300 RMSEAVG:0.113 NUM:0.113 SynTraiAuc:0.312 RFAcc:1.000  \n",
      " 변화된 값의 분포 :\n",
      " 0.0    154\n",
      "1.0    154\n",
      "dtype: int64\n",
      "Youden index threshold :  0.03178445911065296\n",
      "roc_auc_score :  0.7104166666666667\n",
      "acc :  0.5689655172413793\n",
      "sensitivity :  0.9\n",
      "specificity :  0.5\n",
      "pr_auc :  0.37627393591370895 \n",
      "\n",
      "[[24 24]\n",
      " [ 1  9]]\n"
     ]
    },
    {
     "name": "stderr",
     "output_type": "stream",
     "text": [
      "INFO:root:Finished training auxiliary classifier. ACC: 1.0000 AUC: 1.0000 BCE: 0.0523\n",
      "INFO:root:Pretrained the aux classifier. Proceeding to training GAN or aux teacher if used.\n",
      "INFO:root:Starting training. Expecting to train for 300 epochs at 3 iters per epoch to reach target of 900.\n"
     ]
    },
    {
     "name": "stdout",
     "output_type": "stream",
     "text": [
      "[  895/900] LG:9.779 LD:13.660 D:14.373 GP:0.047 AC: 0.300 RMSEAVG:0.131 NUM:0.131 SynTraiAuc:0.667 RFAcc:1.000        \r"
     ]
    },
    {
     "name": "stderr",
     "output_type": "stream",
     "text": [
      "INFO:root:Finished training after 900/900.\n"
     ]
    },
    {
     "name": "stdout",
     "output_type": "stream",
     "text": [
      "[  900/900] LG:11.118 LD:14.112 D:16.271 GP:0.144 AC: 0.300 RMSEAVG:0.131 NUM:0.131 SynTraiAuc:0.667 RFAcc:1.000  \n",
      " 변화된 값의 분포 :\n",
      " 0.0    153\n",
      "1.0    153\n",
      "dtype: int64\n",
      "Youden index threshold :  0.16972332831950349\n",
      "roc_auc_score :  0.5510204081632653\n",
      "acc :  0.6379310344827587\n",
      "sensitivity :  0.5555555555555556\n",
      "specificity :  0.6530612244897959\n",
      "pr_auc :  0.2787426507950689 \n",
      "\n",
      "[[32 17]\n",
      " [ 4  5]]\n"
     ]
    },
    {
     "name": "stderr",
     "output_type": "stream",
     "text": [
      "c:\\Users\\hOMe_pc\\Anaconda3\\envs\\new2\\lib\\site-packages\\sklearn\\metrics\\_classification.py:2442: RuntimeWarning: divide by zero encountered in log\n",
      "  loss = -(transformed_labels * np.log(y_pred)).sum(axis=1)\n",
      "INFO:root:Finished training auxiliary classifier. ACC: 0.9946 AUC: 0.9935 BCE: inf\n",
      "INFO:root:Pretrained the aux classifier. Proceeding to training GAN or aux teacher if used.\n",
      "INFO:root:Starting training. Expecting to train for 300 epochs at 3 iters per epoch to reach target of 900.\n"
     ]
    },
    {
     "name": "stdout",
     "output_type": "stream",
     "text": [
      "[  895/900] LG:7.608 LD:12.808 D:13.580 GP:0.051 AC: 0.338 RMSEAVG:0.137 NUM:0.137 SynTraiAuc:0.583 RFAcc:1.000    \r"
     ]
    },
    {
     "name": "stderr",
     "output_type": "stream",
     "text": [
      "INFO:root:Finished training after 900/900.\n"
     ]
    },
    {
     "name": "stdout",
     "output_type": "stream",
     "text": [
      "[  900/900] LG:7.956 LD:13.635 D:17.245 GP:0.241 AC: 0.325 RMSEAVG:0.137 NUM:0.137 SynTraiAuc:0.583 RFAcc:1.000  \n",
      " 변화된 값의 분포 :\n",
      " 0.0    154\n",
      "1.0    154\n",
      "dtype: int64\n",
      "Youden index threshold :  0.42309068903004726\n",
      "roc_auc_score :  0.41666666666666663\n",
      "acc :  0.24561403508771928\n",
      "sensitivity :  1.0\n",
      "specificity :  0.10416666666666667\n",
      "pr_auc :  0.143955386206916 \n",
      "\n",
      "[[ 5 43]\n",
      " [ 0  9]]\n"
     ]
    },
    {
     "name": "stderr",
     "output_type": "stream",
     "text": [
      "INFO:root:Finished training auxiliary classifier. ACC: 1.0000 AUC: 1.0000 BCE: 0.0661\n",
      "INFO:root:Pretrained the aux classifier. Proceeding to training GAN or aux teacher if used.\n",
      "INFO:root:Starting training. Expecting to train for 300 epochs at 3 iters per epoch to reach target of 900.\n"
     ]
    },
    {
     "name": "stdout",
     "output_type": "stream",
     "text": [
      "[  895/900] LG:12.695 LD:15.356 D:16.902 GP:0.103 AC: 0.306 RMSEAVG:0.123 NUM:0.123 SynTraiAuc:0.542 RFAcc:1.000  \r"
     ]
    },
    {
     "name": "stderr",
     "output_type": "stream",
     "text": [
      "INFO:root:Finished training after 900/900.\n"
     ]
    },
    {
     "name": "stdout",
     "output_type": "stream",
     "text": [
      "[  900/900] LG:12.913 LD:15.622 D:16.472 GP:0.057 AC: 0.305 RMSEAVG:0.123 NUM:0.123 SynTraiAuc:0.542 RFAcc:1.000  \n",
      " 변화된 값의 분포 :\n",
      " 0.0    154\n",
      "1.0    154\n",
      "dtype: int64\n",
      "Youden index threshold :  0.07894055963485518\n",
      "roc_auc_score :  0.6125\n",
      "acc :  0.7413793103448276\n",
      "sensitivity :  0.7\n",
      "specificity :  0.75\n",
      "pr_auc :  0.22787017225611872 \n",
      "\n",
      "[[36 12]\n",
      " [ 3  7]]\n"
     ]
    },
    {
     "name": "stderr",
     "output_type": "stream",
     "text": [
      "INFO:root:Finished training auxiliary classifier. ACC: 1.0000 AUC: 1.0000 BCE: 0.0597\n",
      "INFO:root:Pretrained the aux classifier. Proceeding to training GAN or aux teacher if used.\n",
      "INFO:root:Starting training. Expecting to train for 300 epochs at 3 iters per epoch to reach target of 900.\n"
     ]
    },
    {
     "name": "stdout",
     "output_type": "stream",
     "text": [
      "[  895/900] LG:6.250 LD:13.824 D:15.706 GP:0.125 AC: 0.340 RMSEAVG:0.113 NUM:0.113 SynTraiAuc:0.854 RFAcc:1.000   \r"
     ]
    },
    {
     "name": "stderr",
     "output_type": "stream",
     "text": [
      "INFO:root:Finished training after 900/900.\n"
     ]
    },
    {
     "name": "stdout",
     "output_type": "stream",
     "text": [
      "[  900/900] LG:7.137 LD:13.398 D:16.021 GP:0.175 AC: 0.349 RMSEAVG:0.113 NUM:0.113 SynTraiAuc:0.854 RFAcc:1.000  \n",
      " 변화된 값의 분포 :\n",
      " 0.0    154\n",
      "1.0    154\n",
      "dtype: int64\n",
      "Youden index threshold :  0.3888122744037815\n",
      "roc_auc_score :  0.6687500000000001\n",
      "acc :  0.8275862068965517\n",
      "sensitivity :  0.5\n",
      "specificity :  0.8958333333333334\n",
      "pr_auc :  0.28297704586331496 \n",
      "\n",
      "[[43  5]\n",
      " [ 5  5]]\n"
     ]
    },
    {
     "name": "stderr",
     "output_type": "stream",
     "text": [
      "INFO:root:Finished training auxiliary classifier. ACC: 1.0000 AUC: 1.0000 BCE: 0.0567\n",
      "INFO:root:Pretrained the aux classifier. Proceeding to training GAN or aux teacher if used.\n",
      "INFO:root:Starting training. Expecting to train for 300 epochs at 3 iters per epoch to reach target of 900.\n"
     ]
    },
    {
     "name": "stdout",
     "output_type": "stream",
     "text": [
      "[  895/900] LG:7.235 LD:13.360 D:14.224 GP:0.058 AC: 0.303 RMSEAVG:0.117 NUM:0.117 SynTraiAuc:0.646 RFAcc:1.000   \r"
     ]
    },
    {
     "name": "stderr",
     "output_type": "stream",
     "text": [
      "INFO:root:Finished training after 900/900.\n"
     ]
    },
    {
     "name": "stdout",
     "output_type": "stream",
     "text": [
      "[  900/900] LG:8.397 LD:13.600 D:15.926 GP:0.155 AC: 0.304 RMSEAVG:0.117 NUM:0.117 SynTraiAuc:0.646 RFAcc:1.000  \n",
      " 변화된 값의 분포 :\n",
      " 0.0    154\n",
      "1.0    154\n",
      "dtype: int64\n",
      "Youden index threshold :  0.15740492351395313\n",
      "roc_auc_score :  0.63125\n",
      "acc :  0.6551724137931034\n",
      "sensitivity :  0.7\n",
      "specificity :  0.6458333333333334\n",
      "pr_auc :  0.22714147547948388 \n",
      "\n",
      "[[31 17]\n",
      " [ 3  7]]\n"
     ]
    },
    {
     "name": "stderr",
     "output_type": "stream",
     "text": [
      "INFO:root:Finished training auxiliary classifier. ACC: 1.0000 AUC: 1.0000 BCE: 0.0475\n",
      "INFO:root:Pretrained the aux classifier. Proceeding to training GAN or aux teacher if used.\n",
      "INFO:root:Starting training. Expecting to train for 300 epochs at 3 iters per epoch to reach target of 900.\n"
     ]
    },
    {
     "name": "stdout",
     "output_type": "stream",
     "text": [
      "[  895/900] LG:19.087 LD:27.963 D:36.991 GP:0.602 AC: 0.306 RMSEAVG:0.127 NUM:0.127 SynTraiAuc:0.333 RFAcc:1.000      \r"
     ]
    },
    {
     "name": "stderr",
     "output_type": "stream",
     "text": [
      "INFO:root:Finished training after 900/900.\n"
     ]
    },
    {
     "name": "stdout",
     "output_type": "stream",
     "text": [
      "[  900/900] LG:18.202 LD:28.346 D:36.020 GP:0.512 AC: 0.315 RMSEAVG:0.127 NUM:0.127 SynTraiAuc:0.333 RFAcc:1.000  \n",
      " 변화된 값의 분포 :\n",
      " 0.0    153\n",
      "1.0    153\n",
      "dtype: int64\n",
      "Youden index threshold :  0.21727661490789435\n",
      "roc_auc_score :  0.6462585034013606\n",
      "acc :  0.6379310344827587\n",
      "sensitivity :  0.6666666666666666\n",
      "specificity :  0.6326530612244898\n",
      "pr_auc :  0.22569323641331768 \n",
      "\n",
      "[[31 18]\n",
      " [ 3  6]]\n"
     ]
    },
    {
     "name": "stderr",
     "output_type": "stream",
     "text": [
      "INFO:root:Finished training auxiliary classifier. ACC: 1.0000 AUC: 1.0000 BCE: 0.0558\n",
      "INFO:root:Pretrained the aux classifier. Proceeding to training GAN or aux teacher if used.\n",
      "INFO:root:Starting training. Expecting to train for 300 epochs at 3 iters per epoch to reach target of 900.\n"
     ]
    },
    {
     "name": "stdout",
     "output_type": "stream",
     "text": [
      "[  895/900] LG:11.869 LD:15.454 D:16.461 GP:0.067 AC: 0.304 RMSEAVG:0.119 NUM:0.119 SynTraiAuc:0.104 RFAcc:1.000  \r"
     ]
    },
    {
     "name": "stderr",
     "output_type": "stream",
     "text": [
      "INFO:root:Finished training after 900/900.\n"
     ]
    },
    {
     "name": "stdout",
     "output_type": "stream",
     "text": [
      "[  900/900] LG:12.628 LD:15.506 D:17.547 GP:0.136 AC: 0.302 RMSEAVG:0.119 NUM:0.119 SynTraiAuc:0.104 RFAcc:1.000  \n",
      " 변화된 값의 분포 :\n",
      " 0.0    154\n",
      "1.0    154\n",
      "dtype: int64\n",
      "Youden index threshold :  0.3463260218066808\n",
      "roc_auc_score :  0.7870370370370371\n",
      "acc :  0.7894736842105263\n",
      "sensitivity :  0.8888888888888888\n",
      "specificity :  0.7708333333333334\n",
      "pr_auc :  0.3230728220323218 \n",
      "\n",
      "[[37 11]\n",
      " [ 1  8]]\n"
     ]
    }
   ],
   "source": [
    "# 원래\n",
    "from models_copy import WGANGP\n",
    "from imblearn.over_sampling import ADASYN\n",
    "from imblearn.over_sampling import SMOTE\n",
    "seed = 7\n",
    "skfold = RepeatedStratifiedKFold(n_splits=5,random_state=seed,n_repeats=4)\n",
    "\n",
    "proba_score = []\n",
    "predict_score = []\n",
    "acc_score = []\n",
    "re_score = []\n",
    "prauc_score = []\n",
    "specifi_score = []\n",
    "cm1_score = []\n",
    "\n",
    "curve_fprs = []\n",
    "curve_tprs = []\n",
    "curve_thresholds = []\n",
    "\n",
    "curve_pre = []\n",
    "curve_rec = []\n",
    "curve_thr = []\n",
    "\n",
    "tprs_ls = []\n",
    "mean_fpr = np.linspace(0,1,100)\n",
    "\n",
    "x_df = merge_df.drop(['Key','cutoff'],axis=1)\n",
    "y_df = merge_df['cutoff']\n",
    "\n",
    "sc = StandardScaler()\n",
    "x_df = pd.DataFrame(sc.fit_transform(x_df), columns=x_df.columns)\n",
    "\n",
    "\n",
    "for j, (train_idx, val_idx) in enumerate(skfold.split(x_df,y_df)):\n",
    "\n",
    "    x_train, y_train = x_df.iloc[train_idx], y_df.iloc[train_idx]\n",
    "    x_test, y_test = x_df.iloc[val_idx], y_df.iloc[val_idx]\n",
    "\n",
    "    x_train_sk, x_val_sk, y_train_sk, y_val_sk = train_test_split(x_train,y_train,stratify=y_train, random_state=seed, test_size=0.2)\n",
    "\n",
    "        #SMOTE로 타겟의 분포를 균등하게 조절\n",
    "    # smote = SMOTE(random_state=42)\n",
    "    # x_train_sk, y_train_sk = smote.fit_resample(x_train_sk, y_train_sk)\n",
    "    \n",
    "\n",
    "    num_cols = list(x_train_sk.columns)\n",
    "    cat_dims=[]\n",
    "    cat_cols = []\n",
    "\n",
    "    gan = WGANGP(write_to_disk=False, # whether to create an output folder. Plotting will be surpressed if flase\n",
    "                compute_metrics_every=1250, print_every=2500, plot_every=10000,\n",
    "                num_cols = num_cols, cat_dims=cat_dims,\n",
    "                # pass the one hot encoder to the GAN to enable count plots of categorical variables\n",
    "                transformer=None,\n",
    "                # pass column names to enable\n",
    "                cat_cols=cat_cols,\n",
    "                use_aux_classifier_loss=True,\n",
    "                d_updates_per_g=3, gp_weight=15)\n",
    "\n",
    "    gan.fit(x_train_sk, y=y_train_sk.values, \n",
    "            condition=True,\n",
    "            epochs=300,  \n",
    "            batch_size=64,\n",
    "            netG_kwargs = {'hidden_layer_sizes': (2048,1024), \n",
    "                            'n_cross_layers': 1,\n",
    "                            'cat_activation': 'gumbel_softmax',\n",
    "                            'num_activation': 'none',\n",
    "                            'condition_num_on_cat': False, \n",
    "                            'noise_dim': 25, \n",
    "                            'normal_noise': False,\n",
    "                            'activation':  'leaky_relu',\n",
    "                            'reduce_cat_dim': False,\n",
    "                            'use_num_hidden_layer': True,\n",
    "                            'layer_norm':False,},\n",
    "            netD_kwargs = {'hidden_layer_sizes': (2048,1024,512),\n",
    "                            'n_cross_layers': 2,\n",
    "                            'embedding_dims': 'auto',\n",
    "                            'activation':  'leaky_relu',\n",
    "                            'sigmoid_activation': False,\n",
    "                            'noisy_num_cols': True,\n",
    "                            'layer_norm':True,}\n",
    "        )\n",
    "    x_train_sk, y_train_sk = gan.resample(x_train_sk, y=y_train_sk)\n",
    "    \n",
    "    print(' 변화된 값의 분포 :\\n',pd.Series(y_train_sk).value_counts() )\n",
    "    x_train_sk = pd.DataFrame(x_train_sk)\n",
    "    x_train_sk.columns = x_val_sk.columns\n",
    "    y_train_sk = pd.DataFrame(y_train_sk.astype(dtype='int64'))\n",
    "    \n",
    "    model = catboost.CatBoostClassifier(\n",
    "                                    use_best_model=True,\n",
    "                                    eval_metric='AUC',\n",
    "                                    verbose=False,\n",
    "                                    random_state=seed\n",
    "                                    )\n",
    "    D_train = catboost.Pool(x_train_sk, y_train_sk)\n",
    "    D_test = catboost.Pool(x_val_sk, y_val_sk)\n",
    "    \n",
    "    model.fit(D_train, eval_set=D_test, verbose=False)\n",
    "    \n",
    "    ft_importance_values = model.feature_importances_\n",
    "\n",
    "    pred = model.predict_proba(x_test)[:,1]\n",
    "    fprs, tprs, thresholds = roc_curve(y_test, pred)\n",
    "\n",
    "    tprs_ls.append(np.interp(mean_fpr, fprs, tprs))\n",
    "\n",
    "    curve_tprs.append(tprs)\n",
    "    curve_fprs.append(fprs)\n",
    "    curve_thresholds.append(thresholds)\n",
    "\n",
    "    J = tprs - fprs\n",
    "    ix = np.argmax(J)\n",
    "    best_thresh = thresholds[ix]\n",
    "\n",
    "    precision, recall, th = precision_recall_curve(y_test, pred)\n",
    "    prauc = auc(recall, precision)\n",
    "\n",
    "    curve_pre.append(precision)\n",
    "    curve_rec.append(recall)\n",
    "    curve_thr.append(th)\n",
    "        \n",
    "    cm1 = confusion_matrix(y_test, np.where(model.predict_proba(x_test)[:,1] >= best_thresh , 1, 0))\n",
    "\n",
    "    Specificity = cm1[0,0]/(cm1[0,0]+cm1[0,1])\n",
    "    Sensitivity = cm1[1,1]/(cm1[1,0]+cm1[1,1])\n",
    "\n",
    "    print('Youden index threshold : ',best_thresh)\n",
    "\n",
    "    print('roc_auc_score : ',roc_auc_score(y_test,model.predict_proba(x_test)[:,1]))\n",
    "    print('acc : ',accuracy_score(y_test,np.where(model.predict_proba(x_test)[:,1] >= best_thresh , 1, 0)))\n",
    "    print('sensitivity : ',Sensitivity)\n",
    "    print('specificity : ',Specificity)\n",
    "    print('pr_auc : ',prauc,'\\n')\n",
    "    print(cm1)\n",
    "\n",
    "    proba_score.append(roc_auc_score(y_test,model.predict_proba(x_test)[:,1]))\n",
    "    acc_score.append(accuracy_score(y_test,np.where(model.predict_proba(x_test)[:,1] >= best_thresh , 1, 0)))\n",
    "    re_score.append(Sensitivity)\n",
    "    specifi_score.append(Specificity)\n",
    "    prauc_score.append(prauc)\n",
    "    cm1_score.append(cm1)\n"
   ]
  },
  {
   "cell_type": "code",
   "execution_count": 3,
   "metadata": {},
   "outputs": [
    {
     "name": "stdout",
     "output_type": "stream",
     "text": [
      "proba_score 0.6546839569160997\n",
      "re_score 0.7211111111111111\n",
      "specifi_score 0.6612457482993198\n"
     ]
    },
    {
     "data": {
      "text/plain": [
       "[0.7833333333333333,\n",
       " 0.7875,\n",
       " 0.8020833333333334,\n",
       " 0.6757369614512472,\n",
       " 0.599537037037037,\n",
       " 0.59375,\n",
       " 0.5916666666666667,\n",
       " 0.6895833333333333,\n",
       " 0.5192743764172336,\n",
       " 0.7731481481481481,\n",
       " 0.5833333333333333,\n",
       " 0.6708333333333334,\n",
       " 0.7104166666666667,\n",
       " 0.5510204081632653,\n",
       " 0.41666666666666663,\n",
       " 0.6125,\n",
       " 0.6687500000000001,\n",
       " 0.63125,\n",
       " 0.6462585034013606,\n",
       " 0.7870370370370371]"
      ]
     },
     "execution_count": 3,
     "metadata": {},
     "output_type": "execute_result"
    }
   ],
   "source": [
    "print('proba_score',np.mean(proba_score))\n",
    "print('re_score',np.mean(re_score))\n",
    "print('specifi_score',np.mean(specifi_score))\n",
    "proba_score"
   ]
  },
  {
   "cell_type": "code",
   "execution_count": 4,
   "metadata": {},
   "outputs": [],
   "source": [
    "TN_ls = []\n",
    "FP_ls = []\n",
    "FN_ls = []\n",
    "TP_ls = []\n",
    "\n",
    "for i in range(20):\n",
    "    TN_ls.append(cm1_score[i][0][0]) # TN\n",
    "    FP_ls.append(cm1_score[i][0][1]) # FP\n",
    "    FN_ls.append(cm1_score[i][1][0]) # FN\n",
    "    TP_ls.append(cm1_score[i][1][1]) # TP"
   ]
  },
  {
   "cell_type": "code",
   "execution_count": 5,
   "metadata": {},
   "outputs": [
    {
     "data": {
      "image/png": "[encoded data removed]",
      "text/plain": [
       "<Figure size 600x500 with 1 Axes>"
      ]
     },
     "metadata": {},
     "output_type": "display_data"
    }
   ],
   "source": [
    "import matplotlib.pyplot as plt\n",
    "\n",
    "plt.figure(figsize=(6,5))\n",
    "\n",
    "plt.plot([0,1],[0,1],'--',color='black')\n",
    "\n",
    "plt.xlabel('False Positive Rate')\n",
    "plt.ylabel('True Positive Rate')\n",
    "\n",
    "mean_tpr = np.mean(tprs_ls, axis=0)\n",
    "plt.plot(mean_fpr, mean_tpr, color='red')\n",
    "\n",
    "for i,j in zip(curve_fprs, curve_tprs):\n",
    "    plt.plot(i, j, color='green', linewidth=1, alpha=0.6, label=None)"
   ]
  },
  {
   "cell_type": "code",
   "execution_count": 6,
   "metadata": {},
   "outputs": [
    {
     "data": {
      "image/png": "[encoded data removed]",
      "text/plain": [
       "<Figure size 600x500 with 1 Axes>"
      ]
     },
     "metadata": {},
     "output_type": "display_data"
    }
   ],
   "source": [
    "import matplotlib.pyplot as plt\n",
    "\n",
    "plt.figure(figsize=(6,5))\n",
    "\n",
    "plt.plot([0,1],[0,1],'--',color='black')\n",
    "\n",
    "plt.xlabel('False Positive Rate')\n",
    "plt.ylabel('True Positive Rate')\n",
    "\n",
    "for i,j in zip(curve_rec, curve_pre):\n",
    "    plt.plot(i, j, color='green', linewidth=1, alpha=0.3, label=None)"
   ]
  }
 ],
 "metadata": {
  "kernelspec": {
   "display_name": "AIS_mrcnn",
   "language": "python",
   "name": "python3"
  },
  "language_info": {
   "codemirror_mode": {
    "name": "ipython",
    "version": 3
   },
   "file_extension": ".py",
   "mimetype": "text/x-python",
   "name": "python",
   "nbconvert_exporter": "python",
   "pygments_lexer": "ipython3",
   "version": "3.7.16"
  }
 },
 "nbformat": 4,
 "nbformat_minor": 2
}
